{
 "cells": [
  {
   "cell_type": "code",
   "execution_count": 1,
   "id": "9be4f4bd",
   "metadata": {},
   "outputs": [],
   "source": [
    "import pandas as pd # standard python data library\n",
    "import geopandas as gp # the geo-version of pandas\n",
    "import numpy as np \n",
    "import os\n",
    "import fiona\n",
    "import string\n",
    "import xml.etree.ElementTree as et\n",
    "import helper_functions"
   ]
  },
  {
   "cell_type": "markdown",
   "id": "21fe69c2",
   "metadata": {},
   "source": [
    "# Georgia 2020 Statewide Election Results"
   ]
  },
  {
   "cell_type": "markdown",
   "id": "b441088d",
   "metadata": {},
   "source": [
    "This file builds off of VEST's 2020 Georgia election results file and adds in an additional 3 statewide races that VEST did not include."
   ]
  },
  {
   "cell_type": "markdown",
   "id": "64a80258",
   "metadata": {},
   "source": [
    "## Election Results Documentation:"
   ]
  },
  {
   "cell_type": "markdown",
   "id": "802f756b",
   "metadata": {},
   "source": [
    "Election results from the Georgia Secretary of State Elections Division (https://sos.ga.gov/index.php/Elections/current_and_past_elections_results). Presidential recount results from the Georgia Secretary of State Elections Division via Reuters."
   ]
  },
  {
   "cell_type": "markdown",
   "id": "32a07592",
   "metadata": {},
   "source": [
    "## Shapefile Source Documentation:"
   ]
  },
  {
   "cell_type": "markdown",
   "id": "0c5964c1",
   "metadata": {},
   "source": [
    "Precinct shapefile primarily from the Georgia General Assembly Reapportionment Office (http://www.legis.ga.gov/Joint/reapportionment/en-US/default.aspx).  \n",
    "Cobb, DeKalb, and Gwinnett counties instead use shapefiles from the U.S. Census Bureau's 2020 Redistricting Data Program.  \n",
    "Forsyth and Fulton use shapefiles sourced from the respective counties."
   ]
  },
  {
   "cell_type": "markdown",
   "id": "4f616888",
   "metadata": {},
   "source": [
    "## Shapefile Modifications Documentation:"
   ]
  },
  {
   "cell_type": "markdown",
   "id": "87e4384e",
   "metadata": {},
   "source": [
    "Three of the four VTDs in Chattahoochee County are comprised of Fort Benning. However, the county only reports one polling location for all voters, including residents of Fort Benning that vote within the county. The four Chattahoochee County VTDs have therefore been merged in the shapefile.\n",
    "\n",
    "The following additional modifications reflect changes made prior to the 2020 general election.\n",
    "\n",
    "Barrow: Merge 2/15, 3/12, 4/14, 5/7, 6/10/13, 8/9, 11/16; Adjust new 2/13 boundary  \n",
    "Bartow: Split Cassville/Hamilton Crossing  \n",
    "Candler: Merge Candler/Metter as Jack Strickland Comm Center  \n",
    "Chatham: Split 7-7/8-16, 7-12/7-16; Realign 7-06C/7-07C  \n",
    "Chatooga: Split Cloudland/Teloga along ridgeline that marks boundary between them with the USGS Topographic Contour shapefile  \n",
    "Clayton: Split Ellenswood 1/2, Jonesboro 1/17/19, Lovejoy 3/6/7, Morrow 3/11, 5/10, Oak 3/5   \n",
    "Cobb: Split Bells Ferry 3/4, Dobbins 1/2, Marietta 3A/3B, Smyrna 3A/3B  \n",
    "Columbia: Split Bessie Thomas/2nd Mt Moriah, Harlem Branch/Harlem Senior Ctr; Merge Blanchard Park/MTZ Col FD;  Align multiple precincts with county maps  \n",
    "Coweta: Merge Arts Centre/Jefferson Parkway as Newnan Centre  \n",
    "Fulton: Merge CP07A/CP07D, CH01/CH04B, SS29A/SS29B, UC031/UC035  \n",
    "DeKalb: Split Clarkston/Clarkston Comm Ctr; Realign Decatur/Oakhurst; Align precincts with Atlanta, Brookhaven, Decatur, Tucker city limits   \n",
    "Gwinnett: Adjust Baycreek F/G, Berkshire J/M, Cates D/F, Garners C/B, Lawrenceville G/N, Pinckneyville S/T, Rockbridge A/G  \n",
    "Lowndes: Split Northgate Assembly/Trinity, Jaycee/Mt Calvary/Northside/VSU  \n",
    "Oconee: Merge Annex/City Hall; Align City Hall with Watkinsville city limits  \n",
    "Paulding: Reorganize 12 precincts into 19 precincts as redrawn in 2019  \n",
    "Randolph: Merge Carnegie/Cuthbert-Courthouse, 4th District/Fountain Bridge/Shellman  \n",
    "Troup: Split Mountville between Gardner Newman/Hogansville/Rosemont; Align multiple precincts with county maps  \n",
    "Towns: Merge Macedonia/Tate City  \n",
    "Wilkes: Align 1/2A boundary with the voter file    \n",
    "Note that the leading zeros in the Paulding County precinct IDs are included in some election reports and omitted in others. The shapefile includes the leading zeros consistent with the voter file."
   ]
  },
  {
   "cell_type": "markdown",
   "id": "d7a26783",
   "metadata": {},
   "source": [
    "## Candidate List"
   ]
  },
  {
   "cell_type": "markdown",
   "id": "0b05bfdd",
   "metadata": {},
   "source": [
    "G20PRERTRU - Donald J. Trump (Republican Party)  \n",
    "G20PREDBID - Joseph R. Biden (Democratic Party)  \n",
    "G20PRELJOR - Jo Jorgensen (Libertarian Party)  \n",
    "  \n",
    "C20PRERTRU - Donald J. Trump (Republican Party)  \n",
    "C20PREDBID - Joseph R. Biden (Democratic Party)  \n",
    "C20PRELJOR - Jo Jorgensen (Libertarian Party)  \n",
    "  \n",
    "G20USSRPER - David A. Perdue (Republican Party)  \n",
    "G20USSDOSS - Jon Ossoff (Democratic Party)  \n",
    "G20USSLHAZ - Shane Hazel (Libertarian Party)  \n",
    "  \n",
    "S20USSRLOE - Kelly Loeffler (Republican Party)  \n",
    "S20USSRCOL - Doug Collins (Republican Party)  \n",
    "S20USSRGRA - Derrick E. Grayson (Republican Party)  \n",
    "S20USSRJAC - Annette Davis Jackson (Republican Party)  \n",
    "S20USSRTAY - Kandiss Taylor (Republican Party)  \n",
    "S20USSRJOH - A. Wayne Johnson (Republican Party)  \n",
    "S20USSDWAR - Raphael Warnock (Democratic Party)  \n",
    "S20USSDJAC - Deborah Jackson (Democratic Party)  \n",
    "S20USSDLIE - Matt Lieberman (Democratic Party)  \n",
    "S20USSDJOH - Tamara Johnson-Shealey (Democratic Party)  \n",
    "S20USSDJAM - Jamesia James (Democratic Party)  \n",
    "S20USSDSLA - Joy Felicia Slade (Democratic Party)  \n",
    "S20USSDWIN - Richard Dien Winfield (Democratic Party)  \n",
    "S20USSDTAR - Ed Tarver (Democratic Party)  \n",
    "S20USSLSLO - Brian Slowinski (Libertarian Party)  \n",
    "S20USSGFOR - John Fortuin (Green Party)  \n",
    "S20USSIBUC - Allen Buckley (Independent)  \n",
    "S20USSIBAR - Al Bartell (Independent)  \n",
    "S20USSISTO - Valencia Stovall (Independent)  \n",
    "S20USSIGRE - Michael Todd Greene (Independent)  \n",
    "  \n",
    "G20PSCRSHA - Jason Shaw (Republican Party)  \n",
    "G20PSCDBRY - Robert G. Bryant (Democratic Party)  \n",
    "G20PSCLMEL - Elizabeth Melton (Libertarian Party)  \n",
    "  \n",
    "G20PSCRMCD - Lauren Bubba McDonald, Jr. (Republican Party)  \n",
    "G20PSCDBLA - Daniel Blackman (Democratic Party)  \n",
    "G20PSCLWIL - Nathan Wilson (Libertarian Party)  \n",
    "\n",
    "R21USSRPER - David A. Perdue (Republican Party)  \n",
    "R21USSDOSS - Jon Ossoff (Democratic Party)  \n",
    "\n",
    "R21USSRLOE - Kelly Loeffler (Republican Party)  \n",
    "R21USSDWAR - Raphael Warnock (Democratic Party)  \n",
    "\n",
    "R21PSCRMCD - Lauren Bubba McDonald, Jr. (Republican Party)  \n",
    "P21PSCDBLA - Daniel Blackman (Democratic Party) \n",
    "\n",
    "### Note - The below were added by us\n",
    "\n",
    "G20A01YES - Amendment #1 \"Yes\"  \n",
    "G20A01NO - Amendment #1 \"No\"   \n",
    "\n",
    "G20A02YES - Amendment #2 \"Yes\"  \n",
    "G20A02NO - Amendment #2 \"No\"  \n",
    "\n",
    "G20RFAYES - Referendum A \"Yes\"  \n",
    "G20RFANO - Referendum A \"No\"  "
   ]
  },
  {
   "cell_type": "markdown",
   "id": "453b6418",
   "metadata": {},
   "source": [
    "## Create the Modified VEST file"
   ]
  },
  {
   "cell_type": "markdown",
   "id": "4346a95b",
   "metadata": {},
   "source": [
    "### Load the VEST file"
   ]
  },
  {
   "cell_type": "code",
   "execution_count": 2,
   "id": "6629f548",
   "metadata": {},
   "outputs": [
    {
     "name": "stdout",
     "output_type": "stream",
     "text": [
      "(2679, 50)\n"
     ]
    }
   ],
   "source": [
    "vest_ga_20 = gp.read_file(\"./raw-from-source/VEST/ga_2020/ga_2020.shp\")\n",
    "print(vest_ga_20.shape)"
   ]
  },
  {
   "cell_type": "markdown",
   "id": "a0613576",
   "metadata": {},
   "source": [
    "### Replace Bibb County\n",
    "\n",
    "Note: VEST appears to have used a slightly incorrect version of the shapefile here and not the official shapefile from the county."
   ]
  },
  {
   "cell_type": "code",
   "execution_count": 3,
   "id": "c9f58732",
   "metadata": {},
   "outputs": [],
   "source": [
    "# Filter out the Bibb portion of VEST's shapefile\n",
    "vest_bibb = vest_ga_20[vest_ga_20[\"FIPS2\"]==\"021\"]\n",
    "\n",
    "# Get the remaining piece of VEST's shapefile\n",
    "vest_no_bibb = vest_ga_20[vest_ga_20[\"FIPS2\"]!=\"021\"]\n",
    "vest_no_bibb.reset_index(inplace = True, drop = True)\n",
    "\n",
    "# Load the Bibb County shapefile\n",
    "bibb_county_shp = gp.read_file(\"./raw-from-source/Shapefiles/Bibb/Voting_Precinct-shp/Voting_Precinct.shp\")\n",
    "\n",
    "bibb_county_shp = bibb_county_shp.to_crs(vest_ga_20.crs)"
   ]
  },
  {
   "cell_type": "code",
   "execution_count": 4,
   "id": "1ddbbbb2",
   "metadata": {},
   "outputs": [
    {
     "data": {
      "text/plain": [
       "<AxesSubplot:>"
      ]
     },
     "execution_count": 4,
     "metadata": {},
     "output_type": "execute_result"
    },
    {
     "data": {
      "image/png": "[encoded data removed]",
      "text/plain": [
       "<Figure size 1440x1440 with 1 Axes>"
      ]
     },
     "metadata": {
      "needs_background": "light"
     },
     "output_type": "display_data"
    }
   ],
   "source": [
    "# Plot and compare the two maps\n",
    "ax = bibb_county_shp.boundary.plot(figsize = (20,20), color = \"red\")\n",
    "vest_bibb.boundary.plot(ax = ax, color = \"green\")"
   ]
  },
  {
   "cell_type": "markdown",
   "id": "227d9169",
   "metadata": {},
   "source": [
    "### Join the two together and replace the geometries"
   ]
  },
  {
   "cell_type": "code",
   "execution_count": 5,
   "id": "64e75663",
   "metadata": {},
   "outputs": [],
   "source": [
    "# Create the join column in the Bibb County shapefile\n",
    "bibb_county_shp[\"DISTRICT\"] = \"021\"+bibb_county_shp[\"POLLINGID\"]"
   ]
  },
  {
   "cell_type": "code",
   "execution_count": 6,
   "id": "632686d8",
   "metadata": {},
   "outputs": [
    {
     "name": "stdout",
     "output_type": "stream",
     "text": [
      "both          31\n",
      "left_only      0\n",
      "right_only     0\n",
      "Name: _merge, dtype: int64\n"
     ]
    }
   ],
   "source": [
    "joined_bibb = pd.merge(bibb_county_shp, vest_bibb, how = \"outer\", on = \"DISTRICT\", indicator = True)\n",
    "\n",
    "# Note the values join cleanly\n",
    "print(joined_bibb[\"_merge\"].value_counts())\n",
    "\n",
    "joined_bibb.drop([\"_merge\", \"geometry_y\"], axis = 1, inplace = True)\n",
    "\n",
    "joined_bibb.rename(columns = {'geometry_x':'geometry'}, inplace = True)\n",
    "\n",
    "joined_bibb = gp.GeoDataFrame(joined_bibb, crs = vest_ga_20.crs)\n",
    "joined_bibb = joined_bibb[list(vest_ga_20.columns)]\n",
    "\n",
    "vest_ga_20 = gp.GeoDataFrame(pd.concat([joined_bibb, vest_no_bibb]), crs = vest_ga_20.crs)\n",
    "vest_ga_20.reset_index(inplace = True, drop = True)"
   ]
  },
  {
   "cell_type": "markdown",
   "id": "c7feeb8b",
   "metadata": {},
   "source": [
    "### Combine Northgate Assembly/Trinity\n",
    "\n",
    "These precincts are combined for standardization purposes across the four files we are creating. The location of congressional votes in these two precincts, where on precinct is outside of a congressional district it has votes for creates issues, so this split is undone"
   ]
  },
  {
   "cell_type": "code",
   "execution_count": 7,
   "id": "49916153",
   "metadata": {},
   "outputs": [
    {
     "name": "stderr",
     "output_type": "stream",
     "text": [
      "/Users/peterhorton/opt/anaconda3/envs/geo_env/lib/python3.9/site-packages/geopandas/geodataframe.py:1351: SettingWithCopyWarning: \n",
      "A value is trying to be set on a copy of a slice from a DataFrame.\n",
      "Try using .loc[row_indexer,col_indexer] = value instead\n",
      "\n",
      "See the caveats in the documentation: https://pandas.pydata.org/pandas-docs/stable/user_guide/indexing.html#returning-a-view-versus-a-copy\n",
      "  super().__setitem__(key, value)\n"
     ]
    }
   ],
   "source": [
    "# Separate out the Northgate Assembly / Trinity Precincts\n",
    "to_combine = vest_ga_20[vest_ga_20[\"PRECINCT_N\"].isin(['TRINITY', \"NORTHGATE ASSEMBLY\"])]\n",
    "remaining_vest = vest_ga_20[~(vest_ga_20[\"PRECINCT_N\"].isin(['TRINITY', \"NORTHGATE ASSEMBLY\"]))]\n",
    "\n",
    "# Spatially combine the precincts and clean up the index\n",
    "to_combine[\"dissolve\"] = 1\n",
    "to_combine_dissolved = to_combine.dissolve([\"dissolve\"], aggfunc = sum)\n",
    "to_combine_dissolved.reset_index(inplace = True, drop = True)\n",
    "\n",
    "# Give the combined precincts the appropriate values\n",
    "to_combine_dissolved[\"DISTRICT\"] = '185012'\n",
    "to_combine_dissolved[\"CTYSOSID\"] = '185012'\n",
    "to_combine_dissolved[\"PRECINCT_I\"] = '012'\n",
    "to_combine_dissolved[\"PRECINCT_N\"] = 'NORTHGATE ASSEMBLY AND TRINITY'\n",
    "to_combine_dissolved[\"CTYNAME\"] = 'LOWNDES'\n",
    "to_combine_dissolved[\"CTYNUMBER\"] = '92'\n",
    "to_combine_dissolved[\"CTYNUMBER2\"] = '092'\n",
    "to_combine_dissolved[\"FIPS2\"] = '185'\n",
    "\n",
    "# Filter down to the relevant columns\n",
    "to_combine_dissolved = to_combine_dissolved[list(vest_ga_20.columns)]\n",
    "\n",
    "# Create the full-state precinct shapefile again and clean the index\n",
    "vest_ga_20 = gp.GeoDataFrame(pd.concat([remaining_vest, to_combine_dissolved]), crs = vest_ga_20.crs)\n",
    "vest_ga_20.reset_index(inplace = True, drop = True)"
   ]
  },
  {
   "cell_type": "markdown",
   "id": "f07044b0",
   "metadata": {},
   "source": [
    "### Export this file so it can be used in the other notebooks"
   ]
  },
  {
   "cell_type": "code",
   "execution_count": 8,
   "id": "b07b190a",
   "metadata": {},
   "outputs": [
    {
     "name": "stderr",
     "output_type": "stream",
     "text": [
      "/Users/peterhorton/opt/anaconda3/envs/geo_env/lib/python3.9/site-packages/geopandas/io/file.py:362: FutureWarning: pandas.Int64Index is deprecated and will be removed from pandas in a future version. Use pandas.Index with the appropriate dtype instead.\n",
      "  pd.Int64Index,\n"
     ]
    }
   ],
   "source": [
    "vest_ga_20.to_file(\"./raw-from-source/VEST/cleaned_ga_2020/cleaned_ga_2020.shp\")\n",
    "\n",
    "vest_ga_20 = gp.read_file(\"./raw-from-source/VEST/cleaned_ga_2020/cleaned_ga_2020.shp\")"
   ]
  },
  {
   "cell_type": "markdown",
   "id": "9457eea9",
   "metadata": {},
   "source": [
    "### Look at the VEST file"
   ]
  },
  {
   "cell_type": "code",
   "execution_count": 9,
   "id": "a560c42a",
   "metadata": {
    "scrolled": true
   },
   "outputs": [
    {
     "name": "stdout",
     "output_type": "stream",
     "text": [
      "['G20PRERTRU', 'G20PREDBID', 'G20PRELJOR', 'C20PRERTRU', 'C20PREDBID', 'C20PRELJOR', 'G20USSRPER', 'G20USSDOSS', 'G20USSLHAZ', 'S20USSRLOE', 'S20USSRCOL', 'S20USSRGRA', 'S20USSRJAC', 'S20USSRTAY', 'S20USSRJOH', 'S20USSDWAR', 'S20USSDJAC', 'S20USSDLIE', 'S20USSDJOH', 'S20USSDJAM', 'S20USSDSLA', 'S20USSDWIN', 'S20USSDTAR', 'S20USSLSLO', 'S20USSGFOR', 'S20USSIBUC', 'S20USSIBAR', 'S20USSISTO', 'S20USSIGRE', 'G20PSCRSHA', 'G20PSCDBRY', 'G20PSCLMEL', 'G20PSCRMCD', 'G20PSCDBLA', 'G20PSCLWIL', 'R21USSRPER', 'R21USSDOSS', 'R21USSRLOE', 'R21USSDWAR', 'R21PSCRMCD', 'R21PSCDBLA']\n"
     ]
    }
   ],
   "source": [
    "# Take a look\n",
    "vest_ga_20.head(1)\n",
    "\n",
    "#Create a list of the race columns\n",
    "data_columns = [i for i in vest_ga_20.columns if ((\"20\" in i) | (\"21\" in i))]\n",
    "print(data_columns)"
   ]
  },
  {
   "cell_type": "markdown",
   "id": "429e9447",
   "metadata": {},
   "source": [
    "## Election Results Processing"
   ]
  },
  {
   "cell_type": "markdown",
   "id": "e5f280e3",
   "metadata": {},
   "source": [
    "### 1. Load General Election Data"
   ]
  },
  {
   "cell_type": "markdown",
   "id": "7a819f70",
   "metadata": {},
   "source": [
    "This data had to be downloaded county-by-county in XML format. The below code parses the XML and grabs the necessary data, adds it to a list, gives it the appropriate column names, and converts the data into a dataframe."
   ]
  },
  {
   "cell_type": "code",
   "execution_count": 10,
   "id": "4116fd60",
   "metadata": {},
   "outputs": [],
   "source": [
    "loaded_counties = os.listdir(\"./raw-from-source/Non_Recount_Results/\")\n",
    "z=[]\n",
    "for locale in loaded_counties:\n",
    "    if locale.endswith('.xml'):\n",
    "        file_string = \"./raw-from-source/Non_Recount_Results/\"+locale\n",
    "        xtree = et.parse(file_string)\n",
    "        xroot = xtree.getroot()\n",
    "        store_list = []\n",
    "        county_area = xroot.findall(\".//Region\")\n",
    "        for i in county_area:\n",
    "            county = i.text\n",
    "        contests = xroot.findall(\".//Contest\")\n",
    "        for i in contests:\n",
    "            contest = i.attrib.get('text')\n",
    "            lower = i.findall(\"./Choice\")\n",
    "            for j in lower:\n",
    "                choice = j.attrib.get('text')\n",
    "                lower_2 = j.findall(\"./VoteType\")\n",
    "                for k in lower_2:\n",
    "                    voting_method = k.attrib.get('name')\n",
    "                    lower_3 = k.findall(\"./Precinct\")\n",
    "                    for l in lower_3:\n",
    "                        precinct_name = l.attrib.get('name')\n",
    "                        num_votes = l.attrib.get('votes')\n",
    "                        z.append([county,contest,choice,voting_method,precinct_name,num_votes])\n",
    "dfcols = ['county','contest','choice','voting_method','precinct','num_votes']\n",
    "df_general = pd.DataFrame(z,columns=dfcols)"
   ]
  },
  {
   "cell_type": "code",
   "execution_count": 11,
   "id": "a53a67c0",
   "metadata": {},
   "outputs": [
    {
     "data": {
      "text/plain": [
       "array(['President of the United States', 'US Senate (Perdue)',\n",
       "       'US Senate (Loeffler) - Special',\n",
       "       'Public Service Commission District 1',\n",
       "       'Public Service Commission District 4', 'US House District 2',\n",
       "       'State Senate District 13', 'State House District 148',\n",
       "       'Probate Judge', 'Clerk of Superior Court', 'Sheriff',\n",
       "       'Tax Commissioner', 'Coroner', 'Chief Magistrate',\n",
       "       'County Commission Dist 1 Post 2',\n",
       "       'County Commission Dist 2 Post 1',\n",
       "       'Board of Education At Large - Cordele',\n",
       "       'Board of Education At Large - West Crisp',\n",
       "       'Soil and Water - Middle South Georgia',\n",
       "       'Constitutional Amendment #1', 'Constitutional Amendment #2',\n",
       "       'Statewide Referendum A', 'US House District 1',\n",
       "       'State Senate District 1', 'State House District 160',\n",
       "       'State House District 164', 'State House District 166',\n",
       "       'Solicitor General', 'County Commission Chair',\n",
       "       'County Commission District 1', 'County Commission District 3',\n",
       "       'Board of Education Vice Chair', 'Board of Education District 2',\n",
       "       'Board of Education District 3', 'US House District 8',\n",
       "       'State Senate District 8', 'State House District 175',\n",
       "       'District Attorney - Southern', 'Surveyor',\n",
       "       'County Commission District 4', 'County Commission District 5',\n",
       "       'Board of Education At Large', 'Board of Education District 1',\n",
       "       'Board of Education District 5', 'Constitutional Amendment #1 ',\n",
       "       'Brooks County SPLOST - Special', 'State Senate District 7',\n",
       "       'State House District 155', 'County Commissioner At Large',\n",
       "       'County Commission District 2 Post 1',\n",
       "       'County Commission District 3 Post 2',\n",
       "       'US Senate (Loeffler) - Special Election', 'US House District 10',\n",
       "       'State Senate District 46', 'State House District 117',\n",
       "       'State House District 119',\n",
       "       'District Attorney - Western - Special',\n",
       "       'County Commission Post 1', 'County Commission Post 3 - Special',\n",
       "       'County Commission Post 4', 'Board of Education Chair Post 1',\n",
       "       'Board of Education Post 4', 'Board of Education Post 5',\n",
       "       'Watkinsville City Council Post 3',\n",
       "       'Watkinsville City Council Post 4',\n",
       "       'Watkinsville City Council Post 5',\n",
       "       'SPLOST and General Obligation Debt - Special',\n",
       "       'US House District 12', 'State Senate District 22',\n",
       "       'State Senate District 23', 'State Senate District 24',\n",
       "       'State House District 123', 'State House District 124',\n",
       "       'State House District 125', 'State House District 126',\n",
       "       'State House District 127', 'District Attorney - Augusta',\n",
       "       'Presiding Judge Civil-Magistrate Crt', 'Solicitor-General',\n",
       "       'Board of Education District 4', 'Board of Education District 8',\n",
       "       'Board of Education District 10',\n",
       "       'Blythe City Councilmember - Special',\n",
       "       'Board of Education SPLOST - Special', 'State Senate District 11',\n",
       "       'State House District 172', 'State House District 173',\n",
       "       'County Commission District 2', 'County Commission District 6',\n",
       "       'County Commission District 8', 'Board of Education District 6',\n",
       "       'State House District 170', 'District Attorney - Tifton',\n",
       "       'County Commission District 7', 'Board of Education District 7',\n",
       "       'State Senate District 12', 'State House District 151',\n",
       "       'Soil and Water - Lower Chattahoochee River',\n",
       "       'County Police Force Referendum - Special',\n",
       "       'State House District 120', 'District Attorney - Northern',\n",
       "       'State House District 153', 'State House District 154',\n",
       "       'District Attorney - Dougherty', 'Probate Judge - Special',\n",
       "       'Soil and Water - Flint River',\n",
       "       'Dougherty County School Board ESPLOST - Special',\n",
       "       'US House District 9', 'State House District 33',\n",
       "       'State Senate District 4', 'State House District 158',\n",
       "       'District Attorney - Middle', 'State House District 176',\n",
       "       'District Attorney - Alapaha', 'Soil and Water - Satilla River',\n",
       "       'State House District 159', 'State House District 161',\n",
       "       'District Attorney - Ogeechee', 'Soil and Water - Ogeechee River',\n",
       "       'One Percent TSPLOST - Special', 'Soil and Water - Brier Creek',\n",
       "       'County Commission District 3 - Special', 'Dawson Mayor',\n",
       "       'Dawson City Council Ward 1', 'Dawson City Council Ward 3',\n",
       "       'Dawson City Council Ward 4', 'State Senate District 15',\n",
       "       'State House District 138',\n",
       "       'District Attorney - Southwestern - Special',\n",
       "       'State Senate District 19', 'State House District 149',\n",
       "       'District Attorney - Oconee', 'Soil and Water - Altamaha',\n",
       "       'US House District 3', 'US House District 13',\n",
       "       'State Senate District 16', 'State Senate District 34',\n",
       "       'State House District 63', 'State House District 64',\n",
       "       'State House District 71', 'State House District 72',\n",
       "       'State House District 73',\n",
       "       'County Commission District 5 (At Large)',\n",
       "       'Board of Education District 5 (At Large)',\n",
       "       'Brooks Council Member Post 1 - Special',\n",
       "       'Fayette Co School District Homestead Exemption - Special',\n",
       "       'State Senate District 3', 'State House District 178',\n",
       "       'County Commission Post 2', 'County Commission Post 3',\n",
       "       'US House District 14', 'State Senate District 53',\n",
       "       'State House District 1', 'District Attorney - Lookout Mountain',\n",
       "       'Board of Education District 5, At Large',\n",
       "       'Soil and Water - Coosa River', 'State Senate District 18',\n",
       "       'State Senate District 25', 'State Senate District 26',\n",
       "       'State House District 140', 'State House District 141',\n",
       "       'State House District 142', 'State House District 143',\n",
       "       'State House District 144', 'District Attorney - Macon',\n",
       "       'Solicitor of State Court', 'District Attorney - South Georgia',\n",
       "       'County Commission Precinct 2', 'County Commission Precinct 4',\n",
       "       'Board of Education Precinct 1', 'Board of Education Precinct 2',\n",
       "       'Board of Education Precinct 3', 'Board of Education Precinct 4',\n",
       "       'Board of Education Precinct 5',\n",
       "       'Edison City Council Post 1 - Special', 'State House District 137',\n",
       "       'District Attorney - Chattahoochee', 'State Senate District 50',\n",
       "       'State House District 28', 'District Attorney - Mountain',\n",
       "       'Board of Education District 1 Post 1',\n",
       "       'Board of Education District 3 Post 2', 'State House District 152',\n",
       "       'District Attorney - Toombs',\n",
       "       'Crawfordville City Council Post 4 - Special',\n",
       "       'State Senate District 52', 'State House District 12',\n",
       "       'State House District 13', 'State House District 14',\n",
       "       'District Attorney - Rome', 'State House District 169',\n",
       "       'State House District 145', 'District Attorney - Ocmulgee',\n",
       "       'State House District 110', 'State House District 129',\n",
       "       'District Attorney - Towaliga', 'State House District 174',\n",
       "       'US House District 4', 'State Senate District 17',\n",
       "       'State Senate District 43', 'State House District 90',\n",
       "       'State House District 91', 'State House District 92',\n",
       "       'State House District 109', 'State House District 113',\n",
       "       'State House District 114', 'State House District 139',\n",
       "       'State House District 8', 'Board of Education Post 2',\n",
       "       'Soil and Water - Blue Ridge Mountain', 'State House District 157',\n",
       "       'Clerk of Courts',\n",
       "       'Special Local Option Sales Tax (SPLOST) - Special',\n",
       "       'State Senate District 20', 'Sole County Commissioner',\n",
       "       'State Senate District 51', 'State House District 7',\n",
       "       'District Attorney - Appalachian', 'Board of Education - Bramlett',\n",
       "       'Board of Education - Deweese', 'Board of Education - Galloway',\n",
       "       'Probate-Magistrate Judge', 'County Commission Anna District',\n",
       "       'County Commission Elmodel District',\n",
       "       'County Commission Hoggards Mill District',\n",
       "       'County Commission Milford District',\n",
       "       'County Commission Newton District',\n",
       "       'Board of Education Anna District',\n",
       "       'Board of Education Elmodel District',\n",
       "       'Board of Education Hoggards Mill District',\n",
       "       'Board of Education Milford District',\n",
       "       'Board of Education Newton District', 'State Senate District 54',\n",
       "       'State House District 5', 'State House District 11',\n",
       "       'District Attorney - Cherokee', 'Board of Education Post 6',\n",
       "       'State House District 167', 'Soil and Water - Coastal',\n",
       "       '1% Educational Sales Tax - Special', 'State House District 128',\n",
       "       'SPLOST - Special', 'Ashburn City Council',\n",
       "       'State House District 131', 'Soil and Water - Towaliga',\n",
       "       '1% Sales Tax for Education - Special',\n",
       "       'Soil and Water - Lincoln County',\n",
       "       'Lincolnton City Council Member Post 5 - Special',\n",
       "       'Special Purpose Local Option Sales Tax-SPLOST - Special',\n",
       "       'State Senate District 28', 'State Senate District 30',\n",
       "       'State House District 18', 'State House District 68',\n",
       "       'State House District 69', 'State House District 70',\n",
       "       'District Attorney - Coweta',\n",
       "       'Bremen General Obligation School Bonds - Special',\n",
       "       'Probate Judge ', 'Coroner ', 'County Commissioner',\n",
       "       'Board of Education District 1 ',\n",
       "       'BOE Amendment to Constitution - Special', 'County Chairperson',\n",
       "       'County Commission Gibson District',\n",
       "       'County Commission Mill District',\n",
       "       'County Commission Mitchell/Edgehill District',\n",
       "       '2020 Special Local Option Sales Tax (SPLOST) - Special',\n",
       "       'State House District 180',\n",
       "       'Folkston City Council At Large - Special',\n",
       "       'State House District 132', 'Soil and Water - West Georgia',\n",
       "       'Board of Education Chair',\n",
       "       'Lakeland City Council Post 1 - Special',\n",
       "       'State House District 150', 'District Attorney - Dublin',\n",
       "       'State Senate District 29', 'State House District 133',\n",
       "       'Amend School District Homestead Exemption Ad Valorem Taxes - Special',\n",
       "       'Soil and Water - Ohoopee River', 'Alamo City Council - Special',\n",
       "       'State House District 168', 'Midway City Council - Special',\n",
       "       'Expansion of Level 1 Freeport Tax Exemption - Special',\n",
       "       'Sunday Sales of Alcoholic Beverages By the Drink - Special',\n",
       "       'State House District 156', 'District Attorney - Brunswick',\n",
       "       'State House District 2', 'State House District 3',\n",
       "       'Soil and Water - Catoosa', 'State House District 171',\n",
       "       'US House District 5', 'US House District 6',\n",
       "       'US House District 11', 'State Senate District 6',\n",
       "       'State Senate District 21', 'State Senate District 32',\n",
       "       'State Senate District 35', 'State Senate District 36',\n",
       "       'State Senate District 38',\n",
       "       'State Senate District 39 - Special Democratic Primary',\n",
       "       'State Senate District 40', 'State Senate District 48',\n",
       "       'State Senate District 56', 'State House District 22',\n",
       "       'State House District 25', 'State House District 40',\n",
       "       'State House District 45', 'State House District 47',\n",
       "       'State House District 48', 'State House District 49',\n",
       "       'State House District 50', 'State House District 51',\n",
       "       'State House District 52', 'State House District 53',\n",
       "       'State House District 54', 'State House District 55',\n",
       "       'State House District 56', 'State House District 57',\n",
       "       'State House District 58', 'State House District 59',\n",
       "       'State House District 60', 'State House District 61',\n",
       "       'State House District 62', 'State House District 65',\n",
       "       'State House District 80', 'State House District 95',\n",
       "       'District Attorney - Atlanta', 'Soil and Water - Fulton County',\n",
       "       'Atlanta Homestead Exemption - Special',\n",
       "       'East Point Sunday Alcohol Sales - Special',\n",
       "       'Union City Homestead Exemption - Special',\n",
       "       'State House District 10', 'County Commissioner District 1 ',\n",
       "       'County Commissioner District 4 ',\n",
       "       'County Commissioner District 5 ',\n",
       "       'Board of Education District 2 ',\n",
       "       'Demorest City Council - Special', 'State House District 115',\n",
       "       'District Attorney - Alcovy', 'Good Hope Mayor',\n",
       "       'Good Hope City Council Post 1', 'Good Hope City Council Post 2',\n",
       "       'Good Hope City Council Post 3', 'Good Hope City Council Post 4',\n",
       "       'Good Hope City Council Post 5',\n",
       "       'Monroe Councilmember District 6 - Special', 'TSPLOST - Special',\n",
       "       'State House District 121', 'County Commission District 2 Seat A',\n",
       "       'County Commission District 2 Seat B',\n",
       "       'Soil and Water - McDuffie County',\n",
       "       'McDuffie County SPLOST - Special',\n",
       "       'McDuffie County Sunday Sales of Alcohol by the Drink - Special',\n",
       "       'Thomson Sunday Sales of Alcohol by the Drink - Special',\n",
       "       'Soil and Water - Pine Mountain',\n",
       "       'Special One Percent Sales and Use Tax - Special',\n",
       "       'Sunday Packaged Sales Referendum - Special',\n",
       "       'Wayne County Sunday Sales of Alcohol - Special',\n",
       "       'Screven Alcohol Sales by the Drink - Special',\n",
       "       'Screven Sunday Package Sales - Special',\n",
       "       'Screven Sunday Alcohol Sales by the Drink - Special',\n",
       "       'US House District 7', 'State Senate District 27',\n",
       "       'State House District 9', 'State House District 24',\n",
       "       'State House District 26', 'District Attorney - Bell-Forsyth',\n",
       "       'State House District 32', 'Soil and Water - Broad River',\n",
       "       'Homestead Exemption Referendum - Special',\n",
       "       'Distilled Spirits By The Drink - Special',\n",
       "       'State Senate District 47', 'State House District 118',\n",
       "       'County Commission District 6 - Special',\n",
       "       'Tennille Council District 2 Post 1 - Special',\n",
       "       'Tennille Council District 3 Post 1 - Special',\n",
       "       'State House District 27',\n",
       "       'Board of Education District 5 At Large',\n",
       "       'Darien General Obligation Bonds - Special',\n",
       "       'Soil and Water - Piedmont',\n",
       "       'Soil and Water - Upper Ocmulgee River', 'State House District 4',\n",
       "       'State House District 6', 'District Attorney - Conasauga',\n",
       "       'Referendum to Adopt Local Act - Special',\n",
       "       'President of the United States/Presidentede los Estados Unidos',\n",
       "       'US Senate (Perdue)/Senado de los EE.UU. (Perdue)',\n",
       "       'US Senate (Loeffler) - Special/Senado de los EE.UU. (Loeffler) - Especial',\n",
       "       'Public Service Commission Dist 1/Comisionado de Servicio Público Dist 1',\n",
       "       'Public Service Commission Dist 4/Comisionado de Servicio Público Dist 4',\n",
       "       'US House Dist 4/Distrito del Congreso 4',\n",
       "       'US House Dist 7/Distrito del Congreso 7',\n",
       "       'US House Dist 10/Distrito del Congreso 10',\n",
       "       'State Senate Dist 5/Senador Estatal Dist 5',\n",
       "       'State Senate Dist 9/Senador Estatal Dist 9',\n",
       "       'State Senate Dist 40/Senador Estatal Dist 40',\n",
       "       'State Senate Dist 41/Senador Estatal Dist 41',\n",
       "       'State Senate Dist 45/Senador Estatal Dist 45',\n",
       "       'State Senate Dist 48/Senador Estatal Dist 48',\n",
       "       'State Senate Dist 55/Senador Estatal Dist 55',\n",
       "       'State House Dist 81/Estatal ante la Asamblea General Dist 81',\n",
       "       'State House Dist 93/Estatal ante la Asamblea General Dist 93',\n",
       "       'State House Dist 94/Estatal ante la Asamblea General Dist 94',\n",
       "       'State House Dist 95/Estatal ante la Asamblea General Dist 95',\n",
       "       'State House Dist 96/Estatal ante la Asamblea General Dist 96',\n",
       "       'State House Dist 97/Estatal ante la Asamblea General Dist 97',\n",
       "       'State House Dist 98/Estatal ante la Asamblea General Dist 98',\n",
       "       'State House Dist 99/Estatal ante la Asamblea General Dist 99',\n",
       "       'State House Dist 100/Estatal ante la Asamblea General Dist 100',\n",
       "       'State House Dist 101/Estatal ante la Asamblea General Dist 101',\n",
       "       'State House Dist 102/Estatal ante la Asamblea General Dist 102',\n",
       "       'State House Dist 103/Estatal ante la Asamblea General Dist 103',\n",
       "       'State House Dist 104/Estatal ante la Asamblea General Dist 104',\n",
       "       'State House Dist 105/Estatal ante la Asamblea General Dist 105',\n",
       "       'State House Dist 106/Estatal ante la Asamblea General Dist 106',\n",
       "       'State House Dist 107/Estatal ante la Asamblea General Dist 107',\n",
       "       'State House Dist 108/Estatal ante la Asamblea General Dist 108',\n",
       "       'State House Dist 114/Estatal ante la Asamblea General Dist 114',\n",
       "       'District Attorney - Gwinnett/Fiscal del Distrito - Gwinnett',\n",
       "       'Clerk of Superior Court/Para Secretario del Tribunal Superior',\n",
       "       'Sheriff/Alguacil', 'Tax Commissioner/Comisionado de Impuestos',\n",
       "       'Co Commission Chair/Presidente de la Comisión del Condado',\n",
       "       'Co Commission Dist 1/Comisionado del Condado para el Dist 1',\n",
       "       'Co Commission Dist 3/Comisionado del Condado para el Dist 3',\n",
       "       'Brd of Education Dist 1/Consejo de Educación del Dist 1',\n",
       "       'Brd of Education Dist 3/Consejo de Educación del Dist 3',\n",
       "       'Brd of Education Dist 5/Consejo de Educación del Dist 5',\n",
       "       'Gwinnett County Soil and Water/Suelo y Agua del Condado de Gwinnett',\n",
       "       'Constitutional Amendment #1/Propuestas de Enmienda Constitucional #1',\n",
       "       'Constitutional Amendment #2/Propuestas de Enmienda Constitucional #2',\n",
       "       'Statewide Referendum A/Propuesta de Referéndum Estatal A',\n",
       "       'Gwinnett-Buford Board of Education SPLOST/Gwinnett-Buford Referéndum SPLOST de la Junta de Educación ',\n",
       "       'Gwinnett Transit Referendum/Referéndum de Tránsito de Gwinnett',\n",
       "       'State House District 122', 'Soil and Water - Columbia County',\n",
       "       'Homestead Exemption for 70 Years and Older - Special',\n",
       "       'State House District 146', 'State House District 147',\n",
       "       'District Attorney - Houston', 'County Commission District 3 ',\n",
       "       'County Commission District 4 ', 'County Commission District 5 ',\n",
       "       'State Senate District 14', 'State Senate District 33',\n",
       "       'State Senate District 37', 'State House District 34',\n",
       "       'State House District 35', 'State House District 36',\n",
       "       'State House District 37', 'State House District 38',\n",
       "       'State House District 39', 'State House District 41',\n",
       "       'State House District 42', 'State House District 43',\n",
       "       'State House District 44', 'State House District 46',\n",
       "       'District Attorney - Cobb - Special',\n",
       "       'Soil and Water - Cobb County',\n",
       "       'Cobb County Special Purpose Local Option Sales Tax - Special',\n",
       "       'State Senate District 10', 'State House District 76',\n",
       "       'State House District 78', 'State House District 111',\n",
       "       'State House District 130', 'District Attorney - Flint',\n",
       "       'Redevelopment Powers Referendum - Special',\n",
       "       'Soil and Water - Warren County', 'Camak Mayor',\n",
       "       'Camak City Council', 'Warren County SPLOST - Special',\n",
       "       'County Commission District 1 - Special',\n",
       "       'State House District 20', 'State House District 21',\n",
       "       'State House District 23', 'District Attorney - Blue Ridge',\n",
       "       'Soil and Water - Limestone Valley', 'Holly Springs Mayor',\n",
       "       'Holly Springs City Council Ward 3',\n",
       "       'Holly Springs City Council Ward 5',\n",
       "       'Holly Springs Homestead Exemption - Special',\n",
       "       'State House District 134',\n",
       "       'Board of Education District 5 - Special',\n",
       "       'Hamilton City Council - Special', 'State House District 179',\n",
       "       'County Commissioner At Large Post 2',\n",
       "       'Board of Education At Large Post 2', 'Statewide Referendum A ',\n",
       "       '1 % Sales Tax for Educational Purposes - Special',\n",
       "       'State Senate District 49', 'State House District 29',\n",
       "       'State House District 30', 'State House District 103',\n",
       "       'Soil and Water - Hall County',\n",
       "       'Lula Alcohol by the Drink - Special',\n",
       "       'Lula Sunday Sales of Beer and Wine - Special',\n",
       "       'Soil and Water - Alapaha', 'Soil and Water - Central Georgia',\n",
       "       'McIntyre City Council District 1 - Special',\n",
       "       'Worth County SPLOST - Special',\n",
       "       'Sylvester Sales of Alcoholic Beverages on Sunday - Special',\n",
       "       'Sylvester Package Sales on Sunday - Special',\n",
       "       'State House District 31', 'District Attorney - Piedmont',\n",
       "       'Board of Education Post 1', 'Soil and Water - Oconee River',\n",
       "       'Arcade Fire Advisory Board Post 1',\n",
       "       'Arcade Fire Advisory Board Post 2',\n",
       "       'Harrisburg Fire Advisory Board Post 6',\n",
       "       'Harrisburg Fire Advisory Board Post 7',\n",
       "       'Harrisburg Fire Advisory Board Post 8',\n",
       "       'Harrisburg Fire Advisory Board Post 9',\n",
       "       'East Jackson Fire Advisory Board Post 2',\n",
       "       'East Jackson Fire Advisory Board Post 4',\n",
       "       'Jackson Trail Fire Advisory Board Post 1',\n",
       "       'Jackson Trail Fire Advisory Board Post 2',\n",
       "       'Jackson Trail Fire Advisory Board Post 3',\n",
       "       'Maysville Fire Advisory Board Post 3',\n",
       "       'Nicholson Fire Advisory Board Post 4',\n",
       "       'Nicholson Fire Advisory Board Post 5',\n",
       "       'North Jackson Fire Advisory Board Post 5',\n",
       "       'North Jackson Fire Advisory Board Post 6',\n",
       "       'North Jackson Fire Advisory Board Post 7',\n",
       "       'North Jackson Fire Advisory Board Post 8',\n",
       "       'Plainview Fire Advisory Board Post 2',\n",
       "       'Plainview Fire Advisory Board Post 3',\n",
       "       'South Jackson Fire Advisory Board Post 3',\n",
       "       'South Jackson Fire Advisory Board Post 5',\n",
       "       'West Jackson Fire Advisory Board Post 3',\n",
       "       'West Jackson Fire Advisory Board Post 5',\n",
       "       'State Senate District 44', 'State House District 74',\n",
       "       'State House District 75', 'State House District 77',\n",
       "       'District Attorney - Clayton - Special Election',\n",
       "       'Soil and Water - Clayton County',\n",
       "       'Sunday On-Premise Alcohol Consumption Starting at 11:00 AM - Special',\n",
       "       'State Senate District 2', 'State House District 162',\n",
       "       'State House District 163', 'State House District 165',\n",
       "       'District Attorney - Eastern', 'State Senate District 31',\n",
       "       'State House District 16', 'District Attorney - Tallapoosa',\n",
       "       'Chief Magistrate - Special Republican Primary',\n",
       "       'Haralson County ESPLOST - Special',\n",
       "       'Homestead Exemption - Special',\n",
       "       'Bremen City Schools Bond - Special',\n",
       "       'Soil and Water - Lamar County', 'Milner City Council - Special',\n",
       "       'State House District 177', 'Lake Park City Council - Special',\n",
       "       'Soil and Water - Ocmulgee River',\n",
       "       'Fluoride in County Water System - Special',\n",
       "       'Franklin County Homestead Exemption - Special',\n",
       "       'City of Lavonia Homestead Exemption - Special',\n",
       "       'Soil and Water - Roosevelt',\n",
       "       'Manchester Regulation of Sunday Alcohol Sales By the Drink - Special',\n",
       "       'Manchester Regulation of Distilled Spirits Sales By the Drink - Special',\n",
       "       'Manchester Regulation of Package Sales - Special',\n",
       "       'Coroner - Special', 'County Commission District 4 - Special',\n",
       "       'Sales and Use Tax and Bond Election - Special',\n",
       "       'Nonbinding Advisory Referendum - Special',\n",
       "       'Pulaski County Sunday Package Sales - Special',\n",
       "       'Hawkinsville Sunday Alcohol By The Drink - Special',\n",
       "       'Hawkinsville Sunday Package Sales - Special',\n",
       "       'Monroe County TSPLOST', 'Kingsland City Council Post 1',\n",
       "       'Kingsland City Council Post 2', 'St. Marys Mayor',\n",
       "       'St. Marys City Council Post 4', 'St. Marys City Council Post 5',\n",
       "       'St. Marys City Council Post 6',\n",
       "       'Sunday Package Sales of Alcohol - Special',\n",
       "       'State Senate District 41', 'State Senate District 42',\n",
       "       'State Senate District 55', 'State House District 79',\n",
       "       'State House District 81', 'State House District 82',\n",
       "       'State House District 83', 'State House District 84',\n",
       "       'State House District 85', 'State House District 86',\n",
       "       'State House District 87', 'State House District 88',\n",
       "       'State House District 89', 'State House District 93',\n",
       "       'State House District 94', 'District Attorney - Stone Mountain',\n",
       "       'Chief Executive Officer', 'Soil and Water - DeKalb County',\n",
       "       'Clarkston Mayor - Special',\n",
       "       'Doraville City Council District 1 - Special',\n",
       "       'DeKalb County Ethics - Special',\n",
       "       'Brookhaven Term Limits - Special',\n",
       "       'Concord Sunday Sales of Alcohol by the Drink - Special',\n",
       "       'County Commission District 3 Post 1', 'Vidalia Mayor - Special',\n",
       "       'Sunday Package Sales - Special',\n",
       "       'Transportation Special Purpose Local Option Sales Tax - Special',\n",
       "       'County Commission District 2 (Term Expires 2022) - Special',\n",
       "       'State House District 15',\n",
       "       'Adairsville City Council Post 4 - Special',\n",
       "       'Euharlee City Council At Large - Special',\n",
       "       'Bartow County Homestead Exemption - Special',\n",
       "       'Cartersville School Tax Exemption - Special',\n",
       "       'County Commissioner District 2 ',\n",
       "       'Board of Education At Large - Special',\n",
       "       'Board of Education District 4 ', 'State House District 66',\n",
       "       'State House District 67', 'District Attorney - Douglas - Special',\n",
       "       'Redevelopment Powers - Special', 'State House District 112',\n",
       "       'ESPLOST - Special', 'Bostwick - Cease Fluoridation - Special',\n",
       "       'Continuation of ESPLOST - Special', 'Ray City Council - Special',\n",
       "       'County Commission District 1, Seat A',\n",
       "       'County Commission District 2, Seat A',\n",
       "       'County Commission District 2, Seat C', 'State House District 135',\n",
       "       'State House District 136', 'Municipal Court Judge',\n",
       "       'Municipal Court Clerk', 'State House District 17',\n",
       "       'State House District 19', 'Dallas Mayor - Special',\n",
       "       'Creation of State Court - Special',\n",
       "       'County Commission Post 5 At Large', 'Board of Education Post 3',\n",
       "       'Transportation SPLOST - Special', 'State House District 116',\n",
       "       'Board of Education District 8 At Large',\n",
       "       'Bethlehem Council Post 1 - Special',\n",
       "       'Claxton Sunday Package Sales Referendum - Special'], dtype=object)"
      ]
     },
     "execution_count": 11,
     "metadata": {},
     "output_type": "execute_result"
    }
   ],
   "source": [
    "df_general[\"contest\"].unique()"
   ]
  },
  {
   "cell_type": "markdown",
   "id": "b208a6d0",
   "metadata": {},
   "source": [
    "### Join Election Data Together"
   ]
  },
  {
   "cell_type": "code",
   "execution_count": 12,
   "id": "4067c918",
   "metadata": {},
   "outputs": [
    {
     "name": "stdout",
     "output_type": "stream",
     "text": [
      "159\n"
     ]
    }
   ],
   "source": [
    "ga_election = df_general.copy(deep = True)\n",
    "\n",
    "#Sanity check that there are the right number of counties\n",
    "print(len(ga_election[\"county\"].unique()))\n",
    "\n",
    "# Clean the contest name\n",
    "ga_election[\"contest\"] = ga_election[\"contest\"].str.strip()"
   ]
  },
  {
   "cell_type": "markdown",
   "id": "cac52c1c",
   "metadata": {},
   "source": [
    "### Filter Down to Relevant Races"
   ]
  },
  {
   "cell_type": "code",
   "execution_count": 13,
   "id": "86c8dc1a",
   "metadata": {},
   "outputs": [],
   "source": [
    "other_statewide_races = [\"Constitutional Amendment #2\",\n",
    "                         \"Constitutional Amendment #1\",\n",
    "                         \"Statewide Referendum A\",\n",
    "                        'Constitutional Amendment #1/Propuestas de Enmienda Constitucional #1',\n",
    "                        'Constitutional Amendment #2/Propuestas de Enmienda Constitucional #2',\n",
    "                        'Statewide Referendum A/Propuesta de Referéndum Estatal A']"
   ]
  },
  {
   "cell_type": "code",
   "execution_count": 14,
   "id": "8533b680",
   "metadata": {},
   "outputs": [],
   "source": [
    "ga_election = ga_election[ga_election[\"contest\"].isin(other_statewide_races)]"
   ]
  },
  {
   "cell_type": "code",
   "execution_count": 15,
   "id": "848e383a",
   "metadata": {},
   "outputs": [],
   "source": [
    "# Clean up the names that are written in Spanish\n",
    "contest_changes_dict = {\n",
    "    'Constitutional Amendment #1/Propuestas de Enmienda Constitucional #1':'Constitutional Amendment #1',\n",
    "    'Constitutional Amendment #2/Propuestas de Enmienda Constitucional #2':'Constitutional Amendment #2',\n",
    "    'Statewide Referendum A/Propuesta de Referéndum Estatal A':'Statewide Referendum A'\n",
    "}\n",
    "\n",
    "ga_election[\"contest\"] = ga_election[\"contest\"].map(contest_changes_dict).fillna(ga_election[\"contest\"])\n",
    "\n",
    "# Reset the index after the above filter\n",
    "ga_election.reset_index(inplace=True,drop=True)"
   ]
  },
  {
   "cell_type": "markdown",
   "id": "c4d50b84",
   "metadata": {},
   "source": [
    "### Clean and Pivot Data"
   ]
  },
  {
   "cell_type": "code",
   "execution_count": 16,
   "id": "7a891ff7",
   "metadata": {},
   "outputs": [
    {
     "data": {
      "text/plain": [
       "['Constitutional Amendment #1',\n",
       " 'Constitutional Amendment #2',\n",
       " 'Statewide Referendum A']"
      ]
     },
     "execution_count": 16,
     "metadata": {},
     "output_type": "execute_result"
    }
   ],
   "source": [
    "list(ga_election[\"contest\"].unique())"
   ]
  },
  {
   "cell_type": "code",
   "execution_count": 17,
   "id": "8ae189fc",
   "metadata": {},
   "outputs": [],
   "source": [
    "# Cast the votes to an integer\n",
    "ga_election[\"num_votes\"] = ga_election[\"num_votes\"].astype(int)"
   ]
  },
  {
   "cell_type": "markdown",
   "id": "3c1f0e35",
   "metadata": {},
   "source": [
    "#### Add a FIPS Column"
   ]
  },
  {
   "cell_type": "code",
   "execution_count": 18,
   "id": "09b47d6b",
   "metadata": {},
   "outputs": [
    {
     "name": "stdout",
     "output_type": "stream",
     "text": [
      "['081' '029' '027' '017' '219' '245' '275' '277' '239' '221' '095' '105'\n",
      " '107' '003' '103' '033' '273' '251' '249' '271' '113' '025' '083' '021'\n",
      " '037' '263' '257' '261' '265' '115' '099' '005' '009' '035' '101' '247'\n",
      " '269' '243' '241' '267' '253' '023' '111' '007' '131' '129' '183' '163'\n",
      " '287' '317' '315' '293' '177' '181' '045' '055' '125' '049' '077' '173'\n",
      " '193' '307' '283' '285' '309' '179' '175' '161' '133' '047' '071' '121'\n",
      " '137' '297' '295' '167' '189' '197' '165' '291' '305' '053' '117' '147'\n",
      " '059' '043' '303' '311' '191' '169' '159' '187' '313' '289' '123' '135'\n",
      " '073' '065' '201' '195' '149' '153' '067' '151' '141' '301' '299' '057'\n",
      " '069' '145' '127' '139' '075' '319' '321' '157' '063' '051' '155' '143'\n",
      " '171' '185' '061' '079' '011' '119' '259' '199' '237' '001' '235' '207'\n",
      " '255' '039' '091' '087' '089' '231' '209' '205' '233' '015' '085' '097'\n",
      " '229' '213' '211' '227' '019' '031' '093' '215' '223' '279' '281' '225'\n",
      " '217' '013' '109']\n"
     ]
    }
   ],
   "source": [
    "fips_file = pd.read_csv(\"./raw-from-source/FIPS/US_FIPS_Codes.csv\")\n",
    "fips_file = fips_file[fips_file[\"State\"]==\"Georgia\"]\n",
    "fips_file[\"FIPS County\"] = fips_file[\"FIPS County\"].astype(str)\n",
    "fips_file[\"FIPS County\"] = fips_file[\"FIPS County\"].str.zfill(3)\n",
    "fips_file[\"County Name\"] = fips_file[\"County Name\"].replace(\"De Kalb\",\"DeKalb\")\n",
    "fips_dict = dict(zip(fips_file['County Name'], fips_file['FIPS County']))\n",
    "ga_election['county_fips'] = ga_election['county'].map(fips_dict).fillna(ga_election['county'])\n",
    "ga_election['county_fips'] = ga_election['county_fips'].astype(str)\n",
    "ga_election['county_fips'] = ga_election['county_fips'].str.zfill(3)\n",
    "\n",
    "# Print statements to check the county FIPs we've added\n",
    "print(ga_election['county_fips'].unique())"
   ]
  },
  {
   "cell_type": "markdown",
   "id": "e6e3d61b",
   "metadata": {},
   "source": [
    "### Clean Candidate Names"
   ]
  },
  {
   "cell_type": "markdown",
   "id": "cd8c59c7",
   "metadata": {},
   "source": [
    "#### Pivot the data"
   ]
  },
  {
   "cell_type": "code",
   "execution_count": 19,
   "id": "cb1940b2",
   "metadata": {},
   "outputs": [],
   "source": [
    "# Define a unique_ID column\n",
    "ga_election[\"unique_ID\"]=ga_election[\"county_fips\"]+ga_election[\"precinct\"]\n",
    "\n",
    "# Add in the vote type (Yes or No) for each contest\n",
    "ga_election[\"choice\"]=ga_election[\"choice\"]+ga_election[\"contest\"]\n",
    "\n",
    "# Perform the pivot, clean the resulting dataframe\n",
    "ga_election=pd.pivot_table(ga_election,index=[\"unique_ID\",\"county\",\"county_fips\",\"precinct\"],columns=[\"choice\"],values=['num_votes'],aggfunc=sum)\n",
    "ga_election = ga_election.fillna(0)\n",
    "ga_election.columns = ga_election.columns.droplevel(0)\n",
    "ga_election = ga_election.reset_index()"
   ]
  },
  {
   "cell_type": "markdown",
   "id": "813dc8b6",
   "metadata": {},
   "source": [
    "#### Change Names to match VEST"
   ]
  },
  {
   "cell_type": "code",
   "execution_count": 20,
   "id": "311885c1",
   "metadata": {},
   "outputs": [],
   "source": [
    "column_changes_dict = {\n",
    "       'NOConstitutional Amendment #1':'G20A01NO',\n",
    "       'NOConstitutional Amendment #2':'G20A02NO',\n",
    "       'NOStatewide Referendum A':'G20RFANO',\n",
    "       'YESConstitutional Amendment #1':'G20A01YES',\n",
    "       'YESConstitutional Amendment #2':'G20A02YES',\n",
    "       'YESStatewide Referendum A':'G20RFAYES'\n",
    "}"
   ]
  },
  {
   "cell_type": "code",
   "execution_count": 21,
   "id": "61204e1c",
   "metadata": {},
   "outputs": [],
   "source": [
    "ga_election = ga_election.rename(columns=column_changes_dict)"
   ]
  },
  {
   "cell_type": "code",
   "execution_count": 22,
   "id": "bcb4d517",
   "metadata": {},
   "outputs": [],
   "source": [
    "#Create a matching \"FIPS2\" column in the election results\n",
    "ga_election[\"county_fips\"] = ga_election[\"county_fips\"].astype(int).astype(str).str.zfill(3)\n",
    "ga_election[\"FIPS2\"] = ga_election[\"county_fips\"]\n",
    "\n",
    "vest_ga_20[\"FIPS2\"] = vest_ga_20[\"FIPS2\"].astype(str)"
   ]
  },
  {
   "cell_type": "markdown",
   "id": "8475f90e",
   "metadata": {},
   "source": [
    "## Join Election Results to VEST"
   ]
  },
  {
   "cell_type": "markdown",
   "id": "ee7999d7",
   "metadata": {},
   "source": [
    "#### Try a  unique ID"
   ]
  },
  {
   "cell_type": "code",
   "execution_count": 23,
   "id": "68c60db6",
   "metadata": {},
   "outputs": [],
   "source": [
    "ga_election[\"precinct\"] = ga_election[\"precinct\"].str.strip().str.upper()\n",
    "ga_election[\"unique_ID\"]=ga_election[\"county_fips\"]+\"-\"+ga_election[\"precinct\"]\n",
    "vest_ga_20[\"unique_ID\"]=vest_ga_20[\"FIPS2\"]+\"-\"+vest_ga_20[\"PRECINCT_N\"]"
   ]
  },
  {
   "cell_type": "markdown",
   "id": "047773e1",
   "metadata": {},
   "source": [
    "#### Check whether there are duplicate IDs"
   ]
  },
  {
   "cell_type": "code",
   "execution_count": 24,
   "id": "86234ae6",
   "metadata": {},
   "outputs": [
    {
     "name": "stdout",
     "output_type": "stream",
     "text": [
      "Series([], Name: unique_ID, dtype: int64)\n",
      "NaN                        7\n",
      "051-ELI WHITNEY COMPLEX    2\n",
      "Name: unique_ID, dtype: int64\n"
     ]
    }
   ],
   "source": [
    "ser = ga_election[\"unique_ID\"].value_counts(dropna=False)\n",
    "print(ser[ser >1])\n",
    "\n",
    "ser = vest_ga_20[\"unique_ID\"].value_counts(dropna=False)\n",
    "print(ser[ser >1])"
   ]
  },
  {
   "cell_type": "code",
   "execution_count": 25,
   "id": "784c3459",
   "metadata": {},
   "outputs": [
    {
     "data": {
      "text/html": [
       "<div>\n",
       "<style scoped>\n",
       "    .dataframe tbody tr th:only-of-type {\n",
       "        vertical-align: middle;\n",
       "    }\n",
       "\n",
       "    .dataframe tbody tr th {\n",
       "        vertical-align: top;\n",
       "    }\n",
       "\n",
       "    .dataframe thead th {\n",
       "        text-align: right;\n",
       "    }\n",
       "</style>\n",
       "<table border=\"1\" class=\"dataframe\">\n",
       "  <thead>\n",
       "    <tr style=\"text-align: right;\">\n",
       "      <th></th>\n",
       "      <th>DISTRICT</th>\n",
       "      <th>CTYSOSID</th>\n",
       "      <th>PRECINCT_I</th>\n",
       "      <th>PRECINCT_N</th>\n",
       "      <th>CTYNAME</th>\n",
       "      <th>CTYNUMBER</th>\n",
       "      <th>CTYNUMBER2</th>\n",
       "      <th>FIPS2</th>\n",
       "      <th>G20PRERTRU</th>\n",
       "      <th>G20PREDBID</th>\n",
       "      <th>...</th>\n",
       "      <th>G20PSCDBLA</th>\n",
       "      <th>G20PSCLWIL</th>\n",
       "      <th>R21USSRPER</th>\n",
       "      <th>R21USSDOSS</th>\n",
       "      <th>R21USSRLOE</th>\n",
       "      <th>R21USSDWAR</th>\n",
       "      <th>R21PSCRMCD</th>\n",
       "      <th>R21PSCDBLA</th>\n",
       "      <th>geometry</th>\n",
       "      <th>unique_ID</th>\n",
       "    </tr>\n",
       "  </thead>\n",
       "  <tbody>\n",
       "    <tr>\n",
       "      <th>2259</th>\n",
       "      <td>0513-15C</td>\n",
       "      <td>0513-15C</td>\n",
       "      <td>3-15C</td>\n",
       "      <td>ELI WHITNEY COMPLEX</td>\n",
       "      <td>CHATHAM</td>\n",
       "      <td>25</td>\n",
       "      <td>025</td>\n",
       "      <td>051</td>\n",
       "      <td>278</td>\n",
       "      <td>361</td>\n",
       "      <td>...</td>\n",
       "      <td>325</td>\n",
       "      <td>15</td>\n",
       "      <td>281</td>\n",
       "      <td>329</td>\n",
       "      <td>282</td>\n",
       "      <td>329</td>\n",
       "      <td>284</td>\n",
       "      <td>318</td>\n",
       "      <td>POLYGON ((-81.02948 32.06200, -81.03000 32.060...</td>\n",
       "      <td>051-ELI WHITNEY COMPLEX</td>\n",
       "    </tr>\n",
       "    <tr>\n",
       "      <th>2261</th>\n",
       "      <td>0512-06C</td>\n",
       "      <td>0512-06C</td>\n",
       "      <td>2-06C</td>\n",
       "      <td>ELI WHITNEY COMPLEX</td>\n",
       "      <td>CHATHAM</td>\n",
       "      <td>25</td>\n",
       "      <td>025</td>\n",
       "      <td>051</td>\n",
       "      <td>65</td>\n",
       "      <td>335</td>\n",
       "      <td>...</td>\n",
       "      <td>301</td>\n",
       "      <td>19</td>\n",
       "      <td>52</td>\n",
       "      <td>312</td>\n",
       "      <td>53</td>\n",
       "      <td>311</td>\n",
       "      <td>54</td>\n",
       "      <td>300</td>\n",
       "      <td>POLYGON ((-81.05333 32.07291, -81.05336 32.072...</td>\n",
       "      <td>051-ELI WHITNEY COMPLEX</td>\n",
       "    </tr>\n",
       "  </tbody>\n",
       "</table>\n",
       "<p>2 rows × 51 columns</p>\n",
       "</div>"
      ],
      "text/plain": [
       "      DISTRICT  CTYSOSID PRECINCT_I           PRECINCT_N  CTYNAME CTYNUMBER  \\\n",
       "2259  0513-15C  0513-15C      3-15C  ELI WHITNEY COMPLEX  CHATHAM        25   \n",
       "2261  0512-06C  0512-06C      2-06C  ELI WHITNEY COMPLEX  CHATHAM        25   \n",
       "\n",
       "     CTYNUMBER2 FIPS2  G20PRERTRU  G20PREDBID  ...  G20PSCDBLA  G20PSCLWIL  \\\n",
       "2259        025   051         278         361  ...         325          15   \n",
       "2261        025   051          65         335  ...         301          19   \n",
       "\n",
       "      R21USSRPER  R21USSDOSS  R21USSRLOE  R21USSDWAR  R21PSCRMCD  R21PSCDBLA  \\\n",
       "2259         281         329         282         329         284         318   \n",
       "2261          52         312          53         311          54         300   \n",
       "\n",
       "                                               geometry  \\\n",
       "2259  POLYGON ((-81.02948 32.06200, -81.03000 32.060...   \n",
       "2261  POLYGON ((-81.05333 32.07291, -81.05336 32.072...   \n",
       "\n",
       "                    unique_ID  \n",
       "2259  051-ELI WHITNEY COMPLEX  \n",
       "2261  051-ELI WHITNEY COMPLEX  \n",
       "\n",
       "[2 rows x 51 columns]"
      ]
     },
     "metadata": {},
     "output_type": "display_data"
    }
   ],
   "source": [
    "#Look into duplicate IDs - ELI WHITNEY\n",
    "display(vest_ga_20[vest_ga_20[\"unique_ID\"]==\"051-ELI WHITNEY COMPLEX\"])"
   ]
  },
  {
   "cell_type": "code",
   "execution_count": 26,
   "id": "548dfc3c",
   "metadata": {},
   "outputs": [],
   "source": [
    "#Assign new unique IDs, adding in PRECINCT_I to differentiate\n",
    "vest_ga_20.loc[vest_ga_20[\"CTYSOSID\"]==\"0513-15C\",\"unique_ID\"] = \"051-ELI WHITNEY COMPLEX 3-15C\"\n",
    "vest_ga_20.loc[vest_ga_20[\"CTYSOSID\"]==\"0512-06C\",\"unique_ID\"] = \"051-ELI WHITNEY COMPLEX 2-06C\"\n",
    "\n",
    "# For the other NA values, use the DISTRICT as the unique_ID\n",
    "vest_ga_20.loc[vest_ga_20['unique_ID'].isna(), 'unique_ID'] = vest_ga_20['DISTRICT']"
   ]
  },
  {
   "cell_type": "markdown",
   "id": "bacae3ee",
   "metadata": {},
   "source": [
    "#### Confirm there are no duplicate IDs"
   ]
  },
  {
   "cell_type": "code",
   "execution_count": 27,
   "id": "ed98903c",
   "metadata": {},
   "outputs": [
    {
     "name": "stdout",
     "output_type": "stream",
     "text": [
      "Series([], Name: unique_ID, dtype: int64)\n",
      "Series([], Name: unique_ID, dtype: int64)\n"
     ]
    }
   ],
   "source": [
    "ser = ga_election[\"unique_ID\"].value_counts(dropna=False)\n",
    "print(ser[ser >1])\n",
    "\n",
    "ser = vest_ga_20[\"unique_ID\"].value_counts(dropna=False)\n",
    "print(ser[ser >1])"
   ]
  },
  {
   "cell_type": "code",
   "execution_count": 28,
   "id": "085e3d0d",
   "metadata": {},
   "outputs": [
    {
     "name": "stdout",
     "output_type": "stream",
     "text": [
      "both          2543\n",
      "right_only     135\n",
      "left_only      113\n",
      "Name: _merge, dtype: int64\n"
     ]
    }
   ],
   "source": [
    "#First join attempt\n",
    "join_attempt_1 = pd.merge(ga_election,vest_ga_20,how=\"outer\",on=\"unique_ID\",indicator=True)\n",
    "print(join_attempt_1[\"_merge\"].value_counts())\n",
    "\n",
    "left_only = join_attempt_1[join_attempt_1[\"_merge\"]==\"left_only\"]\n",
    "right_only = join_attempt_1[join_attempt_1[\"_merge\"]==\"right_only\"]"
   ]
  },
  {
   "cell_type": "markdown",
   "id": "ab207afc",
   "metadata": {},
   "source": [
    "## Combine the Northgate / Trinity Precincts in the Election Results\n",
    "\n",
    "Note: This will match the combining of the precincts we did above"
   ]
  },
  {
   "cell_type": "code",
   "execution_count": 29,
   "id": "10835bf8",
   "metadata": {},
   "outputs": [
    {
     "name": "stdout",
     "output_type": "stream",
     "text": [
      "(2656, 11)\n",
      "(2654, 11)\n",
      "(2, 11)\n"
     ]
    }
   ],
   "source": [
    "# Separate out the precincts\n",
    "to_remove = ga_election[(ga_election[\"county\"]==\"Lowndes\") & (ga_election[\"precinct\"].isin([\"NORTHGATE ASSEMBLY\", \"TRINITY\"]))]\n",
    "remaining_elections = ga_election[~((ga_election[\"county\"]==\"Lowndes\") & (ga_election[\"precinct\"].isin([\"NORTHGATE ASSEMBLY\", \"TRINITY\"])))]\n",
    "\n",
    "# Print statements to make sure the above is correct\n",
    "print(ga_election.shape)\n",
    "print(remaining_elections.shape)\n",
    "print(to_remove.shape)"
   ]
  },
  {
   "cell_type": "code",
   "execution_count": 30,
   "id": "af54e0cc",
   "metadata": {},
   "outputs": [],
   "source": [
    "# Combine the election results in Northgate / Trinity\n",
    "grouped_to_remove = to_remove.groupby([\"county_fips\"]).sum()\n",
    "grouped_to_remove.reset_index(inplace = True, drop = False)\n",
    "\n",
    "# Give updated values to the relevant columns\n",
    "grouped_to_remove[\"unique_ID\"] = \"185-NORTHGATE ASSEMBLY AND TRINITY\"\n",
    "grouped_to_remove[\"county\"] = 'Lowndes'\n",
    "grouped_to_remove[\"county_fips\"] = '185' \n",
    "grouped_to_remove[\"precinct\"] = 'NORTHGATE ASSEMBLY AND TRINITY'\n",
    "grouped_to_remove[\"FIPS2\"] = '185' \n",
    "\n",
    "# Filter down to the relevant columns\n",
    "grouped_to_remove = grouped_to_remove[list(to_remove.columns)]\n",
    "\n",
    "# Group all the precincts back together\n",
    "ga_election = pd.concat([remaining_elections, grouped_to_remove])\n",
    "ga_election.reset_index(inplace = True, drop = False)"
   ]
  },
  {
   "cell_type": "markdown",
   "id": "20a3cf39",
   "metadata": {},
   "source": [
    "### Change Precinct Names to Match VEST"
   ]
  },
  {
   "cell_type": "code",
   "execution_count": 31,
   "id": "8747370a",
   "metadata": {},
   "outputs": [],
   "source": [
    "#Create a dictionary of ID changes\n",
    "source_vest_id_changes_dict = {'051-1-17C ISLANDS CHRISTIAN CHURCH': '051-ISLANDS CHRISTIAN CHURCH', '051-7-14C COASTAL CATHEDRAL': '051-COASTAL CATHEDRAL', '051-7-07C ROTHWELL BAPTIST CHURCH': '051-ROTHWELL BAPTIST CHURCH', '051-4-07C WILMINGTON ISLAND UMC': '051-WILMINGTON ISLAND UMC', '051-4-08C WILMINGTON ISLAND PRES CHURCH': '051-WILMINGTON ISLAND PRES CHURCH', '051-1-16C FERGUSON AVE BAPTIST': '051-FERGUSON AVE BAPTIST', '051-7-11C SEVENTH DAY ADV CHURCH': '051-SEVENTH DAY ADV CHURCH', '051-7-16C POOLER RECREATION CENTER GYMNASIUM': '051-POOLER REC CENTER GYM', '051-7-08C BLOOMINGDALE COMM CTR': '051-BLOOMINGDALE COMM CTR', '051-4-13C SKIDAWAY ISLAND PRES CHURCH': '051-SKIDAWAY ISLAND PRES CHURCH', '051-6-10C STATION 3': '051-GEORGETOWN ELEMENTARY', '051-4-12C ST PETERS EPISCOPAL': '051-ST PETERS EPISCOPAL', '051-7-13C SOUTHSIDE FIRE TRNG CTR': '051-SOUTHSIDE FIRE TRNG CTR', '051-4-06C FIRST BAPTIST OF THE ISLAND': '051-FIRST BAPTIST OF THE ISLAND', '051-4-04C LIGHTHOUSE BAPTIST CHURCH': '051-LIGHTHOUSE BAPTIST CHURCH', '051-4-05C ST FRANCIS EPISCOPAL CHURCH': '051-ST FRANCIS EPISCOPAL CHURCH', '051-1-12C ISLE OF HOPE BAPTIST': '051-ISLE OF HOPE BAPTIST', '051-4-02C FRANK MURRAY COMM CENTER': '051-FRANK MURRAY COMM CENTER', '051-7-06C POOLER CITY HALL': '051-POOLER CITY HALL', '051-8-16C ROYAL CINEMAS AND IMAX': '051-ROYAL CINEMAS AND IMAX', '051-6-02C WINDSOR FOREST BAPTIST': '051-WINDSOR FOREST BAPTIST', '051-6-11C BAMBOO FARMS': '051-BAMBOO FARMS', '051-4-15C SKIDAWAY ISLAND STATE PARK': '051-SKIDAWAY ISLAND STATE PARK', '051-6-09C TRINITY LUTHERAN CHURCH': '051-TRINITY LUTHERAN CHURCH', '051-1-01C FIRST PRESBYTERIAN CHURCH': '051-FIRST PRESBYTERIAN CHURCH', '051-4-14C SKIDAWAY ISLAND BAPTIST': '051-SKIDAWAY ISLAND BAPTIST', '051-7-12C POOLER CHURCH': '051-POOLER CHURCH', '051-7-10C PROGRESSIVE REC CENTER': '051-PROGRESSIVE REC CENTER', '051-1-06C CENTRAL CHURCH OF CHRIST': '051-CENTRAL CHURCH OF CHRIST', '051-1-14C COMPASSION CHRISTIAN CHURCH': '051-COMPASSION CHRISTIAN CHURCH', '051-6-03C CRUSADER COMM CENTER': '051-CRUSADER COMM CENTER', '051-4-11C TYBEE ISLAND SCHOOL CAFE': '051-TYBEE ISLAND SCHOOL CAFE', '051-7-09C SAVANNAH HOLY C OF G': '051-SAVANNAH HOLY C OF G', '051-4-10C GUARD HOUSE COMM CTR': '051-GUARD HOUSE COMM CTR', '051-1-08C GRACE UNITED METHODIST CHURCH': '051-GRACE UNITED METHODIST CHURCH', '051-1-10C ST THOMAS EPISCOPAL CHURCH': '051-ST THOMAS EPISCOPAL CHURCH', '051-1-05C JEA BUILDING': '051-JEA BUILDING', '051-1-13C THE SANCTUARY': '051-THE SANCTUARY', '051-7-15C RICE CREEK SCHOOL': '051-RICE CREEK SCHOOL', '051-3-12C THUNDERBOLT MUNI COMPLEX': '051-THUNDERBOLT MUNI COMPLEX', '051-3-13C NEW COV 7 DAY ADV CH': '051-NEW COV 7 DAY ADV CH', '051-7-03C PB EDWARDS GYM': '051-PB EDWARDS GYM', '051-7-01C GARDEN CITY SENIOR CTR': '051-GARDEN CITY SENIOR CTR', '051-6-06C THE LIGHT CHURCH': '051-THE LIGHT CHURCH', '051-7-04C LAKE SHORE COMM CTR': '051-LAKE SHORE COMM CTR', '051-6-05C WINDSOR HALL': '051-WINDSOR HALL', '051-3-02C TEMPLE MICKVE ISRAEL': '051-TEMPLE MICKVE ISRAEL', '051-6-01C WHITE BLUFF PRESBYTERIAN': '051-WHITE BLUFF PRESBYTERIAN', '051-5-11C LARGO-TIBET ELEMENTARY': '051-LARGO-TIBET ELEMENTARY', '051-3-14C OGLETHORPE CHARTER ACADEMY': '051-OGLETHORPE CHARTER ACADEMY', '051-6-08C CHRIST MEMORIAL BAPTIST CHURCH': '051-CHRIST MEMORIAL BAPTIST CHURCH', '051-7-05C WOODLAWN BAPTIST CHURCH': '051-WOODLAWN BAPTIST CHURCH', '051-5-08C SAVANNAH PRIMITIVE BC': '051-SAVANNAH PRIMITIVE BC', '051-8-03C SILK HOPE BAPTIST CHURCH': '051-SILK HOPE BAPTIST CHURCH', '051-3-05C ALDERSGATE YOUTH CENTER': '051-ALDERSGATE YOUTH CENTER', '051-3-09C COKESBURY METHODIST': '051-COKESBURY METHODIST', '051-3-15C ELI WHITNEY COMPLEX': '051-ELI WHITNEY COMPLEX 3-15C', '051-8-13C SAVANNAH CHRISTIAN': '051-SAVANNAH CHRISTIAN', '051-5-07C STATION 1': '051-ELKS LODGE', '051-2-09C SALVATION ARMY': '051-SALVATION ARMY', '051-3-10C BIBLE BAPTIST CHURCH': '051-BIBLE BAPTIST CHURCH', '051-2-07C CHRIST COMMUNITY CHURCH': '051-CHRIST COMMUNITY CHURCH', '051-3-08C JENKINS HIGH SCHOOL': '051-JENKINS HIGH SCHOOL', '051-5-06C SEED CHURCH': '051-SEED CHURCH', '051-1-09C IMMANUEL BAPTIST CHURCH': '051-IMMANUEL BAPTIST CHURCH', '051-8-02C HELLENIC CENTER': '051-HELLENIC CENTER', '051-2-11C STILLWELL TOWERS': '051-STILLWELL TOWERS', '051-3-11C SOUTHSIDE BAPTIST CHURCH': '051-SOUTHSIDE BAPTIST CHURCH', '051-2-02C BLACKSHEAR COMMUNITY CENTER': '051-BLACKSHEAR COMMUNITY CENTER', '051-5-01C BARTLETT MIDDLE SCHOOL': '051-BARTLETT MIDDLE SCHOOL', '051-2-05C HOLY SPIRIT LUTHERAN CHURCH': '051-HOLY SPIRIT LUTHERAN CHURCH', '051-2-04C FELLOWSHIP OF LOVE CHURCH': '051-FELLOWSHIP OF LOVE CHURCH', '051-2-12C WILLIAMS COURT APTS': '051-WILLIAMS COURT APTS', '051-3-01C OLD COURTHOUSE': '051-OLD COURTHOUSE', '051-2-03C W W LAW CENTER': '051-W W LAW CENTER', '051-8-12C BEACH HIGH SCHOOL': '051-BEACH HIGH SCHOOL', '051-5-10C TATUMVILLE COMMUNITY CENTER': '051-TATUMVILLE COMMUNITY CENTER', '051-8-15C GARDEN CITY REC CENTER': '051-GARDEN CITY REC CENTER', '051-2-06C ELI WHITNEY COMPLEX': '051-ELI WHITNEY COMPLEX 2-06C', '051-3-03C SAVANNAH HIGH SCHOOL': '051-SAVANNAH HIGH SCHOOL', '051-8-01C CIVIC CENTER': '051-CIVIC CENTER', '051-3-04C FIRST AFRICAN BAPTIST CHURCH': '051-FIRST AFRICAN BAPTIST CHURCH', '051-5-05C LIBERTY CITY COMM CTR': '051-LIBERTY CITY COMM CTR', '051-5-02C SENIOR CITIZENS CENTER': '051-SENIOR CITIZENS CENTER', '051-8-08C RESUR OF OUR LORD CHURCH': '051-RESURRECTION OF OUR LORD CHURCH', '051-8-05C W BROAD ST YMCA': '051-W BROAD ST YMCA', '051-8-06C TOMPKINS REC CENTER': '051-TOMPKINS REC CENTER', '051-8-09C MOSES JACKSON CENTER': '051-MOSES JACKSON CENTER', '051-5-03C BUTLER PRESBYTERIAN CHURCH': '051-BUTLER PRESBYTERIAN CHURCH', '051-8-11C BUTLER ELEMENTARY': '051-BUTLER ELEMENTARY', '051-8-07C WOODVILLE-TOMPKINS TI': '051-WOODVILLE-TOMPKINS TI', '051-8-10C CARVER HEIGHTS COMM CTR': '051-CARVER HEIGHTS COMM CTR', '053-ACTIVITY CENTER': '053-ACTIVITY CENTER (Includes FTBEN 1-3)', '067-POWDERS SPRINGS 1A': '067-POWDER SPRINGS 1A', '067-POWDERS SPRINGS 2A': '067-POWDER SPRINGS 2A', '067-POWDERS SPRINGS 3A': '067-POWDER SPRINGS 3A', '171-CHAPPELL MILL V FD': '171-CHAPPELL MILL VFD', '275-LITTLE OCHLOCKNEE BAPTIST CHURCH': '275-LITTLE OCHLOCKNEE', '299-100': '299-District 1', '299-200A': '299-District 2A', '299-200B': '299-District 2B', '299-300': '299-1231-150B', '299-304': '299-1231-150C', '299-400': '299-1231-151', '299-404': '299-Beach-Bickley', '299-405': '299-Haywood', '299-406': '299-Jamestown', '299-407': '299-Manor', '299-408': '299-Millwood', '299-409': '299-Waresboro', '317-TIGNAL SCH LUNCH RM': '317-TIGNALL SCH LUNCH RM'}\n",
    "\n",
    "#Apply the changes\n",
    "ga_election[\"unique_ID\"] = ga_election[\"unique_ID\"].map(source_vest_id_changes_dict).fillna(ga_election[\"unique_ID\"])"
   ]
  },
  {
   "cell_type": "code",
   "execution_count": 32,
   "id": "0a5a4f9e",
   "metadata": {},
   "outputs": [
    {
     "name": "stdout",
     "output_type": "stream",
     "text": [
      "both          2655\n",
      "left_only       23\n",
      "right_only       0\n",
      "Name: _merge, dtype: int64\n"
     ]
    }
   ],
   "source": [
    "#Second join attempt\n",
    "join_attempt_2 = pd.merge(vest_ga_20,ga_election,how=\"outer\",on=\"unique_ID\",indicator=True)\n",
    "print(join_attempt_2[\"_merge\"].value_counts())\n",
    "\n",
    "both = join_attempt_2[join_attempt_2[\"_merge\"]==\"both\"]\n",
    "left_only = join_attempt_2[join_attempt_2[\"_merge\"]==\"left_only\"]\n",
    "right_only = join_attempt_2[join_attempt_2[\"_merge\"]==\"right_only\"]"
   ]
  },
  {
   "cell_type": "markdown",
   "id": "889c139c",
   "metadata": {},
   "source": [
    "### Look into unjoined precincts\n",
    "\n",
    "Note: They all appear to contain zero votes"
   ]
  },
  {
   "cell_type": "code",
   "execution_count": 33,
   "id": "1a3afa41",
   "metadata": {},
   "outputs": [
    {
     "name": "stdout",
     "output_type": "stream",
     "text": [
      "23\n"
     ]
    }
   ],
   "source": [
    "#Confirm that the unjoined precincts contain zero-votes\n",
    "empty_precincts = []\n",
    "for index, row in left_only.iterrows():\n",
    "    for race in data_columns:\n",
    "        keep=True\n",
    "        if (row[race]!=0):\n",
    "            keep = False\n",
    "    if(keep):\n",
    "        empty_precincts.append(row[\"DISTRICT\"])\n",
    "print(len(empty_precincts))  "
   ]
  },
  {
   "cell_type": "markdown",
   "id": "1771933d",
   "metadata": {},
   "source": [
    "### Clean the joined dataframe"
   ]
  },
  {
   "cell_type": "code",
   "execution_count": 34,
   "id": "482286d7",
   "metadata": {},
   "outputs": [],
   "source": [
    "# Cast the vote columns we added to integer\n",
    "newcolumn_list = ['G20A01YES','G20A01NO','G20A02YES','G20A02NO', 'G20RFAYES','G20RFANO']\n",
    "for col in newcolumn_list:\n",
    "    join_attempt_2[col]=join_attempt_2[col].fillna(0)\n",
    "    join_attempt_2[col]=join_attempt_2[col].astype(int)"
   ]
  },
  {
   "cell_type": "code",
   "execution_count": 35,
   "id": "e0392baa",
   "metadata": {},
   "outputs": [],
   "source": [
    "# Rename the fips column to match VEST\n",
    "join_attempt_2.rename(columns={'unique_ID':'UNIQUE_ID','FIPS2_x':'FIPS2', 'county_fips':'COUNTYFP'},inplace=True)"
   ]
  },
  {
   "cell_type": "code",
   "execution_count": 36,
   "id": "c8e19944",
   "metadata": {},
   "outputs": [
    {
     "data": {
      "text/plain": [
       "Index(['DISTRICT', 'CTYSOSID', 'PRECINCT_I', 'PRECINCT_N', 'CTYNAME',\n",
       "       'CTYNUMBER', 'CTYNUMBER2', 'FIPS2', 'G20PRERTRU', 'G20PREDBID',\n",
       "       'G20PRELJOR', 'C20PRERTRU', 'C20PREDBID', 'C20PRELJOR', 'G20USSRPER',\n",
       "       'G20USSDOSS', 'G20USSLHAZ', 'S20USSRLOE', 'S20USSRCOL', 'S20USSRGRA',\n",
       "       'S20USSRJAC', 'S20USSRTAY', 'S20USSRJOH', 'S20USSDWAR', 'S20USSDJAC',\n",
       "       'S20USSDLIE', 'S20USSDJOH', 'S20USSDJAM', 'S20USSDSLA', 'S20USSDWIN',\n",
       "       'S20USSDTAR', 'S20USSLSLO', 'S20USSGFOR', 'S20USSIBUC', 'S20USSIBAR',\n",
       "       'S20USSISTO', 'S20USSIGRE', 'G20PSCRSHA', 'G20PSCDBRY', 'G20PSCLMEL',\n",
       "       'G20PSCRMCD', 'G20PSCDBLA', 'G20PSCLWIL', 'R21USSRPER', 'R21USSDOSS',\n",
       "       'R21USSRLOE', 'R21USSDWAR', 'R21PSCRMCD', 'R21PSCDBLA', 'geometry',\n",
       "       'UNIQUE_ID', 'index', 'county', 'COUNTYFP', 'precinct', 'G20A01NO',\n",
       "       'G20A02NO', 'G20RFANO', 'G20A01YES', 'G20A02YES', 'G20RFAYES',\n",
       "       'FIPS2_y', '_merge'],\n",
       "      dtype='object')"
      ]
     },
     "execution_count": 36,
     "metadata": {},
     "output_type": "execute_result"
    }
   ],
   "source": [
    "join_attempt_2.columns"
   ]
  },
  {
   "cell_type": "code",
   "execution_count": 37,
   "id": "4565e869",
   "metadata": {},
   "outputs": [],
   "source": [
    "# Filter down to the appropriate levels\n",
    "join_attempt_2 = join_attempt_2[['UNIQUE_ID',\"COUNTYFP\",'DISTRICT', 'CTYSOSID', 'PRECINCT_I', 'PRECINCT_N', 'CTYNAME',\n",
    "       'CTYNUMBER', 'CTYNUMBER2', 'FIPS2','G20PRERTRU', 'G20PREDBID',\n",
    "       'G20PRELJOR', 'C20PRERTRU', 'C20PREDBID', 'C20PRELJOR', 'G20USSRPER',\n",
    "       'G20USSDOSS', 'G20USSLHAZ', 'S20USSRLOE', 'S20USSRCOL', 'S20USSRGRA',\n",
    "       'S20USSRJAC', 'S20USSRTAY', 'S20USSRJOH', 'S20USSDWAR', 'S20USSDJAC',\n",
    "       'S20USSDLIE', 'S20USSDJOH', 'S20USSDJAM', 'S20USSDSLA', 'S20USSDWIN',\n",
    "       'S20USSDTAR', 'S20USSLSLO', 'S20USSGFOR', 'S20USSIBUC', 'S20USSIBAR',\n",
    "       'S20USSISTO', 'S20USSIGRE', 'G20PSCRSHA', 'G20PSCDBRY', 'G20PSCLMEL',\n",
    "       'G20PSCRMCD', 'G20PSCDBLA', 'G20PSCLWIL', 'R21USSRPER', 'R21USSDOSS',\n",
    "       'R21USSRLOE', 'R21USSDWAR', 'R21PSCRMCD', 'R21PSCDBLA','G20A01YES','G20A01NO','G20A02YES','G20A02NO', 'G20RFAYES','G20RFANO','geometry']]"
   ]
  },
  {
   "cell_type": "markdown",
   "id": "95df0eb4",
   "metadata": {},
   "source": [
    "## Check Added Column Totals\n",
    "\n",
    "In the 'statewide-county-totals-check-erj' we created a cleaned csv of the county totals from the GA sos website"
   ]
  },
  {
   "cell_type": "code",
   "execution_count": 38,
   "id": "6e7317c4",
   "metadata": {},
   "outputs": [],
   "source": [
    "official_county_totals = pd.read_csv(\"./cleaned_official_county_totals.csv\")"
   ]
  },
  {
   "cell_type": "code",
   "execution_count": 39,
   "id": "cc69a20b",
   "metadata": {},
   "outputs": [
    {
     "name": "stdout",
     "output_type": "stream",
     "text": [
      "***Statewide Totals Check***\n",
      "G20A01YES is equal \t both dataframes 3862568\n",
      "G20A01NO is equal \t both dataframes 869540\n",
      "G20A02YES is equal \t both dataframes 3491296\n",
      "G20A02NO is equal \t both dataframes 1197792\n",
      "G20RFAYES is equal \t both dataframes 3451116\n",
      "G20RFANO is equal \t both dataframes 1270737\n"
     ]
    }
   ],
   "source": [
    "helper_functions.statewide_totals_check(official_county_totals, \"Official Totals\", join_attempt_2, \"ERJ Totals\", newcolumn_list)"
   ]
  },
  {
   "cell_type": "markdown",
   "id": "a5ce3ec8",
   "metadata": {},
   "source": [
    "The following totals also match what is on the GA sos website\n",
    "- G20A01YES: 3862568\n",
    "- G20A01NO: 869540\n",
    "- G20A02YES: 3491296\n",
    "- G20A02NO: 1197792\n",
    "- G20RFAYES: 3451116\n",
    "- G20RFANO: 1270737"
   ]
  },
  {
   "cell_type": "markdown",
   "id": "94d232e6",
   "metadata": {},
   "source": [
    "## Check Column Totals - County Level"
   ]
  },
  {
   "cell_type": "code",
   "execution_count": 40,
   "id": "74de2c23",
   "metadata": {},
   "outputs": [],
   "source": [
    "official_county_totals[\"CTYNAME\"] = official_county_totals[\"county\"].str.upper()"
   ]
  },
  {
   "cell_type": "code",
   "execution_count": 41,
   "id": "180566b0",
   "metadata": {
    "scrolled": true
   },
   "outputs": [
    {
     "name": "stdout",
     "output_type": "stream",
     "text": [
      "***Countywide Totals Check***\n",
      "\n",
      "G20A01YES is equal across all counties\n",
      "G20A01NO is equal across all counties\n",
      "G20A02YES is equal across all counties\n",
      "G20A02NO is equal across all counties\n",
      "G20RFAYES is equal across all counties\n",
      "G20RFANO is equal across all counties\n"
     ]
    }
   ],
   "source": [
    "helper_functions.county_totals_check(official_county_totals, \"Official Totals\", join_attempt_2, \"ERJ Totals\", newcolumn_list, \"CTYNAME\")"
   ]
  },
  {
   "cell_type": "markdown",
   "id": "6558ef04",
   "metadata": {},
   "source": [
    "The totals also match at the county level"
   ]
  },
  {
   "cell_type": "markdown",
   "id": "9f8bdaa5",
   "metadata": {},
   "source": [
    "### Create Fields Dict"
   ]
  },
  {
   "cell_type": "code",
   "execution_count": 42,
   "id": "a24a2e39",
   "metadata": {},
   "outputs": [],
   "source": [
    "fields_string = '''G20PRERTRU - Donald J. Trump (Republican Party)  \n",
    "G20PREDBID - Joseph R. Biden (Democratic Party)  \n",
    "G20PRELJOR - Jo Jorgensen (Libertarian Party)  \n",
    "C20PRERTRU - Donald J. Trump (Republican Party)  \n",
    "C20PREDBID - Joseph R. Biden (Democratic Party)  \n",
    "C20PRELJOR - Jo Jorgensen (Libertarian Party)  \n",
    "G20USSRPER - David A. Perdue (Republican Party)  \n",
    "G20USSDOSS - Jon Ossoff (Democratic Party)  \n",
    "G20USSLHAZ - Shane Hazel (Libertarian Party)  \n",
    "S20USSRLOE - Kelly Loeffler (Republican Party)  \n",
    "S20USSRCOL - Doug Collins (Republican Party)  \n",
    "S20USSRGRA - Derrick E. Grayson (Republican Party)  \n",
    "S20USSRJAC - Annette Davis Jackson (Republican Party)  \n",
    "S20USSRTAY - Kandiss Taylor (Republican Party)  \n",
    "S20USSRJOH - A. Wayne Johnson (Republican Party)  \n",
    "S20USSDWAR - Raphael Warnock (Democratic Party)  \n",
    "S20USSDJAC - Deborah Jackson (Democratic Party)  \n",
    "S20USSDLIE - Matt Lieberman (Democratic Party)  \n",
    "S20USSDJOH - Tamara Johnson-Shealey (Democratic Party)  \n",
    "S20USSDJAM - Jamesia James (Democratic Party)  \n",
    "S20USSDSLA - Joy Felicia Slade (Democratic Party)  \n",
    "S20USSDWIN - Richard Dien Winfield (Democratic Party)  \n",
    "S20USSDTAR - Ed Tarver (Democratic Party)  \n",
    "S20USSLSLO - Brian Slowinski (Libertarian Party)  \n",
    "S20USSGFOR - John Fortuin (Green Party)  \n",
    "S20USSIBUC - Allen Buckley (Independent)  \n",
    "S20USSIBAR - Al Bartell (Independent)  \n",
    "S20USSISTO - Valencia Stovall (Independent)  \n",
    "S20USSIGRE - Michael Todd Greene (Independent)  \n",
    "G20PSCRSHA - Jason Shaw (Republican Party)  \n",
    "G20PSCDBRY - Robert G. Bryant (Democratic Party)  \n",
    "G20PSCLMEL - Elizabeth Melton (Libertarian Party)  \n",
    "G20PSCRMCD - Lauren Bubba McDonald, Jr. (Republican Party)  \n",
    "G20PSCDBLA - Daniel Blackman (Democratic Party)  \n",
    "G20PSCLWIL - Nathan Wilson (Libertarian Party)  \n",
    "R21USSRPER - David A. Perdue (Republican Party)  \n",
    "R21USSDOSS - Jon Ossoff (Democratic Party)  \n",
    "R21USSRLOE - Kelly Loeffler (Republican Party)  \n",
    "R21USSDWAR - Raphael Warnock (Democratic Party)  \n",
    "R21PSCRMCD - Lauren Bubba McDonald, Jr. (Republican Party)  \n",
    "P21PSCDBLA - Daniel Blackman (Democratic Party) \n",
    "G20A01YES - Amendment #1 \"Yes\"  \n",
    "G20A01NO - Amendment #1 \"No\"   \n",
    "G20A02YES - Amendment #2 \"Yes\"  \n",
    "G20A02NO - Amendment #2 \"No\"  \n",
    "G20RFAYES - Referendum A \"Yes\"  \n",
    "G20RFANO - Referendum A \"No\"'''"
   ]
  },
  {
   "cell_type": "code",
   "execution_count": 43,
   "id": "6a747bcb",
   "metadata": {},
   "outputs": [],
   "source": [
    "first_split = fields_string.split(\"\\n\")\n",
    "new_split = []\n",
    "for val in first_split:\n",
    "    val.strip()\n",
    "    new_split.append(val.strip())"
   ]
  },
  {
   "cell_type": "code",
   "execution_count": 44,
   "id": "38eb155b",
   "metadata": {},
   "outputs": [],
   "source": [
    "second_split = []\n",
    "for val in new_split:\n",
    "    second_split.append(val.split(\" - \"))"
   ]
  },
  {
   "cell_type": "code",
   "execution_count": 45,
   "id": "cd77a43b",
   "metadata": {},
   "outputs": [],
   "source": [
    "fields_df = pd.DataFrame(second_split, columns = ['Field_Name', 'Cand_Name'])"
   ]
  },
  {
   "cell_type": "code",
   "execution_count": 46,
   "id": "9171fca2",
   "metadata": {},
   "outputs": [],
   "source": [
    "fields_df.to_csv(\"./cand_dicts/statewide_fields_dict.csv\", index = False)"
   ]
  },
  {
   "cell_type": "markdown",
   "id": "f6244e17",
   "metadata": {},
   "source": [
    "## Export the File"
   ]
  },
  {
   "cell_type": "code",
   "execution_count": 47,
   "id": "4c032289",
   "metadata": {},
   "outputs": [
    {
     "name": "stderr",
     "output_type": "stream",
     "text": [
      "/Users/peterhorton/opt/anaconda3/envs/geo_env/lib/python3.9/site-packages/geopandas/io/file.py:362: FutureWarning: pandas.Int64Index is deprecated and will be removed from pandas in a future version. Use pandas.Index with the appropriate dtype instead.\n",
      "  pd.Int64Index,\n"
     ]
    }
   ],
   "source": [
    "join_attempt_2.to_file(\"./ga_gen_20_prec/ga_gen_20_st_prec.shp\")"
   ]
  }
 ],
 "metadata": {
  "kernelspec": {
   "display_name": "Python 3 (ipykernel)",
   "language": "python",
   "name": "python3"
  },
  "language_info": {
   "codemirror_mode": {
    "name": "ipython",
    "version": 3
   },
   "file_extension": ".py",
   "mimetype": "text/x-python",
   "name": "python",
   "nbconvert_exporter": "python",
   "pygments_lexer": "ipython3",
   "version": "3.9.12"
  }
 },
 "nbformat": 4,
 "nbformat_minor": 5
}
