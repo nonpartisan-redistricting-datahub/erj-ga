{
 "cells": [
  {
   "cell_type": "code",
   "execution_count": 1,
   "id": "9be4f4bd",
   "metadata": {},
   "outputs": [],
   "source": [
    "import pandas as pd # standard python data library\n",
    "import geopandas as gp # the geo-version of pandas\n",
    "import numpy as np \n",
    "import os\n",
    "from statistics import mean, median\n",
    "import xml.etree.ElementTree as et\n",
    "import collections\n",
    "import string\n",
    "from collections import Counter\n",
    "import helper_functions"
   ]
  },
  {
   "cell_type": "markdown",
   "id": "21fe69c2",
   "metadata": {},
   "source": [
    "# Georgia 2020 State Senate Election Results"
   ]
  },
  {
   "cell_type": "markdown",
   "id": "64a80258",
   "metadata": {},
   "source": [
    "## Election Results Documentation:"
   ]
  },
  {
   "cell_type": "markdown",
   "id": "802f756b",
   "metadata": {},
   "source": [
    "Election results from the Georgia Secretary of State Elections Division (https://sos.ga.gov/index.php/Elections/current_and_past_elections_results). Presidential recount results from the Georgia Secretary of State Elections Division via Reuters."
   ]
  },
  {
   "cell_type": "markdown",
   "id": "32a07592",
   "metadata": {},
   "source": [
    "## Shapefile Source Documentation:"
   ]
  },
  {
   "cell_type": "markdown",
   "id": "0c5964c1",
   "metadata": {},
   "source": [
    "Precinct shapefile primarily from the Georgia General Assembly Reapportionment Office (http://www.legis.ga.gov/Joint/reapportionment/en-US/default.aspx).  \n",
    "Cobb, DeKalb, and Gwinnett counties instead use shapefiles from the U.S. Census Bureau's 2020 Redistricting Data Program.  \n",
    "Forsyth and Fulton use shapefiles sourced from the respective counties."
   ]
  },
  {
   "cell_type": "markdown",
   "id": "4f616888",
   "metadata": {},
   "source": [
    "## Shapefile Modifications Documentation:"
   ]
  },
  {
   "cell_type": "markdown",
   "id": "87e4384e",
   "metadata": {},
   "source": [
    "Three of the four VTDs in Chattahoochee County are comprised of Fort Benning. However, the county only reports one polling location for all voters, including residents of Fort Benning that vote within the county. The four Chattahoochee County VTDs have therefore been merged in the shapefile.\n",
    "\n",
    "The following additional modifications reflect changes made prior to the 2020 general election.\n",
    "\n",
    "Barrow: Merge 2/15, 3/12, 4/14, 5/7, 6/10/13, 8/9, 11/16; Adjust new 2/13 boundary  \n",
    "Bartow: Split Cassville/Hamilton Crossing  \n",
    "Candler: Merge Candler/Metter as Jack Strickland Comm Center  \n",
    "Chatham: Split 7-7/8-16, 7-12/7-16; Realign 7-06C/7-07C  \n",
    "Chatooga: Split Cloudland/Teloga along ridgeline that marks boundary between them with the USGS Topographic Contour shapefile  \n",
    "Clayton: Split Ellenswood 1/2, Jonesboro 1/17/19, Lovejoy 3/6/7, Morrow 3/11, 5/10, Oak 3/5   \n",
    "Cobb: Split Bells Ferry 3/4, Dobbins 1/2, Marietta 3A/3B, Smyrna 3A/3B  \n",
    "Columbia: Split Bessie Thomas/2nd Mt Moriah, Harlem Branch/Harlem Senior Ctr; Merge Blanchard Park/MTZ Col FD;  Align multiple precincts with county maps  \n",
    "Coweta: Merge Arts Centre/Jefferson Parkway as Newnan Centre  \n",
    "Fulton: Merge CP07A/CP07D, CH01/CH04B, SS29A/SS29B, UC031/UC035  \n",
    "DeKalb: Split Clarkston/Clarkston Comm Ctr; Realign Decatur/Oakhurst; Align precincts with Atlanta, Brookhaven, Decatur, Tucker city limits   \n",
    "Gwinnett: Adjust Baycreek F/G, Berkshire J/M, Cates D/F, Garners C/B, Lawrenceville G/N, Pinckneyville S/T, Rockbridge A/G  \n",
    "Lowndes: Split Northgate Assembly/Trinity, Jaycee/Mt Calvary/Northside/VSU  \n",
    "Oconee: Merge Annex/City Hall; Align City Hall with Watkinsville city limits  \n",
    "Paulding: Reorganize 12 precincts into 19 precincts as redrawn in 2019  \n",
    "Randolph: Merge Carnegie/Cuthbert-Courthouse, 4th District/Fountain Bridge/Shellman  \n",
    "Troup: Split Mountville between Gardner Newman/Hogansville/Rosemont; Align multiple precincts with county maps  \n",
    "Towns: Merge Macedonia/Tate City  \n",
    "Wilkes: Align 1/2A boundary with the voter file    \n",
    "Note that the leading zeros in the Paulding County precinct IDs are included in some election reports and omitted in others. The shapefile includes the leading zeros consistent with the voter file."
   ]
  },
  {
   "cell_type": "markdown",
   "id": "d7a26783",
   "metadata": {},
   "source": [
    "## Candidate List"
   ]
  },
  {
   "cell_type": "markdown",
   "id": "0b05bfdd",
   "metadata": {},
   "source": [
    "- GSU01RWAT                          Ben Watson (I) (Rep)\n",
    "- GSU02DJAC              Lester G. Jackson, III (I) (Dem)\n",
    "- GSU03RMCN                          Sheila McNeill (Rep)\n",
    "- GSU04RHIC                       Billy Hickman (I) (Rep)\n",
    "- GSU05DRAH                       Sheikh Rahman (I) (Dem)\n",
    "- GSU06DJOR             Jennifer \"\"Jen\"\" Jordan (I) (Dem)\n",
    "- GSU06RLAN                          Harrison Lance (Rep)\n",
    "- GSU07RHAR                        Tyler Harper (I) (Rep)\n",
    "- GSU08DGEA                              Treva Gear (Dem)\n",
    "- GSU08RGOO                            Russ Goodman (Rep)\n",
    "- GSU09DMER                           Nikki Merritt (Dem)\n",
    "- GSU09RMAR                    P. K. Martin, IV (I) (Rep)\n",
    "- GSU10DJON                       Emanuel Jones (I) (Dem)\n",
    "- GSU11RBUR                          Dean Burke (I) (Rep)\n",
    "- GSU12DSIM                 Freddie Powell Sims (I) (Dem)\n",
    "- GSU12RTAY                            Tracy Taylor (Rep)\n",
    "- GSU13DEGL                              Mary Egler (Dem)\n",
    "- GSU13RSUM                   Carden H. Summers (I) (Rep)\n",
    "- GSU14DJOH                          Travis Johnson (Dem)\n",
    "- GSU14RTHO                      Bruce Thompson (I) (Rep)\n",
    "- GSU15DHAR                         Ed Harbison (I) (Dem)\n",
    "- GSU16DJES                          Cinquez Jester (Dem)\n",
    "- GSU16RHAR                        Marty Harbin (I) (Rep)\n",
    "- GSU17DROS                              Kelly Rose (Dem)\n",
    "- GSU17RSTR                    Brian Strickland (I) (Rep)\n",
    "- GSU18RKEN                     John F. Kennedy (I) (Rep)\n",
    "- GSU19RTIL                       Blake Tillery (I) (Rep)\n",
    "- GSU20DJOH                 Julius Newberry Johnson (Dem)\n",
    "- GSU20RWAL                        Larry Walker (I) (Rep)\n",
    "- GSU21RBEA                       Brandon Beach (I) (Rep)\n",
    "- GSU22DJON                 Harold V. Jones, II (I) (Dem)\n",
    "- GSU23DSMI                           Ceretta Smith (Dem)\n",
    "- GSU23RBUR                               Max Burns (Rep)\n",
    "- GSU24RAND                        Lee Anderson (I) (Rep)\n",
    "- GSU25DBRI                        Veronica Brinson (Dem)\n",
    "- GSU25RJON                          Burt Jones (I) (Rep)\n",
    "- GSU26DLUC                 David E. Lucas, Sr. (I) (Dem)\n",
    "- GSU27DGRI                        Brooke Griffiths (Dem)\n",
    "- GSU27RDOL                        Greg Dolezal (I) (Rep)\n",
    "- GSU28RBRA                          Matt Brass (I) (Rep)\n",
    "- GSU29RROB                     Randy Robertson (I) (Rep)\n",
    "- GSU30DEDW                        Montenia Edwards (Dem)\n",
    "- GSU30RDUG                          Mike Dugan (I) (Rep)\n",
    "- GSU31DSMI                            Tianna Smith (Dem)\n",
    "- GSU31RANA                        Jason Anavitarte (Rep)\n",
    "- GSU32DTRI                      Christine Triebsch (Dem)\n",
    "- GSU32RKIR                     Kay Kirkpatrick (I) (Rep)\n",
    "- GSU33DRHE                       Michael Rhett (I) (Dem)\n",
    "- GSU34DSEA                    Valencia M. Seay (I) (Dem)\n",
    "- GSU35DJAM                      Donzella James (I) (Dem)\n",
    "- GSU36DORR                          Nan Orrock (I) (Dem)\n",
    "- GSU37DPAR                          Vanessa Parker (Dem)\n",
    "- GSU37RTIP                     Lindsey Tippins (I) (Rep)\n",
    "- GSU38DTAT                       Horacena Tate (I) (Dem)\n",
    "- GSU40DHAR                       Sally Harrell (I) (Dem)\n",
    "- GSU40RGUA                              Garry Guan (Rep)\n",
    "- GSU41DJAC                             Kim Jackson (Dem)\n",
    "- GSU41RFRE                    William Park Freeman (Rep)\n",
    "- GSU42DPAR                        Elena Parent (I) (Dem)\n",
    "- GSU43DAND                   Tonya P. Anderson (I) (Dem)\n",
    "- GSU43RWIL                        Melanie Williams (Rep)\n",
    "- GSU44DDAV                      Gail Davenport (I) (Dem)\n",
    "- GSU44RBRO                         Benjamin Brooks (Rep)\n",
    "- GSU45DJON                          Matielyn Jones (Dem)\n",
    "- GSU45RDIX                             Clint Dixon (Rep)\n",
    "- GSU46DPER                           Zachary Perry (Dem)\n",
    "- GSU46RCOW                        Bill Cowsert (I) (Rep)\n",
    "- GSU47DJOH                            Dawn Johnson (Dem)\n",
    "- GSU47RGIN                          Frank Ginn (I) (Rep)\n",
    "- GSU48DAU                             Michelle Au (Dem)\n",
    "- GSU48RREE                             Matt Reeves (Rep)\n",
    "- GSU49RMIL           Cecil T. \"\"Butch\"\" Miller (I) (Rep)\n",
    "- GSU50DDAL                               Dee Daley (Dem)\n",
    "- GSU50RHAT                             Bo Hatchett (Rep)\n",
    "- GSU51DKRI                              June Krise (Dem)\n",
    "- GSU51RGOO                         Steve Gooch (I) (Rep)\n",
    "- GSU52DDEY                         Charles DeYoung (Dem)\n",
    "- GSU52RHUF                    Chuck Hufstetler (I) (Rep)\n",
    "- GSU53RMUL                         Jeff Mullis (I) (Rep)\n",
    "- GSU54RPAY                         Chuck Payne (I) (Rep)\n",
    "- GSU55DBUT                    Gloria S. Butler (I) (Dem)\n",
    "- GSU56DBEE                            Sarah Beeson (Dem)\n",
    "- GSU56RALB                         John Albers (I) (Rep)\n",
    "- PSU39DFOR                                      Zan Fort\n",
    "- PSU39DHAL                                 Sonya Halpern\n",
    "- PSU39DPOT                                 Jo Anna Potts\n",
    "- PSU39DPRI                               Linda Pritchett"
   ]
  },
  {
   "cell_type": "markdown",
   "id": "453b6418",
   "metadata": {},
   "source": [
    "## Election Results Processing"
   ]
  },
  {
   "cell_type": "markdown",
   "id": "4346a95b",
   "metadata": {},
   "source": [
    "### Load the modified VEST file\n",
    "\n",
    "Note: This is the modified version of the file created in the statewide notebook"
   ]
  },
  {
   "cell_type": "code",
   "execution_count": 2,
   "id": "6629f548",
   "metadata": {},
   "outputs": [
    {
     "name": "stdout",
     "output_type": "stream",
     "text": [
      "(2678, 50)\n"
     ]
    }
   ],
   "source": [
    "vest_ga_20 = gp.read_file(\"./raw-from-source/VEST/cleaned_ga_2020/cleaned_ga_2020.shp\")\n",
    "print(vest_ga_20.shape)"
   ]
  },
  {
   "cell_type": "code",
   "execution_count": 3,
   "id": "a560c42a",
   "metadata": {
    "scrolled": true
   },
   "outputs": [
    {
     "name": "stdout",
     "output_type": "stream",
     "text": [
      "['G20PRERTRU', 'G20PREDBID', 'G20PRELJOR', 'C20PRERTRU', 'C20PREDBID', 'C20PRELJOR', 'G20USSRPER', 'G20USSDOSS', 'G20USSLHAZ', 'S20USSRLOE', 'S20USSRCOL', 'S20USSRGRA', 'S20USSRJAC', 'S20USSRTAY', 'S20USSRJOH', 'S20USSDWAR', 'S20USSDJAC', 'S20USSDLIE', 'S20USSDJOH', 'S20USSDJAM', 'S20USSDSLA', 'S20USSDWIN', 'S20USSDTAR', 'S20USSLSLO', 'S20USSGFOR', 'S20USSIBUC', 'S20USSIBAR', 'S20USSISTO', 'S20USSIGRE', 'G20PSCRSHA', 'G20PSCDBRY', 'G20PSCLMEL', 'G20PSCRMCD', 'G20PSCDBLA', 'G20PSCLWIL', 'R21USSRPER', 'R21USSDOSS', 'R21USSRLOE', 'R21USSDWAR', 'R21PSCRMCD', 'R21PSCDBLA']\n"
     ]
    }
   ],
   "source": [
    "# Take a look\n",
    "vest_ga_20.head(1)\n",
    "\n",
    "#Create a list of the race columns\n",
    "data_columns = [i for i in vest_ga_20.columns if ((\"20\" in i) | (\"21\" in i))]\n",
    "print(data_columns)"
   ]
  },
  {
   "cell_type": "markdown",
   "id": "e5f280e3",
   "metadata": {},
   "source": [
    "### 1. Load General Election Data"
   ]
  },
  {
   "cell_type": "markdown",
   "id": "7a819f70",
   "metadata": {},
   "source": [
    "This data had to be downloaded county-by-county in XML format. The below code parses the XML and grabs the necessary data, adds it to a list, gives it the appropriate column names, and converts the data into a dataframe."
   ]
  },
  {
   "cell_type": "code",
   "execution_count": 4,
   "id": "4116fd60",
   "metadata": {},
   "outputs": [
    {
     "name": "stdout",
     "output_type": "stream",
     "text": [
      "159\n"
     ]
    }
   ],
   "source": [
    "loaded_counties = os.listdir(\"./raw-from-source/Non_Recount_Results/\")\n",
    "z=[]\n",
    "for locale in loaded_counties:\n",
    "    if locale.endswith('.xml'):\n",
    "        file_string = \"./raw-from-source/Non_Recount_Results/\"+locale\n",
    "        xtree = et.parse(file_string)\n",
    "        xroot = xtree.getroot()\n",
    "        store_list = []\n",
    "        county_area = xroot.findall(\".//Region\")\n",
    "        for i in county_area:\n",
    "            county = i.text\n",
    "        contests = xroot.findall(\".//Contest\")\n",
    "        for i in contests:\n",
    "            contest = i.attrib.get('text')\n",
    "            lower = i.findall(\"./Choice\")\n",
    "            for j in lower:\n",
    "                choice = j.attrib.get('text')\n",
    "                lower_2 = j.findall(\"./VoteType\")\n",
    "                for k in lower_2:\n",
    "                    voting_method = k.attrib.get('name')\n",
    "                    lower_3 = k.findall(\"./Precinct\")\n",
    "                    for l in lower_3:\n",
    "                        precinct_name = l.attrib.get('name')\n",
    "                        num_votes = l.attrib.get('votes')\n",
    "                        z.append([county,contest,choice,voting_method,precinct_name,num_votes])\n",
    "dfcols = ['county','contest','choice','voting_method','precinct','num_votes']\n",
    "ga_election = pd.DataFrame(z,columns=dfcols)\n",
    "\n",
    "#Sanity check that there are the right number of counties\n",
    "print(len(ga_election[\"county\"].unique()))"
   ]
  },
  {
   "cell_type": "markdown",
   "id": "f10eb00a",
   "metadata": {},
   "source": [
    "### Update Race Names"
   ]
  },
  {
   "cell_type": "code",
   "execution_count": 5,
   "id": "686a1489",
   "metadata": {},
   "outputs": [],
   "source": [
    "race_name_change_dict = {\n",
    "    'State Senate Dist 5/Senador Estatal Dist 5':'State Senate District 5',\n",
    "    'State Senate Dist 9/Senador Estatal Dist 9':'State Senate District 9',\n",
    "    'State Senate Dist 40/Senador Estatal Dist 40':'State Senate District 40',\n",
    "    'State Senate Dist 41/Senador Estatal Dist 41':'State Senate District 41',\n",
    "    'State Senate Dist 45/Senador Estatal Dist 45':'State Senate District 45',\n",
    "    'State Senate Dist 48/Senador Estatal Dist 48':'State Senate District 48',\n",
    "    'State Senate Dist 55/Senador Estatal Dist 55':'State Senate District 55'\n",
    "}\n",
    "\n",
    "ga_election[\"contest\"] = ga_election[\"contest\"].map(race_name_change_dict).fillna(ga_election[\"contest\"])"
   ]
  },
  {
   "cell_type": "code",
   "execution_count": 6,
   "id": "86c8dc1a",
   "metadata": {},
   "outputs": [],
   "source": [
    "total_races_list = list(ga_election[\"contest\"].unique())\n",
    "\n",
    "ga_senate_races = [i for i in total_races_list if \"State Senate\" in i]\n"
   ]
  },
  {
   "cell_type": "markdown",
   "id": "cac52c1c",
   "metadata": {},
   "source": [
    "### Filter Down to Relevant Races"
   ]
  },
  {
   "cell_type": "code",
   "execution_count": 7,
   "id": "bea32e9a",
   "metadata": {},
   "outputs": [],
   "source": [
    "ga_election = ga_election[ga_election[\"contest\"].isin(ga_senate_races)]\n",
    "ga_election.reset_index(inplace=True,drop=True)"
   ]
  },
  {
   "cell_type": "markdown",
   "id": "c4d50b84",
   "metadata": {},
   "source": [
    "### Clean and Pivot Data"
   ]
  },
  {
   "cell_type": "code",
   "execution_count": 8,
   "id": "6b508e93",
   "metadata": {},
   "outputs": [],
   "source": [
    "#Make sure votes are integers\n",
    "ga_election[\"num_votes\"] = ga_election[\"num_votes\"].astype(int)"
   ]
  },
  {
   "cell_type": "code",
   "execution_count": 9,
   "id": "a2df7ff9",
   "metadata": {},
   "outputs": [],
   "source": [
    "def conditions(x):\n",
    "    if \"(\" in x:\n",
    "        return x[len(x)-4:len(x)-1].upper()\n",
    "    else:\n",
    "        #This will happen for the State Senate District 39\n",
    "        return \"DEM\""
   ]
  },
  {
   "cell_type": "code",
   "execution_count": 10,
   "id": "dcca28aa",
   "metadata": {},
   "outputs": [],
   "source": [
    "func = np.vectorize(conditions)\n",
    "party = func(ga_election[\"choice\"])\n",
    "ga_election[\"party\"] = party"
   ]
  },
  {
   "cell_type": "code",
   "execution_count": 11,
   "id": "9db2a27c",
   "metadata": {},
   "outputs": [],
   "source": [
    "def district_assigner(x):\n",
    "    if x =='State Senate District 39 - Special Democratic Primary':\n",
    "        val = \"39\"\n",
    "    elif \"District\" in x:\n",
    "        val = x.split( )[len(x.split( ))-1].zfill(2)\n",
    "    else:\n",
    "        val =  \"n/a\"\n",
    "    return val"
   ]
  },
  {
   "cell_type": "code",
   "execution_count": 12,
   "id": "72bb76a3",
   "metadata": {},
   "outputs": [],
   "source": [
    "func = np.vectorize(district_assigner)\n",
    "district = func(ga_election[\"contest\"])\n",
    "ga_election[\"DISTRICT\"] = district"
   ]
  },
  {
   "cell_type": "code",
   "execution_count": 13,
   "id": "4f8fb6e0",
   "metadata": {},
   "outputs": [],
   "source": [
    "def clean_contest(x):\n",
    "    if x =='State Senate District 39 - Special Democratic Primary':\n",
    "        val = \"39\"\n",
    "    elif \"District\" in x:\n",
    "        val = ' '.join(x.split( )[0:2])\n",
    "    else:\n",
    "        val =  x\n",
    "    return val"
   ]
  },
  {
   "cell_type": "code",
   "execution_count": 14,
   "id": "1d549ddf",
   "metadata": {},
   "outputs": [],
   "source": [
    "func = np.vectorize(clean_contest)\n",
    "clean_contest_val = func(ga_election[\"contest\"])\n",
    "ga_election[\"Clean_Contest\"] = clean_contest_val"
   ]
  },
  {
   "cell_type": "code",
   "execution_count": 15,
   "id": "c70c3369",
   "metadata": {},
   "outputs": [],
   "source": [
    "choice_change_dict = {\n",
    "    'David E. Lucas, Sr.':'LUC',\n",
    "    'Harold V. Jones, II':'JON',\n",
    "    'Lester G. Jackson, III':'JAC', \n",
    "    'P. K. Martin, IV':'MAR'\n",
    "}\n",
    "        \n",
    "def get_name(full_name):\n",
    "    \n",
    "    if full_name in list(choice_change_dict.keys()):\n",
    "        return choice_change_dict[full_name]\n",
    "    else:\n",
    "        last_name = full_name.split(\" \")[-1]\n",
    "        last_name = last_name.upper()\n",
    "        return last_name[0:3]"
   ]
  },
  {
   "cell_type": "code",
   "execution_count": 16,
   "id": "b6944ccb",
   "metadata": {},
   "outputs": [],
   "source": [
    "ga_election[\"cand\"] = ga_election[\"choice\"].apply(lambda x:x.split(\" (\")[0])\n"
   ]
  },
  {
   "cell_type": "code",
   "execution_count": 17,
   "id": "12075535",
   "metadata": {},
   "outputs": [],
   "source": [
    "ga_election.sort_values([\"cand\"], inplace = True)"
   ]
  },
  {
   "cell_type": "code",
   "execution_count": 18,
   "id": "54284885",
   "metadata": {},
   "outputs": [],
   "source": [
    "ga_election[\"cand_abbrev\"] =  ga_election[\"cand\"].apply(lambda x: get_name(x))"
   ]
  },
  {
   "cell_type": "code",
   "execution_count": 19,
   "id": "56a62bb0",
   "metadata": {},
   "outputs": [],
   "source": [
    "ga_election[\"mod_choice\"]=\"GSU\"+ga_election[\"DISTRICT\"]+ga_election[\"party\"].str[0]+ga_election[\"cand_abbrev\"]\n",
    "\n",
    "# Correct the primary election columns\n",
    "ga_election[\"mod_choice\"] = ga_election[\"mod_choice\"].map({'GSU39DPOT':'PSU39DPOT',\n",
    "                               'GSU39DPRI':'PSU39DPRI',\n",
    "                               'GSU39DHAL':'PSU39DHAL',\n",
    "                              'GSU39DFOR':'PSU39DFOR'}).fillna(ga_election[\"mod_choice\"])"
   ]
  },
  {
   "cell_type": "markdown",
   "id": "882cd48c",
   "metadata": {},
   "source": [
    "### Create a fields dictionary"
   ]
  },
  {
   "cell_type": "code",
   "execution_count": 20,
   "id": "ec1ba2e0",
   "metadata": {},
   "outputs": [],
   "source": [
    "fields_dict_upper = dict(zip(ga_election[\"mod_choice\"],ga_election[\"choice\"]))\n",
    "od = collections.OrderedDict(sorted(fields_dict_upper.items()))\n",
    "fields_dict_upper_df = pd.DataFrame.from_dict(od, orient ='index')\n",
    "fields_dict_upper_df.reset_index(inplace = True, drop = False)\n",
    "fields_dict_upper_df.columns = ['Field_Name', 'Cand_Name']\n",
    "fields_dict_upper_df.to_csv(\"./cand_dicts/sldu_fields_dict.csv\", index = False)"
   ]
  },
  {
   "cell_type": "markdown",
   "id": "3c1f0e35",
   "metadata": {},
   "source": [
    "#### Add a FIPS Column"
   ]
  },
  {
   "cell_type": "code",
   "execution_count": 21,
   "id": "09b47d6b",
   "metadata": {},
   "outputs": [],
   "source": [
    "fips_file = pd.read_csv(\"./raw-from-source/FIPS/US_FIPS_Codes.csv\")\n",
    "fips_file = fips_file[fips_file[\"State\"]==\"Georgia\"]\n",
    "fips_file[\"FIPS County\"] = fips_file[\"FIPS County\"].astype(str)\n",
    "fips_file[\"FIPS County\"] = fips_file[\"FIPS County\"].str.zfill(3)\n",
    "fips_file[\"County Name\"] = fips_file[\"County Name\"].replace(\"De Kalb\",\"DeKalb\")\n",
    "fips_dict = dict(zip(fips_file['County Name'], fips_file['FIPS County']))\n",
    "ga_election['county_fips'] = ga_election['county'].map(fips_dict).fillna(ga_election['county'])\n",
    "ga_election['county_fips'] = ga_election['county_fips'].astype(str)\n",
    "ga_election['county_fips'] = ga_election['county_fips'].str.zfill(3)"
   ]
  },
  {
   "cell_type": "markdown",
   "id": "cd8c59c7",
   "metadata": {},
   "source": [
    "#### Pivot the data"
   ]
  },
  {
   "cell_type": "code",
   "execution_count": 22,
   "id": "cb1940b2",
   "metadata": {
    "scrolled": true
   },
   "outputs": [],
   "source": [
    "ga_election[\"unique_ID\"] = ga_election[\"county_fips\"]+\"-\"+ga_election[\"precinct\"]\n",
    "ga_election[\"unique_ID\"]=ga_election[\"county_fips\"]+ga_election[\"precinct\"]\n",
    "ga_election=pd.pivot_table(ga_election,index=[\"unique_ID\",\"county\",\"county_fips\",\"precinct\"],columns=[\"mod_choice\"],values=['num_votes'],aggfunc=sum)\n",
    "ga_election = ga_election.fillna(0)\n",
    "ga_election.columns = ga_election.columns.droplevel(0)\n",
    "ga_election = ga_election.reset_index()"
   ]
  },
  {
   "cell_type": "markdown",
   "id": "7720ff53",
   "metadata": {},
   "source": [
    "### Combine Northgate Assembly and Trinity in Election Results\n",
    "\n",
    "Note: We perfomed this in the modified version of the VEST file as well. This corrects an issue with votes appearing in a precinct outside of a congressional district. Please see the main file README for more information"
   ]
  },
  {
   "cell_type": "code",
   "execution_count": 23,
   "id": "4cf9537a",
   "metadata": {},
   "outputs": [],
   "source": [
    "to_remove = ga_election[(ga_election[\"county\"]==\"Lowndes\") & (ga_election[\"precinct\"].isin([\"Northgate Assembly\", \"Trinity\"]))]\n",
    "remaining_elections = ga_election[~((ga_election[\"county\"]==\"Lowndes\") & (ga_election[\"precinct\"].isin([\"Northgate Assembly\", \"Trinity\"])))]"
   ]
  },
  {
   "cell_type": "code",
   "execution_count": 24,
   "id": "d5d2df15",
   "metadata": {},
   "outputs": [
    {
     "name": "stdout",
     "output_type": "stream",
     "text": [
      "(2656, 91)\n",
      "(2654, 91)\n",
      "(2, 91)\n"
     ]
    }
   ],
   "source": [
    "# Print statements to make sure all precincts are counted correctly\n",
    "print(ga_election.shape)\n",
    "print(remaining_elections.shape)\n",
    "print(to_remove.shape)"
   ]
  },
  {
   "cell_type": "code",
   "execution_count": 25,
   "id": "8093a98a",
   "metadata": {},
   "outputs": [],
   "source": [
    "# Combine the two precincts and clean the indices\n",
    "grouped_to_remove = to_remove.groupby([\"county_fips\"]).sum()\n",
    "grouped_to_remove.reset_index(inplace = True, drop = False)\n",
    "\n",
    "# Add appropriate data columns and filter down to needed columns\n",
    "grouped_to_remove[\"unique_ID\"] = \"185-NORTHGATE ASSEMBLY AND TRINITY\"\n",
    "grouped_to_remove[\"county\"] = 'Lowndes'\n",
    "grouped_to_remove[\"county_fips\"] = '185' \n",
    "grouped_to_remove[\"precinct\"] = 'NORTHGATE ASSEMBLY AND TRINITY'\n",
    "grouped_to_remove = grouped_to_remove[list(to_remove.columns)]\n",
    "\n",
    "# Combine the precincts back together\n",
    "ga_election = pd.concat([remaining_elections, grouped_to_remove])\n",
    "ga_election.reset_index(inplace = True, drop = True)"
   ]
  },
  {
   "cell_type": "markdown",
   "id": "8475f90e",
   "metadata": {},
   "source": [
    "## Join Election Results to Shapefiles"
   ]
  },
  {
   "cell_type": "markdown",
   "id": "ee7999d7",
   "metadata": {},
   "source": [
    "#### Try a  unique ID"
   ]
  },
  {
   "cell_type": "code",
   "execution_count": 26,
   "id": "68c60db6",
   "metadata": {},
   "outputs": [],
   "source": [
    "ga_election[\"precinct\"] = ga_election[\"precinct\"].str.strip().str.upper()\n",
    "ga_election[\"unique_ID\"]=ga_election[\"county_fips\"]+\"-\"+ga_election[\"precinct\"]\n",
    "vest_ga_20[\"unique_ID\"]=vest_ga_20[\"FIPS2\"]+\"-\"+vest_ga_20[\"PRECINCT_N\"]"
   ]
  },
  {
   "cell_type": "markdown",
   "id": "047773e1",
   "metadata": {},
   "source": [
    "#### Check whether there are duplicate IDs"
   ]
  },
  {
   "cell_type": "code",
   "execution_count": 27,
   "id": "86234ae6",
   "metadata": {},
   "outputs": [
    {
     "name": "stdout",
     "output_type": "stream",
     "text": [
      "Series([], Name: unique_ID, dtype: int64)\n",
      "NaN                        7\n",
      "051-ELI WHITNEY COMPLEX    2\n",
      "Name: unique_ID, dtype: int64\n"
     ]
    }
   ],
   "source": [
    "ser_1 = ga_election[\"unique_ID\"].value_counts(dropna=False)\n",
    "print(ser_1[ser_1 >1])\n",
    "\n",
    "ser_2 = vest_ga_20[\"unique_ID\"].value_counts(dropna=False)\n",
    "print(ser_2[ser_2 >1])"
   ]
  },
  {
   "cell_type": "code",
   "execution_count": 28,
   "id": "784c3459",
   "metadata": {},
   "outputs": [
    {
     "data": {
      "text/html": [
       "<div>\n",
       "<style scoped>\n",
       "    .dataframe tbody tr th:only-of-type {\n",
       "        vertical-align: middle;\n",
       "    }\n",
       "\n",
       "    .dataframe tbody tr th {\n",
       "        vertical-align: top;\n",
       "    }\n",
       "\n",
       "    .dataframe thead th {\n",
       "        text-align: right;\n",
       "    }\n",
       "</style>\n",
       "<table border=\"1\" class=\"dataframe\">\n",
       "  <thead>\n",
       "    <tr style=\"text-align: right;\">\n",
       "      <th></th>\n",
       "      <th>DISTRICT</th>\n",
       "      <th>CTYSOSID</th>\n",
       "      <th>PRECINCT_I</th>\n",
       "      <th>PRECINCT_N</th>\n",
       "      <th>CTYNAME</th>\n",
       "      <th>CTYNUMBER</th>\n",
       "      <th>CTYNUMBER2</th>\n",
       "      <th>FIPS2</th>\n",
       "      <th>G20PRERTRU</th>\n",
       "      <th>G20PREDBID</th>\n",
       "      <th>...</th>\n",
       "      <th>G20PSCDBLA</th>\n",
       "      <th>G20PSCLWIL</th>\n",
       "      <th>R21USSRPER</th>\n",
       "      <th>R21USSDOSS</th>\n",
       "      <th>R21USSRLOE</th>\n",
       "      <th>R21USSDWAR</th>\n",
       "      <th>R21PSCRMCD</th>\n",
       "      <th>R21PSCDBLA</th>\n",
       "      <th>geometry</th>\n",
       "      <th>unique_ID</th>\n",
       "    </tr>\n",
       "  </thead>\n",
       "  <tbody>\n",
       "    <tr>\n",
       "      <th>2259</th>\n",
       "      <td>0513-15C</td>\n",
       "      <td>0513-15C</td>\n",
       "      <td>3-15C</td>\n",
       "      <td>ELI WHITNEY COMPLEX</td>\n",
       "      <td>CHATHAM</td>\n",
       "      <td>25</td>\n",
       "      <td>025</td>\n",
       "      <td>051</td>\n",
       "      <td>278</td>\n",
       "      <td>361</td>\n",
       "      <td>...</td>\n",
       "      <td>325</td>\n",
       "      <td>15</td>\n",
       "      <td>281</td>\n",
       "      <td>329</td>\n",
       "      <td>282</td>\n",
       "      <td>329</td>\n",
       "      <td>284</td>\n",
       "      <td>318</td>\n",
       "      <td>POLYGON ((-81.02948 32.06200, -81.03000 32.060...</td>\n",
       "      <td>051-ELI WHITNEY COMPLEX</td>\n",
       "    </tr>\n",
       "    <tr>\n",
       "      <th>2261</th>\n",
       "      <td>0512-06C</td>\n",
       "      <td>0512-06C</td>\n",
       "      <td>2-06C</td>\n",
       "      <td>ELI WHITNEY COMPLEX</td>\n",
       "      <td>CHATHAM</td>\n",
       "      <td>25</td>\n",
       "      <td>025</td>\n",
       "      <td>051</td>\n",
       "      <td>65</td>\n",
       "      <td>335</td>\n",
       "      <td>...</td>\n",
       "      <td>301</td>\n",
       "      <td>19</td>\n",
       "      <td>52</td>\n",
       "      <td>312</td>\n",
       "      <td>53</td>\n",
       "      <td>311</td>\n",
       "      <td>54</td>\n",
       "      <td>300</td>\n",
       "      <td>POLYGON ((-81.05333 32.07291, -81.05336 32.072...</td>\n",
       "      <td>051-ELI WHITNEY COMPLEX</td>\n",
       "    </tr>\n",
       "  </tbody>\n",
       "</table>\n",
       "<p>2 rows × 51 columns</p>\n",
       "</div>"
      ],
      "text/plain": [
       "      DISTRICT  CTYSOSID PRECINCT_I           PRECINCT_N  CTYNAME CTYNUMBER  \\\n",
       "2259  0513-15C  0513-15C      3-15C  ELI WHITNEY COMPLEX  CHATHAM        25   \n",
       "2261  0512-06C  0512-06C      2-06C  ELI WHITNEY COMPLEX  CHATHAM        25   \n",
       "\n",
       "     CTYNUMBER2 FIPS2  G20PRERTRU  G20PREDBID  ...  G20PSCDBLA  G20PSCLWIL  \\\n",
       "2259        025   051         278         361  ...         325          15   \n",
       "2261        025   051          65         335  ...         301          19   \n",
       "\n",
       "      R21USSRPER  R21USSDOSS  R21USSRLOE  R21USSDWAR  R21PSCRMCD  R21PSCDBLA  \\\n",
       "2259         281         329         282         329         284         318   \n",
       "2261          52         312          53         311          54         300   \n",
       "\n",
       "                                               geometry  \\\n",
       "2259  POLYGON ((-81.02948 32.06200, -81.03000 32.060...   \n",
       "2261  POLYGON ((-81.05333 32.07291, -81.05336 32.072...   \n",
       "\n",
       "                    unique_ID  \n",
       "2259  051-ELI WHITNEY COMPLEX  \n",
       "2261  051-ELI WHITNEY COMPLEX  \n",
       "\n",
       "[2 rows x 51 columns]"
      ]
     },
     "metadata": {},
     "output_type": "display_data"
    }
   ],
   "source": [
    "#Look into duplicate IDs - ELI WHITNEY\n",
    "display(vest_ga_20[vest_ga_20[\"unique_ID\"]==\"051-ELI WHITNEY COMPLEX\"])"
   ]
  },
  {
   "cell_type": "code",
   "execution_count": 29,
   "id": "548dfc3c",
   "metadata": {},
   "outputs": [],
   "source": [
    "#Assign new unique IDs, adding in PRECINCT_I to differentiate\n",
    "vest_ga_20.loc[vest_ga_20[\"CTYSOSID\"]==\"0513-15C\",\"unique_ID\"] = \"051-ELI WHITNEY COMPLEX 3-15C\"\n",
    "vest_ga_20.loc[vest_ga_20[\"CTYSOSID\"]==\"0512-06C\",\"unique_ID\"] = \"051-ELI WHITNEY COMPLEX 2-06C\""
   ]
  },
  {
   "cell_type": "code",
   "execution_count": 30,
   "id": "d3289f55",
   "metadata": {},
   "outputs": [
    {
     "data": {
      "text/html": [
       "<div>\n",
       "<style scoped>\n",
       "    .dataframe tbody tr th:only-of-type {\n",
       "        vertical-align: middle;\n",
       "    }\n",
       "\n",
       "    .dataframe tbody tr th {\n",
       "        vertical-align: top;\n",
       "    }\n",
       "\n",
       "    .dataframe thead th {\n",
       "        text-align: right;\n",
       "    }\n",
       "</style>\n",
       "<table border=\"1\" class=\"dataframe\">\n",
       "  <thead>\n",
       "    <tr style=\"text-align: right;\">\n",
       "      <th></th>\n",
       "      <th>DISTRICT</th>\n",
       "      <th>CTYSOSID</th>\n",
       "      <th>PRECINCT_I</th>\n",
       "      <th>PRECINCT_N</th>\n",
       "      <th>CTYNAME</th>\n",
       "      <th>CTYNUMBER</th>\n",
       "      <th>CTYNUMBER2</th>\n",
       "      <th>FIPS2</th>\n",
       "      <th>G20PRERTRU</th>\n",
       "      <th>G20PREDBID</th>\n",
       "      <th>...</th>\n",
       "      <th>G20PSCDBLA</th>\n",
       "      <th>G20PSCLWIL</th>\n",
       "      <th>R21USSRPER</th>\n",
       "      <th>R21USSDOSS</th>\n",
       "      <th>R21USSRLOE</th>\n",
       "      <th>R21USSDWAR</th>\n",
       "      <th>R21PSCRMCD</th>\n",
       "      <th>R21PSCDBLA</th>\n",
       "      <th>geometry</th>\n",
       "      <th>unique_ID</th>\n",
       "    </tr>\n",
       "  </thead>\n",
       "  <tbody>\n",
       "    <tr>\n",
       "      <th>1351</th>\n",
       "      <td>051XFTPU</td>\n",
       "      <td>None</td>\n",
       "      <td>None</td>\n",
       "      <td>None</td>\n",
       "      <td>None</td>\n",
       "      <td>None</td>\n",
       "      <td>None</td>\n",
       "      <td>None</td>\n",
       "      <td>0</td>\n",
       "      <td>0</td>\n",
       "      <td>...</td>\n",
       "      <td>0</td>\n",
       "      <td>0</td>\n",
       "      <td>0</td>\n",
       "      <td>0</td>\n",
       "      <td>0</td>\n",
       "      <td>0</td>\n",
       "      <td>0</td>\n",
       "      <td>0</td>\n",
       "      <td>POLYGON ((-80.96828 32.04402, -80.96876 32.044...</td>\n",
       "      <td>NaN</td>\n",
       "    </tr>\n",
       "    <tr>\n",
       "      <th>1469</th>\n",
       "      <td>029FTSTEW</td>\n",
       "      <td>None</td>\n",
       "      <td>None</td>\n",
       "      <td>None</td>\n",
       "      <td>None</td>\n",
       "      <td>None</td>\n",
       "      <td>None</td>\n",
       "      <td>None</td>\n",
       "      <td>0</td>\n",
       "      <td>0</td>\n",
       "      <td>...</td>\n",
       "      <td>0</td>\n",
       "      <td>0</td>\n",
       "      <td>0</td>\n",
       "      <td>0</td>\n",
       "      <td>0</td>\n",
       "      <td>0</td>\n",
       "      <td>0</td>\n",
       "      <td>0</td>\n",
       "      <td>MULTIPOLYGON (((-81.59263 32.10346, -81.59242 ...</td>\n",
       "      <td>NaN</td>\n",
       "    </tr>\n",
       "    <tr>\n",
       "      <th>2141</th>\n",
       "      <td>215FTBEN2</td>\n",
       "      <td>None</td>\n",
       "      <td>None</td>\n",
       "      <td>None</td>\n",
       "      <td>None</td>\n",
       "      <td>None</td>\n",
       "      <td>None</td>\n",
       "      <td>None</td>\n",
       "      <td>0</td>\n",
       "      <td>0</td>\n",
       "      <td>...</td>\n",
       "      <td>0</td>\n",
       "      <td>0</td>\n",
       "      <td>0</td>\n",
       "      <td>0</td>\n",
       "      <td>0</td>\n",
       "      <td>0</td>\n",
       "      <td>0</td>\n",
       "      <td>0</td>\n",
       "      <td>POLYGON ((-84.93473 32.40556, -84.93448 32.405...</td>\n",
       "      <td>NaN</td>\n",
       "    </tr>\n",
       "    <tr>\n",
       "      <th>2144</th>\n",
       "      <td>215FTBEN4</td>\n",
       "      <td>None</td>\n",
       "      <td>None</td>\n",
       "      <td>None</td>\n",
       "      <td>None</td>\n",
       "      <td>None</td>\n",
       "      <td>None</td>\n",
       "      <td>None</td>\n",
       "      <td>0</td>\n",
       "      <td>0</td>\n",
       "      <td>...</td>\n",
       "      <td>0</td>\n",
       "      <td>0</td>\n",
       "      <td>0</td>\n",
       "      <td>0</td>\n",
       "      <td>0</td>\n",
       "      <td>0</td>\n",
       "      <td>0</td>\n",
       "      <td>0</td>\n",
       "      <td>POLYGON ((-84.91564 32.42299, -84.90945 32.422...</td>\n",
       "      <td>NaN</td>\n",
       "    </tr>\n",
       "    <tr>\n",
       "      <th>2162</th>\n",
       "      <td>215FTBEN3</td>\n",
       "      <td>None</td>\n",
       "      <td>None</td>\n",
       "      <td>None</td>\n",
       "      <td>None</td>\n",
       "      <td>None</td>\n",
       "      <td>None</td>\n",
       "      <td>None</td>\n",
       "      <td>0</td>\n",
       "      <td>0</td>\n",
       "      <td>...</td>\n",
       "      <td>0</td>\n",
       "      <td>0</td>\n",
       "      <td>0</td>\n",
       "      <td>0</td>\n",
       "      <td>0</td>\n",
       "      <td>0</td>\n",
       "      <td>0</td>\n",
       "      <td>0</td>\n",
       "      <td>POLYGON ((-84.93783 32.40666, -84.93765 32.406...</td>\n",
       "      <td>NaN</td>\n",
       "    </tr>\n",
       "    <tr>\n",
       "      <th>2243</th>\n",
       "      <td>215ZZZZZZ</td>\n",
       "      <td>None</td>\n",
       "      <td>None</td>\n",
       "      <td>None</td>\n",
       "      <td>None</td>\n",
       "      <td>None</td>\n",
       "      <td>None</td>\n",
       "      <td>None</td>\n",
       "      <td>0</td>\n",
       "      <td>0</td>\n",
       "      <td>...</td>\n",
       "      <td>0</td>\n",
       "      <td>0</td>\n",
       "      <td>0</td>\n",
       "      <td>0</td>\n",
       "      <td>0</td>\n",
       "      <td>0</td>\n",
       "      <td>0</td>\n",
       "      <td>0</td>\n",
       "      <td>POLYGON ((-84.89892 32.45201, -84.89890 32.452...</td>\n",
       "      <td>NaN</td>\n",
       "    </tr>\n",
       "    <tr>\n",
       "      <th>2244</th>\n",
       "      <td>215FTBEN1</td>\n",
       "      <td>None</td>\n",
       "      <td>None</td>\n",
       "      <td>None</td>\n",
       "      <td>None</td>\n",
       "      <td>None</td>\n",
       "      <td>None</td>\n",
       "      <td>None</td>\n",
       "      <td>0</td>\n",
       "      <td>0</td>\n",
       "      <td>...</td>\n",
       "      <td>0</td>\n",
       "      <td>0</td>\n",
       "      <td>0</td>\n",
       "      <td>0</td>\n",
       "      <td>0</td>\n",
       "      <td>0</td>\n",
       "      <td>0</td>\n",
       "      <td>0</td>\n",
       "      <td>POLYGON ((-84.89897 32.44577, -84.89896 32.449...</td>\n",
       "      <td>NaN</td>\n",
       "    </tr>\n",
       "  </tbody>\n",
       "</table>\n",
       "<p>7 rows × 51 columns</p>\n",
       "</div>"
      ],
      "text/plain": [
       "       DISTRICT CTYSOSID PRECINCT_I PRECINCT_N CTYNAME CTYNUMBER CTYNUMBER2  \\\n",
       "1351   051XFTPU     None       None       None    None      None       None   \n",
       "1469  029FTSTEW     None       None       None    None      None       None   \n",
       "2141  215FTBEN2     None       None       None    None      None       None   \n",
       "2144  215FTBEN4     None       None       None    None      None       None   \n",
       "2162  215FTBEN3     None       None       None    None      None       None   \n",
       "2243  215ZZZZZZ     None       None       None    None      None       None   \n",
       "2244  215FTBEN1     None       None       None    None      None       None   \n",
       "\n",
       "     FIPS2  G20PRERTRU  G20PREDBID  ...  G20PSCDBLA  G20PSCLWIL  R21USSRPER  \\\n",
       "1351  None           0           0  ...           0           0           0   \n",
       "1469  None           0           0  ...           0           0           0   \n",
       "2141  None           0           0  ...           0           0           0   \n",
       "2144  None           0           0  ...           0           0           0   \n",
       "2162  None           0           0  ...           0           0           0   \n",
       "2243  None           0           0  ...           0           0           0   \n",
       "2244  None           0           0  ...           0           0           0   \n",
       "\n",
       "      R21USSDOSS  R21USSRLOE  R21USSDWAR  R21PSCRMCD  R21PSCDBLA  \\\n",
       "1351           0           0           0           0           0   \n",
       "1469           0           0           0           0           0   \n",
       "2141           0           0           0           0           0   \n",
       "2144           0           0           0           0           0   \n",
       "2162           0           0           0           0           0   \n",
       "2243           0           0           0           0           0   \n",
       "2244           0           0           0           0           0   \n",
       "\n",
       "                                               geometry  unique_ID  \n",
       "1351  POLYGON ((-80.96828 32.04402, -80.96876 32.044...        NaN  \n",
       "1469  MULTIPOLYGON (((-81.59263 32.10346, -81.59242 ...        NaN  \n",
       "2141  POLYGON ((-84.93473 32.40556, -84.93448 32.405...        NaN  \n",
       "2144  POLYGON ((-84.91564 32.42299, -84.90945 32.422...        NaN  \n",
       "2162  POLYGON ((-84.93783 32.40666, -84.93765 32.406...        NaN  \n",
       "2243  POLYGON ((-84.89892 32.45201, -84.89890 32.452...        NaN  \n",
       "2244  POLYGON ((-84.89897 32.44577, -84.89896 32.449...        NaN  \n",
       "\n",
       "[7 rows x 51 columns]"
      ]
     },
     "metadata": {},
     "output_type": "display_data"
    }
   ],
   "source": [
    "display(vest_ga_20[vest_ga_20[\"unique_ID\"].isna()])"
   ]
  },
  {
   "cell_type": "code",
   "execution_count": 31,
   "id": "174c4059",
   "metadata": {},
   "outputs": [],
   "source": [
    "vest_ga_20.loc[vest_ga_20['unique_ID'].isna(), 'unique_ID'] = vest_ga_20['DISTRICT']"
   ]
  },
  {
   "cell_type": "code",
   "execution_count": 32,
   "id": "8747370a",
   "metadata": {},
   "outputs": [],
   "source": [
    "#Create a dictionary of ID changes\n",
    "source_vest_id_changes_dict = {'051-1-17C ISLANDS CHRISTIAN CHURCH': '051-ISLANDS CHRISTIAN CHURCH', '051-7-14C COASTAL CATHEDRAL': '051-COASTAL CATHEDRAL', '051-7-07C ROTHWELL BAPTIST CHURCH': '051-ROTHWELL BAPTIST CHURCH', '051-4-07C WILMINGTON ISLAND UMC': '051-WILMINGTON ISLAND UMC', '051-4-08C WILMINGTON ISLAND PRES CHURCH': '051-WILMINGTON ISLAND PRES CHURCH', '051-1-16C FERGUSON AVE BAPTIST': '051-FERGUSON AVE BAPTIST', '051-7-11C SEVENTH DAY ADV CHURCH': '051-SEVENTH DAY ADV CHURCH', '051-7-16C POOLER RECREATION CENTER GYMNASIUM': '051-POOLER REC CENTER GYM', '051-7-08C BLOOMINGDALE COMM CTR': '051-BLOOMINGDALE COMM CTR', '051-4-13C SKIDAWAY ISLAND PRES CHURCH': '051-SKIDAWAY ISLAND PRES CHURCH', '051-6-10C STATION 3': '051-GEORGETOWN ELEMENTARY', '051-4-12C ST PETERS EPISCOPAL': '051-ST PETERS EPISCOPAL', '051-7-13C SOUTHSIDE FIRE TRNG CTR': '051-SOUTHSIDE FIRE TRNG CTR', '051-4-06C FIRST BAPTIST OF THE ISLAND': '051-FIRST BAPTIST OF THE ISLAND', '051-4-04C LIGHTHOUSE BAPTIST CHURCH': '051-LIGHTHOUSE BAPTIST CHURCH', '051-4-05C ST FRANCIS EPISCOPAL CHURCH': '051-ST FRANCIS EPISCOPAL CHURCH', '051-1-12C ISLE OF HOPE BAPTIST': '051-ISLE OF HOPE BAPTIST', '051-4-02C FRANK MURRAY COMM CENTER': '051-FRANK MURRAY COMM CENTER', '051-7-06C POOLER CITY HALL': '051-POOLER CITY HALL', '051-8-16C ROYAL CINEMAS AND IMAX': '051-ROYAL CINEMAS AND IMAX', '051-6-02C WINDSOR FOREST BAPTIST': '051-WINDSOR FOREST BAPTIST', '051-6-11C BAMBOO FARMS': '051-BAMBOO FARMS', '051-4-15C SKIDAWAY ISLAND STATE PARK': '051-SKIDAWAY ISLAND STATE PARK', '051-6-09C TRINITY LUTHERAN CHURCH': '051-TRINITY LUTHERAN CHURCH', '051-1-01C FIRST PRESBYTERIAN CHURCH': '051-FIRST PRESBYTERIAN CHURCH', '051-4-14C SKIDAWAY ISLAND BAPTIST': '051-SKIDAWAY ISLAND BAPTIST', '051-7-12C POOLER CHURCH': '051-POOLER CHURCH', '051-7-10C PROGRESSIVE REC CENTER': '051-PROGRESSIVE REC CENTER', '051-1-06C CENTRAL CHURCH OF CHRIST': '051-CENTRAL CHURCH OF CHRIST', '051-1-14C COMPASSION CHRISTIAN CHURCH': '051-COMPASSION CHRISTIAN CHURCH', '051-6-03C CRUSADER COMM CENTER': '051-CRUSADER COMM CENTER', '051-4-11C TYBEE ISLAND SCHOOL CAFE': '051-TYBEE ISLAND SCHOOL CAFE', '051-7-09C SAVANNAH HOLY C OF G': '051-SAVANNAH HOLY C OF G', '051-4-10C GUARD HOUSE COMM CTR': '051-GUARD HOUSE COMM CTR', '051-1-08C GRACE UNITED METHODIST CHURCH': '051-GRACE UNITED METHODIST CHURCH', '051-1-10C ST THOMAS EPISCOPAL CHURCH': '051-ST THOMAS EPISCOPAL CHURCH', '051-1-05C JEA BUILDING': '051-JEA BUILDING', '051-1-13C THE SANCTUARY': '051-THE SANCTUARY', '051-7-15C RICE CREEK SCHOOL': '051-RICE CREEK SCHOOL', '051-3-12C THUNDERBOLT MUNI COMPLEX': '051-THUNDERBOLT MUNI COMPLEX', '051-3-13C NEW COV 7 DAY ADV CH': '051-NEW COV 7 DAY ADV CH', '051-7-03C PB EDWARDS GYM': '051-PB EDWARDS GYM', '051-7-01C GARDEN CITY SENIOR CTR': '051-GARDEN CITY SENIOR CTR', '051-6-06C THE LIGHT CHURCH': '051-THE LIGHT CHURCH', '051-7-04C LAKE SHORE COMM CTR': '051-LAKE SHORE COMM CTR', '051-6-05C WINDSOR HALL': '051-WINDSOR HALL', '051-3-02C TEMPLE MICKVE ISRAEL': '051-TEMPLE MICKVE ISRAEL', '051-6-01C WHITE BLUFF PRESBYTERIAN': '051-WHITE BLUFF PRESBYTERIAN', '051-5-11C LARGO-TIBET ELEMENTARY': '051-LARGO-TIBET ELEMENTARY', '051-3-14C OGLETHORPE CHARTER ACADEMY': '051-OGLETHORPE CHARTER ACADEMY', '051-6-08C CHRIST MEMORIAL BAPTIST CHURCH': '051-CHRIST MEMORIAL BAPTIST CHURCH', '051-7-05C WOODLAWN BAPTIST CHURCH': '051-WOODLAWN BAPTIST CHURCH', '051-5-08C SAVANNAH PRIMITIVE BC': '051-SAVANNAH PRIMITIVE BC', '051-8-03C SILK HOPE BAPTIST CHURCH': '051-SILK HOPE BAPTIST CHURCH', '051-3-05C ALDERSGATE YOUTH CENTER': '051-ALDERSGATE YOUTH CENTER', '051-3-09C COKESBURY METHODIST': '051-COKESBURY METHODIST', '051-3-15C ELI WHITNEY COMPLEX': '051-ELI WHITNEY COMPLEX 3-15C', '051-8-13C SAVANNAH CHRISTIAN': '051-SAVANNAH CHRISTIAN', '051-5-07C STATION 1': '051-ELKS LODGE', '051-2-09C SALVATION ARMY': '051-SALVATION ARMY', '051-3-10C BIBLE BAPTIST CHURCH': '051-BIBLE BAPTIST CHURCH', '051-2-07C CHRIST COMMUNITY CHURCH': '051-CHRIST COMMUNITY CHURCH', '051-3-08C JENKINS HIGH SCHOOL': '051-JENKINS HIGH SCHOOL', '051-5-06C SEED CHURCH': '051-SEED CHURCH', '051-1-09C IMMANUEL BAPTIST CHURCH': '051-IMMANUEL BAPTIST CHURCH', '051-8-02C HELLENIC CENTER': '051-HELLENIC CENTER', '051-2-11C STILLWELL TOWERS': '051-STILLWELL TOWERS', '051-3-11C SOUTHSIDE BAPTIST CHURCH': '051-SOUTHSIDE BAPTIST CHURCH', '051-2-02C BLACKSHEAR COMMUNITY CENTER': '051-BLACKSHEAR COMMUNITY CENTER', '051-5-01C BARTLETT MIDDLE SCHOOL': '051-BARTLETT MIDDLE SCHOOL', '051-2-05C HOLY SPIRIT LUTHERAN CHURCH': '051-HOLY SPIRIT LUTHERAN CHURCH', '051-2-04C FELLOWSHIP OF LOVE CHURCH': '051-FELLOWSHIP OF LOVE CHURCH', '051-2-12C WILLIAMS COURT APTS': '051-WILLIAMS COURT APTS', '051-3-01C OLD COURTHOUSE': '051-OLD COURTHOUSE', '051-2-03C W W LAW CENTER': '051-W W LAW CENTER', '051-8-12C BEACH HIGH SCHOOL': '051-BEACH HIGH SCHOOL', '051-5-10C TATUMVILLE COMMUNITY CENTER': '051-TATUMVILLE COMMUNITY CENTER', '051-8-15C GARDEN CITY REC CENTER': '051-GARDEN CITY REC CENTER', '051-2-06C ELI WHITNEY COMPLEX': '051-ELI WHITNEY COMPLEX 2-06C', '051-3-03C SAVANNAH HIGH SCHOOL': '051-SAVANNAH HIGH SCHOOL', '051-8-01C CIVIC CENTER': '051-CIVIC CENTER', '051-3-04C FIRST AFRICAN BAPTIST CHURCH': '051-FIRST AFRICAN BAPTIST CHURCH', '051-5-05C LIBERTY CITY COMM CTR': '051-LIBERTY CITY COMM CTR', '051-5-02C SENIOR CITIZENS CENTER': '051-SENIOR CITIZENS CENTER', '051-8-08C RESUR OF OUR LORD CHURCH': '051-RESURRECTION OF OUR LORD CHURCH', '051-8-05C W BROAD ST YMCA': '051-W BROAD ST YMCA', '051-8-06C TOMPKINS REC CENTER': '051-TOMPKINS REC CENTER', '051-8-09C MOSES JACKSON CENTER': '051-MOSES JACKSON CENTER', '051-5-03C BUTLER PRESBYTERIAN CHURCH': '051-BUTLER PRESBYTERIAN CHURCH', '051-8-11C BUTLER ELEMENTARY': '051-BUTLER ELEMENTARY', '051-8-07C WOODVILLE-TOMPKINS TI': '051-WOODVILLE-TOMPKINS TI', '051-8-10C CARVER HEIGHTS COMM CTR': '051-CARVER HEIGHTS COMM CTR', '053-ACTIVITY CENTER': '053-ACTIVITY CENTER (Includes FTBEN 1-3)', '067-POWDERS SPRINGS 1A': '067-POWDER SPRINGS 1A', '067-POWDERS SPRINGS 2A': '067-POWDER SPRINGS 2A', '067-POWDERS SPRINGS 3A': '067-POWDER SPRINGS 3A', '171-CHAPPELL MILL V FD': '171-CHAPPELL MILL VFD', '275-LITTLE OCHLOCKNEE BAPTIST CHURCH': '275-LITTLE OCHLOCKNEE', '299-100': '299-District 1', '299-200A': '299-District 2A', '299-200B': '299-District 2B', '299-300': '299-1231-150B', '299-304': '299-1231-150C', '299-400': '299-1231-151', '299-404': '299-Beach-Bickley', '299-405': '299-Haywood', '299-406': '299-Jamestown', '299-407': '299-Manor', '299-408': '299-Millwood', '299-409': '299-Waresboro', '317-TIGNAL SCH LUNCH RM': '317-TIGNALL SCH LUNCH RM'}\n",
    "\n",
    "#Apply the changes\n",
    "ga_election[\"unique_ID\"] = ga_election[\"unique_ID\"].map(source_vest_id_changes_dict).fillna(ga_election[\"unique_ID\"])"
   ]
  },
  {
   "cell_type": "code",
   "execution_count": 33,
   "id": "085e3d0d",
   "metadata": {},
   "outputs": [
    {
     "name": "stdout",
     "output_type": "stream",
     "text": [
      "both          2655\n",
      "right_only      23\n",
      "left_only        0\n",
      "Name: _merge, dtype: int64\n"
     ]
    }
   ],
   "source": [
    "#First join attempt\n",
    "join_attempt_1 = pd.merge(ga_election,vest_ga_20,how=\"outer\",on=\"unique_ID\",indicator=True)\n",
    "print(join_attempt_1[\"_merge\"].value_counts())\n",
    "\n",
    "left_only = join_attempt_1[join_attempt_1[\"_merge\"]==\"left_only\"]\n",
    "right_only = join_attempt_1[join_attempt_1[\"_merge\"]==\"right_only\"]"
   ]
  },
  {
   "cell_type": "code",
   "execution_count": 34,
   "id": "7c6f5264",
   "metadata": {},
   "outputs": [
    {
     "name": "stdout",
     "output_type": "stream",
     "text": [
      "23\n"
     ]
    }
   ],
   "source": [
    "#Confirm that the unjoined precincts contain zero-votes\n",
    "empty_precincts = []\n",
    "for index, row in right_only.iterrows():\n",
    "    for race in data_columns:\n",
    "        keep=True\n",
    "        if (row[race]!=0):\n",
    "            keep = False\n",
    "    if(keep):\n",
    "        empty_precincts.append(row[\"DISTRICT\"])\n",
    "print(len(empty_precincts))  "
   ]
  },
  {
   "cell_type": "code",
   "execution_count": 35,
   "id": "805b2a62",
   "metadata": {},
   "outputs": [],
   "source": [
    "races = [i for i in list(ga_election.columns) if \"GSU\" in i or 'PSU' in i]"
   ]
  },
  {
   "cell_type": "code",
   "execution_count": 36,
   "id": "1636743e",
   "metadata": {},
   "outputs": [],
   "source": [
    "for val in races:\n",
    "    join_attempt_1[val] = join_attempt_1[val].fillna(0)\n",
    "    join_attempt_1[val] = join_attempt_1[val].astype(int)"
   ]
  },
  {
   "cell_type": "markdown",
   "id": "dfb5915f",
   "metadata": {},
   "source": [
    "## Load State Senate Districts"
   ]
  },
  {
   "cell_type": "code",
   "execution_count": 37,
   "id": "fc7adfd7",
   "metadata": {},
   "outputs": [],
   "source": [
    "ga_sldu_districts = gp.read_file(\"./raw-from-source/SLDU_Districts/ga_sldu_2014_to_2021/ga_sldu_2014_to_2021.shp\")\n",
    "ga_sldu_districts = ga_sldu_districts.to_crs(vest_ga_20.crs)\n",
    "ga_sldu_districts.rename(columns={'DISTRICT':\"SLDU_DISTRICT\"},inplace=True)"
   ]
  },
  {
   "cell_type": "markdown",
   "id": "743445f8",
   "metadata": {},
   "source": [
    "## Look into split precincts"
   ]
  },
  {
   "cell_type": "code",
   "execution_count": 38,
   "id": "a64bec5f",
   "metadata": {},
   "outputs": [],
   "source": [
    "def is_split_precinct(district_assignment_list):\n",
    "    c = Counter([x[0] for x in district_assignment_list])\n",
    "    greater_than_one = {x:[y[1] for y in district_assignment_list if y[0]==x] for x, count in c.items() if count > 1}\n",
    "    if len(greater_than_one)==0:\n",
    "        return 0\n",
    "    else:\n",
    "        return greater_than_one\n",
    "    \n",
    "def get_level_dist(column_name):\n",
    "    if column_name[0:4] == \"GSLP\":\n",
    "        level = \"SL\"\n",
    "        dist = \"004\"\n",
    "    elif column_name[0:3] == \"GSL\":\n",
    "        level = \"SL\"\n",
    "        dist = column_name[3:6]\n",
    "    elif column_name[0:3] == \"GCO\":\n",
    "        level = \"CON\"\n",
    "        dist = column_name[4:6]\n",
    "    elif column_name[0:3] == \"GSU\":\n",
    "        level = \"SU\"\n",
    "        dist = column_name[3:5]\n",
    "    elif column_name[0:3] == \"PSU\":\n",
    "        level = \"SU\"\n",
    "        dist = column_name[3:5]    \n",
    "    else:\n",
    "        print(column_name)\n",
    "        raise ValueError\n",
    "    return level,dist\n",
    "\n",
    "def contains_sldl(dist_list):\n",
    "    for dist_tuple in dist_list:\n",
    "        if dist_tuple[0] == \"SL\":\n",
    "            return dist_tuple[1]\n",
    "        \n",
    "def contains_cong(dist_list):\n",
    "    for dist_tuple in dist_list:\n",
    "        if dist_tuple[0] == \"CON\":\n",
    "            return dist_tuple[1]\n",
    "\n",
    "precinct_mapping_dict = {}\n",
    "split_precincts_list = {}\n",
    "for index,row in join_attempt_1.iterrows():\n",
    "    precinct_list = []\n",
    "    for contest in races:\n",
    "        if(row[contest]!=0):\n",
    "            precinct_info = get_level_dist(contest)\n",
    "            if precinct_info not in precinct_list:\n",
    "                precinct_list.append(get_level_dist(contest))\n",
    "    is_split = is_split_precinct(precinct_list)\n",
    "    if (is_split):\n",
    "        split_precincts_list[row[\"unique_ID\"]]=is_split\n",
    "    precinct_mapping_dict[row[\"unique_ID\"]]=precinct_list"
   ]
  },
  {
   "cell_type": "code",
   "execution_count": 39,
   "id": "ddf859ff",
   "metadata": {},
   "outputs": [
    {
     "data": {
      "text/plain": [
       "{'015-ADAIRSVILLE': {'SU': ['14', '52']},\n",
       " '015-CARTERSVILLE EAST': {'SU': ['14', '52']},\n",
       " '015-CARTERSVILLE WEST': {'SU': ['14', '52']},\n",
       " '015-EMERSON': {'SU': ['14', '52']},\n",
       " '021-HOWARD 3': {'SU': ['18', '25']},\n",
       " '021-HOWARD 7': {'SU': ['18', '25']},\n",
       " '021-RUTLAND 2': {'SU': ['18', '26']},\n",
       " '045-ROOPVILLE': {'SU': ['28', '30']},\n",
       " '049-AMERICAN LEGION': {'SU': ['03', '07']},\n",
       " '049-RACEPOND': {'SU': ['03', '07']},\n",
       " '051-THUNDERBOLT MUNI COMPLEX': {'SU': ['01', '02']},\n",
       " '057-BASCOMB': {'SU': ['14', '21']},\n",
       " '057-BOOTH': {'SU': ['14', '21']},\n",
       " '057-LITTLE RIVER': {'SU': ['21', '56']},\n",
       " '067-EAST PIEDMONT 01': {'SU': ['33', '37']},\n",
       " '067-EASTSIDE 02': {'SU': ['32', '33']},\n",
       " '067-ELIZABETH 01': {'SU': ['33', '37']},\n",
       " '067-ELIZABETH 04': {'SU': ['32', '33']},\n",
       " '067-KENNESAW 1A': {'SU': ['14', '37']},\n",
       " '067-MABLETON 02': {'SU': ['33', '38']},\n",
       " '067-MARIETTA 1A': {'SU': ['06', '33']},\n",
       " '067-MARIETTA 2A': {'SU': ['33', '37']},\n",
       " '067-MARIETTA 5B': {'SU': ['33', '37']},\n",
       " '067-MARIETTA 6A': {'SU': ['32', '33']},\n",
       " '067-MARIETTA 7A': {'SU': ['06', '33']},\n",
       " '067-NICKAJACK 01': {'SU': ['06', '38']},\n",
       " '067-OAKDALE 01': {'SU': ['06', '38']},\n",
       " '067-OREGON 03': {'SU': ['06', '33']},\n",
       " '067-PALMER 01': {'SU': ['14', '32']},\n",
       " '067-SMYRNA 3B': {'SU': ['06', '38']},\n",
       " '067-SMYRNA 4A': {'SU': ['06', '38']},\n",
       " '067-SMYRNA 5A': {'SU': ['06', '33']},\n",
       " '067-SMYRNA 6A': {'SU': ['06', '38']},\n",
       " '067-TERRELL MILL 01': {'SU': ['06', '32']},\n",
       " '073-HARLEM BRANCH LIBRARY': {'SU': ['23', '24']},\n",
       " '073-SECOND MT MORIAH BAPTIST CHURCH': {'SU': ['23', '24']},\n",
       " '089-AVONDALE': {'SU': ['41', '42']},\n",
       " '089-BROOKHAVEN': {'SU': ['40', '42']},\n",
       " '089-DRESDEN ELEM': {'SU': ['40', '42']},\n",
       " '089-EAST LAKE': {'SU': ['42', '44']},\n",
       " '089-MCLENDON': {'SU': ['41', '42']},\n",
       " '089-MCNAIR': {'SU': ['42', '44']},\n",
       " '089-MILLER GROVE': {'SU': ['10', '55']},\n",
       " '089-PANOLA ROAD': {'SU': ['43', '55']},\n",
       " '089-PRINCETON ELEM': {'SU': ['43', '55']},\n",
       " '089-TUCKER LIBRARY': {'SU': ['40', '41']},\n",
       " '117-06 CROSSROADS': {'SU': ['27', '51']},\n",
       " '121-CH02': {'SU': ['28', '35']},\n",
       " '129-RESACA': {'SU': ['52', '54']},\n",
       " '135-BERKSHIRE Q': {'SU': ['09', '41']},\n",
       " '135-CATES L': {'SU': ['09', '55']},\n",
       " '135-LAWRENCEVILLE H': {'SU': ['09', '45']},\n",
       " '135-PINCKNEYVILLE K': {'SU': ['05', '41']},\n",
       " '135-ROCKYCREEK A': {'SU': ['09', '45']},\n",
       " '139-TADMORE': {'SU': ['49', '50']},\n",
       " '153-HHPC': {'SU': ['18', '20', '26']},\n",
       " '153-NSES': {'SU': ['18', '26']},\n",
       " '153-RECR': {'SU': ['18', '20', '26']},\n",
       " '153-TMS': {'SU': ['18', '20']},\n",
       " '157-CENTRAL JACKSON': {'SU': ['47', '50']},\n",
       " '169-CLINTON': {'SU': ['25', '26']},\n",
       " '179-LEWIS FRASIER SCHOOL': {'SU': ['01', '19']},\n",
       " '179-MEMORIAL DR EAST': {'SU': ['01', '19']},\n",
       " '179-WALTHOURVILLE': {'SU': ['01', '19']},\n",
       " '215-COLUMBUS TECH': {'SU': ['15', '29']},\n",
       " '215-EPWORTH UMC': {'SU': ['15', '29']},\n",
       " '215-ST PAUL/CLUBVIEW': {'SU': ['15', '29']},\n",
       " '223-NEBO ELEM SCHOOL': {'SU': ['30', '31']},\n",
       " '223-TAYLOR FARM PARK': {'SU': ['30', '31']},\n",
       " '227-JASPER': {'SU': ['51', '54']},\n",
       " '261-REESE PARK': {'SU': ['12', '13']},\n",
       " '285-LONG CANE': {'SU': ['28', '29']},\n",
       " '285-ROSEMONT': {'SU': ['28', '29']},\n",
       " '297-BLASINGAME': {'SU': ['25', '46']},\n",
       " '315-ABBEVILLE NORTH 2': {'SU': ['07', '13']},\n",
       " '315-ROCHELLE SOUTH 4': {'SU': ['07', '13']}}"
      ]
     },
     "execution_count": 39,
     "metadata": {},
     "output_type": "execute_result"
    }
   ],
   "source": [
    "split_precincts_list"
   ]
  },
  {
   "cell_type": "markdown",
   "id": "fbbb626f",
   "metadata": {},
   "source": [
    "### Perform the Precinct Splits"
   ]
  },
  {
   "cell_type": "code",
   "execution_count": 40,
   "id": "3b97aeb3",
   "metadata": {},
   "outputs": [],
   "source": [
    "ga_sldu_districts[\"SLDU_DISTRICT\"] = ga_sldu_districts[\"SLDU_DISTRICT\"].str[1:3]\n",
    "join_attempt_1 = gp.GeoDataFrame(join_attempt_1, crs = vest_ga_20.crs)"
   ]
  },
  {
   "cell_type": "code",
   "execution_count": 41,
   "id": "08343ece",
   "metadata": {},
   "outputs": [],
   "source": [
    "## Define the \"SLDU_DIST\" column\n",
    "def return_sldu(row):\n",
    "    for val in races:\n",
    "        if row[val] != 0:\n",
    "            return val[3:5]\n",
    "        \n",
    "join_attempt_1[\"SLDU_DIST\"] = join_attempt_1.apply(lambda row: return_sldu(row), axis = 1)"
   ]
  },
  {
   "cell_type": "code",
   "execution_count": 42,
   "id": "47dbb2ab",
   "metadata": {},
   "outputs": [
    {
     "name": "stdout",
     "output_type": "stream",
     "text": [
      "015-ADAIRSVILLE\n"
     ]
    },
    {
     "name": "stderr",
     "output_type": "stream",
     "text": [
      "/Users/peterhorton/Documents/RDH/erj/erj-ga/2020/general/helper_functions.py:20: UserWarning: `keep_geom_type=True` in overlay resulted in 1 dropped geometries of different geometry types than df1 has. Set `keep_geom_type=False` to retain all geometries\n",
      "  test_join = gp.overlay(full_shape, shps_gdf, how = \"intersection\")\n",
      "/Users/peterhorton/Documents/RDH/erj/erj-ga/2020/general/helper_functions.py:20: UserWarning: `keep_geom_type=True` in overlay resulted in 1 dropped geometries of different geometry types than df1 has. Set `keep_geom_type=False` to retain all geometries\n",
      "  test_join = gp.overlay(full_shape, shps_gdf, how = \"intersection\")\n"
     ]
    },
    {
     "name": "stdout",
     "output_type": "stream",
     "text": [
      "015-CARTERSVILLE EAST\n",
      "015-CARTERSVILLE WEST\n"
     ]
    },
    {
     "name": "stderr",
     "output_type": "stream",
     "text": [
      "/Users/peterhorton/Documents/RDH/erj/erj-ga/2020/general/helper_functions.py:20: UserWarning: `keep_geom_type=True` in overlay resulted in 1 dropped geometries of different geometry types than df1 has. Set `keep_geom_type=False` to retain all geometries\n",
      "  test_join = gp.overlay(full_shape, shps_gdf, how = \"intersection\")\n"
     ]
    },
    {
     "name": "stdout",
     "output_type": "stream",
     "text": [
      "015-EMERSON\n"
     ]
    },
    {
     "name": "stderr",
     "output_type": "stream",
     "text": [
      "/Users/peterhorton/Documents/RDH/erj/erj-ga/2020/general/helper_functions.py:20: UserWarning: `keep_geom_type=True` in overlay resulted in 3 dropped geometries of different geometry types than df1 has. Set `keep_geom_type=False` to retain all geometries\n",
      "  test_join = gp.overlay(full_shape, shps_gdf, how = \"intersection\")\n"
     ]
    },
    {
     "name": "stdout",
     "output_type": "stream",
     "text": [
      "021-HOWARD 3\n",
      "021-HOWARD 7\n",
      "021-RUTLAND 2\n",
      "045-ROOPVILLE\n"
     ]
    },
    {
     "name": "stderr",
     "output_type": "stream",
     "text": [
      "/Users/peterhorton/Documents/RDH/erj/erj-ga/2020/general/helper_functions.py:20: UserWarning: `keep_geom_type=True` in overlay resulted in 2 dropped geometries of different geometry types than df1 has. Set `keep_geom_type=False` to retain all geometries\n",
      "  test_join = gp.overlay(full_shape, shps_gdf, how = \"intersection\")\n"
     ]
    },
    {
     "name": "stdout",
     "output_type": "stream",
     "text": [
      "049-AMERICAN LEGION\n"
     ]
    },
    {
     "name": "stderr",
     "output_type": "stream",
     "text": [
      "/Users/peterhorton/Documents/RDH/erj/erj-ga/2020/general/helper_functions.py:20: UserWarning: `keep_geom_type=True` in overlay resulted in 3 dropped geometries of different geometry types than df1 has. Set `keep_geom_type=False` to retain all geometries\n",
      "  test_join = gp.overlay(full_shape, shps_gdf, how = \"intersection\")\n",
      "/Users/peterhorton/Documents/RDH/erj/erj-ga/2020/general/helper_functions.py:20: UserWarning: `keep_geom_type=True` in overlay resulted in 1 dropped geometries of different geometry types than df1 has. Set `keep_geom_type=False` to retain all geometries\n",
      "  test_join = gp.overlay(full_shape, shps_gdf, how = \"intersection\")\n"
     ]
    },
    {
     "name": "stdout",
     "output_type": "stream",
     "text": [
      "049-RACEPOND\n",
      "051-THUNDERBOLT MUNI COMPLEX\n"
     ]
    },
    {
     "name": "stderr",
     "output_type": "stream",
     "text": [
      "/Users/peterhorton/Documents/RDH/erj/erj-ga/2020/general/helper_functions.py:20: UserWarning: `keep_geom_type=True` in overlay resulted in 1 dropped geometries of different geometry types than df1 has. Set `keep_geom_type=False` to retain all geometries\n",
      "  test_join = gp.overlay(full_shape, shps_gdf, how = \"intersection\")\n",
      "/Users/peterhorton/Documents/RDH/erj/erj-ga/2020/general/helper_functions.py:20: UserWarning: `keep_geom_type=True` in overlay resulted in 1 dropped geometries of different geometry types than df1 has. Set `keep_geom_type=False` to retain all geometries\n",
      "  test_join = gp.overlay(full_shape, shps_gdf, how = \"intersection\")\n"
     ]
    },
    {
     "name": "stdout",
     "output_type": "stream",
     "text": [
      "057-BASCOMB\n",
      "057-BOOTH\n"
     ]
    },
    {
     "name": "stderr",
     "output_type": "stream",
     "text": [
      "/Users/peterhorton/Documents/RDH/erj/erj-ga/2020/general/helper_functions.py:20: UserWarning: `keep_geom_type=True` in overlay resulted in 3 dropped geometries of different geometry types than df1 has. Set `keep_geom_type=False` to retain all geometries\n",
      "  test_join = gp.overlay(full_shape, shps_gdf, how = \"intersection\")\n"
     ]
    },
    {
     "name": "stdout",
     "output_type": "stream",
     "text": [
      "057-LITTLE RIVER\n"
     ]
    },
    {
     "name": "stderr",
     "output_type": "stream",
     "text": [
      "/Users/peterhorton/Documents/RDH/erj/erj-ga/2020/general/helper_functions.py:20: UserWarning: `keep_geom_type=True` in overlay resulted in 4 dropped geometries of different geometry types than df1 has. Set `keep_geom_type=False` to retain all geometries\n",
      "  test_join = gp.overlay(full_shape, shps_gdf, how = \"intersection\")\n"
     ]
    },
    {
     "name": "stdout",
     "output_type": "stream",
     "text": [
      "067-EAST PIEDMONT 01\n"
     ]
    },
    {
     "name": "stderr",
     "output_type": "stream",
     "text": [
      "/Users/peterhorton/Documents/RDH/erj/erj-ga/2020/general/helper_functions.py:20: UserWarning: `keep_geom_type=True` in overlay resulted in 4 dropped geometries of different geometry types than df1 has. Set `keep_geom_type=False` to retain all geometries\n",
      "  test_join = gp.overlay(full_shape, shps_gdf, how = \"intersection\")\n"
     ]
    },
    {
     "name": "stdout",
     "output_type": "stream",
     "text": [
      "067-EASTSIDE 02\n"
     ]
    },
    {
     "name": "stderr",
     "output_type": "stream",
     "text": [
      "/Users/peterhorton/Documents/RDH/erj/erj-ga/2020/general/helper_functions.py:20: UserWarning: `keep_geom_type=True` in overlay resulted in 3 dropped geometries of different geometry types than df1 has. Set `keep_geom_type=False` to retain all geometries\n",
      "  test_join = gp.overlay(full_shape, shps_gdf, how = \"intersection\")\n"
     ]
    },
    {
     "name": "stdout",
     "output_type": "stream",
     "text": [
      "067-ELIZABETH 01\n"
     ]
    },
    {
     "name": "stderr",
     "output_type": "stream",
     "text": [
      "/Users/peterhorton/Documents/RDH/erj/erj-ga/2020/general/helper_functions.py:20: UserWarning: `keep_geom_type=True` in overlay resulted in 26 dropped geometries of different geometry types than df1 has. Set `keep_geom_type=False` to retain all geometries\n",
      "  test_join = gp.overlay(full_shape, shps_gdf, how = \"intersection\")\n"
     ]
    },
    {
     "name": "stdout",
     "output_type": "stream",
     "text": [
      "067-ELIZABETH 04\n"
     ]
    },
    {
     "name": "stderr",
     "output_type": "stream",
     "text": [
      "/Users/peterhorton/Documents/RDH/erj/erj-ga/2020/general/helper_functions.py:20: UserWarning: `keep_geom_type=True` in overlay resulted in 45 dropped geometries of different geometry types than df1 has. Set `keep_geom_type=False` to retain all geometries\n",
      "  test_join = gp.overlay(full_shape, shps_gdf, how = \"intersection\")\n"
     ]
    },
    {
     "name": "stdout",
     "output_type": "stream",
     "text": [
      "067-KENNESAW 1A\n"
     ]
    },
    {
     "name": "stderr",
     "output_type": "stream",
     "text": [
      "/Users/peterhorton/Documents/RDH/erj/erj-ga/2020/general/helper_functions.py:20: UserWarning: `keep_geom_type=True` in overlay resulted in 2 dropped geometries of different geometry types than df1 has. Set `keep_geom_type=False` to retain all geometries\n",
      "  test_join = gp.overlay(full_shape, shps_gdf, how = \"intersection\")\n"
     ]
    },
    {
     "name": "stdout",
     "output_type": "stream",
     "text": [
      "067-MABLETON 02\n"
     ]
    },
    {
     "name": "stderr",
     "output_type": "stream",
     "text": [
      "/Users/peterhorton/Documents/RDH/erj/erj-ga/2020/general/helper_functions.py:20: UserWarning: `keep_geom_type=True` in overlay resulted in 14 dropped geometries of different geometry types than df1 has. Set `keep_geom_type=False` to retain all geometries\n",
      "  test_join = gp.overlay(full_shape, shps_gdf, how = \"intersection\")\n"
     ]
    },
    {
     "name": "stdout",
     "output_type": "stream",
     "text": [
      "067-MARIETTA 1A\n"
     ]
    },
    {
     "name": "stderr",
     "output_type": "stream",
     "text": [
      "/Users/peterhorton/Documents/RDH/erj/erj-ga/2020/general/helper_functions.py:20: UserWarning: `keep_geom_type=True` in overlay resulted in 13 dropped geometries of different geometry types than df1 has. Set `keep_geom_type=False` to retain all geometries\n",
      "  test_join = gp.overlay(full_shape, shps_gdf, how = \"intersection\")\n"
     ]
    },
    {
     "name": "stdout",
     "output_type": "stream",
     "text": [
      "067-MARIETTA 2A\n"
     ]
    },
    {
     "name": "stderr",
     "output_type": "stream",
     "text": [
      "/Users/peterhorton/Documents/RDH/erj/erj-ga/2020/general/helper_functions.py:20: UserWarning: `keep_geom_type=True` in overlay resulted in 7 dropped geometries of different geometry types than df1 has. Set `keep_geom_type=False` to retain all geometries\n",
      "  test_join = gp.overlay(full_shape, shps_gdf, how = \"intersection\")\n"
     ]
    },
    {
     "name": "stdout",
     "output_type": "stream",
     "text": [
      "067-MARIETTA 5B\n",
      "067-MARIETTA 6A\n"
     ]
    },
    {
     "name": "stderr",
     "output_type": "stream",
     "text": [
      "/Users/peterhorton/Documents/RDH/erj/erj-ga/2020/general/helper_functions.py:20: UserWarning: `keep_geom_type=True` in overlay resulted in 19 dropped geometries of different geometry types than df1 has. Set `keep_geom_type=False` to retain all geometries\n",
      "  test_join = gp.overlay(full_shape, shps_gdf, how = \"intersection\")\n"
     ]
    },
    {
     "name": "stdout",
     "output_type": "stream",
     "text": [
      "067-MARIETTA 7A\n"
     ]
    },
    {
     "name": "stderr",
     "output_type": "stream",
     "text": [
      "/Users/peterhorton/Documents/RDH/erj/erj-ga/2020/general/helper_functions.py:20: UserWarning: `keep_geom_type=True` in overlay resulted in 11 dropped geometries of different geometry types than df1 has. Set `keep_geom_type=False` to retain all geometries\n",
      "  test_join = gp.overlay(full_shape, shps_gdf, how = \"intersection\")\n"
     ]
    },
    {
     "name": "stdout",
     "output_type": "stream",
     "text": [
      "067-NICKAJACK 01\n"
     ]
    },
    {
     "name": "stderr",
     "output_type": "stream",
     "text": [
      "/Users/peterhorton/Documents/RDH/erj/erj-ga/2020/general/helper_functions.py:20: UserWarning: `keep_geom_type=True` in overlay resulted in 5 dropped geometries of different geometry types than df1 has. Set `keep_geom_type=False` to retain all geometries\n",
      "  test_join = gp.overlay(full_shape, shps_gdf, how = \"intersection\")\n"
     ]
    },
    {
     "name": "stdout",
     "output_type": "stream",
     "text": [
      "067-OAKDALE 01\n"
     ]
    },
    {
     "name": "stderr",
     "output_type": "stream",
     "text": [
      "/Users/peterhorton/Documents/RDH/erj/erj-ga/2020/general/helper_functions.py:20: UserWarning: `keep_geom_type=True` in overlay resulted in 31 dropped geometries of different geometry types than df1 has. Set `keep_geom_type=False` to retain all geometries\n",
      "  test_join = gp.overlay(full_shape, shps_gdf, how = \"intersection\")\n",
      "/Users/peterhorton/Documents/RDH/erj/erj-ga/2020/general/helper_functions.py:20: UserWarning: `keep_geom_type=True` in overlay resulted in 3 dropped geometries of different geometry types than df1 has. Set `keep_geom_type=False` to retain all geometries\n",
      "  test_join = gp.overlay(full_shape, shps_gdf, how = \"intersection\")\n"
     ]
    },
    {
     "name": "stdout",
     "output_type": "stream",
     "text": [
      "067-OREGON 03\n",
      "067-PALMER 01\n"
     ]
    },
    {
     "name": "stderr",
     "output_type": "stream",
     "text": [
      "/Users/peterhorton/Documents/RDH/erj/erj-ga/2020/general/helper_functions.py:20: UserWarning: `keep_geom_type=True` in overlay resulted in 12 dropped geometries of different geometry types than df1 has. Set `keep_geom_type=False` to retain all geometries\n",
      "  test_join = gp.overlay(full_shape, shps_gdf, how = \"intersection\")\n"
     ]
    },
    {
     "name": "stdout",
     "output_type": "stream",
     "text": [
      "067-SMYRNA 3B\n"
     ]
    },
    {
     "name": "stderr",
     "output_type": "stream",
     "text": [
      "/Users/peterhorton/Documents/RDH/erj/erj-ga/2020/general/helper_functions.py:20: UserWarning: `keep_geom_type=True` in overlay resulted in 11 dropped geometries of different geometry types than df1 has. Set `keep_geom_type=False` to retain all geometries\n",
      "  test_join = gp.overlay(full_shape, shps_gdf, how = \"intersection\")\n"
     ]
    },
    {
     "name": "stdout",
     "output_type": "stream",
     "text": [
      "067-SMYRNA 4A\n"
     ]
    },
    {
     "name": "stderr",
     "output_type": "stream",
     "text": [
      "/Users/peterhorton/Documents/RDH/erj/erj-ga/2020/general/helper_functions.py:20: UserWarning: `keep_geom_type=True` in overlay resulted in 18 dropped geometries of different geometry types than df1 has. Set `keep_geom_type=False` to retain all geometries\n",
      "  test_join = gp.overlay(full_shape, shps_gdf, how = \"intersection\")\n",
      "/Users/peterhorton/Documents/RDH/erj/erj-ga/2020/general/helper_functions.py:20: UserWarning: `keep_geom_type=True` in overlay resulted in 29 dropped geometries of different geometry types than df1 has. Set `keep_geom_type=False` to retain all geometries\n",
      "  test_join = gp.overlay(full_shape, shps_gdf, how = \"intersection\")\n"
     ]
    },
    {
     "name": "stdout",
     "output_type": "stream",
     "text": [
      "067-SMYRNA 5A\n",
      "067-SMYRNA 6A\n",
      "067-TERRELL MILL 01\n"
     ]
    },
    {
     "name": "stderr",
     "output_type": "stream",
     "text": [
      "/Users/peterhorton/Documents/RDH/erj/erj-ga/2020/general/helper_functions.py:20: UserWarning: `keep_geom_type=True` in overlay resulted in 10 dropped geometries of different geometry types than df1 has. Set `keep_geom_type=False` to retain all geometries\n",
      "  test_join = gp.overlay(full_shape, shps_gdf, how = \"intersection\")\n"
     ]
    },
    {
     "name": "stdout",
     "output_type": "stream",
     "text": [
      "073-HARLEM BRANCH LIBRARY\n"
     ]
    },
    {
     "name": "stderr",
     "output_type": "stream",
     "text": [
      "/Users/peterhorton/Documents/RDH/erj/erj-ga/2020/general/helper_functions.py:20: UserWarning: `keep_geom_type=True` in overlay resulted in 12 dropped geometries of different geometry types than df1 has. Set `keep_geom_type=False` to retain all geometries\n",
      "  test_join = gp.overlay(full_shape, shps_gdf, how = \"intersection\")\n"
     ]
    },
    {
     "name": "stdout",
     "output_type": "stream",
     "text": [
      "073-SECOND MT MORIAH BAPTIST CHURCH\n"
     ]
    },
    {
     "name": "stderr",
     "output_type": "stream",
     "text": [
      "/Users/peterhorton/Documents/RDH/erj/erj-ga/2020/general/helper_functions.py:20: UserWarning: `keep_geom_type=True` in overlay resulted in 44 dropped geometries of different geometry types than df1 has. Set `keep_geom_type=False` to retain all geometries\n",
      "  test_join = gp.overlay(full_shape, shps_gdf, how = \"intersection\")\n"
     ]
    },
    {
     "name": "stdout",
     "output_type": "stream",
     "text": [
      "089-AVONDALE\n"
     ]
    },
    {
     "name": "stderr",
     "output_type": "stream",
     "text": [
      "/Users/peterhorton/Documents/RDH/erj/erj-ga/2020/general/helper_functions.py:20: UserWarning: `keep_geom_type=True` in overlay resulted in 6 dropped geometries of different geometry types than df1 has. Set `keep_geom_type=False` to retain all geometries\n",
      "  test_join = gp.overlay(full_shape, shps_gdf, how = \"intersection\")\n",
      "/Users/peterhorton/Documents/RDH/erj/erj-ga/2020/general/helper_functions.py:20: UserWarning: `keep_geom_type=True` in overlay resulted in 12 dropped geometries of different geometry types than df1 has. Set `keep_geom_type=False` to retain all geometries\n",
      "  test_join = gp.overlay(full_shape, shps_gdf, how = \"intersection\")\n"
     ]
    },
    {
     "name": "stdout",
     "output_type": "stream",
     "text": [
      "089-BROOKHAVEN\n",
      "089-DRESDEN ELEM\n"
     ]
    },
    {
     "name": "stderr",
     "output_type": "stream",
     "text": [
      "/Users/peterhorton/Documents/RDH/erj/erj-ga/2020/general/helper_functions.py:20: UserWarning: `keep_geom_type=True` in overlay resulted in 1 dropped geometries of different geometry types than df1 has. Set `keep_geom_type=False` to retain all geometries\n",
      "  test_join = gp.overlay(full_shape, shps_gdf, how = \"intersection\")\n",
      "/Users/peterhorton/Documents/RDH/erj/erj-ga/2020/general/helper_functions.py:20: UserWarning: `keep_geom_type=True` in overlay resulted in 11 dropped geometries of different geometry types than df1 has. Set `keep_geom_type=False` to retain all geometries\n",
      "  test_join = gp.overlay(full_shape, shps_gdf, how = \"intersection\")\n"
     ]
    },
    {
     "name": "stdout",
     "output_type": "stream",
     "text": [
      "089-EAST LAKE\n",
      "089-MCLENDON\n"
     ]
    },
    {
     "name": "stderr",
     "output_type": "stream",
     "text": [
      "/Users/peterhorton/Documents/RDH/erj/erj-ga/2020/general/helper_functions.py:20: UserWarning: `keep_geom_type=True` in overlay resulted in 4 dropped geometries of different geometry types than df1 has. Set `keep_geom_type=False` to retain all geometries\n",
      "  test_join = gp.overlay(full_shape, shps_gdf, how = \"intersection\")\n",
      "/Users/peterhorton/Documents/RDH/erj/erj-ga/2020/general/helper_functions.py:20: UserWarning: `keep_geom_type=True` in overlay resulted in 5 dropped geometries of different geometry types than df1 has. Set `keep_geom_type=False` to retain all geometries\n",
      "  test_join = gp.overlay(full_shape, shps_gdf, how = \"intersection\")\n"
     ]
    },
    {
     "name": "stdout",
     "output_type": "stream",
     "text": [
      "089-MCNAIR\n",
      "089-MILLER GROVE\n"
     ]
    },
    {
     "name": "stderr",
     "output_type": "stream",
     "text": [
      "/Users/peterhorton/Documents/RDH/erj/erj-ga/2020/general/helper_functions.py:20: UserWarning: `keep_geom_type=True` in overlay resulted in 7 dropped geometries of different geometry types than df1 has. Set `keep_geom_type=False` to retain all geometries\n",
      "  test_join = gp.overlay(full_shape, shps_gdf, how = \"intersection\")\n"
     ]
    },
    {
     "name": "stdout",
     "output_type": "stream",
     "text": [
      "089-PANOLA ROAD\n"
     ]
    },
    {
     "name": "stderr",
     "output_type": "stream",
     "text": [
      "/Users/peterhorton/Documents/RDH/erj/erj-ga/2020/general/helper_functions.py:20: UserWarning: `keep_geom_type=True` in overlay resulted in 7 dropped geometries of different geometry types than df1 has. Set `keep_geom_type=False` to retain all geometries\n",
      "  test_join = gp.overlay(full_shape, shps_gdf, how = \"intersection\")\n"
     ]
    },
    {
     "name": "stdout",
     "output_type": "stream",
     "text": [
      "089-PRINCETON ELEM\n"
     ]
    },
    {
     "name": "stderr",
     "output_type": "stream",
     "text": [
      "/Users/peterhorton/Documents/RDH/erj/erj-ga/2020/general/helper_functions.py:20: UserWarning: `keep_geom_type=True` in overlay resulted in 9 dropped geometries of different geometry types than df1 has. Set `keep_geom_type=False` to retain all geometries\n",
      "  test_join = gp.overlay(full_shape, shps_gdf, how = \"intersection\")\n"
     ]
    },
    {
     "name": "stdout",
     "output_type": "stream",
     "text": [
      "089-TUCKER LIBRARY\n"
     ]
    },
    {
     "name": "stderr",
     "output_type": "stream",
     "text": [
      "/Users/peterhorton/Documents/RDH/erj/erj-ga/2020/general/helper_functions.py:20: UserWarning: `keep_geom_type=True` in overlay resulted in 14 dropped geometries of different geometry types than df1 has. Set `keep_geom_type=False` to retain all geometries\n",
      "  test_join = gp.overlay(full_shape, shps_gdf, how = \"intersection\")\n"
     ]
    },
    {
     "name": "stdout",
     "output_type": "stream",
     "text": [
      "117-06 CROSSROADS\n",
      "121-CH02\n"
     ]
    },
    {
     "name": "stderr",
     "output_type": "stream",
     "text": [
      "/Users/peterhorton/Documents/RDH/erj/erj-ga/2020/general/helper_functions.py:20: UserWarning: `keep_geom_type=True` in overlay resulted in 11 dropped geometries of different geometry types than df1 has. Set `keep_geom_type=False` to retain all geometries\n",
      "  test_join = gp.overlay(full_shape, shps_gdf, how = \"intersection\")\n"
     ]
    },
    {
     "name": "stdout",
     "output_type": "stream",
     "text": [
      "129-RESACA\n"
     ]
    },
    {
     "name": "stderr",
     "output_type": "stream",
     "text": [
      "/Users/peterhorton/Documents/RDH/erj/erj-ga/2020/general/helper_functions.py:20: UserWarning: `keep_geom_type=True` in overlay resulted in 2 dropped geometries of different geometry types than df1 has. Set `keep_geom_type=False` to retain all geometries\n",
      "  test_join = gp.overlay(full_shape, shps_gdf, how = \"intersection\")\n"
     ]
    },
    {
     "name": "stdout",
     "output_type": "stream",
     "text": [
      "135-BERKSHIRE Q\n",
      "135-CATES L\n"
     ]
    },
    {
     "name": "stderr",
     "output_type": "stream",
     "text": [
      "/Users/peterhorton/Documents/RDH/erj/erj-ga/2020/general/helper_functions.py:20: UserWarning: `keep_geom_type=True` in overlay resulted in 17 dropped geometries of different geometry types than df1 has. Set `keep_geom_type=False` to retain all geometries\n",
      "  test_join = gp.overlay(full_shape, shps_gdf, how = \"intersection\")\n"
     ]
    },
    {
     "name": "stdout",
     "output_type": "stream",
     "text": [
      "135-LAWRENCEVILLE H\n"
     ]
    },
    {
     "name": "stderr",
     "output_type": "stream",
     "text": [
      "/Users/peterhorton/Documents/RDH/erj/erj-ga/2020/general/helper_functions.py:20: UserWarning: `keep_geom_type=True` in overlay resulted in 48 dropped geometries of different geometry types than df1 has. Set `keep_geom_type=False` to retain all geometries\n",
      "  test_join = gp.overlay(full_shape, shps_gdf, how = \"intersection\")\n"
     ]
    },
    {
     "name": "stdout",
     "output_type": "stream",
     "text": [
      "135-PINCKNEYVILLE K\n"
     ]
    },
    {
     "name": "stderr",
     "output_type": "stream",
     "text": [
      "/Users/peterhorton/Documents/RDH/erj/erj-ga/2020/general/helper_functions.py:20: UserWarning: `keep_geom_type=True` in overlay resulted in 3 dropped geometries of different geometry types than df1 has. Set `keep_geom_type=False` to retain all geometries\n",
      "  test_join = gp.overlay(full_shape, shps_gdf, how = \"intersection\")\n"
     ]
    },
    {
     "name": "stdout",
     "output_type": "stream",
     "text": [
      "135-ROCKYCREEK A\n"
     ]
    },
    {
     "name": "stderr",
     "output_type": "stream",
     "text": [
      "/Users/peterhorton/Documents/RDH/erj/erj-ga/2020/general/helper_functions.py:20: UserWarning: `keep_geom_type=True` in overlay resulted in 18 dropped geometries of different geometry types than df1 has. Set `keep_geom_type=False` to retain all geometries\n",
      "  test_join = gp.overlay(full_shape, shps_gdf, how = \"intersection\")\n",
      "/Users/peterhorton/Documents/RDH/erj/erj-ga/2020/general/helper_functions.py:20: UserWarning: `keep_geom_type=True` in overlay resulted in 2 dropped geometries of different geometry types than df1 has. Set `keep_geom_type=False` to retain all geometries\n",
      "  test_join = gp.overlay(full_shape, shps_gdf, how = \"intersection\")\n"
     ]
    },
    {
     "name": "stdout",
     "output_type": "stream",
     "text": [
      "139-TADMORE\n",
      "153-HHPC\n"
     ]
    },
    {
     "name": "stderr",
     "output_type": "stream",
     "text": [
      "/Users/peterhorton/Documents/RDH/erj/erj-ga/2020/general/helper_functions.py:20: UserWarning: `keep_geom_type=True` in overlay resulted in 4 dropped geometries of different geometry types than df1 has. Set `keep_geom_type=False` to retain all geometries\n",
      "  test_join = gp.overlay(full_shape, shps_gdf, how = \"intersection\")\n"
     ]
    },
    {
     "name": "stdout",
     "output_type": "stream",
     "text": [
      "153-NSES\n"
     ]
    },
    {
     "name": "stderr",
     "output_type": "stream",
     "text": [
      "/Users/peterhorton/Documents/RDH/erj/erj-ga/2020/general/helper_functions.py:20: UserWarning: `keep_geom_type=True` in overlay resulted in 2 dropped geometries of different geometry types than df1 has. Set `keep_geom_type=False` to retain all geometries\n",
      "  test_join = gp.overlay(full_shape, shps_gdf, how = \"intersection\")\n"
     ]
    },
    {
     "name": "stdout",
     "output_type": "stream",
     "text": [
      "153-RECR\n"
     ]
    },
    {
     "name": "stderr",
     "output_type": "stream",
     "text": [
      "/Users/peterhorton/Documents/RDH/erj/erj-ga/2020/general/helper_functions.py:20: UserWarning: `keep_geom_type=True` in overlay resulted in 3 dropped geometries of different geometry types than df1 has. Set `keep_geom_type=False` to retain all geometries\n",
      "  test_join = gp.overlay(full_shape, shps_gdf, how = \"intersection\")\n"
     ]
    },
    {
     "name": "stdout",
     "output_type": "stream",
     "text": [
      "153-TMS\n"
     ]
    },
    {
     "name": "stderr",
     "output_type": "stream",
     "text": [
      "/Users/peterhorton/Documents/RDH/erj/erj-ga/2020/general/helper_functions.py:20: UserWarning: `keep_geom_type=True` in overlay resulted in 2 dropped geometries of different geometry types than df1 has. Set `keep_geom_type=False` to retain all geometries\n",
      "  test_join = gp.overlay(full_shape, shps_gdf, how = \"intersection\")\n"
     ]
    },
    {
     "name": "stdout",
     "output_type": "stream",
     "text": [
      "157-CENTRAL JACKSON\n"
     ]
    },
    {
     "name": "stderr",
     "output_type": "stream",
     "text": [
      "/Users/peterhorton/Documents/RDH/erj/erj-ga/2020/general/helper_functions.py:20: UserWarning: `keep_geom_type=True` in overlay resulted in 3 dropped geometries of different geometry types than df1 has. Set `keep_geom_type=False` to retain all geometries\n",
      "  test_join = gp.overlay(full_shape, shps_gdf, how = \"intersection\")\n",
      "/Users/peterhorton/Documents/RDH/erj/erj-ga/2020/general/helper_functions.py:20: UserWarning: `keep_geom_type=True` in overlay resulted in 1 dropped geometries of different geometry types than df1 has. Set `keep_geom_type=False` to retain all geometries\n",
      "  test_join = gp.overlay(full_shape, shps_gdf, how = \"intersection\")\n"
     ]
    },
    {
     "name": "stdout",
     "output_type": "stream",
     "text": [
      "169-CLINTON\n",
      "179-LEWIS FRASIER SCHOOL\n",
      "179-MEMORIAL DR EAST\n",
      "179-WALTHOURVILLE\n"
     ]
    },
    {
     "name": "stderr",
     "output_type": "stream",
     "text": [
      "/Users/peterhorton/Documents/RDH/erj/erj-ga/2020/general/helper_functions.py:20: UserWarning: `keep_geom_type=True` in overlay resulted in 1 dropped geometries of different geometry types than df1 has. Set `keep_geom_type=False` to retain all geometries\n",
      "  test_join = gp.overlay(full_shape, shps_gdf, how = \"intersection\")\n",
      "/Users/peterhorton/Documents/RDH/erj/erj-ga/2020/general/helper_functions.py:20: UserWarning: `keep_geom_type=True` in overlay resulted in 1 dropped geometries of different geometry types than df1 has. Set `keep_geom_type=False` to retain all geometries\n",
      "  test_join = gp.overlay(full_shape, shps_gdf, how = \"intersection\")\n"
     ]
    },
    {
     "name": "stdout",
     "output_type": "stream",
     "text": [
      "215-COLUMBUS TECH\n",
      "215-EPWORTH UMC\n"
     ]
    },
    {
     "name": "stderr",
     "output_type": "stream",
     "text": [
      "/Users/peterhorton/Documents/RDH/erj/erj-ga/2020/general/helper_functions.py:20: UserWarning: `keep_geom_type=True` in overlay resulted in 1 dropped geometries of different geometry types than df1 has. Set `keep_geom_type=False` to retain all geometries\n",
      "  test_join = gp.overlay(full_shape, shps_gdf, how = \"intersection\")\n",
      "/Users/peterhorton/Documents/RDH/erj/erj-ga/2020/general/helper_functions.py:20: UserWarning: `keep_geom_type=True` in overlay resulted in 2 dropped geometries of different geometry types than df1 has. Set `keep_geom_type=False` to retain all geometries\n",
      "  test_join = gp.overlay(full_shape, shps_gdf, how = \"intersection\")\n"
     ]
    },
    {
     "name": "stdout",
     "output_type": "stream",
     "text": [
      "215-ST PAUL/CLUBVIEW\n",
      "223-NEBO ELEM SCHOOL\n"
     ]
    },
    {
     "name": "stderr",
     "output_type": "stream",
     "text": [
      "/Users/peterhorton/Documents/RDH/erj/erj-ga/2020/general/helper_functions.py:20: UserWarning: `keep_geom_type=True` in overlay resulted in 1 dropped geometries of different geometry types than df1 has. Set `keep_geom_type=False` to retain all geometries\n",
      "  test_join = gp.overlay(full_shape, shps_gdf, how = \"intersection\")\n"
     ]
    },
    {
     "name": "stdout",
     "output_type": "stream",
     "text": [
      "223-TAYLOR FARM PARK\n"
     ]
    },
    {
     "name": "stderr",
     "output_type": "stream",
     "text": [
      "/Users/peterhorton/Documents/RDH/erj/erj-ga/2020/general/helper_functions.py:20: UserWarning: `keep_geom_type=True` in overlay resulted in 11 dropped geometries of different geometry types than df1 has. Set `keep_geom_type=False` to retain all geometries\n",
      "  test_join = gp.overlay(full_shape, shps_gdf, how = \"intersection\")\n",
      "/Users/peterhorton/Documents/RDH/erj/erj-ga/2020/general/helper_functions.py:20: UserWarning: `keep_geom_type=True` in overlay resulted in 1 dropped geometries of different geometry types than df1 has. Set `keep_geom_type=False` to retain all geometries\n",
      "  test_join = gp.overlay(full_shape, shps_gdf, how = \"intersection\")\n"
     ]
    },
    {
     "name": "stdout",
     "output_type": "stream",
     "text": [
      "227-JASPER\n",
      "261-REESE PARK\n"
     ]
    },
    {
     "name": "stderr",
     "output_type": "stream",
     "text": [
      "/Users/peterhorton/Documents/RDH/erj/erj-ga/2020/general/helper_functions.py:20: UserWarning: `keep_geom_type=True` in overlay resulted in 4 dropped geometries of different geometry types than df1 has. Set `keep_geom_type=False` to retain all geometries\n",
      "  test_join = gp.overlay(full_shape, shps_gdf, how = \"intersection\")\n",
      "/Users/peterhorton/Documents/RDH/erj/erj-ga/2020/general/helper_functions.py:20: UserWarning: `keep_geom_type=True` in overlay resulted in 1 dropped geometries of different geometry types than df1 has. Set `keep_geom_type=False` to retain all geometries\n",
      "  test_join = gp.overlay(full_shape, shps_gdf, how = \"intersection\")\n"
     ]
    },
    {
     "name": "stdout",
     "output_type": "stream",
     "text": [
      "285-LONG CANE\n",
      "285-ROSEMONT\n"
     ]
    },
    {
     "name": "stderr",
     "output_type": "stream",
     "text": [
      "/Users/peterhorton/Documents/RDH/erj/erj-ga/2020/general/helper_functions.py:20: UserWarning: `keep_geom_type=True` in overlay resulted in 4 dropped geometries of different geometry types than df1 has. Set `keep_geom_type=False` to retain all geometries\n",
      "  test_join = gp.overlay(full_shape, shps_gdf, how = \"intersection\")\n",
      "/Users/peterhorton/Documents/RDH/erj/erj-ga/2020/general/helper_functions.py:20: UserWarning: `keep_geom_type=True` in overlay resulted in 1 dropped geometries of different geometry types than df1 has. Set `keep_geom_type=False` to retain all geometries\n",
      "  test_join = gp.overlay(full_shape, shps_gdf, how = \"intersection\")\n"
     ]
    },
    {
     "name": "stdout",
     "output_type": "stream",
     "text": [
      "297-BLASINGAME\n",
      "315-ABBEVILLE NORTH 2\n"
     ]
    },
    {
     "name": "stderr",
     "output_type": "stream",
     "text": [
      "/Users/peterhorton/Documents/RDH/erj/erj-ga/2020/general/helper_functions.py:20: UserWarning: `keep_geom_type=True` in overlay resulted in 2 dropped geometries of different geometry types than df1 has. Set `keep_geom_type=False` to retain all geometries\n",
      "  test_join = gp.overlay(full_shape, shps_gdf, how = \"intersection\")\n"
     ]
    },
    {
     "name": "stdout",
     "output_type": "stream",
     "text": [
      "315-ROCHELLE SOUTH 4\n"
     ]
    },
    {
     "name": "stderr",
     "output_type": "stream",
     "text": [
      "/Users/peterhorton/Documents/RDH/erj/erj-ga/2020/general/helper_functions.py:20: UserWarning: `keep_geom_type=True` in overlay resulted in 3 dropped geometries of different geometry types than df1 has. Set `keep_geom_type=False` to retain all geometries\n",
      "  test_join = gp.overlay(full_shape, shps_gdf, how = \"intersection\")\n"
     ]
    }
   ],
   "source": [
    "for val in join_attempt_1[\"unique_ID\"]:\n",
    "    cd_list = []\n",
    "    if val in split_precincts_list.keys():\n",
    "        print(val)\n",
    "        join_attempt_1 = helper_functions.district_splits_mod(split_precincts_list[val],\"SU\",val, join_attempt_1, ga_sldu_districts, \"unique_ID\", \"SLDU_DISTRICT\", races, \"SLDU_DIST\")"
   ]
  },
  {
   "cell_type": "markdown",
   "id": "7ae2a85b",
   "metadata": {},
   "source": [
    "### Clean the DataFrame and Filter Columns"
   ]
  },
  {
   "cell_type": "code",
   "execution_count": 43,
   "id": "b40f9fef",
   "metadata": {},
   "outputs": [],
   "source": [
    "join_attempt_1.rename(columns = {'unique_ID':\"UNIQUE_ID\", 'county_fips':'COUNTYFP'}, inplace = True)"
   ]
  },
  {
   "cell_type": "code",
   "execution_count": 44,
   "id": "693cadec",
   "metadata": {},
   "outputs": [],
   "source": [
    "join_attempt_1 = join_attempt_1[[\"UNIQUE_ID\", 'COUNTYFP','DISTRICT', 'CTYSOSID', 'PRECINCT_I', 'PRECINCT_N', 'CTYNAME',\n",
    "       'CTYNUMBER', 'CTYNUMBER2', 'FIPS2','SLDU_DIST']+races+[\"geometry\"]]"
   ]
  },
  {
   "cell_type": "markdown",
   "id": "92eafbcb",
   "metadata": {},
   "source": [
    "### Check the District Assignments"
   ]
  },
  {
   "cell_type": "code",
   "execution_count": 45,
   "id": "4ed2bfb8",
   "metadata": {},
   "outputs": [],
   "source": [
    "na_values = join_attempt_1[join_attempt_1[\"SLDU_DIST\"].isna()]\n",
    "others = join_attempt_1[~(join_attempt_1[\"SLDU_DIST\"].isna())]"
   ]
  },
  {
   "cell_type": "code",
   "execution_count": 46,
   "id": "56be0615",
   "metadata": {},
   "outputs": [
    {
     "name": "stderr",
     "output_type": "stream",
     "text": [
      "/var/folders/1t/0q4w6hm92mg_zxd84dfxmq3m0000gn/T/ipykernel_82769/2622600231.py:1: UserWarning: `keep_geom_type=True` in overlay resulted in 8 dropped geometries of different geometry types than df1 has. Set `keep_geom_type=False` to retain all geometries\n",
      "  intersected = gp.overlay(ga_sldu_districts, na_values, how = \"intersection\")\n"
     ]
    }
   ],
   "source": [
    "intersected = gp.overlay(ga_sldu_districts, na_values, how = \"intersection\")"
   ]
  },
  {
   "cell_type": "code",
   "execution_count": 47,
   "id": "84b155dd",
   "metadata": {},
   "outputs": [
    {
     "name": "stderr",
     "output_type": "stream",
     "text": [
      "/var/folders/1t/0q4w6hm92mg_zxd84dfxmq3m0000gn/T/ipykernel_82769/2763017876.py:3: UserWarning: Geometry is in a geographic CRS. Results from 'area' are likely incorrect. Use 'GeoSeries.to_crs()' to re-project geometries to a projected CRS before this operation.\n",
      "\n",
      "  intersected['area'] = intersected.area\n"
     ]
    }
   ],
   "source": [
    "# Create a dictionary to map\n",
    "\n",
    "intersected['area'] = intersected.area\n",
    "\n",
    "na_assignment_dict = {}\n",
    "\n",
    "for val in intersected[\"UNIQUE_ID\"].unique():\n",
    "\n",
    "    assignment = intersected.loc[intersected[\"UNIQUE_ID\"] == val].nlargest(1, 'area')[\"SLDU_DISTRICT\"].values[0]\n",
    "    na_assignment_dict[val] = assignment"
   ]
  },
  {
   "cell_type": "code",
   "execution_count": 48,
   "id": "2a2c9e19",
   "metadata": {},
   "outputs": [],
   "source": [
    "join_attempt_1[\"SLDU_DIST\"] = join_attempt_1[\"UNIQUE_ID\"].map(na_assignment_dict).fillna(join_attempt_1[\"SLDU_DIST\"])"
   ]
  },
  {
   "cell_type": "code",
   "execution_count": 49,
   "id": "ddfcb388",
   "metadata": {},
   "outputs": [],
   "source": [
    "assigned_districts = join_attempt_1.dissolve([\"SLDU_DIST\"])\n",
    "assigned_districts.reset_index(drop=False,inplace=True)"
   ]
  },
  {
   "cell_type": "code",
   "execution_count": 50,
   "id": "96d8b55a",
   "metadata": {},
   "outputs": [],
   "source": [
    "ga_sldu_districts[\"SLDU_DIST\"] = ga_sldu_districts[\"SLDU_DISTRICT\"]"
   ]
  },
  {
   "cell_type": "code",
   "execution_count": 51,
   "id": "f60dc562",
   "metadata": {},
   "outputs": [
    {
     "name": "stdout",
     "output_type": "stream",
     "text": [
      "Checking 56 precincts for differences of greater than 0.1 km^2\n",
      "\n",
      "1) For 04 difference in area is 10.301723070340403\n",
      "2) For 06 difference in area is 0.12356552551072024\n",
      "3) For 12 difference in area is 0.5094131396368865\n",
      "4) For 13 difference in area is 0.5094131396368865\n",
      "5) For 18 difference in area is 3.076725575708483\n",
      "6) For 19 difference in area is 10.301723070340403\n",
      "7) For 28 difference in area is 0.12828075046918055\n",
      "8) For 33 difference in area is 0.12458433577034483\n",
      "9) For 35 difference in area is 0.21017807122001467\n",
      "10) For 37 difference in area is 0.13019497038348882\n",
      "11) For 39 difference in area is 0.18484225885971148\n",
      "12) For 40 difference in area is 0.12860984017109003\n",
      "13) For 41 difference in area is 0.14101157420004487\n",
      "\n",
      "Scroll down to see plots of any differences\n",
      "\n",
      "Of the 56 precincts:\n",
      "\n",
      "11 precincts w/ a difference of 0 km^2\n",
      "32 precincts w/ a difference between 0 and .1 km^2\n",
      "8 precincts w/ a difference between .1 and .5 km^2\n",
      "2 precincts w/ a difference between .5 and 1 km^2\n",
      "0 precincts w/ a difference between 1 and 2 km^2\n",
      "1 precincts w/ a difference between 2 and 5 km^2\n",
      "2 precincts w/ a difference greater than 5 km^2\n"
     ]
    },
    {
     "data": {
      "image/png": "[encoded data removed]",
      "text/plain": [
       "<Figure size 720x720 with 1 Axes>"
      ]
     },
     "metadata": {
      "needs_background": "light"
     },
     "output_type": "display_data"
    },
    {
     "data": {
      "image/png": "[encoded data removed]",
      "text/plain": [
       "<Figure size 720x720 with 1 Axes>"
      ]
     },
     "metadata": {
      "needs_background": "light"
     },
     "output_type": "display_data"
    },
    {
     "data": {
      "image/png": "[encoded data removed]",
      "text/plain": [
       "<Figure size 720x720 with 1 Axes>"
      ]
     },
     "metadata": {
      "needs_background": "light"
     },
     "output_type": "display_data"
    },
    {
     "data": {
      "image/png": "[encoded data removed]",
      "text/plain": [
       "<Figure size 720x720 with 1 Axes>"
      ]
     },
     "metadata": {
      "needs_background": "light"
     },
     "output_type": "display_data"
    },
    {
     "data": {
      "image/png": "[encoded data removed]",
      "text/plain": [
       "<Figure size 720x720 with 1 Axes>"
      ]
     },
     "metadata": {
      "needs_background": "light"
     },
     "output_type": "display_data"
    },
    {
     "data": {
      "image/png": "[encoded data removed]",
      "text/plain": [
       "<Figure size 720x720 with 1 Axes>"
      ]
     },
     "metadata": {
      "needs_background": "light"
     },
     "output_type": "display_data"
    },
    {
     "data": {
      "image/png": "[encoded data removed]",
      "text/plain": [
       "<Figure size 720x720 with 1 Axes>"
      ]
     },
     "metadata": {
      "needs_background": "light"
     },
     "output_type": "display_data"
    },
    {
     "data": {
      "image/png": "[encoded data removed]",
      "text/plain": [
       "<Figure size 720x720 with 1 Axes>"
      ]
     },
     "metadata": {
      "needs_background": "light"
     },
     "output_type": "display_data"
    },
    {
     "data": {
      "image/png": "[encoded data removed]",
      "text/plain": [
       "<Figure size 720x720 with 1 Axes>"
      ]
     },
     "metadata": {
      "needs_background": "light"
     },
     "output_type": "display_data"
    },
    {
     "data": {
      "image/png": "[encoded data removed]",
      "text/plain": [
       "<Figure size 720x720 with 1 Axes>"
      ]
     },
     "metadata": {
      "needs_background": "light"
     },
     "output_type": "display_data"
    },
    {
     "data": {
      "image/png": "[encoded data removed]",
      "text/plain": [
       "<Figure size 720x720 with 1 Axes>"
      ]
     },
     "metadata": {
      "needs_background": "light"
     },
     "output_type": "display_data"
    },
    {
     "data": {
      "image/png": "[encoded data removed]",
      "text/plain": [
       "<Figure size 720x720 with 1 Axes>"
      ]
     },
     "metadata": {
      "needs_background": "light"
     },
     "output_type": "display_data"
    },
    {
     "data": {
      "image/png": "[encoded data removed]",
      "text/plain": [
       "<Figure size 720x720 with 1 Axes>"
      ]
     },
     "metadata": {
      "needs_background": "light"
     },
     "output_type": "display_data"
    }
   ],
   "source": [
    "helper_functions.compare_geometries(assigned_districts, ga_sldu_districts ,\"Election Results\", \"Official Map\", \"SLDU_DIST\",area_threshold=.1)"
   ]
  },
  {
   "cell_type": "markdown",
   "id": "95df0eb4",
   "metadata": {},
   "source": [
    "## Check Added Column Totals\n",
    "\n",
    "In the 'statewide-county-totals-check-erj' we created a cleaned csv of the county totals from the GA sos website"
   ]
  },
  {
   "cell_type": "code",
   "execution_count": 52,
   "id": "6e7317c4",
   "metadata": {},
   "outputs": [],
   "source": [
    "official_county_totals = pd.read_csv(\"./cleaned_official_county_totals.csv\")"
   ]
  },
  {
   "cell_type": "code",
   "execution_count": 53,
   "id": "cc69a20b",
   "metadata": {},
   "outputs": [
    {
     "name": "stdout",
     "output_type": "stream",
     "text": [
      "***Statewide Totals Check***\n",
      "GSU01RWAT has a difference of 73 votes\n",
      "\tOfficial Totals: 72192 votes\n",
      "\tERJ Totals: 72119 votes\n",
      "GSU02DJAC is equal \t both dataframes 62334\n",
      "GSU03RMCN is equal \t both dataframes 63891\n",
      "GSU04RHIC is equal \t both dataframes 65492\n",
      "GSU05DRAH is equal \t both dataframes 44991\n",
      "GSU06DJOR is equal \t both dataframes 62148\n",
      "GSU06RLAN is equal \t both dataframes 38891\n",
      "GSU07RHAR has a difference of 107 votes\n",
      "\tOfficial Totals: 56433 votes\n",
      "\tERJ Totals: 56326 votes\n",
      "GSU08DGEA is equal \t both dataframes 26819\n",
      "GSU08RGOO is equal \t both dataframes 43324\n",
      "GSU09DMER is equal \t both dataframes 53941\n",
      "GSU09RMAR is equal \t both dataframes 49879\n",
      "GSU10DJON is equal \t both dataframes 84994\n",
      "GSU11RBUR is equal \t both dataframes 57018\n",
      "GSU12DSIM is equal \t both dataframes 40396\n",
      "GSU12RTAY is equal \t both dataframes 22546\n",
      "GSU13DEGL is equal \t both dataframes 21178\n",
      "GSU13RSUM is equal \t both dataframes 48153\n",
      "GSU14DJOH has a difference of 86 votes\n",
      "\tOfficial Totals: 28505 votes\n",
      "\tERJ Totals: 28419 votes\n",
      "GSU14RTHO has a difference of 151 votes\n",
      "\tOfficial Totals: 66534 votes\n",
      "\tERJ Totals: 66383 votes\n",
      "GSU15DHAR is equal \t both dataframes 48998\n",
      "GSU16DJES is equal \t both dataframes 30643\n",
      "GSU16RHAR is equal \t both dataframes 65626\n",
      "GSU17DROS is equal \t both dataframes 50513\n",
      "GSU17RSTR is equal \t both dataframes 52454\n",
      "GSU18RKEN is equal \t both dataframes 71209\n",
      "GSU19RTIL has a difference of 5 votes\n",
      "\tOfficial Totals: 54197 votes\n",
      "\tERJ Totals: 54192 votes\n",
      "GSU20DJOH is equal \t both dataframes 31257\n",
      "GSU20RWAL is equal \t both dataframes 57946\n",
      "GSU21RBEA is equal \t both dataframes 94143\n",
      "GSU22DJON is equal \t both dataframes 60966\n",
      "GSU23DSMI is equal \t both dataframes 32069\n",
      "GSU23RBUR is equal \t both dataframes 46712\n",
      "GSU24RAND is equal \t both dataframes 83776\n",
      "GSU25DBRI has a difference of 1 votes\n",
      "\tOfficial Totals: 29315 votes\n",
      "\tERJ Totals: 29314 votes\n",
      "GSU25RJON has a difference of 4 votes\n",
      "\tOfficial Totals: 61330 votes\n",
      "\tERJ Totals: 61326 votes\n",
      "GSU26DLUC has a difference of 57 votes\n",
      "\tOfficial Totals: 53421 votes\n",
      "\tERJ Totals: 53364 votes\n",
      "GSU27DGRI is equal \t both dataframes 37340\n",
      "GSU27RDOL is equal \t both dataframes 87192\n",
      "GSU28RBRA has a difference of 22 votes\n",
      "\tOfficial Totals: 82691 votes\n",
      "\tERJ Totals: 82669 votes\n",
      "GSU29RROB is equal \t both dataframes 70161\n",
      "GSU30DEDW is equal \t both dataframes 28023\n",
      "GSU30RDUG is equal \t both dataframes 58303\n",
      "GSU31DSMI is equal \t both dataframes 27146\n",
      "GSU31RANA is equal \t both dataframes 66020\n",
      "GSU32DTRI is equal \t both dataframes 50005\n",
      "GSU32RKIR is equal \t both dataframes 63544\n",
      "GSU33DRHE is equal \t both dataframes 66207\n",
      "GSU34DSEA is equal \t both dataframes 64110\n",
      "GSU35DJAM is equal \t both dataframes 82600\n",
      "GSU36DORR is equal \t both dataframes 78536\n",
      "GSU37DPAR is equal \t both dataframes 45370\n",
      "GSU37RTIP is equal \t both dataframes 60238\n",
      "GSU38DTAT is equal \t both dataframes 79748\n",
      "GSU40DHAR is equal \t both dataframes 54359\n",
      "GSU40RGUA is equal \t both dataframes 35494\n",
      "GSU41DJAC is equal \t both dataframes 58154\n",
      "GSU41RFRE is equal \t both dataframes 14828\n",
      "GSU42DPAR is equal \t both dataframes 85202\n",
      "GSU43DAND is equal \t both dataframes 67857\n",
      "GSU43RWIL is equal \t both dataframes 19703\n",
      "GSU44DDAV is equal \t both dataframes 77593\n",
      "GSU44RBRO is equal \t both dataframes 10405\n",
      "GSU45DJON is equal \t both dataframes 45493\n",
      "GSU45RDIX is equal \t both dataframes 56965\n",
      "GSU46DPER is equal \t both dataframes 37924\n",
      "GSU46RCOW is equal \t both dataframes 59278\n",
      "GSU47DJOH is equal \t both dataframes 31255\n",
      "GSU47RGIN is equal \t both dataframes 60282\n",
      "GSU48DAU is equal \t both dataframes 49184\n",
      "GSU48RREE is equal \t both dataframes 38358\n",
      "GSU49RMIL is equal \t both dataframes 74684\n",
      "GSU50DDAL is equal \t both dataframes 14493\n",
      "GSU50RHAT is equal \t both dataframes 71693\n",
      "GSU51DKRI is equal \t both dataframes 17625\n",
      "GSU51RGOO is equal \t both dataframes 84767\n",
      "GSU52DDEY has a difference of 119 votes\n",
      "\tOfficial Totals: 17755 votes\n",
      "\tERJ Totals: 17636 votes\n",
      "GSU52RHUF has a difference of 58 votes\n",
      "\tOfficial Totals: 57621 votes\n",
      "\tERJ Totals: 57563 votes\n",
      "GSU53RMUL is equal \t both dataframes 66064\n",
      "GSU54RPAY has a difference of 2 votes\n",
      "\tOfficial Totals: 57768 votes\n",
      "\tERJ Totals: 57766 votes\n",
      "GSU55DBUT is equal \t both dataframes 85654\n",
      "GSU56DBEE is equal \t both dataframes 49284\n",
      "GSU56RALB is equal \t both dataframes 51476\n",
      "PSU39DFOR is equal \t both dataframes 9636\n",
      "PSU39DHAL is equal \t both dataframes 31294\n",
      "PSU39DPOT is equal \t both dataframes 10751\n",
      "PSU39DPRI is equal \t both dataframes 17573\n",
      "\n",
      "['GSU01RWAT', 'GSU07RHAR', 'GSU14DJOH', 'GSU14RTHO', 'GSU19RTIL', 'GSU25DBRI', 'GSU25RJON', 'GSU26DLUC', 'GSU28RBRA', 'GSU52DDEY', 'GSU52RHUF', 'GSU54RPAY']\n"
     ]
    }
   ],
   "source": [
    "helper_functions.statewide_totals_check(official_county_totals, \"Official Totals\", join_attempt_1, \"ERJ Totals\", races)"
   ]
  },
  {
   "cell_type": "code",
   "execution_count": 54,
   "id": "641f6e3d",
   "metadata": {},
   "outputs": [],
   "source": [
    "ga_election[\"CTYNAME\"] = ga_election[\"county\"].str.upper()"
   ]
  },
  {
   "cell_type": "markdown",
   "id": "44a820e2",
   "metadata": {},
   "source": [
    "## Check whether the differences above were introduced from the precinct splits\n",
    "\n",
    "Note: It appears as though they were"
   ]
  },
  {
   "cell_type": "code",
   "execution_count": 55,
   "id": "23926ab7",
   "metadata": {},
   "outputs": [
    {
     "name": "stdout",
     "output_type": "stream",
     "text": [
      "***Statewide Totals Check***\n",
      "GSU01RWAT is equal \t both dataframes 72192\n",
      "GSU02DJAC is equal \t both dataframes 62334\n",
      "GSU03RMCN is equal \t both dataframes 63891\n",
      "GSU04RHIC is equal \t both dataframes 65492\n",
      "GSU05DRAH is equal \t both dataframes 44991\n",
      "GSU06DJOR is equal \t both dataframes 62148\n",
      "GSU06RLAN is equal \t both dataframes 38891\n",
      "GSU07RHAR is equal \t both dataframes 56433\n",
      "GSU08DGEA is equal \t both dataframes 26819\n",
      "GSU08RGOO is equal \t both dataframes 43324\n",
      "GSU09DMER is equal \t both dataframes 53941\n",
      "GSU09RMAR is equal \t both dataframes 49879\n",
      "GSU10DJON is equal \t both dataframes 84994\n",
      "GSU11RBUR is equal \t both dataframes 57018\n",
      "GSU12DSIM is equal \t both dataframes 40396\n",
      "GSU12RTAY is equal \t both dataframes 22546\n",
      "GSU13DEGL is equal \t both dataframes 21178\n",
      "GSU13RSUM is equal \t both dataframes 48153\n",
      "GSU14DJOH is equal \t both dataframes 28505\n",
      "GSU14RTHO is equal \t both dataframes 66534\n",
      "GSU15DHAR is equal \t both dataframes 48998\n",
      "GSU16DJES is equal \t both dataframes 30643\n",
      "GSU16RHAR is equal \t both dataframes 65626\n",
      "GSU17DROS is equal \t both dataframes 50513\n",
      "GSU17RSTR is equal \t both dataframes 52454\n",
      "GSU18RKEN is equal \t both dataframes 71209\n",
      "GSU19RTIL is equal \t both dataframes 54197\n",
      "GSU20DJOH is equal \t both dataframes 31257\n",
      "GSU20RWAL is equal \t both dataframes 57946\n",
      "GSU21RBEA is equal \t both dataframes 94143\n",
      "GSU22DJON is equal \t both dataframes 60966\n",
      "GSU23DSMI is equal \t both dataframes 32069\n",
      "GSU23RBUR is equal \t both dataframes 46712\n",
      "GSU24RAND is equal \t both dataframes 83776\n",
      "GSU25DBRI is equal \t both dataframes 29315\n",
      "GSU25RJON is equal \t both dataframes 61330\n",
      "GSU26DLUC is equal \t both dataframes 53421\n",
      "GSU27DGRI is equal \t both dataframes 37340\n",
      "GSU27RDOL is equal \t both dataframes 87192\n",
      "GSU28RBRA is equal \t both dataframes 82691\n",
      "GSU29RROB is equal \t both dataframes 70161\n",
      "GSU30DEDW is equal \t both dataframes 28023\n",
      "GSU30RDUG is equal \t both dataframes 58303\n",
      "GSU31DSMI is equal \t both dataframes 27146\n",
      "GSU31RANA is equal \t both dataframes 66020\n",
      "GSU32DTRI is equal \t both dataframes 50005\n",
      "GSU32RKIR is equal \t both dataframes 63544\n",
      "GSU33DRHE is equal \t both dataframes 66207\n",
      "GSU34DSEA is equal \t both dataframes 64110\n",
      "GSU35DJAM is equal \t both dataframes 82600\n",
      "GSU36DORR is equal \t both dataframes 78536\n",
      "GSU37DPAR is equal \t both dataframes 45370\n",
      "GSU37RTIP is equal \t both dataframes 60238\n",
      "GSU38DTAT is equal \t both dataframes 79748\n",
      "GSU40DHAR is equal \t both dataframes 54359\n",
      "GSU40RGUA is equal \t both dataframes 35494\n",
      "GSU41DJAC is equal \t both dataframes 58154\n",
      "GSU41RFRE is equal \t both dataframes 14828\n",
      "GSU42DPAR is equal \t both dataframes 85202\n",
      "GSU43DAND is equal \t both dataframes 67857\n",
      "GSU43RWIL is equal \t both dataframes 19703\n",
      "GSU44DDAV is equal \t both dataframes 77593\n",
      "GSU44RBRO is equal \t both dataframes 10405\n",
      "GSU45DJON is equal \t both dataframes 45493\n",
      "GSU45RDIX is equal \t both dataframes 56965\n",
      "GSU46DPER is equal \t both dataframes 37924\n",
      "GSU46RCOW is equal \t both dataframes 59278\n",
      "GSU47DJOH is equal \t both dataframes 31255\n",
      "GSU47RGIN is equal \t both dataframes 60282\n",
      "GSU48DAU is equal \t both dataframes 49184\n",
      "GSU48RREE is equal \t both dataframes 38358\n",
      "GSU49RMIL is equal \t both dataframes 74684\n",
      "GSU50DDAL is equal \t both dataframes 14493\n",
      "GSU50RHAT is equal \t both dataframes 71693\n",
      "GSU51DKRI is equal \t both dataframes 17625\n",
      "GSU51RGOO is equal \t both dataframes 84767\n",
      "GSU52DDEY is equal \t both dataframes 17755\n",
      "GSU52RHUF is equal \t both dataframes 57621\n",
      "GSU53RMUL is equal \t both dataframes 66064\n",
      "GSU54RPAY is equal \t both dataframes 57768\n",
      "GSU55DBUT is equal \t both dataframes 85654\n",
      "GSU56DBEE is equal \t both dataframes 49284\n",
      "GSU56RALB is equal \t both dataframes 51476\n",
      "PSU39DFOR is equal \t both dataframes 9636\n",
      "PSU39DHAL is equal \t both dataframes 31294\n",
      "PSU39DPOT is equal \t both dataframes 10751\n",
      "PSU39DPRI is equal \t both dataframes 17573\n"
     ]
    }
   ],
   "source": [
    "helper_functions.statewide_totals_check(official_county_totals, \"Official Totals\", ga_election, \"Pre-Split Totals\", races)"
   ]
  },
  {
   "cell_type": "markdown",
   "id": "94d232e6",
   "metadata": {},
   "source": [
    "## Check Column Totals - County Level"
   ]
  },
  {
   "cell_type": "code",
   "execution_count": 56,
   "id": "74de2c23",
   "metadata": {},
   "outputs": [],
   "source": [
    "official_county_totals[\"CTYNAME\"] = official_county_totals[\"county\"].str.upper()"
   ]
  },
  {
   "cell_type": "code",
   "execution_count": 57,
   "id": "30859603",
   "metadata": {
    "scrolled": true
   },
   "outputs": [
    {
     "name": "stdout",
     "output_type": "stream",
     "text": [
      "***Countywide Totals Check***\n",
      "\n",
      "GSU01RWAT contains differences in these counties:\n",
      "\tLIBERTY has a difference of 73 votes\n",
      "\t\tOfficial Totals: 10835 votes\n",
      "\t\tERJ Totals: 10762 votes\n",
      "GSU02DJAC is equal across all counties\n",
      "GSU03RMCN is equal across all counties\n",
      "GSU04RHIC is equal across all counties\n",
      "GSU05DRAH is equal across all counties\n",
      "GSU06DJOR is equal across all counties\n",
      "GSU06RLAN is equal across all counties\n",
      "GSU07RHAR contains differences in these counties:\n",
      "\tWILCOX has a difference of 107 votes\n",
      "\t\tOfficial Totals: 1217 votes\n",
      "\t\tERJ Totals: 1110 votes\n",
      "GSU08DGEA is equal across all counties\n",
      "GSU08RGOO is equal across all counties\n",
      "GSU09DMER is equal across all counties\n",
      "GSU09RMAR is equal across all counties\n",
      "GSU10DJON is equal across all counties\n",
      "GSU11RBUR is equal across all counties\n",
      "GSU12DSIM is equal across all counties\n",
      "GSU12RTAY is equal across all counties\n",
      "GSU13DEGL is equal across all counties\n",
      "GSU13RSUM is equal across all counties\n",
      "GSU14DJOH contains differences in these counties:\n",
      "\tBARTOW has a difference of 86 votes\n",
      "\t\tOfficial Totals: 7172 votes\n",
      "\t\tERJ Totals: 7086 votes\n",
      "GSU14RTHO contains differences in these counties:\n",
      "\tBARTOW has a difference of 151 votes\n",
      "\t\tOfficial Totals: 21578 votes\n",
      "\t\tERJ Totals: 21427 votes\n",
      "GSU15DHAR is equal across all counties\n",
      "GSU16DJES is equal across all counties\n",
      "GSU16RHAR is equal across all counties\n",
      "GSU17DROS is equal across all counties\n",
      "GSU17RSTR is equal across all counties\n",
      "GSU18RKEN is equal across all counties\n",
      "GSU19RTIL contains differences in these counties:\n",
      "\tLIBERTY has a difference of 5 votes\n",
      "\t\tOfficial Totals: 3332 votes\n",
      "\t\tERJ Totals: 3327 votes\n",
      "GSU20DJOH is equal across all counties\n",
      "GSU20RWAL is equal across all counties\n",
      "GSU21RBEA is equal across all counties\n",
      "GSU22DJON is equal across all counties\n",
      "GSU23DSMI is equal across all counties\n",
      "GSU23RBUR is equal across all counties\n",
      "GSU24RAND is equal across all counties\n",
      "GSU25DBRI contains differences in these counties:\n",
      "\tWALTON has a difference of 1 votes\n",
      "\t\tOfficial Totals: 1427 votes\n",
      "\t\tERJ Totals: 1426 votes\n",
      "GSU25RJON contains differences in these counties:\n",
      "\tWALTON has a difference of 4 votes\n",
      "\t\tOfficial Totals: 6251 votes\n",
      "\t\tERJ Totals: 6247 votes\n",
      "GSU26DLUC contains differences in these counties:\n",
      "\tJONES has a difference of 57 votes\n",
      "\t\tOfficial Totals: 5638 votes\n",
      "\t\tERJ Totals: 5581 votes\n",
      "GSU27DGRI is equal across all counties\n",
      "GSU27RDOL is equal across all counties\n",
      "GSU28RBRA contains differences in these counties:\n",
      "\tTROUP has a difference of 22 votes\n",
      "\t\tOfficial Totals: 8503 votes\n",
      "\t\tERJ Totals: 8481 votes\n",
      "GSU29RROB is equal across all counties\n",
      "GSU30DEDW is equal across all counties\n",
      "GSU30RDUG is equal across all counties\n",
      "GSU31DSMI is equal across all counties\n",
      "GSU31RANA is equal across all counties\n",
      "GSU32DTRI is equal across all counties\n",
      "GSU32RKIR is equal across all counties\n",
      "GSU33DRHE is equal across all counties\n",
      "GSU34DSEA is equal across all counties\n",
      "GSU35DJAM is equal across all counties\n",
      "GSU36DORR is equal across all counties\n",
      "GSU37DPAR is equal across all counties\n",
      "GSU37RTIP is equal across all counties\n",
      "GSU38DTAT is equal across all counties\n",
      "GSU40DHAR is equal across all counties\n",
      "GSU40RGUA is equal across all counties\n",
      "GSU41DJAC is equal across all counties\n",
      "GSU41RFRE is equal across all counties\n",
      "GSU42DPAR is equal across all counties\n",
      "GSU43DAND is equal across all counties\n",
      "GSU43RWIL is equal across all counties\n",
      "GSU44DDAV is equal across all counties\n",
      "GSU44RBRO is equal across all counties\n",
      "GSU45DJON is equal across all counties\n",
      "GSU45RDIX is equal across all counties\n",
      "GSU46DPER is equal across all counties\n",
      "GSU46RCOW is equal across all counties\n",
      "GSU47DJOH is equal across all counties\n",
      "GSU47RGIN is equal across all counties\n",
      "GSU48DAU is equal across all counties\n",
      "GSU48RREE is equal across all counties\n",
      "GSU49RMIL is equal across all counties\n",
      "GSU50DDAL is equal across all counties\n",
      "GSU50RHAT is equal across all counties\n",
      "GSU51DKRI is equal across all counties\n",
      "GSU51RGOO is equal across all counties\n",
      "GSU52DDEY contains differences in these counties:\n",
      "\tBARTOW has a difference of 119 votes\n",
      "\t\tOfficial Totals: 4379 votes\n",
      "\t\tERJ Totals: 4260 votes\n",
      "GSU52RHUF contains differences in these counties:\n",
      "\tBARTOW has a difference of 58 votes\n",
      "\t\tOfficial Totals: 15860 votes\n",
      "\t\tERJ Totals: 15802 votes\n",
      "GSU53RMUL is equal across all counties\n",
      "GSU54RPAY contains differences in these counties:\n",
      "\tPICKENS has a difference of 2 votes\n",
      "\t\tOfficial Totals: 5874 votes\n",
      "\t\tERJ Totals: 5872 votes\n",
      "GSU55DBUT is equal across all counties\n",
      "GSU56DBEE is equal across all counties\n",
      "GSU56RALB is equal across all counties\n",
      "PSU39DFOR is equal across all counties\n",
      "PSU39DHAL is equal across all counties\n",
      "PSU39DPOT is equal across all counties\n",
      "PSU39DPRI is equal across all counties\n",
      "\n",
      "['LIBERTY', 'WILCOX', 'BARTOW', 'WALTON', 'JONES', 'TROUP', 'PICKENS']\n"
     ]
    }
   ],
   "source": [
    "helper_functions.county_totals_check(official_county_totals, \"Official Totals\", join_attempt_1, \"ERJ Totals\", races, \"CTYNAME\")"
   ]
  },
  {
   "cell_type": "code",
   "execution_count": 58,
   "id": "bc74fa75",
   "metadata": {},
   "outputs": [
    {
     "name": "stdout",
     "output_type": "stream",
     "text": [
      "***Countywide Totals Check***\n",
      "\n",
      "GSU01RWAT is equal across all counties\n",
      "GSU02DJAC is equal across all counties\n",
      "GSU03RMCN is equal across all counties\n",
      "GSU04RHIC is equal across all counties\n",
      "GSU05DRAH is equal across all counties\n",
      "GSU06DJOR is equal across all counties\n",
      "GSU06RLAN is equal across all counties\n",
      "GSU07RHAR is equal across all counties\n",
      "GSU08DGEA is equal across all counties\n",
      "GSU08RGOO is equal across all counties\n",
      "GSU09DMER is equal across all counties\n",
      "GSU09RMAR is equal across all counties\n",
      "GSU10DJON is equal across all counties\n",
      "GSU11RBUR is equal across all counties\n",
      "GSU12DSIM is equal across all counties\n",
      "GSU12RTAY is equal across all counties\n",
      "GSU13DEGL is equal across all counties\n",
      "GSU13RSUM is equal across all counties\n",
      "GSU14DJOH is equal across all counties\n",
      "GSU14RTHO is equal across all counties\n",
      "GSU15DHAR is equal across all counties\n",
      "GSU16DJES is equal across all counties\n",
      "GSU16RHAR is equal across all counties\n",
      "GSU17DROS is equal across all counties\n",
      "GSU17RSTR is equal across all counties\n",
      "GSU18RKEN is equal across all counties\n",
      "GSU19RTIL is equal across all counties\n",
      "GSU20DJOH is equal across all counties\n",
      "GSU20RWAL is equal across all counties\n",
      "GSU21RBEA is equal across all counties\n",
      "GSU22DJON is equal across all counties\n",
      "GSU23DSMI is equal across all counties\n",
      "GSU23RBUR is equal across all counties\n",
      "GSU24RAND is equal across all counties\n",
      "GSU25DBRI is equal across all counties\n",
      "GSU25RJON is equal across all counties\n",
      "GSU26DLUC is equal across all counties\n",
      "GSU27DGRI is equal across all counties\n",
      "GSU27RDOL is equal across all counties\n",
      "GSU28RBRA is equal across all counties\n",
      "GSU29RROB is equal across all counties\n",
      "GSU30DEDW is equal across all counties\n",
      "GSU30RDUG is equal across all counties\n",
      "GSU31DSMI is equal across all counties\n",
      "GSU31RANA is equal across all counties\n",
      "GSU32DTRI is equal across all counties\n",
      "GSU32RKIR is equal across all counties\n",
      "GSU33DRHE is equal across all counties\n",
      "GSU34DSEA is equal across all counties\n",
      "GSU35DJAM is equal across all counties\n",
      "GSU36DORR is equal across all counties\n",
      "GSU37DPAR is equal across all counties\n",
      "GSU37RTIP is equal across all counties\n",
      "GSU38DTAT is equal across all counties\n",
      "GSU40DHAR is equal across all counties\n",
      "GSU40RGUA is equal across all counties\n",
      "GSU41DJAC is equal across all counties\n",
      "GSU41RFRE is equal across all counties\n",
      "GSU42DPAR is equal across all counties\n",
      "GSU43DAND is equal across all counties\n",
      "GSU43RWIL is equal across all counties\n",
      "GSU44DDAV is equal across all counties\n",
      "GSU44RBRO is equal across all counties\n",
      "GSU45DJON is equal across all counties\n",
      "GSU45RDIX is equal across all counties\n",
      "GSU46DPER is equal across all counties\n",
      "GSU46RCOW is equal across all counties\n",
      "GSU47DJOH is equal across all counties\n",
      "GSU47RGIN is equal across all counties\n",
      "GSU48DAU is equal across all counties\n",
      "GSU48RREE is equal across all counties\n",
      "GSU49RMIL is equal across all counties\n",
      "GSU50DDAL is equal across all counties\n",
      "GSU50RHAT is equal across all counties\n",
      "GSU51DKRI is equal across all counties\n",
      "GSU51RGOO is equal across all counties\n",
      "GSU52DDEY is equal across all counties\n",
      "GSU52RHUF is equal across all counties\n",
      "GSU53RMUL is equal across all counties\n",
      "GSU54RPAY is equal across all counties\n",
      "GSU55DBUT is equal across all counties\n",
      "GSU56DBEE is equal across all counties\n",
      "GSU56RALB is equal across all counties\n",
      "PSU39DFOR is equal across all counties\n",
      "PSU39DHAL is equal across all counties\n",
      "PSU39DPOT is equal across all counties\n",
      "PSU39DPRI is equal across all counties\n"
     ]
    }
   ],
   "source": [
    "helper_functions.county_totals_check(official_county_totals, \"Official Totals\", ga_election, \"Pre-Split Totals\", races, \"CTYNAME\")"
   ]
  },
  {
   "cell_type": "markdown",
   "id": "8b2283eb",
   "metadata": {},
   "source": [
    "## Prepare to Export"
   ]
  },
  {
   "cell_type": "code",
   "execution_count": 59,
   "id": "46acef18",
   "metadata": {},
   "outputs": [
    {
     "data": {
      "text/plain": [
       "Index(['UNIQUE_ID', 'COUNTYFP', 'DISTRICT', 'CTYSOSID', 'PRECINCT_I',\n",
       "       'PRECINCT_N', 'CTYNAME', 'CTYNUMBER', 'CTYNUMBER2', 'FIPS2',\n",
       "       'SLDU_DIST', 'GSU01RWAT', 'GSU02DJAC', 'GSU03RMCN', 'GSU04RHIC',\n",
       "       'GSU05DRAH', 'GSU06DJOR', 'GSU06RLAN', 'GSU07RHAR', 'GSU08DGEA',\n",
       "       'GSU08RGOO', 'GSU09DMER', 'GSU09RMAR', 'GSU10DJON', 'GSU11RBUR',\n",
       "       'GSU12DSIM', 'GSU12RTAY', 'GSU13DEGL', 'GSU13RSUM', 'GSU14DJOH',\n",
       "       'GSU14RTHO', 'GSU15DHAR', 'GSU16DJES', 'GSU16RHAR', 'GSU17DROS',\n",
       "       'GSU17RSTR', 'GSU18RKEN', 'GSU19RTIL', 'GSU20DJOH', 'GSU20RWAL',\n",
       "       'GSU21RBEA', 'GSU22DJON', 'GSU23DSMI', 'GSU23RBUR', 'GSU24RAND',\n",
       "       'GSU25DBRI', 'GSU25RJON', 'GSU26DLUC', 'GSU27DGRI', 'GSU27RDOL',\n",
       "       'GSU28RBRA', 'GSU29RROB', 'GSU30DEDW', 'GSU30RDUG', 'GSU31DSMI',\n",
       "       'GSU31RANA', 'GSU32DTRI', 'GSU32RKIR', 'GSU33DRHE', 'GSU34DSEA',\n",
       "       'GSU35DJAM', 'GSU36DORR', 'GSU37DPAR', 'GSU37RTIP', 'GSU38DTAT',\n",
       "       'GSU40DHAR', 'GSU40RGUA', 'GSU41DJAC', 'GSU41RFRE', 'GSU42DPAR',\n",
       "       'GSU43DAND', 'GSU43RWIL', 'GSU44DDAV', 'GSU44RBRO', 'GSU45DJON',\n",
       "       'GSU45RDIX', 'GSU46DPER', 'GSU46RCOW', 'GSU47DJOH', 'GSU47RGIN',\n",
       "       'GSU48DAU', 'GSU48RREE', 'GSU49RMIL', 'GSU50DDAL', 'GSU50RHAT',\n",
       "       'GSU51DKRI', 'GSU51RGOO', 'GSU52DDEY', 'GSU52RHUF', 'GSU53RMUL',\n",
       "       'GSU54RPAY', 'GSU55DBUT', 'GSU56DBEE', 'GSU56RALB', 'PSU39DFOR',\n",
       "       'PSU39DHAL', 'PSU39DPOT', 'PSU39DPRI', 'geometry'],\n",
       "      dtype='object')"
      ]
     },
     "execution_count": 59,
     "metadata": {},
     "output_type": "execute_result"
    }
   ],
   "source": [
    "join_attempt_1.columns"
   ]
  },
  {
   "cell_type": "code",
   "execution_count": 60,
   "id": "0b80315b",
   "metadata": {
    "scrolled": true
   },
   "outputs": [
    {
     "name": "stderr",
     "output_type": "stream",
     "text": [
      "/Users/peterhorton/opt/anaconda3/envs/geo_env/lib/python3.9/site-packages/geopandas/io/file.py:362: FutureWarning: pandas.Int64Index is deprecated and will be removed from pandas in a future version. Use pandas.Index with the appropriate dtype instead.\n",
      "  pd.Int64Index,\n"
     ]
    }
   ],
   "source": [
    "join_attempt_1.to_file(\"./ga_gen_20_prec/ga_gen_20_sldu_prec.shp\")"
   ]
  },
  {
   "cell_type": "code",
   "execution_count": null,
   "id": "804bf251",
   "metadata": {},
   "outputs": [],
   "source": []
  }
 ],
 "metadata": {
  "kernelspec": {
   "display_name": "Python 3 (ipykernel)",
   "language": "python",
   "name": "python3"
  },
  "language_info": {
   "codemirror_mode": {
    "name": "ipython",
    "version": 3
   },
   "file_extension": ".py",
   "mimetype": "text/x-python",
   "name": "python",
   "nbconvert_exporter": "python",
   "pygments_lexer": "ipython3",
   "version": "3.9.12"
  }
 },
 "nbformat": 4,
 "nbformat_minor": 5
}
