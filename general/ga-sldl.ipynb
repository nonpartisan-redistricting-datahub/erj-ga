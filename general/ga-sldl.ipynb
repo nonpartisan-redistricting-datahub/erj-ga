{
 "cells": [
  {
   "cell_type": "code",
   "execution_count": 1,
   "id": "9be4f4bd",
   "metadata": {},
   "outputs": [],
   "source": [
    "import pandas as pd # standard python data library\n",
    "import geopandas as gp # the geo-version of pandas\n",
    "import numpy as np \n",
    "import os\n",
    "from statistics import mean, median\n",
    "import xml.etree.ElementTree as et\n",
    "import string\n",
    "from collections import Counter\n",
    "import collections\n",
    "\n",
    "import helper_functions"
   ]
  },
  {
   "cell_type": "markdown",
   "id": "21fe69c2",
   "metadata": {},
   "source": [
    "# Georgia 2020 State House Election Results"
   ]
  },
  {
   "cell_type": "markdown",
   "id": "64a80258",
   "metadata": {},
   "source": [
    "## Election Results Documentation:"
   ]
  },
  {
   "cell_type": "markdown",
   "id": "802f756b",
   "metadata": {},
   "source": [
    "Election results from the Georgia Secretary of State Elections Division (https://sos.ga.gov/index.php/Elections/current_and_past_elections_results). Presidential recount results from the Georgia Secretary of State Elections Division via Reuters."
   ]
  },
  {
   "cell_type": "markdown",
   "id": "32a07592",
   "metadata": {},
   "source": [
    "## Shapefile Source Documentation:"
   ]
  },
  {
   "cell_type": "markdown",
   "id": "0c5964c1",
   "metadata": {},
   "source": [
    "Precinct shapefile primarily from the Georgia General Assembly Reapportionment Office (http://www.legis.ga.gov/Joint/reapportionment/en-US/default.aspx).  \n",
    "Cobb, DeKalb, and Gwinnett counties instead use shapefiles from the U.S. Census Bureau's 2020 Redistricting Data Program.  \n",
    "Forsyth and Fulton use shapefiles sourced from the respective counties."
   ]
  },
  {
   "cell_type": "markdown",
   "id": "4f616888",
   "metadata": {},
   "source": [
    "## Shapefile Modifications Documentation:"
   ]
  },
  {
   "cell_type": "markdown",
   "id": "87e4384e",
   "metadata": {},
   "source": [
    "Three of the four VTDs in Chattahoochee County are comprised of Fort Benning. However, the county only reports one polling location for all voters, including residents of Fort Benning that vote within the county. The four Chattahoochee County VTDs have therefore been merged in the shapefile.\n",
    "\n",
    "The following additional modifications reflect changes made prior to the 2020 general election.\n",
    "\n",
    "Barrow: Merge 2/15, 3/12, 4/14, 5/7, 6/10/13, 8/9, 11/16; Adjust new 2/13 boundary  \n",
    "Bartow: Split Cassville/Hamilton Crossing  \n",
    "Candler: Merge Candler/Metter as Jack Strickland Comm Center  \n",
    "Chatham: Split 7-7/8-16, 7-12/7-16; Realign 7-06C/7-07C  \n",
    "Chatooga: Split Cloudland/Teloga along ridgeline that marks boundary between them with the USGS Topographic Contour shapefile  \n",
    "Clayton: Split Ellenswood 1/2, Jonesboro 1/17/19, Lovejoy 3/6/7, Morrow 3/11, 5/10, Oak 3/5   \n",
    "Cobb: Split Bells Ferry 3/4, Dobbins 1/2, Marietta 3A/3B, Smyrna 3A/3B  \n",
    "Columbia: Split Bessie Thomas/2nd Mt Moriah, Harlem Branch/Harlem Senior Ctr; Merge Blanchard Park/MTZ Col FD;  Align multiple precincts with county maps  \n",
    "Coweta: Merge Arts Centre/Jefferson Parkway as Newnan Centre  \n",
    "Fulton: Merge CP07A/CP07D, CH01/CH04B, SS29A/SS29B, UC031/UC035  \n",
    "DeKalb: Split Clarkston/Clarkston Comm Ctr; Realign Decatur/Oakhurst; Align precincts with Atlanta, Brookhaven, Decatur, Tucker city limits   \n",
    "Gwinnett: Adjust Baycreek F/G, Berkshire J/M, Cates D/F, Garners C/B, Lawrenceville G/N, Pinckneyville S/T, Rockbridge A/G  \n",
    "Lowndes: Split Northgate Assembly/Trinity, Jaycee/Mt Calvary/Northside/VSU  \n",
    "Oconee: Merge Annex/City Hall; Align City Hall with Watkinsville city limits  \n",
    "Paulding: Reorganize 12 precincts into 19 precincts as redrawn in 2019  \n",
    "Randolph: Merge Carnegie/Cuthbert-Courthouse, 4th District/Fountain Bridge/Shellman  \n",
    "Troup: Split Mountville between Gardner Newman/Hogansville/Rosemont; Align multiple precincts with county maps  \n",
    "Towns: Merge Macedonia/Tate City  \n",
    "Wilkes: Align 1/2A boundary with the voter file    \n",
    "Note that the leading zeros in the Paulding County precinct IDs are included in some election reports and omitted in others. The shapefile includes the leading zeros consistent with the voter file."
   ]
  },
  {
   "cell_type": "markdown",
   "id": "d7a26783",
   "metadata": {},
   "source": [
    "## Candidate List"
   ]
  },
  {
   "cell_type": "markdown",
   "id": "0b05bfdd",
   "metadata": {},
   "source": [
    "See the README for a full list of candidate names"
   ]
  },
  {
   "cell_type": "markdown",
   "id": "453b6418",
   "metadata": {},
   "source": [
    "## Election Results Processing"
   ]
  },
  {
   "cell_type": "markdown",
   "id": "4346a95b",
   "metadata": {},
   "source": [
    "### Load the modified VEST file\n",
    "\n",
    "Note: This is the modified version of the file created in the statewide notebook"
   ]
  },
  {
   "cell_type": "code",
   "execution_count": 2,
   "id": "6629f548",
   "metadata": {},
   "outputs": [
    {
     "name": "stdout",
     "output_type": "stream",
     "text": [
      "(2678, 50)\n"
     ]
    }
   ],
   "source": [
    "vest_ga_20 = gp.read_file(\"./raw-from-source/VEST/cleaned_ga_2020/cleaned_ga_2020.shp\")\n",
    "print(vest_ga_20.shape)"
   ]
  },
  {
   "cell_type": "code",
   "execution_count": 3,
   "id": "a560c42a",
   "metadata": {
    "scrolled": true
   },
   "outputs": [
    {
     "name": "stdout",
     "output_type": "stream",
     "text": [
      "['G20PRERTRU', 'G20PREDBID', 'G20PRELJOR', 'C20PRERTRU', 'C20PREDBID', 'C20PRELJOR', 'G20USSRPER', 'G20USSDOSS', 'G20USSLHAZ', 'S20USSRLOE', 'S20USSRCOL', 'S20USSRGRA', 'S20USSRJAC', 'S20USSRTAY', 'S20USSRJOH', 'S20USSDWAR', 'S20USSDJAC', 'S20USSDLIE', 'S20USSDJOH', 'S20USSDJAM', 'S20USSDSLA', 'S20USSDWIN', 'S20USSDTAR', 'S20USSLSLO', 'S20USSGFOR', 'S20USSIBUC', 'S20USSIBAR', 'S20USSISTO', 'S20USSIGRE', 'G20PSCRSHA', 'G20PSCDBRY', 'G20PSCLMEL', 'G20PSCRMCD', 'G20PSCDBLA', 'G20PSCLWIL', 'R21USSRPER', 'R21USSDOSS', 'R21USSRLOE', 'R21USSDWAR', 'R21PSCRMCD', 'R21PSCDBLA']\n"
     ]
    }
   ],
   "source": [
    "# Take a look\n",
    "vest_ga_20.head(1)\n",
    "\n",
    "#Create a list of the race columns\n",
    "data_columns = [i for i in vest_ga_20.columns if ((\"20\" in i) | (\"21\" in i))]\n",
    "print(data_columns)"
   ]
  },
  {
   "cell_type": "markdown",
   "id": "e5f280e3",
   "metadata": {},
   "source": [
    "### 1. Load General Election Data"
   ]
  },
  {
   "cell_type": "markdown",
   "id": "7a819f70",
   "metadata": {},
   "source": [
    "This data had to be downloaded county-by-county in XML format. The below code parses the XML and grabs the necessary data, adds it to a list, gives it the appropriate column names, and converts the data into a dataframe."
   ]
  },
  {
   "cell_type": "code",
   "execution_count": 4,
   "id": "4116fd60",
   "metadata": {},
   "outputs": [
    {
     "name": "stdout",
     "output_type": "stream",
     "text": [
      "159\n"
     ]
    }
   ],
   "source": [
    "loaded_counties = os.listdir(\"./raw-from-source/Non_Recount_Results/\")\n",
    "z=[]\n",
    "for locale in loaded_counties:\n",
    "    if locale.endswith('.xml'):\n",
    "        file_string = \"./raw-from-source/Non_Recount_Results/\"+locale\n",
    "        xtree = et.parse(file_string)\n",
    "        xroot = xtree.getroot()\n",
    "        store_list = []\n",
    "        county_area = xroot.findall(\".//Region\")\n",
    "        for i in county_area:\n",
    "            county = i.text\n",
    "        contests = xroot.findall(\".//Contest\")\n",
    "        for i in contests:\n",
    "            contest = i.attrib.get('text')\n",
    "            lower = i.findall(\"./Choice\")\n",
    "            for j in lower:\n",
    "                choice = j.attrib.get('text')\n",
    "                lower_2 = j.findall(\"./VoteType\")\n",
    "                for k in lower_2:\n",
    "                    voting_method = k.attrib.get('name')\n",
    "                    lower_3 = k.findall(\"./Precinct\")\n",
    "                    for l in lower_3:\n",
    "                        precinct_name = l.attrib.get('name')\n",
    "                        num_votes = l.attrib.get('votes')\n",
    "                        z.append([county,contest,choice,voting_method,precinct_name,num_votes])\n",
    "dfcols = ['county','contest','choice','voting_method','precinct','num_votes']\n",
    "ga_election = pd.DataFrame(z,columns=dfcols)\n",
    "\n",
    "#Sanity check that there are the right number of counties\n",
    "print(len(ga_election[\"county\"].unique()))"
   ]
  },
  {
   "cell_type": "markdown",
   "id": "f10eb00a",
   "metadata": {},
   "source": [
    "### Update Race Names"
   ]
  },
  {
   "cell_type": "code",
   "execution_count": 5,
   "id": "686a1489",
   "metadata": {},
   "outputs": [],
   "source": [
    "race_name_change_dict = {\n",
    "\n",
    "    'State House Dist 81/Estatal ante la Asamblea General Dist 81':'State House District 81',\n",
    "    'State House Dist 93/Estatal ante la Asamblea General Dist 93':'State House District 93',\n",
    "    'State House Dist 94/Estatal ante la Asamblea General Dist 94':'State House District 94',\n",
    "    'State House Dist 95/Estatal ante la Asamblea General Dist 95':'State House District 95',\n",
    "    'State House Dist 96/Estatal ante la Asamblea General Dist 96':'State House District 96',\n",
    "    'State House Dist 97/Estatal ante la Asamblea General Dist 97':'State House District 97',\n",
    "    'State House Dist 98/Estatal ante la Asamblea General Dist 98':'State House District 98',\n",
    "    'State House Dist 99/Estatal ante la Asamblea General Dist 99':'State House District 99',\n",
    "    'State House Dist 100/Estatal ante la Asamblea General Dist 100':'State House District 100',\n",
    "    'State House Dist 101/Estatal ante la Asamblea General Dist 101':'State House District 101',\n",
    "    'State House Dist 102/Estatal ante la Asamblea General Dist 102':'State House District 102',\n",
    "    'State House Dist 103/Estatal ante la Asamblea General Dist 103':'State House District 103',\n",
    "    'State House Dist 104/Estatal ante la Asamblea General Dist 104':'State House District 104',\n",
    "    'State House Dist 105/Estatal ante la Asamblea General Dist 105':'State House District 105',\n",
    "    'State House Dist 106/Estatal ante la Asamblea General Dist 106':'State House District 106',\n",
    "    'State House Dist 107/Estatal ante la Asamblea General Dist 107':'State House District 107', \n",
    "    'State House Dist 108/Estatal ante la Asamblea General Dist 108':'State House District 108', \n",
    "    'State House Dist 114/Estatal ante la Asamblea General Dist 114':'State House District 114',\n",
    "\n",
    "}\n",
    "\n",
    "ga_election[\"contest\"] = ga_election[\"contest\"].map(race_name_change_dict).fillna(ga_election[\"contest\"])"
   ]
  },
  {
   "cell_type": "code",
   "execution_count": 6,
   "id": "86c8dc1a",
   "metadata": {},
   "outputs": [],
   "source": [
    "total_races_list = list(ga_election[\"contest\"].unique())\n",
    "\n",
    "ga_house_races = [i for i in total_races_list if \"State House\" in i]\n"
   ]
  },
  {
   "cell_type": "markdown",
   "id": "cac52c1c",
   "metadata": {},
   "source": [
    "### Filter Down to Relevant Races"
   ]
  },
  {
   "cell_type": "code",
   "execution_count": 7,
   "id": "bea32e9a",
   "metadata": {},
   "outputs": [],
   "source": [
    "ga_election = ga_election[ga_election[\"contest\"].isin(ga_house_races)]\n",
    "ga_election.reset_index(inplace=True,drop=True)"
   ]
  },
  {
   "cell_type": "markdown",
   "id": "c4d50b84",
   "metadata": {},
   "source": [
    "### Clean and Pivot Data"
   ]
  },
  {
   "cell_type": "code",
   "execution_count": 8,
   "id": "24b9906a",
   "metadata": {},
   "outputs": [],
   "source": [
    "#Make sure votes are integers\n",
    "ga_election[\"num_votes\"] = ga_election[\"num_votes\"].astype(int)"
   ]
  },
  {
   "cell_type": "code",
   "execution_count": 9,
   "id": "a2df7ff9",
   "metadata": {},
   "outputs": [],
   "source": [
    "def conditions(x):\n",
    "    if \"(\" in x:\n",
    "        return x[len(x)-4:len(x)-1].upper()\n",
    "    else:\n",
    "        raise ValueError"
   ]
  },
  {
   "cell_type": "code",
   "execution_count": 10,
   "id": "dcca28aa",
   "metadata": {},
   "outputs": [],
   "source": [
    "func = np.vectorize(conditions)\n",
    "party = func(ga_election[\"choice\"])\n",
    "ga_election[\"party\"] = party"
   ]
  },
  {
   "cell_type": "code",
   "execution_count": 11,
   "id": "9db2a27c",
   "metadata": {},
   "outputs": [],
   "source": [
    "def district_assigner(x):\n",
    "    if \"District\" in x:\n",
    "        return x.split( )[len(x.split( ))-1].zfill(2)\n",
    "    else:\n",
    "        raise ValueError"
   ]
  },
  {
   "cell_type": "code",
   "execution_count": 12,
   "id": "72bb76a3",
   "metadata": {},
   "outputs": [],
   "source": [
    "func = np.vectorize(district_assigner)\n",
    "district = func(ga_election[\"contest\"])\n",
    "ga_election[\"DISTRICT\"] = district"
   ]
  },
  {
   "cell_type": "code",
   "execution_count": 13,
   "id": "283c404c",
   "metadata": {},
   "outputs": [],
   "source": [
    "ga_election[\"DISTRICT\"] = ga_election[\"DISTRICT\"].astype(str).str.zfill(3)"
   ]
  },
  {
   "cell_type": "markdown",
   "id": "3c1f0e35",
   "metadata": {},
   "source": [
    "#### Add a FIPS Column"
   ]
  },
  {
   "cell_type": "code",
   "execution_count": 14,
   "id": "09b47d6b",
   "metadata": {},
   "outputs": [],
   "source": [
    "fips_file = pd.read_csv(\"./raw-from-source/FIPS/US_FIPS_Codes.csv\")\n",
    "fips_file = fips_file[fips_file[\"State\"]==\"Georgia\"]\n",
    "fips_file[\"FIPS County\"] = fips_file[\"FIPS County\"].astype(str)\n",
    "fips_file[\"FIPS County\"] = fips_file[\"FIPS County\"].str.zfill(3)\n",
    "fips_file[\"County Name\"] = fips_file[\"County Name\"].replace(\"De Kalb\",\"DeKalb\")\n",
    "fips_dict = dict(zip(fips_file['County Name'], fips_file['FIPS County']))\n",
    "ga_election['county_fips'] = ga_election['county'].map(fips_dict).fillna(ga_election['county'])\n",
    "ga_election['county_fips'] = ga_election['county_fips'].astype(str)\n",
    "ga_election['county_fips'] = ga_election['county_fips'].str.zfill(3)"
   ]
  },
  {
   "cell_type": "markdown",
   "id": "978970ce",
   "metadata": {},
   "source": [
    "#### Create a Precinct to District Mapping DataFrame"
   ]
  },
  {
   "cell_type": "code",
   "execution_count": 15,
   "id": "38396612",
   "metadata": {},
   "outputs": [],
   "source": [
    "choice_change_dict = {}\n",
    "choice_change_dict_holder = {}\n",
    "def get_name(full_name):\n",
    "    \n",
    "    if full_name in list(choice_change_dict.keys()):\n",
    "        #print(full_name + \" - \"+ choice_change_dict[full_name])\n",
    "        return choice_change_dict[full_name]\n",
    "    else:\n",
    "        last_name = full_name.split(\" \")[-1]\n",
    "        last_name = last_name.upper()\n",
    "        if last_name in [\"JR.\", \"III\"]:\n",
    "                last_name = full_name.split(\" \")[-2]\n",
    "                last_name = last_name.upper()\n",
    "        #print(full_name + \" - \"+last_name[0:3])\n",
    "        if full_name not in list(choice_change_dict_holder.keys()):\n",
    "            choice_change_dict_holder[full_name] = last_name[0:3]\n",
    "        return last_name[0:3]\n"
   ]
  },
  {
   "cell_type": "code",
   "execution_count": 16,
   "id": "567379e4",
   "metadata": {},
   "outputs": [],
   "source": [
    "ga_election[\"cand\"] = ga_election[\"choice\"].apply(lambda x:x.split(\" (\")[0])\n",
    "ga_election.sort_values([\"cand\"], inplace = True)\n",
    "ga_election[\"cand_abbrev\"] =  ga_election[\"cand\"].apply(lambda x: get_name(x))\n",
    "ga_election[\"unique_ID\"] = ga_election[\"county_fips\"]+\"-\"+ga_election[\"precinct\"]"
   ]
  },
  {
   "cell_type": "code",
   "execution_count": 17,
   "id": "d3b18599",
   "metadata": {},
   "outputs": [],
   "source": [
    "# Print statement to check the name mapping\n",
    "# for val in choice_change_dict_holder:\n",
    "#     print(val, \"-\", choice_change_dict_holder[val])"
   ]
  },
  {
   "cell_type": "code",
   "execution_count": 18,
   "id": "c171e2e5",
   "metadata": {},
   "outputs": [],
   "source": [
    "# Define the more detailed choice column\n",
    "ga_election[\"mod_choice\"]=\"GSL\"+ga_election[\"DISTRICT\"]+ga_election[\"party\"].str[0]+ga_election[\"cand_abbrev\"]"
   ]
  },
  {
   "cell_type": "code",
   "execution_count": 19,
   "id": "25c7622a",
   "metadata": {},
   "outputs": [],
   "source": [
    "# Create a Fields Dictionary\n",
    "fields_dict_lower = dict(zip(ga_election[\"mod_choice\"],ga_election[\"choice\"]))\n",
    "od = collections.OrderedDict(sorted(fields_dict_lower.items()))\n",
    "fields_dict_lower_df = pd.DataFrame.from_dict(od, orient ='index')\n",
    "fields_dict_lower_df.reset_index(inplace = True, drop = False)\n",
    "fields_dict_lower_df.columns = ['Field_Name', 'Cand_Name']\n",
    "fields_dict_lower_df.to_csv(\"./sldl_fields_dict.csv\", index = False)"
   ]
  },
  {
   "cell_type": "markdown",
   "id": "cd8c59c7",
   "metadata": {},
   "source": [
    "#### Pivot the data"
   ]
  },
  {
   "cell_type": "code",
   "execution_count": 20,
   "id": "cb1940b2",
   "metadata": {},
   "outputs": [],
   "source": [
    "ga_election[\"unique_ID\"]=ga_election[\"county_fips\"]+ga_election[\"precinct\"]\n",
    "ga_election=pd.pivot_table(ga_election,index=[\"unique_ID\",\"county\",\"county_fips\",\"precinct\"],columns=[\"mod_choice\"],values=['num_votes'],aggfunc=sum)\n",
    "ga_election = ga_election.fillna(0)\n",
    "ga_election.columns = ga_election.columns.droplevel(0)\n",
    "ga_election = ga_election.reset_index()"
   ]
  },
  {
   "cell_type": "markdown",
   "id": "d5783f98",
   "metadata": {},
   "source": [
    "### Combine Northgate Assembly and Trinity in Election Results\n",
    "\n",
    "Note: We perfomed this in the modified version of the VEST file as well. This corrects an issue with votes appearing in a precinct outside of a congressional district. Please see the main file README for more information"
   ]
  },
  {
   "cell_type": "code",
   "execution_count": 21,
   "id": "17bba889",
   "metadata": {},
   "outputs": [],
   "source": [
    "to_remove = ga_election[(ga_election[\"county\"]==\"Lowndes\") & (ga_election[\"precinct\"].isin([\"Northgate Assembly\", \"Trinity\"]))]\n",
    "remaining_elections = ga_election[~((ga_election[\"county\"]==\"Lowndes\") & (ga_election[\"precinct\"].isin([\"Northgate Assembly\", \"Trinity\"])))]"
   ]
  },
  {
   "cell_type": "code",
   "execution_count": 22,
   "id": "337d7714",
   "metadata": {},
   "outputs": [
    {
     "name": "stdout",
     "output_type": "stream",
     "text": [
      "(2656, 271)\n",
      "(2654, 271)\n",
      "(2, 271)\n"
     ]
    }
   ],
   "source": [
    "# Print statements to make sure all precincts are counted correctly\n",
    "print(ga_election.shape)\n",
    "print(remaining_elections.shape)\n",
    "print(to_remove.shape)"
   ]
  },
  {
   "cell_type": "code",
   "execution_count": 23,
   "id": "ddfd6b63",
   "metadata": {},
   "outputs": [],
   "source": [
    "# Combine the two precincts and clean the indices\n",
    "grouped_to_remove = to_remove.groupby([\"county_fips\"]).sum()\n",
    "grouped_to_remove.reset_index(inplace = True, drop = False)\n",
    "\n",
    "# Add appropriate data columns and filter down to needed columns\n",
    "grouped_to_remove[\"unique_ID\"] = \"185-NORTHGATE ASSEMBLY AND TRINITY\"\n",
    "grouped_to_remove[\"county\"] = 'Lowndes'\n",
    "grouped_to_remove[\"county_fips\"] = '185' \n",
    "grouped_to_remove[\"precinct\"] = 'NORTHGATE ASSEMBLY AND TRINITY'\n",
    "grouped_to_remove = grouped_to_remove[list(to_remove.columns)]\n",
    "\n",
    "# Combine the precincts back together\n",
    "ga_election = pd.concat([remaining_elections, grouped_to_remove])\n",
    "ga_election.reset_index(inplace = True, drop = True)"
   ]
  },
  {
   "cell_type": "markdown",
   "id": "5b3b5893",
   "metadata": {},
   "source": [
    "## Join Election Results to Shapefiles"
   ]
  },
  {
   "cell_type": "markdown",
   "id": "ee7999d7",
   "metadata": {},
   "source": [
    "#### Try a  unique ID"
   ]
  },
  {
   "cell_type": "code",
   "execution_count": 24,
   "id": "68c60db6",
   "metadata": {},
   "outputs": [],
   "source": [
    "ga_election[\"precinct\"] = ga_election[\"precinct\"].str.strip().str.upper()\n",
    "ga_election[\"unique_ID\"]=ga_election[\"county_fips\"]+\"-\"+ga_election[\"precinct\"]\n",
    "vest_ga_20[\"unique_ID\"]=vest_ga_20[\"FIPS2\"]+\"-\"+vest_ga_20[\"PRECINCT_N\"]"
   ]
  },
  {
   "cell_type": "markdown",
   "id": "047773e1",
   "metadata": {},
   "source": [
    "#### Check whether there are duplicate IDs"
   ]
  },
  {
   "cell_type": "code",
   "execution_count": 25,
   "id": "86234ae6",
   "metadata": {},
   "outputs": [
    {
     "name": "stdout",
     "output_type": "stream",
     "text": [
      "Series([], Name: unique_ID, dtype: int64)\n",
      "NaN                        7\n",
      "051-ELI WHITNEY COMPLEX    2\n",
      "Name: unique_ID, dtype: int64\n"
     ]
    }
   ],
   "source": [
    "ser_1 = ga_election[\"unique_ID\"].value_counts(dropna=False)\n",
    "print(ser_1[ser_1 >1])\n",
    "\n",
    "ser_2 = vest_ga_20[\"unique_ID\"].value_counts(dropna=False)\n",
    "print(ser_2[ser_2 >1])"
   ]
  },
  {
   "cell_type": "code",
   "execution_count": 26,
   "id": "784c3459",
   "metadata": {},
   "outputs": [
    {
     "data": {
      "text/html": [
       "<div>\n",
       "<style scoped>\n",
       "    .dataframe tbody tr th:only-of-type {\n",
       "        vertical-align: middle;\n",
       "    }\n",
       "\n",
       "    .dataframe tbody tr th {\n",
       "        vertical-align: top;\n",
       "    }\n",
       "\n",
       "    .dataframe thead th {\n",
       "        text-align: right;\n",
       "    }\n",
       "</style>\n",
       "<table border=\"1\" class=\"dataframe\">\n",
       "  <thead>\n",
       "    <tr style=\"text-align: right;\">\n",
       "      <th></th>\n",
       "      <th>DISTRICT</th>\n",
       "      <th>CTYSOSID</th>\n",
       "      <th>PRECINCT_I</th>\n",
       "      <th>PRECINCT_N</th>\n",
       "      <th>CTYNAME</th>\n",
       "      <th>CTYNUMBER</th>\n",
       "      <th>CTYNUMBER2</th>\n",
       "      <th>FIPS2</th>\n",
       "      <th>G20PRERTRU</th>\n",
       "      <th>G20PREDBID</th>\n",
       "      <th>...</th>\n",
       "      <th>G20PSCDBLA</th>\n",
       "      <th>G20PSCLWIL</th>\n",
       "      <th>R21USSRPER</th>\n",
       "      <th>R21USSDOSS</th>\n",
       "      <th>R21USSRLOE</th>\n",
       "      <th>R21USSDWAR</th>\n",
       "      <th>R21PSCRMCD</th>\n",
       "      <th>R21PSCDBLA</th>\n",
       "      <th>geometry</th>\n",
       "      <th>unique_ID</th>\n",
       "    </tr>\n",
       "  </thead>\n",
       "  <tbody>\n",
       "    <tr>\n",
       "      <th>2259</th>\n",
       "      <td>0513-15C</td>\n",
       "      <td>0513-15C</td>\n",
       "      <td>3-15C</td>\n",
       "      <td>ELI WHITNEY COMPLEX</td>\n",
       "      <td>CHATHAM</td>\n",
       "      <td>25</td>\n",
       "      <td>025</td>\n",
       "      <td>051</td>\n",
       "      <td>278</td>\n",
       "      <td>361</td>\n",
       "      <td>...</td>\n",
       "      <td>325</td>\n",
       "      <td>15</td>\n",
       "      <td>281</td>\n",
       "      <td>329</td>\n",
       "      <td>282</td>\n",
       "      <td>329</td>\n",
       "      <td>284</td>\n",
       "      <td>318</td>\n",
       "      <td>POLYGON ((-81.02948 32.06200, -81.03000 32.060...</td>\n",
       "      <td>051-ELI WHITNEY COMPLEX</td>\n",
       "    </tr>\n",
       "    <tr>\n",
       "      <th>2261</th>\n",
       "      <td>0512-06C</td>\n",
       "      <td>0512-06C</td>\n",
       "      <td>2-06C</td>\n",
       "      <td>ELI WHITNEY COMPLEX</td>\n",
       "      <td>CHATHAM</td>\n",
       "      <td>25</td>\n",
       "      <td>025</td>\n",
       "      <td>051</td>\n",
       "      <td>65</td>\n",
       "      <td>335</td>\n",
       "      <td>...</td>\n",
       "      <td>301</td>\n",
       "      <td>19</td>\n",
       "      <td>52</td>\n",
       "      <td>312</td>\n",
       "      <td>53</td>\n",
       "      <td>311</td>\n",
       "      <td>54</td>\n",
       "      <td>300</td>\n",
       "      <td>POLYGON ((-81.05333 32.07291, -81.05336 32.072...</td>\n",
       "      <td>051-ELI WHITNEY COMPLEX</td>\n",
       "    </tr>\n",
       "  </tbody>\n",
       "</table>\n",
       "<p>2 rows × 51 columns</p>\n",
       "</div>"
      ],
      "text/plain": [
       "      DISTRICT  CTYSOSID PRECINCT_I           PRECINCT_N  CTYNAME CTYNUMBER  \\\n",
       "2259  0513-15C  0513-15C      3-15C  ELI WHITNEY COMPLEX  CHATHAM        25   \n",
       "2261  0512-06C  0512-06C      2-06C  ELI WHITNEY COMPLEX  CHATHAM        25   \n",
       "\n",
       "     CTYNUMBER2 FIPS2  G20PRERTRU  G20PREDBID  ...  G20PSCDBLA  G20PSCLWIL  \\\n",
       "2259        025   051         278         361  ...         325          15   \n",
       "2261        025   051          65         335  ...         301          19   \n",
       "\n",
       "      R21USSRPER  R21USSDOSS  R21USSRLOE  R21USSDWAR  R21PSCRMCD  R21PSCDBLA  \\\n",
       "2259         281         329         282         329         284         318   \n",
       "2261          52         312          53         311          54         300   \n",
       "\n",
       "                                               geometry  \\\n",
       "2259  POLYGON ((-81.02948 32.06200, -81.03000 32.060...   \n",
       "2261  POLYGON ((-81.05333 32.07291, -81.05336 32.072...   \n",
       "\n",
       "                    unique_ID  \n",
       "2259  051-ELI WHITNEY COMPLEX  \n",
       "2261  051-ELI WHITNEY COMPLEX  \n",
       "\n",
       "[2 rows x 51 columns]"
      ]
     },
     "metadata": {},
     "output_type": "display_data"
    }
   ],
   "source": [
    "#Look into duplicate IDs - ELI WHITNEY\n",
    "display(vest_ga_20[vest_ga_20[\"unique_ID\"]==\"051-ELI WHITNEY COMPLEX\"])"
   ]
  },
  {
   "cell_type": "code",
   "execution_count": 27,
   "id": "548dfc3c",
   "metadata": {},
   "outputs": [],
   "source": [
    "#Assign new unique IDs, adding in PRECINCT_I to differentiate\n",
    "vest_ga_20.loc[vest_ga_20[\"CTYSOSID\"]==\"0513-15C\",\"unique_ID\"] = \"051-ELI WHITNEY COMPLEX 3-15C\"\n",
    "vest_ga_20.loc[vest_ga_20[\"CTYSOSID\"]==\"0512-06C\",\"unique_ID\"] = \"051-ELI WHITNEY COMPLEX 2-06C\""
   ]
  },
  {
   "cell_type": "code",
   "execution_count": 28,
   "id": "174c4059",
   "metadata": {},
   "outputs": [],
   "source": [
    "vest_ga_20.loc[vest_ga_20['unique_ID'].isna(), 'unique_ID'] = vest_ga_20['DISTRICT']"
   ]
  },
  {
   "cell_type": "code",
   "execution_count": 29,
   "id": "8747370a",
   "metadata": {},
   "outputs": [],
   "source": [
    "#Create a dictionary of ID changes\n",
    "source_vest_id_changes_dict = {'051-1-17C ISLANDS CHRISTIAN CHURCH': '051-ISLANDS CHRISTIAN CHURCH', '051-7-14C COASTAL CATHEDRAL': '051-COASTAL CATHEDRAL', '051-7-07C ROTHWELL BAPTIST CHURCH': '051-ROTHWELL BAPTIST CHURCH', '051-4-07C WILMINGTON ISLAND UMC': '051-WILMINGTON ISLAND UMC', '051-4-08C WILMINGTON ISLAND PRES CHURCH': '051-WILMINGTON ISLAND PRES CHURCH', '051-1-16C FERGUSON AVE BAPTIST': '051-FERGUSON AVE BAPTIST', '051-7-11C SEVENTH DAY ADV CHURCH': '051-SEVENTH DAY ADV CHURCH', '051-7-16C POOLER RECREATION CENTER GYMNASIUM': '051-POOLER REC CENTER GYM', '051-7-08C BLOOMINGDALE COMM CTR': '051-BLOOMINGDALE COMM CTR', '051-4-13C SKIDAWAY ISLAND PRES CHURCH': '051-SKIDAWAY ISLAND PRES CHURCH', '051-6-10C STATION 3': '051-GEORGETOWN ELEMENTARY', '051-4-12C ST PETERS EPISCOPAL': '051-ST PETERS EPISCOPAL', '051-7-13C SOUTHSIDE FIRE TRNG CTR': '051-SOUTHSIDE FIRE TRNG CTR', '051-4-06C FIRST BAPTIST OF THE ISLAND': '051-FIRST BAPTIST OF THE ISLAND', '051-4-04C LIGHTHOUSE BAPTIST CHURCH': '051-LIGHTHOUSE BAPTIST CHURCH', '051-4-05C ST FRANCIS EPISCOPAL CHURCH': '051-ST FRANCIS EPISCOPAL CHURCH', '051-1-12C ISLE OF HOPE BAPTIST': '051-ISLE OF HOPE BAPTIST', '051-4-02C FRANK MURRAY COMM CENTER': '051-FRANK MURRAY COMM CENTER', '051-7-06C POOLER CITY HALL': '051-POOLER CITY HALL', '051-8-16C ROYAL CINEMAS AND IMAX': '051-ROYAL CINEMAS AND IMAX', '051-6-02C WINDSOR FOREST BAPTIST': '051-WINDSOR FOREST BAPTIST', '051-6-11C BAMBOO FARMS': '051-BAMBOO FARMS', '051-4-15C SKIDAWAY ISLAND STATE PARK': '051-SKIDAWAY ISLAND STATE PARK', '051-6-09C TRINITY LUTHERAN CHURCH': '051-TRINITY LUTHERAN CHURCH', '051-1-01C FIRST PRESBYTERIAN CHURCH': '051-FIRST PRESBYTERIAN CHURCH', '051-4-14C SKIDAWAY ISLAND BAPTIST': '051-SKIDAWAY ISLAND BAPTIST', '051-7-12C POOLER CHURCH': '051-POOLER CHURCH', '051-7-10C PROGRESSIVE REC CENTER': '051-PROGRESSIVE REC CENTER', '051-1-06C CENTRAL CHURCH OF CHRIST': '051-CENTRAL CHURCH OF CHRIST', '051-1-14C COMPASSION CHRISTIAN CHURCH': '051-COMPASSION CHRISTIAN CHURCH', '051-6-03C CRUSADER COMM CENTER': '051-CRUSADER COMM CENTER', '051-4-11C TYBEE ISLAND SCHOOL CAFE': '051-TYBEE ISLAND SCHOOL CAFE', '051-7-09C SAVANNAH HOLY C OF G': '051-SAVANNAH HOLY C OF G', '051-4-10C GUARD HOUSE COMM CTR': '051-GUARD HOUSE COMM CTR', '051-1-08C GRACE UNITED METHODIST CHURCH': '051-GRACE UNITED METHODIST CHURCH', '051-1-10C ST THOMAS EPISCOPAL CHURCH': '051-ST THOMAS EPISCOPAL CHURCH', '051-1-05C JEA BUILDING': '051-JEA BUILDING', '051-1-13C THE SANCTUARY': '051-THE SANCTUARY', '051-7-15C RICE CREEK SCHOOL': '051-RICE CREEK SCHOOL', '051-3-12C THUNDERBOLT MUNI COMPLEX': '051-THUNDERBOLT MUNI COMPLEX', '051-3-13C NEW COV 7 DAY ADV CH': '051-NEW COV 7 DAY ADV CH', '051-7-03C PB EDWARDS GYM': '051-PB EDWARDS GYM', '051-7-01C GARDEN CITY SENIOR CTR': '051-GARDEN CITY SENIOR CTR', '051-6-06C THE LIGHT CHURCH': '051-THE LIGHT CHURCH', '051-7-04C LAKE SHORE COMM CTR': '051-LAKE SHORE COMM CTR', '051-6-05C WINDSOR HALL': '051-WINDSOR HALL', '051-3-02C TEMPLE MICKVE ISRAEL': '051-TEMPLE MICKVE ISRAEL', '051-6-01C WHITE BLUFF PRESBYTERIAN': '051-WHITE BLUFF PRESBYTERIAN', '051-5-11C LARGO-TIBET ELEMENTARY': '051-LARGO-TIBET ELEMENTARY', '051-3-14C OGLETHORPE CHARTER ACADEMY': '051-OGLETHORPE CHARTER ACADEMY', '051-6-08C CHRIST MEMORIAL BAPTIST CHURCH': '051-CHRIST MEMORIAL BAPTIST CHURCH', '051-7-05C WOODLAWN BAPTIST CHURCH': '051-WOODLAWN BAPTIST CHURCH', '051-5-08C SAVANNAH PRIMITIVE BC': '051-SAVANNAH PRIMITIVE BC', '051-8-03C SILK HOPE BAPTIST CHURCH': '051-SILK HOPE BAPTIST CHURCH', '051-3-05C ALDERSGATE YOUTH CENTER': '051-ALDERSGATE YOUTH CENTER', '051-3-09C COKESBURY METHODIST': '051-COKESBURY METHODIST', '051-3-15C ELI WHITNEY COMPLEX': '051-ELI WHITNEY COMPLEX 3-15C', '051-8-13C SAVANNAH CHRISTIAN': '051-SAVANNAH CHRISTIAN', '051-5-07C STATION 1': '051-ELKS LODGE', '051-2-09C SALVATION ARMY': '051-SALVATION ARMY', '051-3-10C BIBLE BAPTIST CHURCH': '051-BIBLE BAPTIST CHURCH', '051-2-07C CHRIST COMMUNITY CHURCH': '051-CHRIST COMMUNITY CHURCH', '051-3-08C JENKINS HIGH SCHOOL': '051-JENKINS HIGH SCHOOL', '051-5-06C SEED CHURCH': '051-SEED CHURCH', '051-1-09C IMMANUEL BAPTIST CHURCH': '051-IMMANUEL BAPTIST CHURCH', '051-8-02C HELLENIC CENTER': '051-HELLENIC CENTER', '051-2-11C STILLWELL TOWERS': '051-STILLWELL TOWERS', '051-3-11C SOUTHSIDE BAPTIST CHURCH': '051-SOUTHSIDE BAPTIST CHURCH', '051-2-02C BLACKSHEAR COMMUNITY CENTER': '051-BLACKSHEAR COMMUNITY CENTER', '051-5-01C BARTLETT MIDDLE SCHOOL': '051-BARTLETT MIDDLE SCHOOL', '051-2-05C HOLY SPIRIT LUTHERAN CHURCH': '051-HOLY SPIRIT LUTHERAN CHURCH', '051-2-04C FELLOWSHIP OF LOVE CHURCH': '051-FELLOWSHIP OF LOVE CHURCH', '051-2-12C WILLIAMS COURT APTS': '051-WILLIAMS COURT APTS', '051-3-01C OLD COURTHOUSE': '051-OLD COURTHOUSE', '051-2-03C W W LAW CENTER': '051-W W LAW CENTER', '051-8-12C BEACH HIGH SCHOOL': '051-BEACH HIGH SCHOOL', '051-5-10C TATUMVILLE COMMUNITY CENTER': '051-TATUMVILLE COMMUNITY CENTER', '051-8-15C GARDEN CITY REC CENTER': '051-GARDEN CITY REC CENTER', '051-2-06C ELI WHITNEY COMPLEX': '051-ELI WHITNEY COMPLEX 2-06C', '051-3-03C SAVANNAH HIGH SCHOOL': '051-SAVANNAH HIGH SCHOOL', '051-8-01C CIVIC CENTER': '051-CIVIC CENTER', '051-3-04C FIRST AFRICAN BAPTIST CHURCH': '051-FIRST AFRICAN BAPTIST CHURCH', '051-5-05C LIBERTY CITY COMM CTR': '051-LIBERTY CITY COMM CTR', '051-5-02C SENIOR CITIZENS CENTER': '051-SENIOR CITIZENS CENTER', '051-8-08C RESUR OF OUR LORD CHURCH': '051-RESURRECTION OF OUR LORD CHURCH', '051-8-05C W BROAD ST YMCA': '051-W BROAD ST YMCA', '051-8-06C TOMPKINS REC CENTER': '051-TOMPKINS REC CENTER', '051-8-09C MOSES JACKSON CENTER': '051-MOSES JACKSON CENTER', '051-5-03C BUTLER PRESBYTERIAN CHURCH': '051-BUTLER PRESBYTERIAN CHURCH', '051-8-11C BUTLER ELEMENTARY': '051-BUTLER ELEMENTARY', '051-8-07C WOODVILLE-TOMPKINS TI': '051-WOODVILLE-TOMPKINS TI', '051-8-10C CARVER HEIGHTS COMM CTR': '051-CARVER HEIGHTS COMM CTR', '053-ACTIVITY CENTER': '053-ACTIVITY CENTER (Includes FTBEN 1-3)', '067-POWDERS SPRINGS 1A': '067-POWDER SPRINGS 1A', '067-POWDERS SPRINGS 2A': '067-POWDER SPRINGS 2A', '067-POWDERS SPRINGS 3A': '067-POWDER SPRINGS 3A', '171-CHAPPELL MILL V FD': '171-CHAPPELL MILL VFD', '275-LITTLE OCHLOCKNEE BAPTIST CHURCH': '275-LITTLE OCHLOCKNEE', '299-100': '299-District 1', '299-200A': '299-District 2A', '299-200B': '299-District 2B', '299-300': '299-1231-150B', '299-304': '299-1231-150C', '299-400': '299-1231-151', '299-404': '299-Beach-Bickley', '299-405': '299-Haywood', '299-406': '299-Jamestown', '299-407': '299-Manor', '299-408': '299-Millwood', '299-409': '299-Waresboro', '317-TIGNAL SCH LUNCH RM': '317-TIGNALL SCH LUNCH RM'}\n",
    "\n",
    "#Apply the changes\n",
    "ga_election[\"unique_ID\"] = ga_election[\"unique_ID\"].map(source_vest_id_changes_dict).fillna(ga_election[\"unique_ID\"])"
   ]
  },
  {
   "cell_type": "code",
   "execution_count": 30,
   "id": "085e3d0d",
   "metadata": {},
   "outputs": [
    {
     "name": "stdout",
     "output_type": "stream",
     "text": [
      "both          2655\n",
      "right_only      23\n",
      "left_only        0\n",
      "Name: _merge, dtype: int64\n"
     ]
    }
   ],
   "source": [
    "#First join attempt\n",
    "join_attempt_1 = pd.merge(ga_election,vest_ga_20,how=\"outer\",on=\"unique_ID\",indicator=True)\n",
    "print(join_attempt_1[\"_merge\"].value_counts())\n",
    "\n",
    "left_only = join_attempt_1[join_attempt_1[\"_merge\"]==\"left_only\"]\n",
    "right_only = join_attempt_1[join_attempt_1[\"_merge\"]==\"right_only\"]"
   ]
  },
  {
   "cell_type": "code",
   "execution_count": 31,
   "id": "b776f661",
   "metadata": {},
   "outputs": [
    {
     "name": "stdout",
     "output_type": "stream",
     "text": [
      "23\n"
     ]
    }
   ],
   "source": [
    "#Confirm that the unjoined precincts contain zero-votes\n",
    "empty_precincts = []\n",
    "for index, row in right_only.iterrows():\n",
    "    for race in data_columns:\n",
    "        keep=True\n",
    "        if (row[race]!=0):\n",
    "            keep = False\n",
    "    if(keep):\n",
    "        empty_precincts.append(row[\"DISTRICT\"])\n",
    "print(len(empty_precincts))  "
   ]
  },
  {
   "cell_type": "code",
   "execution_count": 32,
   "id": "d37176d9",
   "metadata": {},
   "outputs": [],
   "source": [
    "races = [i for i in list(ga_election.columns) if \"GSL\" in i]"
   ]
  },
  {
   "cell_type": "code",
   "execution_count": 33,
   "id": "61d2e3a7",
   "metadata": {},
   "outputs": [],
   "source": [
    "for val in races:\n",
    "    join_attempt_1[val] = join_attempt_1[val].fillna(0)\n",
    "    join_attempt_1[val] = join_attempt_1[val].astype(int)"
   ]
  },
  {
   "cell_type": "markdown",
   "id": "c9e95b0d",
   "metadata": {},
   "source": [
    "## Load State House Districts"
   ]
  },
  {
   "cell_type": "code",
   "execution_count": 34,
   "id": "74d6bae5",
   "metadata": {},
   "outputs": [],
   "source": [
    "ga_sldl_districts = gp.read_file(\"./raw-from-source/SLDL_Districts/ga_sldl_2015_to_2021/ga_sldl_2015_to_2021.shp\")\n",
    "ga_sldl_districts = ga_sldl_districts.to_crs(vest_ga_20.crs)\n",
    "ga_sldl_districts.rename(columns={'DISTRICT':\"SLDL_DISTRICT\"},inplace=True)"
   ]
  },
  {
   "cell_type": "markdown",
   "id": "4b380552",
   "metadata": {},
   "source": [
    "## Look into split precincts"
   ]
  },
  {
   "cell_type": "code",
   "execution_count": 35,
   "id": "fd4b9cee",
   "metadata": {},
   "outputs": [],
   "source": [
    "def is_split_precinct(district_assignment_list):\n",
    "    c = Counter([x[0] for x in district_assignment_list])\n",
    "    greater_than_one = {x:[y[1] for y in district_assignment_list if y[0]==x] for x, count in c.items() if count > 1}\n",
    "    if len(greater_than_one)==0:\n",
    "        return 0\n",
    "    else:\n",
    "        return greater_than_one\n",
    "    \n",
    "def get_level_dist(column_name):\n",
    "    if column_name[0:3] == \"GSL\":\n",
    "        level = \"SL\"\n",
    "        dist = column_name[3:6]\n",
    "    elif column_name[0:3] == \"GCO\":\n",
    "        level = \"CON\"\n",
    "        dist = column_name[4:6]\n",
    "    elif column_name[0:3] == \"GSU\":\n",
    "        level = \"SU\"\n",
    "        dist = column_name[3:5]\n",
    "    else:\n",
    "        print(column_name)\n",
    "        raise ValueError\n",
    "    return level,dist\n",
    "\n",
    "def contains_sldl(dist_list):\n",
    "    for dist_tuple in dist_list:\n",
    "        if dist_tuple[0] == \"SL\":\n",
    "            return dist_tuple[1]\n",
    "        \n",
    "def contains_cong(dist_list):\n",
    "    for dist_tuple in dist_list:\n",
    "        if dist_tuple[0] == \"CON\":\n",
    "            return dist_tuple[1]\n",
    "\n",
    "precinct_mapping_dict = {}\n",
    "split_precincts_list = {}\n",
    "for index,row in join_attempt_1.iterrows():\n",
    "    precinct_list = []\n",
    "    for contest in races:\n",
    "        if(row[contest]!=0):\n",
    "            precinct_info = get_level_dist(contest)\n",
    "            if precinct_info not in precinct_list:\n",
    "                precinct_list.append(get_level_dist(contest))\n",
    "    is_split = is_split_precinct(precinct_list)\n",
    "    if (is_split):\n",
    "        split_precincts_list[row[\"unique_ID\"]]=is_split\n",
    "    precinct_mapping_dict[row[\"unique_ID\"]]=precinct_list"
   ]
  },
  {
   "cell_type": "code",
   "execution_count": 36,
   "id": "5c1d1a16",
   "metadata": {},
   "outputs": [
    {
     "data": {
      "text/plain": [
       "{'001-3C': {'SL': ['156', '178']},\n",
       " '013-01 BETHLEHEM COMMUNITY CENTER': {'SL': ['114', '116']},\n",
       " '013-05 FIRE STATION 1 (STATHAM)': {'SL': ['116', '117']},\n",
       " '013-08 FIRST BAPTIST CHURCH WINDER': {'SL': ['116', '117']},\n",
       " '013-16 THE CHURCH AT WINDER': {'SL': ['114', '116']},\n",
       " '015-CARTERSVILLE EAST': {'SL': ['014', '015']},\n",
       " '015-CENTER': {'SL': ['014', '015']},\n",
       " '015-EUHARLEE': {'SL': ['015', '016']},\n",
       " '021-GODFREY 1': {'SL': ['142', '143']},\n",
       " '021-VINEVILLE 4': {'SL': ['141', '142']},\n",
       " '029-DANIELSIDING': {'SL': ['164', '166']},\n",
       " '029-HWY 144 EAST': {'SL': ['164', '166']},\n",
       " '029-JF GREGORY PARK': {'SL': ['164', '166']},\n",
       " '031-HAGIN': {'SL': ['159', '160']},\n",
       " '031-REGISTER': {'SL': ['158', '160']},\n",
       " '031-STATESBORO': {'SL': ['158', '160']},\n",
       " '035-BUTTS COUNTY ADMIN BLDG': {'SL': ['110', '129']},\n",
       " '045-BETHANY': {'SL': ['018', '068']},\n",
       " '045-CLEM': {'SL': ['018', '069']},\n",
       " '049-AMERICAN LEGION': {'SL': ['174', '180']},\n",
       " '051-WINDSOR FOREST BAPTIST': {'SL': ['165', '166']},\n",
       " '051-TRINITY LUTHERAN CHURCH': {'SL': ['165', '166']},\n",
       " '057-AIR ACRES': {'SL': ['021', '046']},\n",
       " '057-AVERY': {'SL': ['021', '022']},\n",
       " '057-HICKORY FLAT': {'SL': ['021', '022']},\n",
       " '057-NEESE': {'SL': ['020', '046']},\n",
       " '057-TEASLEY': {'SL': ['021', '023']},\n",
       " '057-UNIVETER': {'SL': ['022', '023']},\n",
       " '059-4B': {'SL': ['117', '119']},\n",
       " '059-7A': {'SL': ['117', '119']},\n",
       " '063-JONESBORO 11': {'SL': ['075', '078']},\n",
       " '063-JONESBORO 3': {'SL': ['075', '078']},\n",
       " '063-LAKE CITY': {'SL': ['074', '076']},\n",
       " '063-LOVEJOY 1': {'SL': ['075', '078']},\n",
       " '063-LOVEJOY 5': {'SL': ['075', '078']},\n",
       " '067-BIG SHANTY 01': {'SL': ['034', '035']},\n",
       " '067-CHEATHAM HILL 03': {'SL': ['037', '041']},\n",
       " '067-CLARKDALE 01': {'SL': ['038', '039']},\n",
       " '067-CLARKDALE 02': {'SL': ['039', '061']},\n",
       " '067-DURHAM 01': {'SL': ['035', '036']},\n",
       " '067-ELIZABETH 01': {'SL': ['034', '037']},\n",
       " '067-ELIZABETH 03': {'SL': ['037', '044']},\n",
       " '067-KENNESAW 1A': {'SL': ['034', '035', '044']},\n",
       " '067-KENNESAW 2A': {'SL': ['034', '036']},\n",
       " '067-KENNESAW 3A': {'SL': ['034', '035']},\n",
       " '067-KENNESAW 4A': {'SL': ['034', '035']},\n",
       " '067-LASSITER 01': {'SL': ['044', '046']},\n",
       " '067-MABLETON 01': {'SL': ['038', '039']},\n",
       " '067-MARIETTA 1A': {'SL': ['037', '042']},\n",
       " '067-MARIETTA 2A': {'SL': ['034', '037']},\n",
       " '067-MARIETTA 2B': {'SL': ['037', '041']},\n",
       " '067-MARIETTA 3A': {'SL': ['034', '037']},\n",
       " '067-MARIETTA 3B': {'SL': ['037', '041']},\n",
       " '067-MARIETTA 4A': {'SL': ['034', '037']},\n",
       " '067-MARIETTA 4B': {'SL': ['034', '037']},\n",
       " '067-MARIETTA 5A': {'SL': ['037', '042']},\n",
       " '067-MARIETTA 5B': {'SL': ['034', '037']},\n",
       " '067-MARIETTA 6A': {'SL': ['037', '042', '043']},\n",
       " '067-MARIETTA 7A': {'SL': ['037', '042']},\n",
       " '067-NICKAJACK 01': {'SL': ['040', '053']},\n",
       " '067-NORTON PARK 01': {'SL': ['040', '041']},\n",
       " '067-OAKDALE 01': {'SL': ['040', '053']},\n",
       " '067-OREGON 02': {'SL': ['038', '041']},\n",
       " '067-OREGON 03': {'SL': ['037', '041', '042']},\n",
       " '067-PINE MOUNTAIN 01': {'SL': ['034', '036']},\n",
       " '067-POPE 01': {'SL': ['044', '045']},\n",
       " '067-POWERS FERRY 01': {'SL': ['042', '043']},\n",
       " '067-SEWELL MILL 01': {'SL': ['043', '045']},\n",
       " '067-SEWELL MILL 03': {'SL': ['042', '043']},\n",
       " '067-SMYRNA 1A': {'SL': ['040', '042']},\n",
       " '067-SMYRNA 2A': {'SL': ['040', '042']},\n",
       " '067-SMYRNA 3B': {'SL': ['040', '041', '042']},\n",
       " '067-SMYRNA 5A': {'SL': ['041', '042']},\n",
       " '067-SMYRNA 7A': {'SL': ['039', '040', '053']},\n",
       " '067-TERRELL MILL 01': {'SL': ['042', '043']},\n",
       " '067-VININGS 03': {'SL': ['040', '053']},\n",
       " '069-BROXTON': {'SL': ['155', '169']},\n",
       " '077-CENTRAL': {'SL': ['070', '132']},\n",
       " '077-NEWNAN CENTRE': {'SL': ['070', '071']},\n",
       " '077-TURIN': {'SL': ['071', '072']},\n",
       " '087-BAINBRIDGE-COLISEUM': {'SL': ['171', '173']},\n",
       " '089-AVONDALE HIGH': {'SL': ['084', '085']},\n",
       " '089-CHAMBLEE 2': {'SL': ['080', '081']},\n",
       " '089-CLAIREMONT WEST': {'SL': ['084', '085']},\n",
       " '089-CLARKSTON': {'SL': ['085', '086', '087']},\n",
       " '089-CLARKSTON COMMUNITY CENTER': {'SL': ['085', '086']},\n",
       " '089-CROSSROADS': {'SL': ['087', '088']},\n",
       " '089-DORAVILLE NORTH': {'SL': ['079', '081']},\n",
       " '089-DRESDEN ELEM': {'SL': ['081', '082']},\n",
       " '089-EAST LAKE': {'SL': ['083', '084', '089']},\n",
       " '089-EMBRY HILLS': {'SL': ['081', '088']},\n",
       " '089-EVANSDALE ELEM': {'SL': ['081', '087']},\n",
       " '089-FERNBANK ELEM': {'SL': ['082', '083']},\n",
       " '089-GLENNWOOD': {'SL': ['084', '085']},\n",
       " '089-HUNTLEY HILLS ELEM': {'SL': ['079', '080']},\n",
       " '089-JOLLY ELEM': {'SL': ['085', '086']},\n",
       " '089-LAKESIDE HIGH': {'SL': ['082', '086']},\n",
       " '089-MIDVALE ELEM': {'SL': ['081', '087']},\n",
       " '089-MILLER GROVE': {'SL': ['087', '092']},\n",
       " '089-MONTREAL': {'SL': ['086', '087']},\n",
       " '089-PANOLA ROAD': {'SL': ['092', '094']},\n",
       " '089-PLEASANTDALE ROAD': {'SL': ['081', '088']},\n",
       " '089-PRINCETON ELEM': {'SL': ['093', '094']},\n",
       " '089-REDAN MIDDLE': {'SL': ['087', '088']},\n",
       " '089-ROCKBRIDGE ELEM': {'SL': ['087', '088']},\n",
       " '089-SKYLAND': {'SL': ['080', '081']},\n",
       " '089-STONE MTN MIDDLE': {'SL': ['087', '088']},\n",
       " '089-TUCKER': {'SL': ['087', '088']},\n",
       " '089-TUCKER LIBRARY': {'SL': ['081', '088']},\n",
       " '089-WINNONA PARK': {'SL': ['084', '085']},\n",
       " '089-WOODWARD': {'SL': ['080', '082']},\n",
       " '095-DARTON COLLEGE': {'SL': ['151', '154']},\n",
       " '097-CHESTNUT LOG': {'SL': ['062', '066']},\n",
       " '103-4B': {'SL': ['159', '161']},\n",
       " '113-FIELDING RIDGE': {'SL': ['071', '072']},\n",
       " '113-KEDRON': {'SL': ['071', '072']},\n",
       " '113-MORNING CREEK': {'SL': ['063', '064']},\n",
       " '113-OAK RIDGE': {'SL': ['063', '064']},\n",
       " '113-WILLOW POND': {'SL': ['063', '072']},\n",
       " '115-MT ALTO NORTH': {'SL': ['012', '013']},\n",
       " '115-NORTH ROME': {'SL': ['013', '014']},\n",
       " '115-TOWN ROME': {'SL': ['012', '013']},\n",
       " '117-01 BIG CREEK': {'SL': ['022', '025']},\n",
       " '117-03 BROWNS BRIDGE': {'SL': ['024', '026']},\n",
       " '117-05 COAL MOUNTAIN': {'SL': ['024', '026']},\n",
       " '117-07 CUMMING': {'SL': ['024', '025', '026']},\n",
       " '117-08 MASHBURN': {'SL': ['024', '025', '026']},\n",
       " '117-10 MIDWAY': {'SL': ['022', '024']},\n",
       " '117-15 HEARDSVILLE': {'SL': ['009', '024']},\n",
       " '117-16 OTWELL': {'SL': ['024', '026']},\n",
       " '117-25 WINDERMERE': {'SL': ['025', '026']},\n",
       " '117-27 CONCORD': {'SL': ['009', '026']},\n",
       " '117-29 POLO': {'SL': ['022', '024', '025']},\n",
       " '117-36 NICHOLS': {'SL': ['025', '026']},\n",
       " '121-01T': {'SL': ['059', '060']},\n",
       " '121-UC02C': {'SL': ['062', '065']},\n",
       " '129-RED BUD': {'SL': ['005', '011']},\n",
       " '129-SONORAVILLE': {'SL': ['005', '011']},\n",
       " '135-BAYCREEK H': {'SL': ['105', '114']},\n",
       " '135-CATES J': {'SL': ['094', '106']},\n",
       " '135-DULUTH C': {'SL': ['095', '097']},\n",
       " '135-DULUTH F': {'SL': ['096', '101']},\n",
       " '135-DULUTH I': {'SL': ['096', '097']},\n",
       " '135-GARNERS D': {'SL': ['093', '094']},\n",
       " '135-HARBINS A': {'SL': ['104', '105']},\n",
       " '135-HOG MOUNTAIN B': {'SL': ['103', '104']},\n",
       " '135-HOG MOUNTAIN C': {'SL': ['098', '103']},\n",
       " '135-LAWRENCEVILLE D': {'SL': ['104', '105']},\n",
       " '135-MARTINS A': {'SL': ['100', '101']},\n",
       " '135-PINCKNEYVILLE W': {'SL': ['095', '096']},\n",
       " '135-PINCKNEYVILLE Y': {'SL': ['099', '108']},\n",
       " '135-ROCKBRIDGE C': {'SL': ['093', '094']},\n",
       " '135-SUGAR HILL A': {'SL': ['097', '098', '102']},\n",
       " '137-HABERSHAM NORTH': {'SL': ['010', '028']},\n",
       " '137-HABERSHAM SOUTH': {'SL': ['010', '028']},\n",
       " '139-CHICOPEE': {'SL': ['029', '030']},\n",
       " '139-FRIENDSHIP III': {'SL': ['030', '103']},\n",
       " '139-FRIENDSHIP IV': {'SL': ['030', '103']},\n",
       " '139-GAINESVILLE II': {'SL': ['029', '030']},\n",
       " '139-GAINESVILLE III': {'SL': ['027', '029']},\n",
       " '139-GAINESVILLE IV': {'SL': ['029', '030']},\n",
       " '139-GLADE': {'SL': ['027', '029']},\n",
       " '139-MORGAN I': {'SL': ['030', '103']},\n",
       " '139-OAKWOOD I': {'SL': ['029', '030']},\n",
       " '139-ROBERTS': {'SL': ['030', '103']},\n",
       " '139-TADMORE': {'SL': ['027', '030']},\n",
       " '139-WHELCHEL': {'SL': ['027', '029']},\n",
       " '139-WILSON': {'SL': ['029', '030']},\n",
       " '143-FELTON': {'SL': ['016', '018']},\n",
       " '143-LITTLE CREEK': {'SL': ['016', '018']},\n",
       " '151-FLIPPEN': {'SL': ['109', '111']},\n",
       " '151-HICKORY FLAT': {'SL': ['109', '111']},\n",
       " '151-MCDONOUGH CENTRAL': {'SL': ['109', '111']},\n",
       " '151-MT CARMEL': {'SL': ['073', '111']},\n",
       " '151-STOCKBRIDGE EAST-WEST': {'SL': ['090', '109']},\n",
       " '151-SWAN LAKE': {'SL': ['076', '090']},\n",
       " '151-TUSSAHAW': {'SL': ['110', '111']},\n",
       " '153-BMS': {'SL': ['144', '146']},\n",
       " '153-CENT': {'SL': ['140', '147']},\n",
       " '153-HHPC': {'SL': ['140', '147']},\n",
       " '153-RECR': {'SL': ['140', '147']},\n",
       " '153-ROZR': {'SL': ['146', '148']},\n",
       " '153-TWPK': {'SL': ['146', '147']},\n",
       " '153-VHS': {'SL': ['146', '148']},\n",
       " '157-SOUTH JACKSON': {'SL': ['031', '117']},\n",
       " '161-OCMULGEE 2': {'SL': ['149', '169']},\n",
       " '167-WRIGHTSVILLE': {'SL': ['128', '150']},\n",
       " '169-POPE': {'SL': ['129', '144']},\n",
       " '185-CLYATTVILLE': {'SL': ['174', '175']},\n",
       " '185-DASHER': {'SL': ['174', '177']},\n",
       " '185-HAHIRA TRAIN DEPOT': {'SL': ['175', '176']},\n",
       " '185-NORTHSIDE': {'SL': ['175', '176', '177']},\n",
       " '185-RAINWATER': {'SL': ['174', '175', '177']},\n",
       " '195-MILL': {'SL': ['032', '033']},\n",
       " '207-FORSYTH': {'SL': ['140', '141']},\n",
       " '213-TOWN': {'SL': ['006', '011']},\n",
       " '215-CANAAN': {'SL': ['136', '137']},\n",
       " '215-CUSSETA RD': {'SL': ['135', '136']},\n",
       " '215-EPWORTH UMC': {'SL': ['134', '135']},\n",
       " '215-GENTIAN/REESE': {'SL': ['134', '136']},\n",
       " '215-HOLSEY/BUENA VISTA': {'SL': ['136', '137']},\n",
       " '215-OUR LADY OF LOURDES': {'SL': ['135', '136']},\n",
       " '215-ST ANDREWS/MIDLAND': {'SL': ['134', '136']},\n",
       " '217-BREWERS': {'SL': ['110', '112']},\n",
       " '217-COVINGTON MILLS': {'SL': ['112', '113']},\n",
       " '217-DOWNS': {'SL': ['109', '110']},\n",
       " '217-LIVINGSTON': {'SL': ['110', '113']},\n",
       " '223-D WRIGHT INNOVATION CTR': {'SL': ['066', '067']},\n",
       " '223-MULBERRY ROCK PARK': {'SL': ['017', '067']},\n",
       " '223-NEBO ELEM SCHOOL': {'SL': ['019', '067']},\n",
       " '223-RUSSOM ELEMENTARY': {'SL': ['017', '019']},\n",
       " '223-SHELTON ELEMENTARY': {'SL': ['017', '019']},\n",
       " '223-TAYLOR FARM PARK': {'SL': ['019', '066']},\n",
       " '223-WHITE OAK PARK': {'SL': ['017', '019']},\n",
       " '237-104': {'SL': ['120', '145']},\n",
       " '247-BT': {'SL': ['092', '114']},\n",
       " '247-FI': {'SL': ['091', '113']},\n",
       " '247-FS': {'SL': ['091', '092']},\n",
       " '247-HI': {'SL': ['092', '114']},\n",
       " '247-MA': {'SL': ['091', '109']},\n",
       " '247-OT': {'SL': ['091', '092', '114']},\n",
       " '255-05': {'SL': ['073', '130']},\n",
       " '255-19': {'SL': ['073', '130']},\n",
       " '275-FIRE STATION #2': {'SL': ['173', '175']},\n",
       " '277-BRIGHTON': {'SL': ['155', '170']},\n",
       " '277-MOTT-LITMAN GYM': {'SL': ['170', '172']},\n",
       " '277-TIFTON LODGE': {'SL': ['155', '170']},\n",
       " '277-TIFTON NORTHWEST': {'SL': ['155', '170']},\n",
       " '277-TIFTON SOUTH': {'SL': ['155', '172']},\n",
       " '285-ADMINISTRATION BLDG': {'SL': ['132', '133']},\n",
       " '285-HIGHLAND': {'SL': ['132', '133']},\n",
       " '285-HOGANSVILLE': {'SL': ['069', '132']},\n",
       " '285-LONG CANE': {'SL': ['069', '133']},\n",
       " '285-MCCLENDON': {'SL': ['069', '132']},\n",
       " '285-NORTHSIDE': {'SL': ['069', '133']},\n",
       " '285-ROSEMONT': {'SL': ['132', '133']},\n",
       " '295-CHICKAMAUGA': {'SL': ['001', '002']},\n",
       " '295-WALNUT GROVE': {'SL': ['001', '002']},\n",
       " '297-BAY CREEK': {'SL': ['114', '115']},\n",
       " '297-BETWEEN': {'SL': ['114', '115']},\n",
       " '299-District 1': {'SL': ['174', '176', '180']},\n",
       " '299-District 2A': {'SL': ['176', '180']},\n",
       " '299-District 2B': {'SL': ['174', '180']},\n",
       " '305-PINE STREET': {'SL': ['157', '178']},\n",
       " '305-REC CENTER': {'SL': ['157', '178']},\n",
       " '311-SHOAL CREEK': {'SL': ['010', '027']},\n",
       " '313-2A': {'SL': ['004', '006']},\n",
       " '185-NORTHGATE ASSEMBLY AND TRINITY': {'SL': ['175', '176', '177']}}"
      ]
     },
     "execution_count": 36,
     "metadata": {},
     "output_type": "execute_result"
    }
   ],
   "source": [
    "split_precincts_list"
   ]
  },
  {
   "cell_type": "markdown",
   "id": "1df43c3e",
   "metadata": {},
   "source": [
    "### Perform the Precinct Splits"
   ]
  },
  {
   "cell_type": "code",
   "execution_count": 37,
   "id": "06bb7c83",
   "metadata": {},
   "outputs": [],
   "source": [
    "join_attempt_1 = gp.GeoDataFrame(join_attempt_1, crs = vest_ga_20.crs)"
   ]
  },
  {
   "cell_type": "code",
   "execution_count": 38,
   "id": "c3782152",
   "metadata": {},
   "outputs": [],
   "source": [
    "def return_sldl(row):\n",
    "    for val in races:\n",
    "        if row[val] != 0:\n",
    "            return val[3:6]"
   ]
  },
  {
   "cell_type": "code",
   "execution_count": 39,
   "id": "2d358578",
   "metadata": {},
   "outputs": [],
   "source": [
    "join_attempt_1[\"SLDL_DIST\"] = join_attempt_1.apply(lambda row: return_sldl(row), axis = 1)"
   ]
  },
  {
   "cell_type": "code",
   "execution_count": 40,
   "id": "768cb4c9",
   "metadata": {},
   "outputs": [
    {
     "name": "stdout",
     "output_type": "stream",
     "text": [
      "001-3C\n"
     ]
    },
    {
     "name": "stderr",
     "output_type": "stream",
     "text": [
      "/Users/peterhorton/Documents/RDH/erj/erj-ga/2020/general/helper_functions.py:20: UserWarning: `keep_geom_type=True` in overlay resulted in 2 dropped geometries of different geometry types than df1 has. Set `keep_geom_type=False` to retain all geometries\n",
      "  test_join = gp.overlay(full_shape, shps_gdf, how = \"intersection\")\n"
     ]
    },
    {
     "name": "stdout",
     "output_type": "stream",
     "text": [
      "013-01 BETHLEHEM COMMUNITY CENTER\n"
     ]
    },
    {
     "name": "stderr",
     "output_type": "stream",
     "text": [
      "/Users/peterhorton/Documents/RDH/erj/erj-ga/2020/general/helper_functions.py:20: UserWarning: `keep_geom_type=True` in overlay resulted in 3 dropped geometries of different geometry types than df1 has. Set `keep_geom_type=False` to retain all geometries\n",
      "  test_join = gp.overlay(full_shape, shps_gdf, how = \"intersection\")\n"
     ]
    },
    {
     "name": "stdout",
     "output_type": "stream",
     "text": [
      "013-05 FIRE STATION 1 (STATHAM)\n"
     ]
    },
    {
     "name": "stderr",
     "output_type": "stream",
     "text": [
      "/Users/peterhorton/Documents/RDH/erj/erj-ga/2020/general/helper_functions.py:20: UserWarning: `keep_geom_type=True` in overlay resulted in 3 dropped geometries of different geometry types than df1 has. Set `keep_geom_type=False` to retain all geometries\n",
      "  test_join = gp.overlay(full_shape, shps_gdf, how = \"intersection\")\n"
     ]
    },
    {
     "name": "stdout",
     "output_type": "stream",
     "text": [
      "013-08 FIRST BAPTIST CHURCH WINDER\n"
     ]
    },
    {
     "name": "stderr",
     "output_type": "stream",
     "text": [
      "/Users/peterhorton/Documents/RDH/erj/erj-ga/2020/general/helper_functions.py:20: UserWarning: `keep_geom_type=True` in overlay resulted in 2 dropped geometries of different geometry types than df1 has. Set `keep_geom_type=False` to retain all geometries\n",
      "  test_join = gp.overlay(full_shape, shps_gdf, how = \"intersection\")\n"
     ]
    },
    {
     "name": "stdout",
     "output_type": "stream",
     "text": [
      "013-16 THE CHURCH AT WINDER\n"
     ]
    },
    {
     "name": "stderr",
     "output_type": "stream",
     "text": [
      "/Users/peterhorton/Documents/RDH/erj/erj-ga/2020/general/helper_functions.py:20: UserWarning: `keep_geom_type=True` in overlay resulted in 4 dropped geometries of different geometry types than df1 has. Set `keep_geom_type=False` to retain all geometries\n",
      "  test_join = gp.overlay(full_shape, shps_gdf, how = \"intersection\")\n"
     ]
    },
    {
     "name": "stdout",
     "output_type": "stream",
     "text": [
      "015-CARTERSVILLE EAST\n"
     ]
    },
    {
     "name": "stderr",
     "output_type": "stream",
     "text": [
      "/Users/peterhorton/Documents/RDH/erj/erj-ga/2020/general/helper_functions.py:20: UserWarning: `keep_geom_type=True` in overlay resulted in 2 dropped geometries of different geometry types than df1 has. Set `keep_geom_type=False` to retain all geometries\n",
      "  test_join = gp.overlay(full_shape, shps_gdf, how = \"intersection\")\n"
     ]
    },
    {
     "name": "stdout",
     "output_type": "stream",
     "text": [
      "015-CENTER\n"
     ]
    },
    {
     "name": "stderr",
     "output_type": "stream",
     "text": [
      "/Users/peterhorton/Documents/RDH/erj/erj-ga/2020/general/helper_functions.py:20: UserWarning: `keep_geom_type=True` in overlay resulted in 4 dropped geometries of different geometry types than df1 has. Set `keep_geom_type=False` to retain all geometries\n",
      "  test_join = gp.overlay(full_shape, shps_gdf, how = \"intersection\")\n"
     ]
    },
    {
     "name": "stdout",
     "output_type": "stream",
     "text": [
      "015-EUHARLEE\n"
     ]
    },
    {
     "name": "stderr",
     "output_type": "stream",
     "text": [
      "/Users/peterhorton/Documents/RDH/erj/erj-ga/2020/general/helper_functions.py:20: UserWarning: `keep_geom_type=True` in overlay resulted in 2 dropped geometries of different geometry types than df1 has. Set `keep_geom_type=False` to retain all geometries\n",
      "  test_join = gp.overlay(full_shape, shps_gdf, how = \"intersection\")\n"
     ]
    },
    {
     "name": "stdout",
     "output_type": "stream",
     "text": [
      "021-GODFREY 1\n",
      "021-VINEVILLE 4\n",
      "029-DANIELSIDING\n"
     ]
    },
    {
     "name": "stderr",
     "output_type": "stream",
     "text": [
      "/Users/peterhorton/Documents/RDH/erj/erj-ga/2020/general/helper_functions.py:20: UserWarning: `keep_geom_type=True` in overlay resulted in 2 dropped geometries of different geometry types than df1 has. Set `keep_geom_type=False` to retain all geometries\n",
      "  test_join = gp.overlay(full_shape, shps_gdf, how = \"intersection\")\n"
     ]
    },
    {
     "name": "stdout",
     "output_type": "stream",
     "text": [
      "029-HWY 144 EAST\n"
     ]
    },
    {
     "name": "stderr",
     "output_type": "stream",
     "text": [
      "/Users/peterhorton/Documents/RDH/erj/erj-ga/2020/general/helper_functions.py:20: UserWarning: `keep_geom_type=True` in overlay resulted in 3 dropped geometries of different geometry types than df1 has. Set `keep_geom_type=False` to retain all geometries\n",
      "  test_join = gp.overlay(full_shape, shps_gdf, how = \"intersection\")\n"
     ]
    },
    {
     "name": "stdout",
     "output_type": "stream",
     "text": [
      "029-JF GREGORY PARK\n"
     ]
    },
    {
     "name": "stderr",
     "output_type": "stream",
     "text": [
      "/Users/peterhorton/Documents/RDH/erj/erj-ga/2020/general/helper_functions.py:20: UserWarning: `keep_geom_type=True` in overlay resulted in 1 dropped geometries of different geometry types than df1 has. Set `keep_geom_type=False` to retain all geometries\n",
      "  test_join = gp.overlay(full_shape, shps_gdf, how = \"intersection\")\n"
     ]
    },
    {
     "name": "stdout",
     "output_type": "stream",
     "text": [
      "031-HAGIN\n"
     ]
    },
    {
     "name": "stderr",
     "output_type": "stream",
     "text": [
      "/Users/peterhorton/Documents/RDH/erj/erj-ga/2020/general/helper_functions.py:20: UserWarning: `keep_geom_type=True` in overlay resulted in 1 dropped geometries of different geometry types than df1 has. Set `keep_geom_type=False` to retain all geometries\n",
      "  test_join = gp.overlay(full_shape, shps_gdf, how = \"intersection\")\n"
     ]
    },
    {
     "name": "stdout",
     "output_type": "stream",
     "text": [
      "031-REGISTER\n"
     ]
    },
    {
     "name": "stderr",
     "output_type": "stream",
     "text": [
      "/Users/peterhorton/Documents/RDH/erj/erj-ga/2020/general/helper_functions.py:20: UserWarning: `keep_geom_type=True` in overlay resulted in 1 dropped geometries of different geometry types than df1 has. Set `keep_geom_type=False` to retain all geometries\n",
      "  test_join = gp.overlay(full_shape, shps_gdf, how = \"intersection\")\n",
      "/Users/peterhorton/Documents/RDH/erj/erj-ga/2020/general/helper_functions.py:20: UserWarning: `keep_geom_type=True` in overlay resulted in 2 dropped geometries of different geometry types than df1 has. Set `keep_geom_type=False` to retain all geometries\n",
      "  test_join = gp.overlay(full_shape, shps_gdf, how = \"intersection\")\n"
     ]
    },
    {
     "name": "stdout",
     "output_type": "stream",
     "text": [
      "031-STATESBORO\n",
      "035-BUTTS COUNTY ADMIN BLDG\n"
     ]
    },
    {
     "name": "stderr",
     "output_type": "stream",
     "text": [
      "/Users/peterhorton/Documents/RDH/erj/erj-ga/2020/general/helper_functions.py:20: UserWarning: `keep_geom_type=True` in overlay resulted in 4 dropped geometries of different geometry types than df1 has. Set `keep_geom_type=False` to retain all geometries\n",
      "  test_join = gp.overlay(full_shape, shps_gdf, how = \"intersection\")\n"
     ]
    },
    {
     "name": "stdout",
     "output_type": "stream",
     "text": [
      "045-BETHANY\n"
     ]
    },
    {
     "name": "stderr",
     "output_type": "stream",
     "text": [
      "/Users/peterhorton/Documents/RDH/erj/erj-ga/2020/general/helper_functions.py:20: UserWarning: `keep_geom_type=True` in overlay resulted in 6 dropped geometries of different geometry types than df1 has. Set `keep_geom_type=False` to retain all geometries\n",
      "  test_join = gp.overlay(full_shape, shps_gdf, how = \"intersection\")\n"
     ]
    },
    {
     "name": "stdout",
     "output_type": "stream",
     "text": [
      "045-CLEM\n"
     ]
    },
    {
     "name": "stderr",
     "output_type": "stream",
     "text": [
      "/Users/peterhorton/Documents/RDH/erj/erj-ga/2020/general/helper_functions.py:20: UserWarning: `keep_geom_type=True` in overlay resulted in 3 dropped geometries of different geometry types than df1 has. Set `keep_geom_type=False` to retain all geometries\n",
      "  test_join = gp.overlay(full_shape, shps_gdf, how = \"intersection\")\n"
     ]
    },
    {
     "name": "stdout",
     "output_type": "stream",
     "text": [
      "049-AMERICAN LEGION\n"
     ]
    },
    {
     "name": "stderr",
     "output_type": "stream",
     "text": [
      "/Users/peterhorton/Documents/RDH/erj/erj-ga/2020/general/helper_functions.py:20: UserWarning: `keep_geom_type=True` in overlay resulted in 4 dropped geometries of different geometry types than df1 has. Set `keep_geom_type=False` to retain all geometries\n",
      "  test_join = gp.overlay(full_shape, shps_gdf, how = \"intersection\")\n"
     ]
    },
    {
     "name": "stdout",
     "output_type": "stream",
     "text": [
      "051-WINDSOR FOREST BAPTIST\n"
     ]
    },
    {
     "name": "stderr",
     "output_type": "stream",
     "text": [
      "/Users/peterhorton/Documents/RDH/erj/erj-ga/2020/general/helper_functions.py:20: UserWarning: `keep_geom_type=True` in overlay resulted in 4 dropped geometries of different geometry types than df1 has. Set `keep_geom_type=False` to retain all geometries\n",
      "  test_join = gp.overlay(full_shape, shps_gdf, how = \"intersection\")\n"
     ]
    },
    {
     "name": "stdout",
     "output_type": "stream",
     "text": [
      "051-TRINITY LUTHERAN CHURCH\n"
     ]
    },
    {
     "name": "stderr",
     "output_type": "stream",
     "text": [
      "/Users/peterhorton/Documents/RDH/erj/erj-ga/2020/general/helper_functions.py:20: UserWarning: `keep_geom_type=True` in overlay resulted in 3 dropped geometries of different geometry types than df1 has. Set `keep_geom_type=False` to retain all geometries\n",
      "  test_join = gp.overlay(full_shape, shps_gdf, how = \"intersection\")\n"
     ]
    },
    {
     "name": "stdout",
     "output_type": "stream",
     "text": [
      "057-AIR ACRES\n"
     ]
    },
    {
     "name": "stderr",
     "output_type": "stream",
     "text": [
      "/Users/peterhorton/Documents/RDH/erj/erj-ga/2020/general/helper_functions.py:20: UserWarning: `keep_geom_type=True` in overlay resulted in 3 dropped geometries of different geometry types than df1 has. Set `keep_geom_type=False` to retain all geometries\n",
      "  test_join = gp.overlay(full_shape, shps_gdf, how = \"intersection\")\n"
     ]
    },
    {
     "name": "stdout",
     "output_type": "stream",
     "text": [
      "057-AVERY\n"
     ]
    },
    {
     "name": "stderr",
     "output_type": "stream",
     "text": [
      "/Users/peterhorton/Documents/RDH/erj/erj-ga/2020/general/helper_functions.py:20: UserWarning: `keep_geom_type=True` in overlay resulted in 2 dropped geometries of different geometry types than df1 has. Set `keep_geom_type=False` to retain all geometries\n",
      "  test_join = gp.overlay(full_shape, shps_gdf, how = \"intersection\")\n"
     ]
    },
    {
     "name": "stdout",
     "output_type": "stream",
     "text": [
      "057-HICKORY FLAT\n"
     ]
    },
    {
     "name": "stderr",
     "output_type": "stream",
     "text": [
      "/Users/peterhorton/Documents/RDH/erj/erj-ga/2020/general/helper_functions.py:20: UserWarning: `keep_geom_type=True` in overlay resulted in 4 dropped geometries of different geometry types than df1 has. Set `keep_geom_type=False` to retain all geometries\n",
      "  test_join = gp.overlay(full_shape, shps_gdf, how = \"intersection\")\n"
     ]
    },
    {
     "name": "stdout",
     "output_type": "stream",
     "text": [
      "057-NEESE\n"
     ]
    },
    {
     "name": "stderr",
     "output_type": "stream",
     "text": [
      "/Users/peterhorton/Documents/RDH/erj/erj-ga/2020/general/helper_functions.py:20: UserWarning: `keep_geom_type=True` in overlay resulted in 3 dropped geometries of different geometry types than df1 has. Set `keep_geom_type=False` to retain all geometries\n",
      "  test_join = gp.overlay(full_shape, shps_gdf, how = \"intersection\")\n"
     ]
    },
    {
     "name": "stdout",
     "output_type": "stream",
     "text": [
      "057-TEASLEY\n"
     ]
    },
    {
     "name": "stderr",
     "output_type": "stream",
     "text": [
      "/Users/peterhorton/Documents/RDH/erj/erj-ga/2020/general/helper_functions.py:20: UserWarning: `keep_geom_type=True` in overlay resulted in 1 dropped geometries of different geometry types than df1 has. Set `keep_geom_type=False` to retain all geometries\n",
      "  test_join = gp.overlay(full_shape, shps_gdf, how = \"intersection\")\n"
     ]
    },
    {
     "name": "stdout",
     "output_type": "stream",
     "text": [
      "057-UNIVETER\n"
     ]
    },
    {
     "name": "stderr",
     "output_type": "stream",
     "text": [
      "/Users/peterhorton/Documents/RDH/erj/erj-ga/2020/general/helper_functions.py:20: UserWarning: `keep_geom_type=True` in overlay resulted in 4 dropped geometries of different geometry types than df1 has. Set `keep_geom_type=False` to retain all geometries\n",
      "  test_join = gp.overlay(full_shape, shps_gdf, how = \"intersection\")\n"
     ]
    },
    {
     "name": "stdout",
     "output_type": "stream",
     "text": [
      "059-4B\n"
     ]
    },
    {
     "name": "stderr",
     "output_type": "stream",
     "text": [
      "/Users/peterhorton/Documents/RDH/erj/erj-ga/2020/general/helper_functions.py:20: UserWarning: `keep_geom_type=True` in overlay resulted in 2 dropped geometries of different geometry types than df1 has. Set `keep_geom_type=False` to retain all geometries\n",
      "  test_join = gp.overlay(full_shape, shps_gdf, how = \"intersection\")\n"
     ]
    },
    {
     "name": "stdout",
     "output_type": "stream",
     "text": [
      "059-7A\n"
     ]
    },
    {
     "name": "stderr",
     "output_type": "stream",
     "text": [
      "/Users/peterhorton/Documents/RDH/erj/erj-ga/2020/general/helper_functions.py:20: UserWarning: `keep_geom_type=True` in overlay resulted in 2 dropped geometries of different geometry types than df1 has. Set `keep_geom_type=False` to retain all geometries\n",
      "  test_join = gp.overlay(full_shape, shps_gdf, how = \"intersection\")\n"
     ]
    },
    {
     "name": "stdout",
     "output_type": "stream",
     "text": [
      "063-JONESBORO 11\n"
     ]
    },
    {
     "name": "stderr",
     "output_type": "stream",
     "text": [
      "/Users/peterhorton/Documents/RDH/erj/erj-ga/2020/general/helper_functions.py:20: UserWarning: `keep_geom_type=True` in overlay resulted in 2 dropped geometries of different geometry types than df1 has. Set `keep_geom_type=False` to retain all geometries\n",
      "  test_join = gp.overlay(full_shape, shps_gdf, how = \"intersection\")\n"
     ]
    },
    {
     "name": "stdout",
     "output_type": "stream",
     "text": [
      "063-JONESBORO 3\n"
     ]
    },
    {
     "name": "stderr",
     "output_type": "stream",
     "text": [
      "/Users/peterhorton/Documents/RDH/erj/erj-ga/2020/general/helper_functions.py:20: UserWarning: `keep_geom_type=True` in overlay resulted in 3 dropped geometries of different geometry types than df1 has. Set `keep_geom_type=False` to retain all geometries\n",
      "  test_join = gp.overlay(full_shape, shps_gdf, how = \"intersection\")\n"
     ]
    },
    {
     "name": "stdout",
     "output_type": "stream",
     "text": [
      "063-LAKE CITY\n"
     ]
    },
    {
     "name": "stderr",
     "output_type": "stream",
     "text": [
      "/Users/peterhorton/Documents/RDH/erj/erj-ga/2020/general/helper_functions.py:20: UserWarning: `keep_geom_type=True` in overlay resulted in 3 dropped geometries of different geometry types than df1 has. Set `keep_geom_type=False` to retain all geometries\n",
      "  test_join = gp.overlay(full_shape, shps_gdf, how = \"intersection\")\n"
     ]
    },
    {
     "name": "stdout",
     "output_type": "stream",
     "text": [
      "063-LOVEJOY 1\n"
     ]
    },
    {
     "name": "stderr",
     "output_type": "stream",
     "text": [
      "/Users/peterhorton/Documents/RDH/erj/erj-ga/2020/general/helper_functions.py:20: UserWarning: `keep_geom_type=True` in overlay resulted in 2 dropped geometries of different geometry types than df1 has. Set `keep_geom_type=False` to retain all geometries\n",
      "  test_join = gp.overlay(full_shape, shps_gdf, how = \"intersection\")\n"
     ]
    },
    {
     "name": "stdout",
     "output_type": "stream",
     "text": [
      "063-LOVEJOY 5\n"
     ]
    },
    {
     "name": "stderr",
     "output_type": "stream",
     "text": [
      "/Users/peterhorton/Documents/RDH/erj/erj-ga/2020/general/helper_functions.py:20: UserWarning: `keep_geom_type=True` in overlay resulted in 2 dropped geometries of different geometry types than df1 has. Set `keep_geom_type=False` to retain all geometries\n",
      "  test_join = gp.overlay(full_shape, shps_gdf, how = \"intersection\")\n"
     ]
    },
    {
     "name": "stdout",
     "output_type": "stream",
     "text": [
      "067-BIG SHANTY 01\n"
     ]
    },
    {
     "name": "stderr",
     "output_type": "stream",
     "text": [
      "/Users/peterhorton/Documents/RDH/erj/erj-ga/2020/general/helper_functions.py:20: UserWarning: `keep_geom_type=True` in overlay resulted in 6 dropped geometries of different geometry types than df1 has. Set `keep_geom_type=False` to retain all geometries\n",
      "  test_join = gp.overlay(full_shape, shps_gdf, how = \"intersection\")\n"
     ]
    },
    {
     "name": "stdout",
     "output_type": "stream",
     "text": [
      "067-CHEATHAM HILL 03\n"
     ]
    },
    {
     "name": "stderr",
     "output_type": "stream",
     "text": [
      "/Users/peterhorton/Documents/RDH/erj/erj-ga/2020/general/helper_functions.py:20: UserWarning: `keep_geom_type=True` in overlay resulted in 14 dropped geometries of different geometry types than df1 has. Set `keep_geom_type=False` to retain all geometries\n",
      "  test_join = gp.overlay(full_shape, shps_gdf, how = \"intersection\")\n"
     ]
    },
    {
     "name": "stdout",
     "output_type": "stream",
     "text": [
      "067-CLARKDALE 01\n"
     ]
    },
    {
     "name": "stderr",
     "output_type": "stream",
     "text": [
      "/Users/peterhorton/Documents/RDH/erj/erj-ga/2020/general/helper_functions.py:20: UserWarning: `keep_geom_type=True` in overlay resulted in 20 dropped geometries of different geometry types than df1 has. Set `keep_geom_type=False` to retain all geometries\n",
      "  test_join = gp.overlay(full_shape, shps_gdf, how = \"intersection\")\n"
     ]
    },
    {
     "name": "stdout",
     "output_type": "stream",
     "text": [
      "067-CLARKDALE 02\n"
     ]
    },
    {
     "name": "stderr",
     "output_type": "stream",
     "text": [
      "/Users/peterhorton/Documents/RDH/erj/erj-ga/2020/general/helper_functions.py:20: UserWarning: `keep_geom_type=True` in overlay resulted in 55 dropped geometries of different geometry types than df1 has. Set `keep_geom_type=False` to retain all geometries\n",
      "  test_join = gp.overlay(full_shape, shps_gdf, how = \"intersection\")\n"
     ]
    },
    {
     "name": "stdout",
     "output_type": "stream",
     "text": [
      "067-DURHAM 01\n"
     ]
    },
    {
     "name": "stderr",
     "output_type": "stream",
     "text": [
      "/Users/peterhorton/Documents/RDH/erj/erj-ga/2020/general/helper_functions.py:20: UserWarning: `keep_geom_type=True` in overlay resulted in 24 dropped geometries of different geometry types than df1 has. Set `keep_geom_type=False` to retain all geometries\n",
      "  test_join = gp.overlay(full_shape, shps_gdf, how = \"intersection\")\n"
     ]
    },
    {
     "name": "stdout",
     "output_type": "stream",
     "text": [
      "067-ELIZABETH 01\n",
      "067-ELIZABETH 03\n"
     ]
    },
    {
     "name": "stderr",
     "output_type": "stream",
     "text": [
      "/Users/peterhorton/Documents/RDH/erj/erj-ga/2020/general/helper_functions.py:20: UserWarning: `keep_geom_type=True` in overlay resulted in 8 dropped geometries of different geometry types than df1 has. Set `keep_geom_type=False` to retain all geometries\n",
      "  test_join = gp.overlay(full_shape, shps_gdf, how = \"intersection\")\n"
     ]
    },
    {
     "name": "stdout",
     "output_type": "stream",
     "text": [
      "067-KENNESAW 1A\n"
     ]
    },
    {
     "name": "stderr",
     "output_type": "stream",
     "text": [
      "/Users/peterhorton/Documents/RDH/erj/erj-ga/2020/general/helper_functions.py:20: UserWarning: `keep_geom_type=True` in overlay resulted in 7 dropped geometries of different geometry types than df1 has. Set `keep_geom_type=False` to retain all geometries\n",
      "  test_join = gp.overlay(full_shape, shps_gdf, how = \"intersection\")\n"
     ]
    },
    {
     "name": "stdout",
     "output_type": "stream",
     "text": [
      "067-KENNESAW 2A\n"
     ]
    },
    {
     "name": "stderr",
     "output_type": "stream",
     "text": [
      "/Users/peterhorton/Documents/RDH/erj/erj-ga/2020/general/helper_functions.py:20: UserWarning: `keep_geom_type=True` in overlay resulted in 13 dropped geometries of different geometry types than df1 has. Set `keep_geom_type=False` to retain all geometries\n",
      "  test_join = gp.overlay(full_shape, shps_gdf, how = \"intersection\")\n"
     ]
    },
    {
     "name": "stdout",
     "output_type": "stream",
     "text": [
      "067-KENNESAW 3A\n"
     ]
    },
    {
     "name": "stderr",
     "output_type": "stream",
     "text": [
      "/Users/peterhorton/Documents/RDH/erj/erj-ga/2020/general/helper_functions.py:20: UserWarning: `keep_geom_type=True` in overlay resulted in 10 dropped geometries of different geometry types than df1 has. Set `keep_geom_type=False` to retain all geometries\n",
      "  test_join = gp.overlay(full_shape, shps_gdf, how = \"intersection\")\n"
     ]
    },
    {
     "name": "stdout",
     "output_type": "stream",
     "text": [
      "067-KENNESAW 4A\n"
     ]
    },
    {
     "name": "stderr",
     "output_type": "stream",
     "text": [
      "/Users/peterhorton/Documents/RDH/erj/erj-ga/2020/general/helper_functions.py:20: UserWarning: `keep_geom_type=True` in overlay resulted in 17 dropped geometries of different geometry types than df1 has. Set `keep_geom_type=False` to retain all geometries\n",
      "  test_join = gp.overlay(full_shape, shps_gdf, how = \"intersection\")\n"
     ]
    },
    {
     "name": "stdout",
     "output_type": "stream",
     "text": [
      "067-LASSITER 01\n"
     ]
    },
    {
     "name": "stderr",
     "output_type": "stream",
     "text": [
      "/Users/peterhorton/Documents/RDH/erj/erj-ga/2020/general/helper_functions.py:20: UserWarning: `keep_geom_type=True` in overlay resulted in 21 dropped geometries of different geometry types than df1 has. Set `keep_geom_type=False` to retain all geometries\n",
      "  test_join = gp.overlay(full_shape, shps_gdf, how = \"intersection\")\n"
     ]
    },
    {
     "name": "stdout",
     "output_type": "stream",
     "text": [
      "067-MABLETON 01\n"
     ]
    },
    {
     "name": "stderr",
     "output_type": "stream",
     "text": [
      "/Users/peterhorton/Documents/RDH/erj/erj-ga/2020/general/helper_functions.py:20: UserWarning: `keep_geom_type=True` in overlay resulted in 30 dropped geometries of different geometry types than df1 has. Set `keep_geom_type=False` to retain all geometries\n",
      "  test_join = gp.overlay(full_shape, shps_gdf, how = \"intersection\")\n"
     ]
    },
    {
     "name": "stdout",
     "output_type": "stream",
     "text": [
      "067-MARIETTA 1A\n"
     ]
    },
    {
     "name": "stderr",
     "output_type": "stream",
     "text": [
      "/Users/peterhorton/Documents/RDH/erj/erj-ga/2020/general/helper_functions.py:20: UserWarning: `keep_geom_type=True` in overlay resulted in 11 dropped geometries of different geometry types than df1 has. Set `keep_geom_type=False` to retain all geometries\n",
      "  test_join = gp.overlay(full_shape, shps_gdf, how = \"intersection\")\n"
     ]
    },
    {
     "name": "stdout",
     "output_type": "stream",
     "text": [
      "067-MARIETTA 2A\n"
     ]
    },
    {
     "name": "stderr",
     "output_type": "stream",
     "text": [
      "/Users/peterhorton/Documents/RDH/erj/erj-ga/2020/general/helper_functions.py:20: UserWarning: `keep_geom_type=True` in overlay resulted in 9 dropped geometries of different geometry types than df1 has. Set `keep_geom_type=False` to retain all geometries\n",
      "  test_join = gp.overlay(full_shape, shps_gdf, how = \"intersection\")\n"
     ]
    },
    {
     "name": "stdout",
     "output_type": "stream",
     "text": [
      "067-MARIETTA 2B\n"
     ]
    },
    {
     "name": "stderr",
     "output_type": "stream",
     "text": [
      "/Users/peterhorton/Documents/RDH/erj/erj-ga/2020/general/helper_functions.py:20: UserWarning: `keep_geom_type=True` in overlay resulted in 11 dropped geometries of different geometry types than df1 has. Set `keep_geom_type=False` to retain all geometries\n",
      "  test_join = gp.overlay(full_shape, shps_gdf, how = \"intersection\")\n"
     ]
    },
    {
     "name": "stdout",
     "output_type": "stream",
     "text": [
      "067-MARIETTA 3A\n"
     ]
    },
    {
     "name": "stderr",
     "output_type": "stream",
     "text": [
      "/Users/peterhorton/Documents/RDH/erj/erj-ga/2020/general/helper_functions.py:20: UserWarning: `keep_geom_type=True` in overlay resulted in 21 dropped geometries of different geometry types than df1 has. Set `keep_geom_type=False` to retain all geometries\n",
      "  test_join = gp.overlay(full_shape, shps_gdf, how = \"intersection\")\n"
     ]
    },
    {
     "name": "stdout",
     "output_type": "stream",
     "text": [
      "067-MARIETTA 3B\n"
     ]
    },
    {
     "name": "stderr",
     "output_type": "stream",
     "text": [
      "/Users/peterhorton/Documents/RDH/erj/erj-ga/2020/general/helper_functions.py:20: UserWarning: `keep_geom_type=True` in overlay resulted in 11 dropped geometries of different geometry types than df1 has. Set `keep_geom_type=False` to retain all geometries\n",
      "  test_join = gp.overlay(full_shape, shps_gdf, how = \"intersection\")\n"
     ]
    },
    {
     "name": "stdout",
     "output_type": "stream",
     "text": [
      "067-MARIETTA 4A\n"
     ]
    },
    {
     "name": "stderr",
     "output_type": "stream",
     "text": [
      "/Users/peterhorton/Documents/RDH/erj/erj-ga/2020/general/helper_functions.py:20: UserWarning: `keep_geom_type=True` in overlay resulted in 7 dropped geometries of different geometry types than df1 has. Set `keep_geom_type=False` to retain all geometries\n",
      "  test_join = gp.overlay(full_shape, shps_gdf, how = \"intersection\")\n"
     ]
    },
    {
     "name": "stdout",
     "output_type": "stream",
     "text": [
      "067-MARIETTA 4B\n"
     ]
    },
    {
     "name": "stderr",
     "output_type": "stream",
     "text": [
      "/Users/peterhorton/Documents/RDH/erj/erj-ga/2020/general/helper_functions.py:20: UserWarning: `keep_geom_type=True` in overlay resulted in 2 dropped geometries of different geometry types than df1 has. Set `keep_geom_type=False` to retain all geometries\n",
      "  test_join = gp.overlay(full_shape, shps_gdf, how = \"intersection\")\n"
     ]
    },
    {
     "name": "stdout",
     "output_type": "stream",
     "text": [
      "067-MARIETTA 5A\n"
     ]
    },
    {
     "name": "stderr",
     "output_type": "stream",
     "text": [
      "/Users/peterhorton/Documents/RDH/erj/erj-ga/2020/general/helper_functions.py:20: UserWarning: `keep_geom_type=True` in overlay resulted in 21 dropped geometries of different geometry types than df1 has. Set `keep_geom_type=False` to retain all geometries\n",
      "  test_join = gp.overlay(full_shape, shps_gdf, how = \"intersection\")\n"
     ]
    },
    {
     "name": "stdout",
     "output_type": "stream",
     "text": [
      "067-MARIETTA 5B\n"
     ]
    },
    {
     "name": "stderr",
     "output_type": "stream",
     "text": [
      "/Users/peterhorton/Documents/RDH/erj/erj-ga/2020/general/helper_functions.py:20: UserWarning: `keep_geom_type=True` in overlay resulted in 4 dropped geometries of different geometry types than df1 has. Set `keep_geom_type=False` to retain all geometries\n",
      "  test_join = gp.overlay(full_shape, shps_gdf, how = \"intersection\")\n"
     ]
    },
    {
     "name": "stdout",
     "output_type": "stream",
     "text": [
      "067-MARIETTA 6A\n"
     ]
    },
    {
     "name": "stderr",
     "output_type": "stream",
     "text": [
      "/Users/peterhorton/Documents/RDH/erj/erj-ga/2020/general/helper_functions.py:20: UserWarning: `keep_geom_type=True` in overlay resulted in 80 dropped geometries of different geometry types than df1 has. Set `keep_geom_type=False` to retain all geometries\n",
      "  test_join = gp.overlay(full_shape, shps_gdf, how = \"intersection\")\n"
     ]
    },
    {
     "name": "stdout",
     "output_type": "stream",
     "text": [
      "067-MARIETTA 7A\n"
     ]
    },
    {
     "name": "stderr",
     "output_type": "stream",
     "text": [
      "/Users/peterhorton/Documents/RDH/erj/erj-ga/2020/general/helper_functions.py:20: UserWarning: `keep_geom_type=True` in overlay resulted in 32 dropped geometries of different geometry types than df1 has. Set `keep_geom_type=False` to retain all geometries\n",
      "  test_join = gp.overlay(full_shape, shps_gdf, how = \"intersection\")\n"
     ]
    },
    {
     "name": "stdout",
     "output_type": "stream",
     "text": [
      "067-NICKAJACK 01\n"
     ]
    },
    {
     "name": "stderr",
     "output_type": "stream",
     "text": [
      "/Users/peterhorton/Documents/RDH/erj/erj-ga/2020/general/helper_functions.py:20: UserWarning: `keep_geom_type=True` in overlay resulted in 7 dropped geometries of different geometry types than df1 has. Set `keep_geom_type=False` to retain all geometries\n",
      "  test_join = gp.overlay(full_shape, shps_gdf, how = \"intersection\")\n"
     ]
    },
    {
     "name": "stdout",
     "output_type": "stream",
     "text": [
      "067-NORTON PARK 01\n"
     ]
    },
    {
     "name": "stderr",
     "output_type": "stream",
     "text": [
      "/Users/peterhorton/Documents/RDH/erj/erj-ga/2020/general/helper_functions.py:20: UserWarning: `keep_geom_type=True` in overlay resulted in 21 dropped geometries of different geometry types than df1 has. Set `keep_geom_type=False` to retain all geometries\n",
      "  test_join = gp.overlay(full_shape, shps_gdf, how = \"intersection\")\n"
     ]
    },
    {
     "name": "stdout",
     "output_type": "stream",
     "text": [
      "067-OAKDALE 01\n"
     ]
    },
    {
     "name": "stderr",
     "output_type": "stream",
     "text": [
      "/Users/peterhorton/Documents/RDH/erj/erj-ga/2020/general/helper_functions.py:20: UserWarning: `keep_geom_type=True` in overlay resulted in 8 dropped geometries of different geometry types than df1 has. Set `keep_geom_type=False` to retain all geometries\n",
      "  test_join = gp.overlay(full_shape, shps_gdf, how = \"intersection\")\n"
     ]
    },
    {
     "name": "stdout",
     "output_type": "stream",
     "text": [
      "067-OREGON 02\n"
     ]
    },
    {
     "name": "stderr",
     "output_type": "stream",
     "text": [
      "/Users/peterhorton/Documents/RDH/erj/erj-ga/2020/general/helper_functions.py:20: UserWarning: `keep_geom_type=True` in overlay resulted in 16 dropped geometries of different geometry types than df1 has. Set `keep_geom_type=False` to retain all geometries\n",
      "  test_join = gp.overlay(full_shape, shps_gdf, how = \"intersection\")\n"
     ]
    },
    {
     "name": "stdout",
     "output_type": "stream",
     "text": [
      "067-OREGON 03\n"
     ]
    },
    {
     "name": "stderr",
     "output_type": "stream",
     "text": [
      "/Users/peterhorton/Documents/RDH/erj/erj-ga/2020/general/helper_functions.py:20: UserWarning: `keep_geom_type=True` in overlay resulted in 19 dropped geometries of different geometry types than df1 has. Set `keep_geom_type=False` to retain all geometries\n",
      "  test_join = gp.overlay(full_shape, shps_gdf, how = \"intersection\")\n"
     ]
    },
    {
     "name": "stdout",
     "output_type": "stream",
     "text": [
      "067-PINE MOUNTAIN 01\n"
     ]
    },
    {
     "name": "stderr",
     "output_type": "stream",
     "text": [
      "/Users/peterhorton/Documents/RDH/erj/erj-ga/2020/general/helper_functions.py:20: UserWarning: `keep_geom_type=True` in overlay resulted in 27 dropped geometries of different geometry types than df1 has. Set `keep_geom_type=False` to retain all geometries\n",
      "  test_join = gp.overlay(full_shape, shps_gdf, how = \"intersection\")\n"
     ]
    },
    {
     "name": "stdout",
     "output_type": "stream",
     "text": [
      "067-POPE 01\n"
     ]
    },
    {
     "name": "stderr",
     "output_type": "stream",
     "text": [
      "/Users/peterhorton/Documents/RDH/erj/erj-ga/2020/general/helper_functions.py:20: UserWarning: `keep_geom_type=True` in overlay resulted in 5 dropped geometries of different geometry types than df1 has. Set `keep_geom_type=False` to retain all geometries\n",
      "  test_join = gp.overlay(full_shape, shps_gdf, how = \"intersection\")\n"
     ]
    },
    {
     "name": "stdout",
     "output_type": "stream",
     "text": [
      "067-POWERS FERRY 01\n"
     ]
    },
    {
     "name": "stderr",
     "output_type": "stream",
     "text": [
      "/Users/peterhorton/Documents/RDH/erj/erj-ga/2020/general/helper_functions.py:20: UserWarning: `keep_geom_type=True` in overlay resulted in 17 dropped geometries of different geometry types than df1 has. Set `keep_geom_type=False` to retain all geometries\n",
      "  test_join = gp.overlay(full_shape, shps_gdf, how = \"intersection\")\n"
     ]
    },
    {
     "name": "stdout",
     "output_type": "stream",
     "text": [
      "067-SEWELL MILL 01\n"
     ]
    },
    {
     "name": "stderr",
     "output_type": "stream",
     "text": [
      "/Users/peterhorton/Documents/RDH/erj/erj-ga/2020/general/helper_functions.py:20: UserWarning: `keep_geom_type=True` in overlay resulted in 29 dropped geometries of different geometry types than df1 has. Set `keep_geom_type=False` to retain all geometries\n",
      "  test_join = gp.overlay(full_shape, shps_gdf, how = \"intersection\")\n"
     ]
    },
    {
     "name": "stdout",
     "output_type": "stream",
     "text": [
      "067-SEWELL MILL 03\n"
     ]
    },
    {
     "name": "stderr",
     "output_type": "stream",
     "text": [
      "/Users/peterhorton/Documents/RDH/erj/erj-ga/2020/general/helper_functions.py:20: UserWarning: `keep_geom_type=True` in overlay resulted in 34 dropped geometries of different geometry types than df1 has. Set `keep_geom_type=False` to retain all geometries\n",
      "  test_join = gp.overlay(full_shape, shps_gdf, how = \"intersection\")\n"
     ]
    },
    {
     "name": "stdout",
     "output_type": "stream",
     "text": [
      "067-SMYRNA 1A\n"
     ]
    },
    {
     "name": "stderr",
     "output_type": "stream",
     "text": [
      "/Users/peterhorton/Documents/RDH/erj/erj-ga/2020/general/helper_functions.py:20: UserWarning: `keep_geom_type=True` in overlay resulted in 3 dropped geometries of different geometry types than df1 has. Set `keep_geom_type=False` to retain all geometries\n",
      "  test_join = gp.overlay(full_shape, shps_gdf, how = \"intersection\")\n"
     ]
    },
    {
     "name": "stdout",
     "output_type": "stream",
     "text": [
      "067-SMYRNA 2A\n"
     ]
    },
    {
     "name": "stderr",
     "output_type": "stream",
     "text": [
      "/Users/peterhorton/Documents/RDH/erj/erj-ga/2020/general/helper_functions.py:20: UserWarning: `keep_geom_type=True` in overlay resulted in 1 dropped geometries of different geometry types than df1 has. Set `keep_geom_type=False` to retain all geometries\n",
      "  test_join = gp.overlay(full_shape, shps_gdf, how = \"intersection\")\n"
     ]
    },
    {
     "name": "stdout",
     "output_type": "stream",
     "text": [
      "067-SMYRNA 3B\n"
     ]
    },
    {
     "name": "stderr",
     "output_type": "stream",
     "text": [
      "/Users/peterhorton/Documents/RDH/erj/erj-ga/2020/general/helper_functions.py:20: UserWarning: `keep_geom_type=True` in overlay resulted in 6 dropped geometries of different geometry types than df1 has. Set `keep_geom_type=False` to retain all geometries\n",
      "  test_join = gp.overlay(full_shape, shps_gdf, how = \"intersection\")\n"
     ]
    },
    {
     "name": "stdout",
     "output_type": "stream",
     "text": [
      "067-SMYRNA 5A\n"
     ]
    },
    {
     "name": "stderr",
     "output_type": "stream",
     "text": [
      "/Users/peterhorton/Documents/RDH/erj/erj-ga/2020/general/helper_functions.py:20: UserWarning: `keep_geom_type=True` in overlay resulted in 20 dropped geometries of different geometry types than df1 has. Set `keep_geom_type=False` to retain all geometries\n",
      "  test_join = gp.overlay(full_shape, shps_gdf, how = \"intersection\")\n"
     ]
    },
    {
     "name": "stdout",
     "output_type": "stream",
     "text": [
      "067-SMYRNA 7A\n"
     ]
    },
    {
     "name": "stderr",
     "output_type": "stream",
     "text": [
      "/Users/peterhorton/Documents/RDH/erj/erj-ga/2020/general/helper_functions.py:20: UserWarning: `keep_geom_type=True` in overlay resulted in 34 dropped geometries of different geometry types than df1 has. Set `keep_geom_type=False` to retain all geometries\n",
      "  test_join = gp.overlay(full_shape, shps_gdf, how = \"intersection\")\n"
     ]
    },
    {
     "name": "stdout",
     "output_type": "stream",
     "text": [
      "067-TERRELL MILL 01\n"
     ]
    },
    {
     "name": "stderr",
     "output_type": "stream",
     "text": [
      "/Users/peterhorton/Documents/RDH/erj/erj-ga/2020/general/helper_functions.py:20: UserWarning: `keep_geom_type=True` in overlay resulted in 51 dropped geometries of different geometry types than df1 has. Set `keep_geom_type=False` to retain all geometries\n",
      "  test_join = gp.overlay(full_shape, shps_gdf, how = \"intersection\")\n"
     ]
    },
    {
     "name": "stdout",
     "output_type": "stream",
     "text": [
      "067-VININGS 03\n"
     ]
    },
    {
     "name": "stderr",
     "output_type": "stream",
     "text": [
      "/Users/peterhorton/Documents/RDH/erj/erj-ga/2020/general/helper_functions.py:20: UserWarning: `keep_geom_type=True` in overlay resulted in 16 dropped geometries of different geometry types than df1 has. Set `keep_geom_type=False` to retain all geometries\n",
      "  test_join = gp.overlay(full_shape, shps_gdf, how = \"intersection\")\n"
     ]
    },
    {
     "name": "stdout",
     "output_type": "stream",
     "text": [
      "069-BROXTON\n"
     ]
    },
    {
     "name": "stderr",
     "output_type": "stream",
     "text": [
      "/Users/peterhorton/Documents/RDH/erj/erj-ga/2020/general/helper_functions.py:20: UserWarning: `keep_geom_type=True` in overlay resulted in 3 dropped geometries of different geometry types than df1 has. Set `keep_geom_type=False` to retain all geometries\n",
      "  test_join = gp.overlay(full_shape, shps_gdf, how = \"intersection\")\n"
     ]
    },
    {
     "name": "stdout",
     "output_type": "stream",
     "text": [
      "077-CENTRAL\n"
     ]
    },
    {
     "name": "stderr",
     "output_type": "stream",
     "text": [
      "/Users/peterhorton/Documents/RDH/erj/erj-ga/2020/general/helper_functions.py:20: UserWarning: `keep_geom_type=True` in overlay resulted in 3 dropped geometries of different geometry types than df1 has. Set `keep_geom_type=False` to retain all geometries\n",
      "  test_join = gp.overlay(full_shape, shps_gdf, how = \"intersection\")\n"
     ]
    },
    {
     "name": "stdout",
     "output_type": "stream",
     "text": [
      "077-NEWNAN CENTRE\n"
     ]
    },
    {
     "name": "stderr",
     "output_type": "stream",
     "text": [
      "/Users/peterhorton/Documents/RDH/erj/erj-ga/2020/general/helper_functions.py:20: UserWarning: `keep_geom_type=True` in overlay resulted in 4 dropped geometries of different geometry types than df1 has. Set `keep_geom_type=False` to retain all geometries\n",
      "  test_join = gp.overlay(full_shape, shps_gdf, how = \"intersection\")\n"
     ]
    },
    {
     "name": "stdout",
     "output_type": "stream",
     "text": [
      "077-TURIN\n"
     ]
    },
    {
     "name": "stderr",
     "output_type": "stream",
     "text": [
      "/Users/peterhorton/Documents/RDH/erj/erj-ga/2020/general/helper_functions.py:20: UserWarning: `keep_geom_type=True` in overlay resulted in 2 dropped geometries of different geometry types than df1 has. Set `keep_geom_type=False` to retain all geometries\n",
      "  test_join = gp.overlay(full_shape, shps_gdf, how = \"intersection\")\n"
     ]
    },
    {
     "name": "stdout",
     "output_type": "stream",
     "text": [
      "087-BAINBRIDGE-COLISEUM\n"
     ]
    },
    {
     "name": "stderr",
     "output_type": "stream",
     "text": [
      "/Users/peterhorton/Documents/RDH/erj/erj-ga/2020/general/helper_functions.py:20: UserWarning: `keep_geom_type=True` in overlay resulted in 2 dropped geometries of different geometry types than df1 has. Set `keep_geom_type=False` to retain all geometries\n",
      "  test_join = gp.overlay(full_shape, shps_gdf, how = \"intersection\")\n"
     ]
    },
    {
     "name": "stdout",
     "output_type": "stream",
     "text": [
      "089-AVONDALE HIGH\n"
     ]
    },
    {
     "name": "stderr",
     "output_type": "stream",
     "text": [
      "/Users/peterhorton/Documents/RDH/erj/erj-ga/2020/general/helper_functions.py:20: UserWarning: `keep_geom_type=True` in overlay resulted in 5 dropped geometries of different geometry types than df1 has. Set `keep_geom_type=False` to retain all geometries\n",
      "  test_join = gp.overlay(full_shape, shps_gdf, how = \"intersection\")\n"
     ]
    },
    {
     "name": "stdout",
     "output_type": "stream",
     "text": [
      "089-CHAMBLEE 2\n"
     ]
    },
    {
     "name": "stderr",
     "output_type": "stream",
     "text": [
      "/Users/peterhorton/Documents/RDH/erj/erj-ga/2020/general/helper_functions.py:20: UserWarning: `keep_geom_type=True` in overlay resulted in 11 dropped geometries of different geometry types than df1 has. Set `keep_geom_type=False` to retain all geometries\n",
      "  test_join = gp.overlay(full_shape, shps_gdf, how = \"intersection\")\n"
     ]
    },
    {
     "name": "stdout",
     "output_type": "stream",
     "text": [
      "089-CLAIREMONT WEST\n"
     ]
    },
    {
     "name": "stderr",
     "output_type": "stream",
     "text": [
      "/Users/peterhorton/Documents/RDH/erj/erj-ga/2020/general/helper_functions.py:20: UserWarning: `keep_geom_type=True` in overlay resulted in 6 dropped geometries of different geometry types than df1 has. Set `keep_geom_type=False` to retain all geometries\n",
      "  test_join = gp.overlay(full_shape, shps_gdf, how = \"intersection\")\n"
     ]
    },
    {
     "name": "stdout",
     "output_type": "stream",
     "text": [
      "089-CLARKSTON\n"
     ]
    },
    {
     "name": "stderr",
     "output_type": "stream",
     "text": [
      "/Users/peterhorton/Documents/RDH/erj/erj-ga/2020/general/helper_functions.py:20: UserWarning: `keep_geom_type=True` in overlay resulted in 3 dropped geometries of different geometry types than df1 has. Set `keep_geom_type=False` to retain all geometries\n",
      "  test_join = gp.overlay(full_shape, shps_gdf, how = \"intersection\")\n"
     ]
    },
    {
     "name": "stdout",
     "output_type": "stream",
     "text": [
      "089-CLARKSTON COMMUNITY CENTER\n",
      "089-CROSSROADS\n"
     ]
    },
    {
     "name": "stderr",
     "output_type": "stream",
     "text": [
      "/Users/peterhorton/Documents/RDH/erj/erj-ga/2020/general/helper_functions.py:20: UserWarning: `keep_geom_type=True` in overlay resulted in 4 dropped geometries of different geometry types than df1 has. Set `keep_geom_type=False` to retain all geometries\n",
      "  test_join = gp.overlay(full_shape, shps_gdf, how = \"intersection\")\n"
     ]
    },
    {
     "name": "stdout",
     "output_type": "stream",
     "text": [
      "089-DORAVILLE NORTH\n"
     ]
    },
    {
     "name": "stderr",
     "output_type": "stream",
     "text": [
      "/Users/peterhorton/Documents/RDH/erj/erj-ga/2020/general/helper_functions.py:20: UserWarning: `keep_geom_type=True` in overlay resulted in 14 dropped geometries of different geometry types than df1 has. Set `keep_geom_type=False` to retain all geometries\n",
      "  test_join = gp.overlay(full_shape, shps_gdf, how = \"intersection\")\n"
     ]
    },
    {
     "name": "stdout",
     "output_type": "stream",
     "text": [
      "089-DRESDEN ELEM\n"
     ]
    },
    {
     "name": "stderr",
     "output_type": "stream",
     "text": [
      "/Users/peterhorton/Documents/RDH/erj/erj-ga/2020/general/helper_functions.py:20: UserWarning: `keep_geom_type=True` in overlay resulted in 1 dropped geometries of different geometry types than df1 has. Set `keep_geom_type=False` to retain all geometries\n",
      "  test_join = gp.overlay(full_shape, shps_gdf, how = \"intersection\")\n"
     ]
    },
    {
     "name": "stdout",
     "output_type": "stream",
     "text": [
      "089-EAST LAKE\n"
     ]
    },
    {
     "name": "stderr",
     "output_type": "stream",
     "text": [
      "/Users/peterhorton/Documents/RDH/erj/erj-ga/2020/general/helper_functions.py:20: UserWarning: `keep_geom_type=True` in overlay resulted in 16 dropped geometries of different geometry types than df1 has. Set `keep_geom_type=False` to retain all geometries\n",
      "  test_join = gp.overlay(full_shape, shps_gdf, how = \"intersection\")\n"
     ]
    },
    {
     "name": "stdout",
     "output_type": "stream",
     "text": [
      "089-EMBRY HILLS\n"
     ]
    },
    {
     "name": "stderr",
     "output_type": "stream",
     "text": [
      "/Users/peterhorton/Documents/RDH/erj/erj-ga/2020/general/helper_functions.py:20: UserWarning: `keep_geom_type=True` in overlay resulted in 9 dropped geometries of different geometry types than df1 has. Set `keep_geom_type=False` to retain all geometries\n",
      "  test_join = gp.overlay(full_shape, shps_gdf, how = \"intersection\")\n"
     ]
    },
    {
     "name": "stdout",
     "output_type": "stream",
     "text": [
      "089-EVANSDALE ELEM\n"
     ]
    },
    {
     "name": "stderr",
     "output_type": "stream",
     "text": [
      "/Users/peterhorton/Documents/RDH/erj/erj-ga/2020/general/helper_functions.py:20: UserWarning: `keep_geom_type=True` in overlay resulted in 4 dropped geometries of different geometry types than df1 has. Set `keep_geom_type=False` to retain all geometries\n",
      "  test_join = gp.overlay(full_shape, shps_gdf, how = \"intersection\")\n"
     ]
    },
    {
     "name": "stdout",
     "output_type": "stream",
     "text": [
      "089-FERNBANK ELEM\n"
     ]
    },
    {
     "name": "stderr",
     "output_type": "stream",
     "text": [
      "/Users/peterhorton/Documents/RDH/erj/erj-ga/2020/general/helper_functions.py:20: UserWarning: `keep_geom_type=True` in overlay resulted in 22 dropped geometries of different geometry types than df1 has. Set `keep_geom_type=False` to retain all geometries\n",
      "  test_join = gp.overlay(full_shape, shps_gdf, how = \"intersection\")\n"
     ]
    },
    {
     "name": "stdout",
     "output_type": "stream",
     "text": [
      "089-GLENNWOOD\n"
     ]
    },
    {
     "name": "stderr",
     "output_type": "stream",
     "text": [
      "/Users/peterhorton/Documents/RDH/erj/erj-ga/2020/general/helper_functions.py:20: UserWarning: `keep_geom_type=True` in overlay resulted in 7 dropped geometries of different geometry types than df1 has. Set `keep_geom_type=False` to retain all geometries\n",
      "  test_join = gp.overlay(full_shape, shps_gdf, how = \"intersection\")\n"
     ]
    },
    {
     "name": "stdout",
     "output_type": "stream",
     "text": [
      "089-HUNTLEY HILLS ELEM\n"
     ]
    },
    {
     "name": "stderr",
     "output_type": "stream",
     "text": [
      "/Users/peterhorton/Documents/RDH/erj/erj-ga/2020/general/helper_functions.py:20: UserWarning: `keep_geom_type=True` in overlay resulted in 8 dropped geometries of different geometry types than df1 has. Set `keep_geom_type=False` to retain all geometries\n",
      "  test_join = gp.overlay(full_shape, shps_gdf, how = \"intersection\")\n"
     ]
    },
    {
     "name": "stdout",
     "output_type": "stream",
     "text": [
      "089-JOLLY ELEM\n"
     ]
    },
    {
     "name": "stderr",
     "output_type": "stream",
     "text": [
      "/Users/peterhorton/Documents/RDH/erj/erj-ga/2020/general/helper_functions.py:20: UserWarning: `keep_geom_type=True` in overlay resulted in 16 dropped geometries of different geometry types than df1 has. Set `keep_geom_type=False` to retain all geometries\n",
      "  test_join = gp.overlay(full_shape, shps_gdf, how = \"intersection\")\n"
     ]
    },
    {
     "name": "stdout",
     "output_type": "stream",
     "text": [
      "089-LAKESIDE HIGH\n"
     ]
    },
    {
     "name": "stderr",
     "output_type": "stream",
     "text": [
      "/Users/peterhorton/Documents/RDH/erj/erj-ga/2020/general/helper_functions.py:20: UserWarning: `keep_geom_type=True` in overlay resulted in 9 dropped geometries of different geometry types than df1 has. Set `keep_geom_type=False` to retain all geometries\n",
      "  test_join = gp.overlay(full_shape, shps_gdf, how = \"intersection\")\n"
     ]
    },
    {
     "name": "stdout",
     "output_type": "stream",
     "text": [
      "089-MIDVALE ELEM\n"
     ]
    },
    {
     "name": "stderr",
     "output_type": "stream",
     "text": [
      "/Users/peterhorton/Documents/RDH/erj/erj-ga/2020/general/helper_functions.py:20: UserWarning: `keep_geom_type=True` in overlay resulted in 20 dropped geometries of different geometry types than df1 has. Set `keep_geom_type=False` to retain all geometries\n",
      "  test_join = gp.overlay(full_shape, shps_gdf, how = \"intersection\")\n"
     ]
    },
    {
     "name": "stdout",
     "output_type": "stream",
     "text": [
      "089-MILLER GROVE\n"
     ]
    },
    {
     "name": "stderr",
     "output_type": "stream",
     "text": [
      "/Users/peterhorton/Documents/RDH/erj/erj-ga/2020/general/helper_functions.py:20: UserWarning: `keep_geom_type=True` in overlay resulted in 27 dropped geometries of different geometry types than df1 has. Set `keep_geom_type=False` to retain all geometries\n",
      "  test_join = gp.overlay(full_shape, shps_gdf, how = \"intersection\")\n"
     ]
    },
    {
     "name": "stdout",
     "output_type": "stream",
     "text": [
      "089-MONTREAL\n"
     ]
    },
    {
     "name": "stderr",
     "output_type": "stream",
     "text": [
      "/Users/peterhorton/Documents/RDH/erj/erj-ga/2020/general/helper_functions.py:20: UserWarning: `keep_geom_type=True` in overlay resulted in 5 dropped geometries of different geometry types than df1 has. Set `keep_geom_type=False` to retain all geometries\n",
      "  test_join = gp.overlay(full_shape, shps_gdf, how = \"intersection\")\n"
     ]
    },
    {
     "name": "stdout",
     "output_type": "stream",
     "text": [
      "089-PANOLA ROAD\n"
     ]
    },
    {
     "name": "stderr",
     "output_type": "stream",
     "text": [
      "/Users/peterhorton/Documents/RDH/erj/erj-ga/2020/general/helper_functions.py:20: UserWarning: `keep_geom_type=True` in overlay resulted in 6 dropped geometries of different geometry types than df1 has. Set `keep_geom_type=False` to retain all geometries\n",
      "  test_join = gp.overlay(full_shape, shps_gdf, how = \"intersection\")\n"
     ]
    },
    {
     "name": "stdout",
     "output_type": "stream",
     "text": [
      "089-PLEASANTDALE ROAD\n"
     ]
    },
    {
     "name": "stderr",
     "output_type": "stream",
     "text": [
      "/Users/peterhorton/Documents/RDH/erj/erj-ga/2020/general/helper_functions.py:20: UserWarning: `keep_geom_type=True` in overlay resulted in 17 dropped geometries of different geometry types than df1 has. Set `keep_geom_type=False` to retain all geometries\n",
      "  test_join = gp.overlay(full_shape, shps_gdf, how = \"intersection\")\n"
     ]
    },
    {
     "name": "stdout",
     "output_type": "stream",
     "text": [
      "089-PRINCETON ELEM\n"
     ]
    },
    {
     "name": "stderr",
     "output_type": "stream",
     "text": [
      "/Users/peterhorton/Documents/RDH/erj/erj-ga/2020/general/helper_functions.py:20: UserWarning: `keep_geom_type=True` in overlay resulted in 20 dropped geometries of different geometry types than df1 has. Set `keep_geom_type=False` to retain all geometries\n",
      "  test_join = gp.overlay(full_shape, shps_gdf, how = \"intersection\")\n"
     ]
    },
    {
     "name": "stdout",
     "output_type": "stream",
     "text": [
      "089-REDAN MIDDLE\n"
     ]
    },
    {
     "name": "stderr",
     "output_type": "stream",
     "text": [
      "/Users/peterhorton/Documents/RDH/erj/erj-ga/2020/general/helper_functions.py:20: UserWarning: `keep_geom_type=True` in overlay resulted in 12 dropped geometries of different geometry types than df1 has. Set `keep_geom_type=False` to retain all geometries\n",
      "  test_join = gp.overlay(full_shape, shps_gdf, how = \"intersection\")\n"
     ]
    },
    {
     "name": "stdout",
     "output_type": "stream",
     "text": [
      "089-ROCKBRIDGE ELEM\n"
     ]
    },
    {
     "name": "stderr",
     "output_type": "stream",
     "text": [
      "/Users/peterhorton/Documents/RDH/erj/erj-ga/2020/general/helper_functions.py:20: UserWarning: `keep_geom_type=True` in overlay resulted in 19 dropped geometries of different geometry types than df1 has. Set `keep_geom_type=False` to retain all geometries\n",
      "  test_join = gp.overlay(full_shape, shps_gdf, how = \"intersection\")\n"
     ]
    },
    {
     "name": "stdout",
     "output_type": "stream",
     "text": [
      "089-SKYLAND\n"
     ]
    },
    {
     "name": "stderr",
     "output_type": "stream",
     "text": [
      "/Users/peterhorton/Documents/RDH/erj/erj-ga/2020/general/helper_functions.py:20: UserWarning: `keep_geom_type=True` in overlay resulted in 17 dropped geometries of different geometry types than df1 has. Set `keep_geom_type=False` to retain all geometries\n",
      "  test_join = gp.overlay(full_shape, shps_gdf, how = \"intersection\")\n"
     ]
    },
    {
     "name": "stdout",
     "output_type": "stream",
     "text": [
      "089-STONE MTN MIDDLE\n"
     ]
    },
    {
     "name": "stderr",
     "output_type": "stream",
     "text": [
      "/Users/peterhorton/Documents/RDH/erj/erj-ga/2020/general/helper_functions.py:20: UserWarning: `keep_geom_type=True` in overlay resulted in 2 dropped geometries of different geometry types than df1 has. Set `keep_geom_type=False` to retain all geometries\n",
      "  test_join = gp.overlay(full_shape, shps_gdf, how = \"intersection\")\n"
     ]
    },
    {
     "name": "stdout",
     "output_type": "stream",
     "text": [
      "089-TUCKER\n"
     ]
    },
    {
     "name": "stderr",
     "output_type": "stream",
     "text": [
      "/Users/peterhorton/Documents/RDH/erj/erj-ga/2020/general/helper_functions.py:20: UserWarning: `keep_geom_type=True` in overlay resulted in 18 dropped geometries of different geometry types than df1 has. Set `keep_geom_type=False` to retain all geometries\n",
      "  test_join = gp.overlay(full_shape, shps_gdf, how = \"intersection\")\n"
     ]
    },
    {
     "name": "stdout",
     "output_type": "stream",
     "text": [
      "089-TUCKER LIBRARY\n"
     ]
    },
    {
     "name": "stderr",
     "output_type": "stream",
     "text": [
      "/Users/peterhorton/Documents/RDH/erj/erj-ga/2020/general/helper_functions.py:20: UserWarning: `keep_geom_type=True` in overlay resulted in 15 dropped geometries of different geometry types than df1 has. Set `keep_geom_type=False` to retain all geometries\n",
      "  test_join = gp.overlay(full_shape, shps_gdf, how = \"intersection\")\n"
     ]
    },
    {
     "name": "stdout",
     "output_type": "stream",
     "text": [
      "089-WINNONA PARK\n"
     ]
    },
    {
     "name": "stderr",
     "output_type": "stream",
     "text": [
      "/Users/peterhorton/Documents/RDH/erj/erj-ga/2020/general/helper_functions.py:20: UserWarning: `keep_geom_type=True` in overlay resulted in 7 dropped geometries of different geometry types than df1 has. Set `keep_geom_type=False` to retain all geometries\n",
      "  test_join = gp.overlay(full_shape, shps_gdf, how = \"intersection\")\n"
     ]
    },
    {
     "name": "stdout",
     "output_type": "stream",
     "text": [
      "089-WOODWARD\n"
     ]
    },
    {
     "name": "stderr",
     "output_type": "stream",
     "text": [
      "/Users/peterhorton/Documents/RDH/erj/erj-ga/2020/general/helper_functions.py:20: UserWarning: `keep_geom_type=True` in overlay resulted in 3 dropped geometries of different geometry types than df1 has. Set `keep_geom_type=False` to retain all geometries\n",
      "  test_join = gp.overlay(full_shape, shps_gdf, how = \"intersection\")\n"
     ]
    },
    {
     "name": "stdout",
     "output_type": "stream",
     "text": [
      "095-DARTON COLLEGE\n"
     ]
    },
    {
     "name": "stderr",
     "output_type": "stream",
     "text": [
      "/Users/peterhorton/Documents/RDH/erj/erj-ga/2020/general/helper_functions.py:20: UserWarning: `keep_geom_type=True` in overlay resulted in 2 dropped geometries of different geometry types than df1 has. Set `keep_geom_type=False` to retain all geometries\n",
      "  test_join = gp.overlay(full_shape, shps_gdf, how = \"intersection\")\n"
     ]
    },
    {
     "name": "stdout",
     "output_type": "stream",
     "text": [
      "097-CHESTNUT LOG\n"
     ]
    },
    {
     "name": "stderr",
     "output_type": "stream",
     "text": [
      "/Users/peterhorton/Documents/RDH/erj/erj-ga/2020/general/helper_functions.py:20: UserWarning: `keep_geom_type=True` in overlay resulted in 2 dropped geometries of different geometry types than df1 has. Set `keep_geom_type=False` to retain all geometries\n",
      "  test_join = gp.overlay(full_shape, shps_gdf, how = \"intersection\")\n"
     ]
    },
    {
     "name": "stdout",
     "output_type": "stream",
     "text": [
      "103-4B\n"
     ]
    },
    {
     "name": "stderr",
     "output_type": "stream",
     "text": [
      "/Users/peterhorton/Documents/RDH/erj/erj-ga/2020/general/helper_functions.py:20: UserWarning: `keep_geom_type=True` in overlay resulted in 1 dropped geometries of different geometry types than df1 has. Set `keep_geom_type=False` to retain all geometries\n",
      "  test_join = gp.overlay(full_shape, shps_gdf, how = \"intersection\")\n"
     ]
    },
    {
     "name": "stdout",
     "output_type": "stream",
     "text": [
      "113-FIELDING RIDGE\n"
     ]
    },
    {
     "name": "stderr",
     "output_type": "stream",
     "text": [
      "/Users/peterhorton/Documents/RDH/erj/erj-ga/2020/general/helper_functions.py:20: UserWarning: `keep_geom_type=True` in overlay resulted in 3 dropped geometries of different geometry types than df1 has. Set `keep_geom_type=False` to retain all geometries\n",
      "  test_join = gp.overlay(full_shape, shps_gdf, how = \"intersection\")\n"
     ]
    },
    {
     "name": "stdout",
     "output_type": "stream",
     "text": [
      "113-KEDRON\n"
     ]
    },
    {
     "name": "stderr",
     "output_type": "stream",
     "text": [
      "/Users/peterhorton/Documents/RDH/erj/erj-ga/2020/general/helper_functions.py:20: UserWarning: `keep_geom_type=True` in overlay resulted in 2 dropped geometries of different geometry types than df1 has. Set `keep_geom_type=False` to retain all geometries\n",
      "  test_join = gp.overlay(full_shape, shps_gdf, how = \"intersection\")\n"
     ]
    },
    {
     "name": "stdout",
     "output_type": "stream",
     "text": [
      "113-MORNING CREEK\n"
     ]
    },
    {
     "name": "stderr",
     "output_type": "stream",
     "text": [
      "/Users/peterhorton/Documents/RDH/erj/erj-ga/2020/general/helper_functions.py:20: UserWarning: `keep_geom_type=True` in overlay resulted in 2 dropped geometries of different geometry types than df1 has. Set `keep_geom_type=False` to retain all geometries\n",
      "  test_join = gp.overlay(full_shape, shps_gdf, how = \"intersection\")\n"
     ]
    },
    {
     "name": "stdout",
     "output_type": "stream",
     "text": [
      "113-OAK RIDGE\n"
     ]
    },
    {
     "name": "stderr",
     "output_type": "stream",
     "text": [
      "/Users/peterhorton/Documents/RDH/erj/erj-ga/2020/general/helper_functions.py:20: UserWarning: `keep_geom_type=True` in overlay resulted in 2 dropped geometries of different geometry types than df1 has. Set `keep_geom_type=False` to retain all geometries\n",
      "  test_join = gp.overlay(full_shape, shps_gdf, how = \"intersection\")\n"
     ]
    },
    {
     "name": "stdout",
     "output_type": "stream",
     "text": [
      "113-WILLOW POND\n"
     ]
    },
    {
     "name": "stderr",
     "output_type": "stream",
     "text": [
      "/Users/peterhorton/Documents/RDH/erj/erj-ga/2020/general/helper_functions.py:20: UserWarning: `keep_geom_type=True` in overlay resulted in 2 dropped geometries of different geometry types than df1 has. Set `keep_geom_type=False` to retain all geometries\n",
      "  test_join = gp.overlay(full_shape, shps_gdf, how = \"intersection\")\n"
     ]
    },
    {
     "name": "stdout",
     "output_type": "stream",
     "text": [
      "115-MT ALTO NORTH\n"
     ]
    },
    {
     "name": "stderr",
     "output_type": "stream",
     "text": [
      "/Users/peterhorton/Documents/RDH/erj/erj-ga/2020/general/helper_functions.py:20: UserWarning: `keep_geom_type=True` in overlay resulted in 3 dropped geometries of different geometry types than df1 has. Set `keep_geom_type=False` to retain all geometries\n",
      "  test_join = gp.overlay(full_shape, shps_gdf, how = \"intersection\")\n"
     ]
    },
    {
     "name": "stdout",
     "output_type": "stream",
     "text": [
      "115-NORTH ROME\n"
     ]
    },
    {
     "name": "stderr",
     "output_type": "stream",
     "text": [
      "/Users/peterhorton/Documents/RDH/erj/erj-ga/2020/general/helper_functions.py:20: UserWarning: `keep_geom_type=True` in overlay resulted in 2 dropped geometries of different geometry types than df1 has. Set `keep_geom_type=False` to retain all geometries\n",
      "  test_join = gp.overlay(full_shape, shps_gdf, how = \"intersection\")\n",
      "/Users/peterhorton/Documents/RDH/erj/erj-ga/2020/general/helper_functions.py:20: UserWarning: `keep_geom_type=True` in overlay resulted in 1 dropped geometries of different geometry types than df1 has. Set `keep_geom_type=False` to retain all geometries\n",
      "  test_join = gp.overlay(full_shape, shps_gdf, how = \"intersection\")\n"
     ]
    },
    {
     "name": "stdout",
     "output_type": "stream",
     "text": [
      "115-TOWN ROME\n",
      "117-01 BIG CREEK\n",
      "117-03 BROWNS BRIDGE\n",
      "117-05 COAL MOUNTAIN\n",
      "117-07 CUMMING\n",
      "117-08 MASHBURN\n",
      "117-10 MIDWAY\n",
      "117-15 HEARDSVILLE\n",
      "117-16 OTWELL\n",
      "117-25 WINDERMERE\n",
      "117-27 CONCORD\n",
      "117-29 POLO\n",
      "117-36 NICHOLS\n",
      "121-01T\n",
      "121-UC02C\n",
      "129-RED BUD\n"
     ]
    },
    {
     "name": "stderr",
     "output_type": "stream",
     "text": [
      "/Users/peterhorton/Documents/RDH/erj/erj-ga/2020/general/helper_functions.py:20: UserWarning: `keep_geom_type=True` in overlay resulted in 1 dropped geometries of different geometry types than df1 has. Set `keep_geom_type=False` to retain all geometries\n",
      "  test_join = gp.overlay(full_shape, shps_gdf, how = \"intersection\")\n"
     ]
    },
    {
     "name": "stdout",
     "output_type": "stream",
     "text": [
      "129-SONORAVILLE\n"
     ]
    },
    {
     "name": "stderr",
     "output_type": "stream",
     "text": [
      "/Users/peterhorton/Documents/RDH/erj/erj-ga/2020/general/helper_functions.py:20: UserWarning: `keep_geom_type=True` in overlay resulted in 2 dropped geometries of different geometry types than df1 has. Set `keep_geom_type=False` to retain all geometries\n",
      "  test_join = gp.overlay(full_shape, shps_gdf, how = \"intersection\")\n"
     ]
    },
    {
     "name": "stdout",
     "output_type": "stream",
     "text": [
      "135-BAYCREEK H\n"
     ]
    },
    {
     "name": "stderr",
     "output_type": "stream",
     "text": [
      "/Users/peterhorton/Documents/RDH/erj/erj-ga/2020/general/helper_functions.py:20: UserWarning: `keep_geom_type=True` in overlay resulted in 8 dropped geometries of different geometry types than df1 has. Set `keep_geom_type=False` to retain all geometries\n",
      "  test_join = gp.overlay(full_shape, shps_gdf, how = \"intersection\")\n"
     ]
    },
    {
     "name": "stdout",
     "output_type": "stream",
     "text": [
      "135-CATES J\n"
     ]
    },
    {
     "name": "stderr",
     "output_type": "stream",
     "text": [
      "/Users/peterhorton/Documents/RDH/erj/erj-ga/2020/general/helper_functions.py:20: UserWarning: `keep_geom_type=True` in overlay resulted in 40 dropped geometries of different geometry types than df1 has. Set `keep_geom_type=False` to retain all geometries\n",
      "  test_join = gp.overlay(full_shape, shps_gdf, how = \"intersection\")\n"
     ]
    },
    {
     "name": "stdout",
     "output_type": "stream",
     "text": [
      "135-DULUTH C\n"
     ]
    },
    {
     "name": "stderr",
     "output_type": "stream",
     "text": [
      "/Users/peterhorton/Documents/RDH/erj/erj-ga/2020/general/helper_functions.py:20: UserWarning: `keep_geom_type=True` in overlay resulted in 16 dropped geometries of different geometry types than df1 has. Set `keep_geom_type=False` to retain all geometries\n",
      "  test_join = gp.overlay(full_shape, shps_gdf, how = \"intersection\")\n"
     ]
    },
    {
     "name": "stdout",
     "output_type": "stream",
     "text": [
      "135-DULUTH F\n"
     ]
    },
    {
     "name": "stderr",
     "output_type": "stream",
     "text": [
      "/Users/peterhorton/Documents/RDH/erj/erj-ga/2020/general/helper_functions.py:20: UserWarning: `keep_geom_type=True` in overlay resulted in 15 dropped geometries of different geometry types than df1 has. Set `keep_geom_type=False` to retain all geometries\n",
      "  test_join = gp.overlay(full_shape, shps_gdf, how = \"intersection\")\n"
     ]
    },
    {
     "name": "stdout",
     "output_type": "stream",
     "text": [
      "135-DULUTH I\n"
     ]
    },
    {
     "name": "stderr",
     "output_type": "stream",
     "text": [
      "/Users/peterhorton/Documents/RDH/erj/erj-ga/2020/general/helper_functions.py:20: UserWarning: `keep_geom_type=True` in overlay resulted in 13 dropped geometries of different geometry types than df1 has. Set `keep_geom_type=False` to retain all geometries\n",
      "  test_join = gp.overlay(full_shape, shps_gdf, how = \"intersection\")\n"
     ]
    },
    {
     "name": "stdout",
     "output_type": "stream",
     "text": [
      "135-GARNERS D\n"
     ]
    },
    {
     "name": "stderr",
     "output_type": "stream",
     "text": [
      "/Users/peterhorton/Documents/RDH/erj/erj-ga/2020/general/helper_functions.py:20: UserWarning: `keep_geom_type=True` in overlay resulted in 9 dropped geometries of different geometry types than df1 has. Set `keep_geom_type=False` to retain all geometries\n",
      "  test_join = gp.overlay(full_shape, shps_gdf, how = \"intersection\")\n"
     ]
    },
    {
     "name": "stdout",
     "output_type": "stream",
     "text": [
      "135-HARBINS A\n"
     ]
    },
    {
     "name": "stderr",
     "output_type": "stream",
     "text": [
      "/Users/peterhorton/Documents/RDH/erj/erj-ga/2020/general/helper_functions.py:20: UserWarning: `keep_geom_type=True` in overlay resulted in 26 dropped geometries of different geometry types than df1 has. Set `keep_geom_type=False` to retain all geometries\n",
      "  test_join = gp.overlay(full_shape, shps_gdf, how = \"intersection\")\n"
     ]
    },
    {
     "name": "stdout",
     "output_type": "stream",
     "text": [
      "135-HOG MOUNTAIN B\n"
     ]
    },
    {
     "name": "stderr",
     "output_type": "stream",
     "text": [
      "/Users/peterhorton/Documents/RDH/erj/erj-ga/2020/general/helper_functions.py:20: UserWarning: `keep_geom_type=True` in overlay resulted in 7 dropped geometries of different geometry types than df1 has. Set `keep_geom_type=False` to retain all geometries\n",
      "  test_join = gp.overlay(full_shape, shps_gdf, how = \"intersection\")\n"
     ]
    },
    {
     "name": "stdout",
     "output_type": "stream",
     "text": [
      "135-HOG MOUNTAIN C\n"
     ]
    },
    {
     "name": "stderr",
     "output_type": "stream",
     "text": [
      "/Users/peterhorton/Documents/RDH/erj/erj-ga/2020/general/helper_functions.py:20: UserWarning: `keep_geom_type=True` in overlay resulted in 19 dropped geometries of different geometry types than df1 has. Set `keep_geom_type=False` to retain all geometries\n",
      "  test_join = gp.overlay(full_shape, shps_gdf, how = \"intersection\")\n"
     ]
    },
    {
     "name": "stdout",
     "output_type": "stream",
     "text": [
      "135-LAWRENCEVILLE D\n"
     ]
    },
    {
     "name": "stderr",
     "output_type": "stream",
     "text": [
      "/Users/peterhorton/Documents/RDH/erj/erj-ga/2020/general/helper_functions.py:20: UserWarning: `keep_geom_type=True` in overlay resulted in 27 dropped geometries of different geometry types than df1 has. Set `keep_geom_type=False` to retain all geometries\n",
      "  test_join = gp.overlay(full_shape, shps_gdf, how = \"intersection\")\n"
     ]
    },
    {
     "name": "stdout",
     "output_type": "stream",
     "text": [
      "135-MARTINS A\n"
     ]
    },
    {
     "name": "stderr",
     "output_type": "stream",
     "text": [
      "/Users/peterhorton/Documents/RDH/erj/erj-ga/2020/general/helper_functions.py:20: UserWarning: `keep_geom_type=True` in overlay resulted in 5 dropped geometries of different geometry types than df1 has. Set `keep_geom_type=False` to retain all geometries\n",
      "  test_join = gp.overlay(full_shape, shps_gdf, how = \"intersection\")\n"
     ]
    },
    {
     "name": "stdout",
     "output_type": "stream",
     "text": [
      "135-PINCKNEYVILLE W\n"
     ]
    },
    {
     "name": "stderr",
     "output_type": "stream",
     "text": [
      "/Users/peterhorton/Documents/RDH/erj/erj-ga/2020/general/helper_functions.py:20: UserWarning: `keep_geom_type=True` in overlay resulted in 19 dropped geometries of different geometry types than df1 has. Set `keep_geom_type=False` to retain all geometries\n",
      "  test_join = gp.overlay(full_shape, shps_gdf, how = \"intersection\")\n"
     ]
    },
    {
     "name": "stdout",
     "output_type": "stream",
     "text": [
      "135-PINCKNEYVILLE Y\n"
     ]
    },
    {
     "name": "stderr",
     "output_type": "stream",
     "text": [
      "/Users/peterhorton/Documents/RDH/erj/erj-ga/2020/general/helper_functions.py:20: UserWarning: `keep_geom_type=True` in overlay resulted in 21 dropped geometries of different geometry types than df1 has. Set `keep_geom_type=False` to retain all geometries\n",
      "  test_join = gp.overlay(full_shape, shps_gdf, how = \"intersection\")\n"
     ]
    },
    {
     "name": "stdout",
     "output_type": "stream",
     "text": [
      "135-ROCKBRIDGE C\n"
     ]
    },
    {
     "name": "stderr",
     "output_type": "stream",
     "text": [
      "/Users/peterhorton/Documents/RDH/erj/erj-ga/2020/general/helper_functions.py:20: UserWarning: `keep_geom_type=True` in overlay resulted in 29 dropped geometries of different geometry types than df1 has. Set `keep_geom_type=False` to retain all geometries\n",
      "  test_join = gp.overlay(full_shape, shps_gdf, how = \"intersection\")\n"
     ]
    },
    {
     "name": "stdout",
     "output_type": "stream",
     "text": [
      "135-SUGAR HILL A\n"
     ]
    },
    {
     "name": "stderr",
     "output_type": "stream",
     "text": [
      "/Users/peterhorton/Documents/RDH/erj/erj-ga/2020/general/helper_functions.py:20: UserWarning: `keep_geom_type=True` in overlay resulted in 19 dropped geometries of different geometry types than df1 has. Set `keep_geom_type=False` to retain all geometries\n",
      "  test_join = gp.overlay(full_shape, shps_gdf, how = \"intersection\")\n"
     ]
    },
    {
     "name": "stdout",
     "output_type": "stream",
     "text": [
      "137-HABERSHAM NORTH\n"
     ]
    },
    {
     "name": "stderr",
     "output_type": "stream",
     "text": [
      "/Users/peterhorton/Documents/RDH/erj/erj-ga/2020/general/helper_functions.py:20: UserWarning: `keep_geom_type=True` in overlay resulted in 2 dropped geometries of different geometry types than df1 has. Set `keep_geom_type=False` to retain all geometries\n",
      "  test_join = gp.overlay(full_shape, shps_gdf, how = \"intersection\")\n"
     ]
    },
    {
     "name": "stdout",
     "output_type": "stream",
     "text": [
      "137-HABERSHAM SOUTH\n"
     ]
    },
    {
     "name": "stderr",
     "output_type": "stream",
     "text": [
      "/Users/peterhorton/Documents/RDH/erj/erj-ga/2020/general/helper_functions.py:20: UserWarning: `keep_geom_type=True` in overlay resulted in 4 dropped geometries of different geometry types than df1 has. Set `keep_geom_type=False` to retain all geometries\n",
      "  test_join = gp.overlay(full_shape, shps_gdf, how = \"intersection\")\n"
     ]
    },
    {
     "name": "stdout",
     "output_type": "stream",
     "text": [
      "139-CHICOPEE\n"
     ]
    },
    {
     "name": "stderr",
     "output_type": "stream",
     "text": [
      "/Users/peterhorton/Documents/RDH/erj/erj-ga/2020/general/helper_functions.py:20: UserWarning: `keep_geom_type=True` in overlay resulted in 1 dropped geometries of different geometry types than df1 has. Set `keep_geom_type=False` to retain all geometries\n",
      "  test_join = gp.overlay(full_shape, shps_gdf, how = \"intersection\")\n"
     ]
    },
    {
     "name": "stdout",
     "output_type": "stream",
     "text": [
      "139-FRIENDSHIP III\n"
     ]
    },
    {
     "name": "stderr",
     "output_type": "stream",
     "text": [
      "/Users/peterhorton/Documents/RDH/erj/erj-ga/2020/general/helper_functions.py:20: UserWarning: `keep_geom_type=True` in overlay resulted in 3 dropped geometries of different geometry types than df1 has. Set `keep_geom_type=False` to retain all geometries\n",
      "  test_join = gp.overlay(full_shape, shps_gdf, how = \"intersection\")\n"
     ]
    },
    {
     "name": "stdout",
     "output_type": "stream",
     "text": [
      "139-FRIENDSHIP IV\n"
     ]
    },
    {
     "name": "stderr",
     "output_type": "stream",
     "text": [
      "/Users/peterhorton/Documents/RDH/erj/erj-ga/2020/general/helper_functions.py:20: UserWarning: `keep_geom_type=True` in overlay resulted in 3 dropped geometries of different geometry types than df1 has. Set `keep_geom_type=False` to retain all geometries\n",
      "  test_join = gp.overlay(full_shape, shps_gdf, how = \"intersection\")\n"
     ]
    },
    {
     "name": "stdout",
     "output_type": "stream",
     "text": [
      "139-GAINESVILLE II\n"
     ]
    },
    {
     "name": "stderr",
     "output_type": "stream",
     "text": [
      "/Users/peterhorton/Documents/RDH/erj/erj-ga/2020/general/helper_functions.py:20: UserWarning: `keep_geom_type=True` in overlay resulted in 2 dropped geometries of different geometry types than df1 has. Set `keep_geom_type=False` to retain all geometries\n",
      "  test_join = gp.overlay(full_shape, shps_gdf, how = \"intersection\")\n"
     ]
    },
    {
     "name": "stdout",
     "output_type": "stream",
     "text": [
      "139-GAINESVILLE III\n"
     ]
    },
    {
     "name": "stderr",
     "output_type": "stream",
     "text": [
      "/Users/peterhorton/Documents/RDH/erj/erj-ga/2020/general/helper_functions.py:20: UserWarning: `keep_geom_type=True` in overlay resulted in 2 dropped geometries of different geometry types than df1 has. Set `keep_geom_type=False` to retain all geometries\n",
      "  test_join = gp.overlay(full_shape, shps_gdf, how = \"intersection\")\n"
     ]
    },
    {
     "name": "stdout",
     "output_type": "stream",
     "text": [
      "139-GAINESVILLE IV\n"
     ]
    },
    {
     "name": "stderr",
     "output_type": "stream",
     "text": [
      "/Users/peterhorton/Documents/RDH/erj/erj-ga/2020/general/helper_functions.py:20: UserWarning: `keep_geom_type=True` in overlay resulted in 1 dropped geometries of different geometry types than df1 has. Set `keep_geom_type=False` to retain all geometries\n",
      "  test_join = gp.overlay(full_shape, shps_gdf, how = \"intersection\")\n"
     ]
    },
    {
     "name": "stdout",
     "output_type": "stream",
     "text": [
      "139-GLADE\n"
     ]
    },
    {
     "name": "stderr",
     "output_type": "stream",
     "text": [
      "/Users/peterhorton/Documents/RDH/erj/erj-ga/2020/general/helper_functions.py:20: UserWarning: `keep_geom_type=True` in overlay resulted in 1 dropped geometries of different geometry types than df1 has. Set `keep_geom_type=False` to retain all geometries\n",
      "  test_join = gp.overlay(full_shape, shps_gdf, how = \"intersection\")\n",
      "/Users/peterhorton/Documents/RDH/erj/erj-ga/2020/general/helper_functions.py:20: UserWarning: `keep_geom_type=True` in overlay resulted in 3 dropped geometries of different geometry types than df1 has. Set `keep_geom_type=False` to retain all geometries\n",
      "  test_join = gp.overlay(full_shape, shps_gdf, how = \"intersection\")\n"
     ]
    },
    {
     "name": "stdout",
     "output_type": "stream",
     "text": [
      "139-MORGAN I\n",
      "139-OAKWOOD I\n"
     ]
    },
    {
     "name": "stderr",
     "output_type": "stream",
     "text": [
      "/Users/peterhorton/Documents/RDH/erj/erj-ga/2020/general/helper_functions.py:20: UserWarning: `keep_geom_type=True` in overlay resulted in 1 dropped geometries of different geometry types than df1 has. Set `keep_geom_type=False` to retain all geometries\n",
      "  test_join = gp.overlay(full_shape, shps_gdf, how = \"intersection\")\n"
     ]
    },
    {
     "name": "stdout",
     "output_type": "stream",
     "text": [
      "139-ROBERTS\n"
     ]
    },
    {
     "name": "stderr",
     "output_type": "stream",
     "text": [
      "/Users/peterhorton/Documents/RDH/erj/erj-ga/2020/general/helper_functions.py:20: UserWarning: `keep_geom_type=True` in overlay resulted in 3 dropped geometries of different geometry types than df1 has. Set `keep_geom_type=False` to retain all geometries\n",
      "  test_join = gp.overlay(full_shape, shps_gdf, how = \"intersection\")\n"
     ]
    },
    {
     "name": "stdout",
     "output_type": "stream",
     "text": [
      "139-TADMORE\n"
     ]
    },
    {
     "name": "stderr",
     "output_type": "stream",
     "text": [
      "/Users/peterhorton/Documents/RDH/erj/erj-ga/2020/general/helper_functions.py:20: UserWarning: `keep_geom_type=True` in overlay resulted in 3 dropped geometries of different geometry types than df1 has. Set `keep_geom_type=False` to retain all geometries\n",
      "  test_join = gp.overlay(full_shape, shps_gdf, how = \"intersection\")\n"
     ]
    },
    {
     "name": "stdout",
     "output_type": "stream",
     "text": [
      "139-WHELCHEL\n"
     ]
    },
    {
     "name": "stderr",
     "output_type": "stream",
     "text": [
      "/Users/peterhorton/Documents/RDH/erj/erj-ga/2020/general/helper_functions.py:20: UserWarning: `keep_geom_type=True` in overlay resulted in 2 dropped geometries of different geometry types than df1 has. Set `keep_geom_type=False` to retain all geometries\n",
      "  test_join = gp.overlay(full_shape, shps_gdf, how = \"intersection\")\n"
     ]
    },
    {
     "name": "stdout",
     "output_type": "stream",
     "text": [
      "139-WILSON\n"
     ]
    },
    {
     "name": "stderr",
     "output_type": "stream",
     "text": [
      "/Users/peterhorton/Documents/RDH/erj/erj-ga/2020/general/helper_functions.py:20: UserWarning: `keep_geom_type=True` in overlay resulted in 3 dropped geometries of different geometry types than df1 has. Set `keep_geom_type=False` to retain all geometries\n",
      "  test_join = gp.overlay(full_shape, shps_gdf, how = \"intersection\")\n",
      "/Users/peterhorton/Documents/RDH/erj/erj-ga/2020/general/helper_functions.py:20: UserWarning: `keep_geom_type=True` in overlay resulted in 1 dropped geometries of different geometry types than df1 has. Set `keep_geom_type=False` to retain all geometries\n",
      "  test_join = gp.overlay(full_shape, shps_gdf, how = \"intersection\")\n"
     ]
    },
    {
     "name": "stdout",
     "output_type": "stream",
     "text": [
      "143-FELTON\n",
      "143-LITTLE CREEK\n"
     ]
    },
    {
     "name": "stderr",
     "output_type": "stream",
     "text": [
      "/Users/peterhorton/Documents/RDH/erj/erj-ga/2020/general/helper_functions.py:20: UserWarning: `keep_geom_type=True` in overlay resulted in 1 dropped geometries of different geometry types than df1 has. Set `keep_geom_type=False` to retain all geometries\n",
      "  test_join = gp.overlay(full_shape, shps_gdf, how = \"intersection\")\n"
     ]
    },
    {
     "name": "stdout",
     "output_type": "stream",
     "text": [
      "151-FLIPPEN\n"
     ]
    },
    {
     "name": "stderr",
     "output_type": "stream",
     "text": [
      "/Users/peterhorton/Documents/RDH/erj/erj-ga/2020/general/helper_functions.py:20: UserWarning: `keep_geom_type=True` in overlay resulted in 3 dropped geometries of different geometry types than df1 has. Set `keep_geom_type=False` to retain all geometries\n",
      "  test_join = gp.overlay(full_shape, shps_gdf, how = \"intersection\")\n"
     ]
    },
    {
     "name": "stdout",
     "output_type": "stream",
     "text": [
      "151-HICKORY FLAT\n"
     ]
    },
    {
     "name": "stderr",
     "output_type": "stream",
     "text": [
      "/Users/peterhorton/Documents/RDH/erj/erj-ga/2020/general/helper_functions.py:20: UserWarning: `keep_geom_type=True` in overlay resulted in 3 dropped geometries of different geometry types than df1 has. Set `keep_geom_type=False` to retain all geometries\n",
      "  test_join = gp.overlay(full_shape, shps_gdf, how = \"intersection\")\n"
     ]
    },
    {
     "name": "stdout",
     "output_type": "stream",
     "text": [
      "151-MCDONOUGH CENTRAL\n"
     ]
    },
    {
     "name": "stderr",
     "output_type": "stream",
     "text": [
      "/Users/peterhorton/Documents/RDH/erj/erj-ga/2020/general/helper_functions.py:20: UserWarning: `keep_geom_type=True` in overlay resulted in 4 dropped geometries of different geometry types than df1 has. Set `keep_geom_type=False` to retain all geometries\n",
      "  test_join = gp.overlay(full_shape, shps_gdf, how = \"intersection\")\n"
     ]
    },
    {
     "name": "stdout",
     "output_type": "stream",
     "text": [
      "151-MT CARMEL\n"
     ]
    },
    {
     "name": "stderr",
     "output_type": "stream",
     "text": [
      "/Users/peterhorton/Documents/RDH/erj/erj-ga/2020/general/helper_functions.py:20: UserWarning: `keep_geom_type=True` in overlay resulted in 3 dropped geometries of different geometry types than df1 has. Set `keep_geom_type=False` to retain all geometries\n",
      "  test_join = gp.overlay(full_shape, shps_gdf, how = \"intersection\")\n"
     ]
    },
    {
     "name": "stdout",
     "output_type": "stream",
     "text": [
      "151-STOCKBRIDGE EAST-WEST\n"
     ]
    },
    {
     "name": "stderr",
     "output_type": "stream",
     "text": [
      "/Users/peterhorton/Documents/RDH/erj/erj-ga/2020/general/helper_functions.py:20: UserWarning: `keep_geom_type=True` in overlay resulted in 3 dropped geometries of different geometry types than df1 has. Set `keep_geom_type=False` to retain all geometries\n",
      "  test_join = gp.overlay(full_shape, shps_gdf, how = \"intersection\")\n"
     ]
    },
    {
     "name": "stdout",
     "output_type": "stream",
     "text": [
      "151-SWAN LAKE\n"
     ]
    },
    {
     "name": "stderr",
     "output_type": "stream",
     "text": [
      "/Users/peterhorton/Documents/RDH/erj/erj-ga/2020/general/helper_functions.py:20: UserWarning: `keep_geom_type=True` in overlay resulted in 2 dropped geometries of different geometry types than df1 has. Set `keep_geom_type=False` to retain all geometries\n",
      "  test_join = gp.overlay(full_shape, shps_gdf, how = \"intersection\")\n"
     ]
    },
    {
     "name": "stdout",
     "output_type": "stream",
     "text": [
      "151-TUSSAHAW\n"
     ]
    },
    {
     "name": "stderr",
     "output_type": "stream",
     "text": [
      "/Users/peterhorton/Documents/RDH/erj/erj-ga/2020/general/helper_functions.py:20: UserWarning: `keep_geom_type=True` in overlay resulted in 3 dropped geometries of different geometry types than df1 has. Set `keep_geom_type=False` to retain all geometries\n",
      "  test_join = gp.overlay(full_shape, shps_gdf, how = \"intersection\")\n",
      "/Users/peterhorton/Documents/RDH/erj/erj-ga/2020/general/helper_functions.py:20: UserWarning: `keep_geom_type=True` in overlay resulted in 2 dropped geometries of different geometry types than df1 has. Set `keep_geom_type=False` to retain all geometries\n",
      "  test_join = gp.overlay(full_shape, shps_gdf, how = \"intersection\")\n"
     ]
    },
    {
     "name": "stdout",
     "output_type": "stream",
     "text": [
      "153-BMS\n",
      "153-CENT\n"
     ]
    },
    {
     "name": "stderr",
     "output_type": "stream",
     "text": [
      "/Users/peterhorton/Documents/RDH/erj/erj-ga/2020/general/helper_functions.py:20: UserWarning: `keep_geom_type=True` in overlay resulted in 3 dropped geometries of different geometry types than df1 has. Set `keep_geom_type=False` to retain all geometries\n",
      "  test_join = gp.overlay(full_shape, shps_gdf, how = \"intersection\")\n"
     ]
    },
    {
     "name": "stdout",
     "output_type": "stream",
     "text": [
      "153-HHPC\n"
     ]
    },
    {
     "name": "stderr",
     "output_type": "stream",
     "text": [
      "/Users/peterhorton/Documents/RDH/erj/erj-ga/2020/general/helper_functions.py:20: UserWarning: `keep_geom_type=True` in overlay resulted in 2 dropped geometries of different geometry types than df1 has. Set `keep_geom_type=False` to retain all geometries\n",
      "  test_join = gp.overlay(full_shape, shps_gdf, how = \"intersection\")\n"
     ]
    },
    {
     "name": "stdout",
     "output_type": "stream",
     "text": [
      "153-RECR\n"
     ]
    },
    {
     "name": "stderr",
     "output_type": "stream",
     "text": [
      "/Users/peterhorton/Documents/RDH/erj/erj-ga/2020/general/helper_functions.py:20: UserWarning: `keep_geom_type=True` in overlay resulted in 4 dropped geometries of different geometry types than df1 has. Set `keep_geom_type=False` to retain all geometries\n",
      "  test_join = gp.overlay(full_shape, shps_gdf, how = \"intersection\")\n"
     ]
    },
    {
     "name": "stdout",
     "output_type": "stream",
     "text": [
      "153-ROZR\n"
     ]
    },
    {
     "name": "stderr",
     "output_type": "stream",
     "text": [
      "/Users/peterhorton/Documents/RDH/erj/erj-ga/2020/general/helper_functions.py:20: UserWarning: `keep_geom_type=True` in overlay resulted in 3 dropped geometries of different geometry types than df1 has. Set `keep_geom_type=False` to retain all geometries\n",
      "  test_join = gp.overlay(full_shape, shps_gdf, how = \"intersection\")\n"
     ]
    },
    {
     "name": "stdout",
     "output_type": "stream",
     "text": [
      "153-TWPK\n"
     ]
    },
    {
     "name": "stderr",
     "output_type": "stream",
     "text": [
      "/Users/peterhorton/Documents/RDH/erj/erj-ga/2020/general/helper_functions.py:20: UserWarning: `keep_geom_type=True` in overlay resulted in 2 dropped geometries of different geometry types than df1 has. Set `keep_geom_type=False` to retain all geometries\n",
      "  test_join = gp.overlay(full_shape, shps_gdf, how = \"intersection\")\n"
     ]
    },
    {
     "name": "stdout",
     "output_type": "stream",
     "text": [
      "153-VHS\n"
     ]
    },
    {
     "name": "stderr",
     "output_type": "stream",
     "text": [
      "/Users/peterhorton/Documents/RDH/erj/erj-ga/2020/general/helper_functions.py:20: UserWarning: `keep_geom_type=True` in overlay resulted in 2 dropped geometries of different geometry types than df1 has. Set `keep_geom_type=False` to retain all geometries\n",
      "  test_join = gp.overlay(full_shape, shps_gdf, how = \"intersection\")\n"
     ]
    },
    {
     "name": "stdout",
     "output_type": "stream",
     "text": [
      "157-SOUTH JACKSON\n"
     ]
    },
    {
     "name": "stderr",
     "output_type": "stream",
     "text": [
      "/Users/peterhorton/Documents/RDH/erj/erj-ga/2020/general/helper_functions.py:20: UserWarning: `keep_geom_type=True` in overlay resulted in 4 dropped geometries of different geometry types than df1 has. Set `keep_geom_type=False` to retain all geometries\n",
      "  test_join = gp.overlay(full_shape, shps_gdf, how = \"intersection\")\n",
      "/Users/peterhorton/Documents/RDH/erj/erj-ga/2020/general/helper_functions.py:20: UserWarning: `keep_geom_type=True` in overlay resulted in 2 dropped geometries of different geometry types than df1 has. Set `keep_geom_type=False` to retain all geometries\n",
      "  test_join = gp.overlay(full_shape, shps_gdf, how = \"intersection\")\n"
     ]
    },
    {
     "name": "stdout",
     "output_type": "stream",
     "text": [
      "161-OCMULGEE 2\n",
      "167-WRIGHTSVILLE\n"
     ]
    },
    {
     "name": "stderr",
     "output_type": "stream",
     "text": [
      "/Users/peterhorton/Documents/RDH/erj/erj-ga/2020/general/helper_functions.py:20: UserWarning: `keep_geom_type=True` in overlay resulted in 3 dropped geometries of different geometry types than df1 has. Set `keep_geom_type=False` to retain all geometries\n",
      "  test_join = gp.overlay(full_shape, shps_gdf, how = \"intersection\")\n"
     ]
    },
    {
     "name": "stdout",
     "output_type": "stream",
     "text": [
      "169-POPE\n"
     ]
    },
    {
     "name": "stderr",
     "output_type": "stream",
     "text": [
      "/Users/peterhorton/Documents/RDH/erj/erj-ga/2020/general/helper_functions.py:20: UserWarning: `keep_geom_type=True` in overlay resulted in 3 dropped geometries of different geometry types than df1 has. Set `keep_geom_type=False` to retain all geometries\n",
      "  test_join = gp.overlay(full_shape, shps_gdf, how = \"intersection\")\n"
     ]
    },
    {
     "name": "stdout",
     "output_type": "stream",
     "text": [
      "185-CLYATTVILLE\n"
     ]
    },
    {
     "name": "stderr",
     "output_type": "stream",
     "text": [
      "/Users/peterhorton/Documents/RDH/erj/erj-ga/2020/general/helper_functions.py:20: UserWarning: `keep_geom_type=True` in overlay resulted in 2 dropped geometries of different geometry types than df1 has. Set `keep_geom_type=False` to retain all geometries\n",
      "  test_join = gp.overlay(full_shape, shps_gdf, how = \"intersection\")\n"
     ]
    },
    {
     "name": "stdout",
     "output_type": "stream",
     "text": [
      "185-DASHER\n"
     ]
    },
    {
     "name": "stderr",
     "output_type": "stream",
     "text": [
      "/Users/peterhorton/Documents/RDH/erj/erj-ga/2020/general/helper_functions.py:20: UserWarning: `keep_geom_type=True` in overlay resulted in 2 dropped geometries of different geometry types than df1 has. Set `keep_geom_type=False` to retain all geometries\n",
      "  test_join = gp.overlay(full_shape, shps_gdf, how = \"intersection\")\n"
     ]
    },
    {
     "name": "stdout",
     "output_type": "stream",
     "text": [
      "185-HAHIRA TRAIN DEPOT\n"
     ]
    },
    {
     "name": "stderr",
     "output_type": "stream",
     "text": [
      "/Users/peterhorton/Documents/RDH/erj/erj-ga/2020/general/helper_functions.py:20: UserWarning: `keep_geom_type=True` in overlay resulted in 2 dropped geometries of different geometry types than df1 has. Set `keep_geom_type=False` to retain all geometries\n",
      "  test_join = gp.overlay(full_shape, shps_gdf, how = \"intersection\")\n"
     ]
    },
    {
     "name": "stdout",
     "output_type": "stream",
     "text": [
      "185-NORTHSIDE\n"
     ]
    },
    {
     "name": "stderr",
     "output_type": "stream",
     "text": [
      "/Users/peterhorton/Documents/RDH/erj/erj-ga/2020/general/helper_functions.py:20: UserWarning: `keep_geom_type=True` in overlay resulted in 3 dropped geometries of different geometry types than df1 has. Set `keep_geom_type=False` to retain all geometries\n",
      "  test_join = gp.overlay(full_shape, shps_gdf, how = \"intersection\")\n"
     ]
    },
    {
     "name": "stdout",
     "output_type": "stream",
     "text": [
      "185-RAINWATER\n"
     ]
    },
    {
     "name": "stderr",
     "output_type": "stream",
     "text": [
      "/Users/peterhorton/Documents/RDH/erj/erj-ga/2020/general/helper_functions.py:20: UserWarning: `keep_geom_type=True` in overlay resulted in 3 dropped geometries of different geometry types than df1 has. Set `keep_geom_type=False` to retain all geometries\n",
      "  test_join = gp.overlay(full_shape, shps_gdf, how = \"intersection\")\n"
     ]
    },
    {
     "name": "stdout",
     "output_type": "stream",
     "text": [
      "195-MILL\n"
     ]
    },
    {
     "name": "stderr",
     "output_type": "stream",
     "text": [
      "/Users/peterhorton/Documents/RDH/erj/erj-ga/2020/general/helper_functions.py:20: UserWarning: `keep_geom_type=True` in overlay resulted in 2 dropped geometries of different geometry types than df1 has. Set `keep_geom_type=False` to retain all geometries\n",
      "  test_join = gp.overlay(full_shape, shps_gdf, how = \"intersection\")\n"
     ]
    },
    {
     "name": "stdout",
     "output_type": "stream",
     "text": [
      "207-FORSYTH\n"
     ]
    },
    {
     "name": "stderr",
     "output_type": "stream",
     "text": [
      "/Users/peterhorton/Documents/RDH/erj/erj-ga/2020/general/helper_functions.py:20: UserWarning: `keep_geom_type=True` in overlay resulted in 4 dropped geometries of different geometry types than df1 has. Set `keep_geom_type=False` to retain all geometries\n",
      "  test_join = gp.overlay(full_shape, shps_gdf, how = \"intersection\")\n"
     ]
    },
    {
     "name": "stdout",
     "output_type": "stream",
     "text": [
      "213-TOWN\n"
     ]
    },
    {
     "name": "stderr",
     "output_type": "stream",
     "text": [
      "/Users/peterhorton/Documents/RDH/erj/erj-ga/2020/general/helper_functions.py:20: UserWarning: `keep_geom_type=True` in overlay resulted in 4 dropped geometries of different geometry types than df1 has. Set `keep_geom_type=False` to retain all geometries\n",
      "  test_join = gp.overlay(full_shape, shps_gdf, how = \"intersection\")\n"
     ]
    },
    {
     "name": "stdout",
     "output_type": "stream",
     "text": [
      "215-CANAAN\n"
     ]
    },
    {
     "name": "stderr",
     "output_type": "stream",
     "text": [
      "/Users/peterhorton/Documents/RDH/erj/erj-ga/2020/general/helper_functions.py:20: UserWarning: `keep_geom_type=True` in overlay resulted in 2 dropped geometries of different geometry types than df1 has. Set `keep_geom_type=False` to retain all geometries\n",
      "  test_join = gp.overlay(full_shape, shps_gdf, how = \"intersection\")\n"
     ]
    },
    {
     "name": "stdout",
     "output_type": "stream",
     "text": [
      "215-CUSSETA RD\n"
     ]
    },
    {
     "name": "stderr",
     "output_type": "stream",
     "text": [
      "/Users/peterhorton/Documents/RDH/erj/erj-ga/2020/general/helper_functions.py:20: UserWarning: `keep_geom_type=True` in overlay resulted in 2 dropped geometries of different geometry types than df1 has. Set `keep_geom_type=False` to retain all geometries\n",
      "  test_join = gp.overlay(full_shape, shps_gdf, how = \"intersection\")\n"
     ]
    },
    {
     "name": "stdout",
     "output_type": "stream",
     "text": [
      "215-EPWORTH UMC\n"
     ]
    },
    {
     "name": "stderr",
     "output_type": "stream",
     "text": [
      "/Users/peterhorton/Documents/RDH/erj/erj-ga/2020/general/helper_functions.py:20: UserWarning: `keep_geom_type=True` in overlay resulted in 2 dropped geometries of different geometry types than df1 has. Set `keep_geom_type=False` to retain all geometries\n",
      "  test_join = gp.overlay(full_shape, shps_gdf, how = \"intersection\")\n"
     ]
    },
    {
     "name": "stdout",
     "output_type": "stream",
     "text": [
      "215-GENTIAN/REESE\n"
     ]
    },
    {
     "name": "stderr",
     "output_type": "stream",
     "text": [
      "/Users/peterhorton/Documents/RDH/erj/erj-ga/2020/general/helper_functions.py:20: UserWarning: `keep_geom_type=True` in overlay resulted in 1 dropped geometries of different geometry types than df1 has. Set `keep_geom_type=False` to retain all geometries\n",
      "  test_join = gp.overlay(full_shape, shps_gdf, how = \"intersection\")\n"
     ]
    },
    {
     "name": "stdout",
     "output_type": "stream",
     "text": [
      "215-HOLSEY/BUENA VISTA\n"
     ]
    },
    {
     "name": "stderr",
     "output_type": "stream",
     "text": [
      "/Users/peterhorton/Documents/RDH/erj/erj-ga/2020/general/helper_functions.py:20: UserWarning: `keep_geom_type=True` in overlay resulted in 2 dropped geometries of different geometry types than df1 has. Set `keep_geom_type=False` to retain all geometries\n",
      "  test_join = gp.overlay(full_shape, shps_gdf, how = \"intersection\")\n"
     ]
    },
    {
     "name": "stdout",
     "output_type": "stream",
     "text": [
      "215-OUR LADY OF LOURDES\n"
     ]
    },
    {
     "name": "stderr",
     "output_type": "stream",
     "text": [
      "/Users/peterhorton/Documents/RDH/erj/erj-ga/2020/general/helper_functions.py:20: UserWarning: `keep_geom_type=True` in overlay resulted in 2 dropped geometries of different geometry types than df1 has. Set `keep_geom_type=False` to retain all geometries\n",
      "  test_join = gp.overlay(full_shape, shps_gdf, how = \"intersection\")\n"
     ]
    },
    {
     "name": "stdout",
     "output_type": "stream",
     "text": [
      "215-ST ANDREWS/MIDLAND\n"
     ]
    },
    {
     "name": "stderr",
     "output_type": "stream",
     "text": [
      "/Users/peterhorton/Documents/RDH/erj/erj-ga/2020/general/helper_functions.py:20: UserWarning: `keep_geom_type=True` in overlay resulted in 4 dropped geometries of different geometry types than df1 has. Set `keep_geom_type=False` to retain all geometries\n",
      "  test_join = gp.overlay(full_shape, shps_gdf, how = \"intersection\")\n"
     ]
    },
    {
     "name": "stdout",
     "output_type": "stream",
     "text": [
      "217-BREWERS\n"
     ]
    },
    {
     "name": "stderr",
     "output_type": "stream",
     "text": [
      "/Users/peterhorton/Documents/RDH/erj/erj-ga/2020/general/helper_functions.py:20: UserWarning: `keep_geom_type=True` in overlay resulted in 2 dropped geometries of different geometry types than df1 has. Set `keep_geom_type=False` to retain all geometries\n",
      "  test_join = gp.overlay(full_shape, shps_gdf, how = \"intersection\")\n"
     ]
    },
    {
     "name": "stdout",
     "output_type": "stream",
     "text": [
      "217-COVINGTON MILLS\n"
     ]
    },
    {
     "name": "stderr",
     "output_type": "stream",
     "text": [
      "/Users/peterhorton/Documents/RDH/erj/erj-ga/2020/general/helper_functions.py:20: UserWarning: `keep_geom_type=True` in overlay resulted in 2 dropped geometries of different geometry types than df1 has. Set `keep_geom_type=False` to retain all geometries\n",
      "  test_join = gp.overlay(full_shape, shps_gdf, how = \"intersection\")\n"
     ]
    },
    {
     "name": "stdout",
     "output_type": "stream",
     "text": [
      "217-DOWNS\n"
     ]
    },
    {
     "name": "stderr",
     "output_type": "stream",
     "text": [
      "/Users/peterhorton/Documents/RDH/erj/erj-ga/2020/general/helper_functions.py:20: UserWarning: `keep_geom_type=True` in overlay resulted in 2 dropped geometries of different geometry types than df1 has. Set `keep_geom_type=False` to retain all geometries\n",
      "  test_join = gp.overlay(full_shape, shps_gdf, how = \"intersection\")\n"
     ]
    },
    {
     "name": "stdout",
     "output_type": "stream",
     "text": [
      "217-LIVINGSTON\n"
     ]
    },
    {
     "name": "stderr",
     "output_type": "stream",
     "text": [
      "/Users/peterhorton/Documents/RDH/erj/erj-ga/2020/general/helper_functions.py:20: UserWarning: `keep_geom_type=True` in overlay resulted in 3 dropped geometries of different geometry types than df1 has. Set `keep_geom_type=False` to retain all geometries\n",
      "  test_join = gp.overlay(full_shape, shps_gdf, how = \"intersection\")\n"
     ]
    },
    {
     "name": "stdout",
     "output_type": "stream",
     "text": [
      "223-D WRIGHT INNOVATION CTR\n"
     ]
    },
    {
     "name": "stderr",
     "output_type": "stream",
     "text": [
      "/Users/peterhorton/Documents/RDH/erj/erj-ga/2020/general/helper_functions.py:20: UserWarning: `keep_geom_type=True` in overlay resulted in 25 dropped geometries of different geometry types than df1 has. Set `keep_geom_type=False` to retain all geometries\n",
      "  test_join = gp.overlay(full_shape, shps_gdf, how = \"intersection\")\n"
     ]
    },
    {
     "name": "stdout",
     "output_type": "stream",
     "text": [
      "223-MULBERRY ROCK PARK\n"
     ]
    },
    {
     "name": "stderr",
     "output_type": "stream",
     "text": [
      "/Users/peterhorton/Documents/RDH/erj/erj-ga/2020/general/helper_functions.py:20: UserWarning: `keep_geom_type=True` in overlay resulted in 5 dropped geometries of different geometry types than df1 has. Set `keep_geom_type=False` to retain all geometries\n",
      "  test_join = gp.overlay(full_shape, shps_gdf, how = \"intersection\")\n"
     ]
    },
    {
     "name": "stdout",
     "output_type": "stream",
     "text": [
      "223-NEBO ELEM SCHOOL\n"
     ]
    },
    {
     "name": "stderr",
     "output_type": "stream",
     "text": [
      "/Users/peterhorton/Documents/RDH/erj/erj-ga/2020/general/helper_functions.py:20: UserWarning: `keep_geom_type=True` in overlay resulted in 3 dropped geometries of different geometry types than df1 has. Set `keep_geom_type=False` to retain all geometries\n",
      "  test_join = gp.overlay(full_shape, shps_gdf, how = \"intersection\")\n"
     ]
    },
    {
     "name": "stdout",
     "output_type": "stream",
     "text": [
      "223-RUSSOM ELEMENTARY\n"
     ]
    },
    {
     "name": "stderr",
     "output_type": "stream",
     "text": [
      "/Users/peterhorton/Documents/RDH/erj/erj-ga/2020/general/helper_functions.py:20: UserWarning: `keep_geom_type=True` in overlay resulted in 17 dropped geometries of different geometry types than df1 has. Set `keep_geom_type=False` to retain all geometries\n",
      "  test_join = gp.overlay(full_shape, shps_gdf, how = \"intersection\")\n"
     ]
    },
    {
     "name": "stdout",
     "output_type": "stream",
     "text": [
      "223-SHELTON ELEMENTARY\n"
     ]
    },
    {
     "name": "stderr",
     "output_type": "stream",
     "text": [
      "/Users/peterhorton/Documents/RDH/erj/erj-ga/2020/general/helper_functions.py:20: UserWarning: `keep_geom_type=True` in overlay resulted in 5 dropped geometries of different geometry types than df1 has. Set `keep_geom_type=False` to retain all geometries\n",
      "  test_join = gp.overlay(full_shape, shps_gdf, how = \"intersection\")\n"
     ]
    },
    {
     "name": "stdout",
     "output_type": "stream",
     "text": [
      "223-TAYLOR FARM PARK\n"
     ]
    },
    {
     "name": "stderr",
     "output_type": "stream",
     "text": [
      "/Users/peterhorton/Documents/RDH/erj/erj-ga/2020/general/helper_functions.py:20: UserWarning: `keep_geom_type=True` in overlay resulted in 12 dropped geometries of different geometry types than df1 has. Set `keep_geom_type=False` to retain all geometries\n",
      "  test_join = gp.overlay(full_shape, shps_gdf, how = \"intersection\")\n"
     ]
    },
    {
     "name": "stdout",
     "output_type": "stream",
     "text": [
      "223-WHITE OAK PARK\n"
     ]
    },
    {
     "name": "stderr",
     "output_type": "stream",
     "text": [
      "/Users/peterhorton/Documents/RDH/erj/erj-ga/2020/general/helper_functions.py:20: UserWarning: `keep_geom_type=True` in overlay resulted in 3 dropped geometries of different geometry types than df1 has. Set `keep_geom_type=False` to retain all geometries\n",
      "  test_join = gp.overlay(full_shape, shps_gdf, how = \"intersection\")\n"
     ]
    },
    {
     "name": "stdout",
     "output_type": "stream",
     "text": [
      "237-104\n"
     ]
    },
    {
     "name": "stderr",
     "output_type": "stream",
     "text": [
      "/Users/peterhorton/Documents/RDH/erj/erj-ga/2020/general/helper_functions.py:20: UserWarning: `keep_geom_type=True` in overlay resulted in 3 dropped geometries of different geometry types than df1 has. Set `keep_geom_type=False` to retain all geometries\n",
      "  test_join = gp.overlay(full_shape, shps_gdf, how = \"intersection\")\n"
     ]
    },
    {
     "name": "stdout",
     "output_type": "stream",
     "text": [
      "247-BT\n"
     ]
    },
    {
     "name": "stderr",
     "output_type": "stream",
     "text": [
      "/Users/peterhorton/Documents/RDH/erj/erj-ga/2020/general/helper_functions.py:20: UserWarning: `keep_geom_type=True` in overlay resulted in 4 dropped geometries of different geometry types than df1 has. Set `keep_geom_type=False` to retain all geometries\n",
      "  test_join = gp.overlay(full_shape, shps_gdf, how = \"intersection\")\n"
     ]
    },
    {
     "name": "stdout",
     "output_type": "stream",
     "text": [
      "247-FI\n"
     ]
    },
    {
     "name": "stderr",
     "output_type": "stream",
     "text": [
      "/Users/peterhorton/Documents/RDH/erj/erj-ga/2020/general/helper_functions.py:20: UserWarning: `keep_geom_type=True` in overlay resulted in 3 dropped geometries of different geometry types than df1 has. Set `keep_geom_type=False` to retain all geometries\n",
      "  test_join = gp.overlay(full_shape, shps_gdf, how = \"intersection\")\n"
     ]
    },
    {
     "name": "stdout",
     "output_type": "stream",
     "text": [
      "247-FS\n"
     ]
    },
    {
     "name": "stderr",
     "output_type": "stream",
     "text": [
      "/Users/peterhorton/Documents/RDH/erj/erj-ga/2020/general/helper_functions.py:20: UserWarning: `keep_geom_type=True` in overlay resulted in 7 dropped geometries of different geometry types than df1 has. Set `keep_geom_type=False` to retain all geometries\n",
      "  test_join = gp.overlay(full_shape, shps_gdf, how = \"intersection\")\n"
     ]
    },
    {
     "name": "stdout",
     "output_type": "stream",
     "text": [
      "247-HI\n"
     ]
    },
    {
     "name": "stderr",
     "output_type": "stream",
     "text": [
      "/Users/peterhorton/Documents/RDH/erj/erj-ga/2020/general/helper_functions.py:20: UserWarning: `keep_geom_type=True` in overlay resulted in 2 dropped geometries of different geometry types than df1 has. Set `keep_geom_type=False` to retain all geometries\n",
      "  test_join = gp.overlay(full_shape, shps_gdf, how = \"intersection\")\n"
     ]
    },
    {
     "name": "stdout",
     "output_type": "stream",
     "text": [
      "247-MA\n"
     ]
    },
    {
     "name": "stderr",
     "output_type": "stream",
     "text": [
      "/Users/peterhorton/Documents/RDH/erj/erj-ga/2020/general/helper_functions.py:20: UserWarning: `keep_geom_type=True` in overlay resulted in 2 dropped geometries of different geometry types than df1 has. Set `keep_geom_type=False` to retain all geometries\n",
      "  test_join = gp.overlay(full_shape, shps_gdf, how = \"intersection\")\n"
     ]
    },
    {
     "name": "stdout",
     "output_type": "stream",
     "text": [
      "247-OT\n"
     ]
    },
    {
     "name": "stderr",
     "output_type": "stream",
     "text": [
      "/Users/peterhorton/Documents/RDH/erj/erj-ga/2020/general/helper_functions.py:20: UserWarning: `keep_geom_type=True` in overlay resulted in 9 dropped geometries of different geometry types than df1 has. Set `keep_geom_type=False` to retain all geometries\n",
      "  test_join = gp.overlay(full_shape, shps_gdf, how = \"intersection\")\n"
     ]
    },
    {
     "name": "stdout",
     "output_type": "stream",
     "text": [
      "255-05\n"
     ]
    },
    {
     "name": "stderr",
     "output_type": "stream",
     "text": [
      "/Users/peterhorton/Documents/RDH/erj/erj-ga/2020/general/helper_functions.py:20: UserWarning: `keep_geom_type=True` in overlay resulted in 4 dropped geometries of different geometry types than df1 has. Set `keep_geom_type=False` to retain all geometries\n",
      "  test_join = gp.overlay(full_shape, shps_gdf, how = \"intersection\")\n"
     ]
    },
    {
     "name": "stdout",
     "output_type": "stream",
     "text": [
      "255-19\n"
     ]
    },
    {
     "name": "stderr",
     "output_type": "stream",
     "text": [
      "/Users/peterhorton/Documents/RDH/erj/erj-ga/2020/general/helper_functions.py:20: UserWarning: `keep_geom_type=True` in overlay resulted in 4 dropped geometries of different geometry types than df1 has. Set `keep_geom_type=False` to retain all geometries\n",
      "  test_join = gp.overlay(full_shape, shps_gdf, how = \"intersection\")\n"
     ]
    },
    {
     "name": "stdout",
     "output_type": "stream",
     "text": [
      "275-FIRE STATION #2\n"
     ]
    },
    {
     "name": "stderr",
     "output_type": "stream",
     "text": [
      "/Users/peterhorton/Documents/RDH/erj/erj-ga/2020/general/helper_functions.py:20: UserWarning: `keep_geom_type=True` in overlay resulted in 3 dropped geometries of different geometry types than df1 has. Set `keep_geom_type=False` to retain all geometries\n",
      "  test_join = gp.overlay(full_shape, shps_gdf, how = \"intersection\")\n",
      "/Users/peterhorton/Documents/RDH/erj/erj-ga/2020/general/helper_functions.py:20: UserWarning: `keep_geom_type=True` in overlay resulted in 1 dropped geometries of different geometry types than df1 has. Set `keep_geom_type=False` to retain all geometries\n",
      "  test_join = gp.overlay(full_shape, shps_gdf, how = \"intersection\")\n"
     ]
    },
    {
     "name": "stdout",
     "output_type": "stream",
     "text": [
      "277-BRIGHTON\n",
      "277-MOTT-LITMAN GYM\n"
     ]
    },
    {
     "name": "stderr",
     "output_type": "stream",
     "text": [
      "/Users/peterhorton/Documents/RDH/erj/erj-ga/2020/general/helper_functions.py:20: UserWarning: `keep_geom_type=True` in overlay resulted in 2 dropped geometries of different geometry types than df1 has. Set `keep_geom_type=False` to retain all geometries\n",
      "  test_join = gp.overlay(full_shape, shps_gdf, how = \"intersection\")\n",
      "/Users/peterhorton/Documents/RDH/erj/erj-ga/2020/general/helper_functions.py:20: UserWarning: `keep_geom_type=True` in overlay resulted in 1 dropped geometries of different geometry types than df1 has. Set `keep_geom_type=False` to retain all geometries\n",
      "  test_join = gp.overlay(full_shape, shps_gdf, how = \"intersection\")\n"
     ]
    },
    {
     "name": "stdout",
     "output_type": "stream",
     "text": [
      "277-TIFTON LODGE\n",
      "277-TIFTON NORTHWEST\n"
     ]
    },
    {
     "name": "stderr",
     "output_type": "stream",
     "text": [
      "/Users/peterhorton/Documents/RDH/erj/erj-ga/2020/general/helper_functions.py:20: UserWarning: `keep_geom_type=True` in overlay resulted in 2 dropped geometries of different geometry types than df1 has. Set `keep_geom_type=False` to retain all geometries\n",
      "  test_join = gp.overlay(full_shape, shps_gdf, how = \"intersection\")\n",
      "/Users/peterhorton/Documents/RDH/erj/erj-ga/2020/general/helper_functions.py:20: UserWarning: `keep_geom_type=True` in overlay resulted in 2 dropped geometries of different geometry types than df1 has. Set `keep_geom_type=False` to retain all geometries\n",
      "  test_join = gp.overlay(full_shape, shps_gdf, how = \"intersection\")\n"
     ]
    },
    {
     "name": "stdout",
     "output_type": "stream",
     "text": [
      "277-TIFTON SOUTH\n",
      "285-ADMINISTRATION BLDG\n"
     ]
    },
    {
     "name": "stderr",
     "output_type": "stream",
     "text": [
      "/Users/peterhorton/Documents/RDH/erj/erj-ga/2020/general/helper_functions.py:20: UserWarning: `keep_geom_type=True` in overlay resulted in 21 dropped geometries of different geometry types than df1 has. Set `keep_geom_type=False` to retain all geometries\n",
      "  test_join = gp.overlay(full_shape, shps_gdf, how = \"intersection\")\n",
      "/Users/peterhorton/Documents/RDH/erj/erj-ga/2020/general/helper_functions.py:20: UserWarning: `keep_geom_type=True` in overlay resulted in 1 dropped geometries of different geometry types than df1 has. Set `keep_geom_type=False` to retain all geometries\n",
      "  test_join = gp.overlay(full_shape, shps_gdf, how = \"intersection\")\n"
     ]
    },
    {
     "name": "stdout",
     "output_type": "stream",
     "text": [
      "285-HIGHLAND\n",
      "285-HOGANSVILLE\n"
     ]
    },
    {
     "name": "stderr",
     "output_type": "stream",
     "text": [
      "/Users/peterhorton/Documents/RDH/erj/erj-ga/2020/general/helper_functions.py:20: UserWarning: `keep_geom_type=True` in overlay resulted in 1 dropped geometries of different geometry types than df1 has. Set `keep_geom_type=False` to retain all geometries\n",
      "  test_join = gp.overlay(full_shape, shps_gdf, how = \"intersection\")\n",
      "/Users/peterhorton/Documents/RDH/erj/erj-ga/2020/general/helper_functions.py:20: UserWarning: `keep_geom_type=True` in overlay resulted in 1 dropped geometries of different geometry types than df1 has. Set `keep_geom_type=False` to retain all geometries\n",
      "  test_join = gp.overlay(full_shape, shps_gdf, how = \"intersection\")\n"
     ]
    },
    {
     "name": "stdout",
     "output_type": "stream",
     "text": [
      "285-LONG CANE\n",
      "285-MCCLENDON\n"
     ]
    },
    {
     "name": "stderr",
     "output_type": "stream",
     "text": [
      "/Users/peterhorton/Documents/RDH/erj/erj-ga/2020/general/helper_functions.py:20: UserWarning: `keep_geom_type=True` in overlay resulted in 2 dropped geometries of different geometry types than df1 has. Set `keep_geom_type=False` to retain all geometries\n",
      "  test_join = gp.overlay(full_shape, shps_gdf, how = \"intersection\")\n"
     ]
    },
    {
     "name": "stdout",
     "output_type": "stream",
     "text": [
      "285-NORTHSIDE\n"
     ]
    },
    {
     "name": "stderr",
     "output_type": "stream",
     "text": [
      "/Users/peterhorton/Documents/RDH/erj/erj-ga/2020/general/helper_functions.py:20: UserWarning: `keep_geom_type=True` in overlay resulted in 2 dropped geometries of different geometry types than df1 has. Set `keep_geom_type=False` to retain all geometries\n",
      "  test_join = gp.overlay(full_shape, shps_gdf, how = \"intersection\")\n"
     ]
    },
    {
     "name": "stdout",
     "output_type": "stream",
     "text": [
      "285-ROSEMONT\n"
     ]
    },
    {
     "name": "stderr",
     "output_type": "stream",
     "text": [
      "/Users/peterhorton/Documents/RDH/erj/erj-ga/2020/general/helper_functions.py:20: UserWarning: `keep_geom_type=True` in overlay resulted in 2 dropped geometries of different geometry types than df1 has. Set `keep_geom_type=False` to retain all geometries\n",
      "  test_join = gp.overlay(full_shape, shps_gdf, how = \"intersection\")\n"
     ]
    },
    {
     "name": "stdout",
     "output_type": "stream",
     "text": [
      "295-CHICKAMAUGA\n"
     ]
    },
    {
     "name": "stderr",
     "output_type": "stream",
     "text": [
      "/Users/peterhorton/Documents/RDH/erj/erj-ga/2020/general/helper_functions.py:20: UserWarning: `keep_geom_type=True` in overlay resulted in 3 dropped geometries of different geometry types than df1 has. Set `keep_geom_type=False` to retain all geometries\n",
      "  test_join = gp.overlay(full_shape, shps_gdf, how = \"intersection\")\n"
     ]
    },
    {
     "name": "stdout",
     "output_type": "stream",
     "text": [
      "295-WALNUT GROVE\n"
     ]
    },
    {
     "name": "stderr",
     "output_type": "stream",
     "text": [
      "/Users/peterhorton/Documents/RDH/erj/erj-ga/2020/general/helper_functions.py:20: UserWarning: `keep_geom_type=True` in overlay resulted in 2 dropped geometries of different geometry types than df1 has. Set `keep_geom_type=False` to retain all geometries\n",
      "  test_join = gp.overlay(full_shape, shps_gdf, how = \"intersection\")\n"
     ]
    },
    {
     "name": "stdout",
     "output_type": "stream",
     "text": [
      "297-BAY CREEK\n"
     ]
    },
    {
     "name": "stderr",
     "output_type": "stream",
     "text": [
      "/Users/peterhorton/Documents/RDH/erj/erj-ga/2020/general/helper_functions.py:20: UserWarning: `keep_geom_type=True` in overlay resulted in 2 dropped geometries of different geometry types than df1 has. Set `keep_geom_type=False` to retain all geometries\n",
      "  test_join = gp.overlay(full_shape, shps_gdf, how = \"intersection\")\n"
     ]
    },
    {
     "name": "stdout",
     "output_type": "stream",
     "text": [
      "297-BETWEEN\n"
     ]
    },
    {
     "name": "stderr",
     "output_type": "stream",
     "text": [
      "/Users/peterhorton/Documents/RDH/erj/erj-ga/2020/general/helper_functions.py:20: UserWarning: `keep_geom_type=True` in overlay resulted in 2 dropped geometries of different geometry types than df1 has. Set `keep_geom_type=False` to retain all geometries\n",
      "  test_join = gp.overlay(full_shape, shps_gdf, how = \"intersection\")\n"
     ]
    },
    {
     "name": "stdout",
     "output_type": "stream",
     "text": [
      "299-District 1\n"
     ]
    },
    {
     "name": "stderr",
     "output_type": "stream",
     "text": [
      "/Users/peterhorton/Documents/RDH/erj/erj-ga/2020/general/helper_functions.py:20: UserWarning: `keep_geom_type=True` in overlay resulted in 2 dropped geometries of different geometry types than df1 has. Set `keep_geom_type=False` to retain all geometries\n",
      "  test_join = gp.overlay(full_shape, shps_gdf, how = \"intersection\")\n",
      "/Users/peterhorton/Documents/RDH/erj/erj-ga/2020/general/helper_functions.py:20: UserWarning: `keep_geom_type=True` in overlay resulted in 3 dropped geometries of different geometry types than df1 has. Set `keep_geom_type=False` to retain all geometries\n",
      "  test_join = gp.overlay(full_shape, shps_gdf, how = \"intersection\")\n"
     ]
    },
    {
     "name": "stdout",
     "output_type": "stream",
     "text": [
      "299-District 2A\n",
      "299-District 2B\n"
     ]
    },
    {
     "name": "stderr",
     "output_type": "stream",
     "text": [
      "/Users/peterhorton/Documents/RDH/erj/erj-ga/2020/general/helper_functions.py:20: UserWarning: `keep_geom_type=True` in overlay resulted in 4 dropped geometries of different geometry types than df1 has. Set `keep_geom_type=False` to retain all geometries\n",
      "  test_join = gp.overlay(full_shape, shps_gdf, how = \"intersection\")\n"
     ]
    },
    {
     "name": "stdout",
     "output_type": "stream",
     "text": [
      "305-PINE STREET\n"
     ]
    },
    {
     "name": "stderr",
     "output_type": "stream",
     "text": [
      "/Users/peterhorton/Documents/RDH/erj/erj-ga/2020/general/helper_functions.py:20: UserWarning: `keep_geom_type=True` in overlay resulted in 4 dropped geometries of different geometry types than df1 has. Set `keep_geom_type=False` to retain all geometries\n",
      "  test_join = gp.overlay(full_shape, shps_gdf, how = \"intersection\")\n"
     ]
    },
    {
     "name": "stdout",
     "output_type": "stream",
     "text": [
      "305-REC CENTER\n"
     ]
    },
    {
     "name": "stderr",
     "output_type": "stream",
     "text": [
      "/Users/peterhorton/Documents/RDH/erj/erj-ga/2020/general/helper_functions.py:20: UserWarning: `keep_geom_type=True` in overlay resulted in 2 dropped geometries of different geometry types than df1 has. Set `keep_geom_type=False` to retain all geometries\n",
      "  test_join = gp.overlay(full_shape, shps_gdf, how = \"intersection\")\n"
     ]
    },
    {
     "name": "stdout",
     "output_type": "stream",
     "text": [
      "311-SHOAL CREEK\n"
     ]
    },
    {
     "name": "stderr",
     "output_type": "stream",
     "text": [
      "/Users/peterhorton/Documents/RDH/erj/erj-ga/2020/general/helper_functions.py:20: UserWarning: `keep_geom_type=True` in overlay resulted in 3 dropped geometries of different geometry types than df1 has. Set `keep_geom_type=False` to retain all geometries\n",
      "  test_join = gp.overlay(full_shape, shps_gdf, how = \"intersection\")\n"
     ]
    },
    {
     "name": "stdout",
     "output_type": "stream",
     "text": [
      "313-2A\n"
     ]
    },
    {
     "name": "stderr",
     "output_type": "stream",
     "text": [
      "/Users/peterhorton/Documents/RDH/erj/erj-ga/2020/general/helper_functions.py:20: UserWarning: `keep_geom_type=True` in overlay resulted in 2 dropped geometries of different geometry types than df1 has. Set `keep_geom_type=False` to retain all geometries\n",
      "  test_join = gp.overlay(full_shape, shps_gdf, how = \"intersection\")\n"
     ]
    },
    {
     "name": "stdout",
     "output_type": "stream",
     "text": [
      "185-NORTHGATE ASSEMBLY AND TRINITY\n"
     ]
    },
    {
     "name": "stderr",
     "output_type": "stream",
     "text": [
      "/Users/peterhorton/Documents/RDH/erj/erj-ga/2020/general/helper_functions.py:20: UserWarning: `keep_geom_type=True` in overlay resulted in 17 dropped geometries of different geometry types than df1 has. Set `keep_geom_type=False` to retain all geometries\n",
      "  test_join = gp.overlay(full_shape, shps_gdf, how = \"intersection\")\n"
     ]
    }
   ],
   "source": [
    "for val in join_attempt_1[\"unique_ID\"]:\n",
    "    cd_list = []\n",
    "    if val in split_precincts_list.keys():\n",
    "        print(val)\n",
    "        join_attempt_1 = helper_functions.district_splits_mod(split_precincts_list[val],\"SL\",val, join_attempt_1, ga_sldl_districts, \"unique_ID\", \"SLDL_DISTRICT\", races, \"SLDL_DIST\")"
   ]
  },
  {
   "cell_type": "markdown",
   "id": "03742d81",
   "metadata": {},
   "source": [
    "### Clean the DataFrame and Filter Columns"
   ]
  },
  {
   "cell_type": "code",
   "execution_count": 41,
   "id": "f92d3170",
   "metadata": {},
   "outputs": [],
   "source": [
    "join_attempt_1.rename(columns = {'unique_ID':\"UNIQUE_ID\", 'county_fips':'COUNTYFP'}, inplace = True)"
   ]
  },
  {
   "cell_type": "code",
   "execution_count": 42,
   "id": "ddabce30",
   "metadata": {},
   "outputs": [],
   "source": [
    "join_attempt_1 = join_attempt_1[[\"UNIQUE_ID\", 'COUNTYFP','DISTRICT', 'CTYSOSID', 'PRECINCT_I', 'PRECINCT_N', 'CTYNAME',\n",
    "       'CTYNUMBER', 'CTYNUMBER2', 'FIPS2','SLDL_DIST']+races+[\"geometry\"]]"
   ]
  },
  {
   "cell_type": "markdown",
   "id": "7599d3d7",
   "metadata": {},
   "source": [
    "### Check the District Assignments"
   ]
  },
  {
   "cell_type": "code",
   "execution_count": 43,
   "id": "06e1baa0",
   "metadata": {},
   "outputs": [],
   "source": [
    "na_values = join_attempt_1[join_attempt_1[\"SLDL_DIST\"].isna()]\n",
    "others = join_attempt_1[~(join_attempt_1[\"SLDL_DIST\"].isna())]"
   ]
  },
  {
   "cell_type": "code",
   "execution_count": 44,
   "id": "4c56a199",
   "metadata": {},
   "outputs": [
    {
     "name": "stderr",
     "output_type": "stream",
     "text": [
      "/var/folders/1t/0q4w6hm92mg_zxd84dfxmq3m0000gn/T/ipykernel_82954/3730758353.py:1: UserWarning: `keep_geom_type=True` in overlay resulted in 32 dropped geometries of different geometry types than df1 has. Set `keep_geom_type=False` to retain all geometries\n",
      "  intersected = gp.overlay(ga_sldl_districts, na_values, how = \"intersection\")\n"
     ]
    }
   ],
   "source": [
    "intersected = gp.overlay(ga_sldl_districts, na_values, how = \"intersection\")"
   ]
  },
  {
   "cell_type": "code",
   "execution_count": 45,
   "id": "8a197210",
   "metadata": {},
   "outputs": [
    {
     "name": "stderr",
     "output_type": "stream",
     "text": [
      "/var/folders/1t/0q4w6hm92mg_zxd84dfxmq3m0000gn/T/ipykernel_82954/2715349989.py:3: UserWarning: Geometry is in a geographic CRS. Results from 'area' are likely incorrect. Use 'GeoSeries.to_crs()' to re-project geometries to a projected CRS before this operation.\n",
      "\n",
      "  intersected['area'] = intersected.area\n"
     ]
    }
   ],
   "source": [
    "# Create a dictionary to map\n",
    "\n",
    "intersected['area'] = intersected.area\n",
    "\n",
    "na_assignment_dict = {}\n",
    "\n",
    "for val in intersected[\"UNIQUE_ID\"].unique():\n",
    "\n",
    "    assignment = intersected.loc[intersected[\"UNIQUE_ID\"] == val].nlargest(1, 'area')[\"SLDL_DISTRICT\"].values[0]\n",
    "    na_assignment_dict[val] = assignment"
   ]
  },
  {
   "cell_type": "code",
   "execution_count": 46,
   "id": "6b882812",
   "metadata": {},
   "outputs": [],
   "source": [
    "join_attempt_1[\"SLDL_DIST\"] = join_attempt_1[\"UNIQUE_ID\"].map(na_assignment_dict).fillna(join_attempt_1[\"SLDL_DIST\"])"
   ]
  },
  {
   "cell_type": "code",
   "execution_count": 47,
   "id": "0d967bfe",
   "metadata": {},
   "outputs": [],
   "source": [
    "assigned_districts = join_attempt_1.dissolve([\"SLDL_DIST\"])\n",
    "assigned_districts.reset_index(drop=False,inplace=True)"
   ]
  },
  {
   "cell_type": "code",
   "execution_count": 48,
   "id": "26ecc5c1",
   "metadata": {},
   "outputs": [],
   "source": [
    "ga_sldl_districts[\"SLDL_DIST\"] = ga_sldl_districts[\"SLDL_DISTRICT\"]"
   ]
  },
  {
   "cell_type": "code",
   "execution_count": 49,
   "id": "cbbe8961",
   "metadata": {},
   "outputs": [
    {
     "name": "stdout",
     "output_type": "stream",
     "text": [
      "Checking 180 precincts for differences of greater than 0.1 km^2\n",
      "\n",
      "1) For 033 difference in area is 0.2883494539283595\n",
      "2) For 120 difference in area is 0.301049837214071\n",
      "3) For 129 difference in area is 13.837790467301065\n",
      "4) For 144 difference in area is 13.837790868653137\n",
      "5) For 164 difference in area is 43.97139606259779\n",
      "6) For 166 difference in area is 43.95951060110459\n",
      "\n",
      "Scroll down to see plots of any differences\n",
      "\n",
      "Of the 180 precincts:\n",
      "\n",
      "57 precincts w/ a difference of 0 km^2\n",
      "117 precincts w/ a difference between 0 and .1 km^2\n",
      "2 precincts w/ a difference between .1 and .5 km^2\n",
      "0 precincts w/ a difference between .5 and 1 km^2\n",
      "0 precincts w/ a difference between 1 and 2 km^2\n",
      "0 precincts w/ a difference between 2 and 5 km^2\n",
      "4 precincts w/ a difference greater than 5 km^2\n"
     ]
    },
    {
     "data": {
      "image/png": "[encoded data removed]",
      "text/plain": [
       "<Figure size 720x720 with 1 Axes>"
      ]
     },
     "metadata": {
      "needs_background": "light"
     },
     "output_type": "display_data"
    },
    {
     "data": {
      "image/png": "[encoded data removed]",
      "text/plain": [
       "<Figure size 720x720 with 1 Axes>"
      ]
     },
     "metadata": {
      "needs_background": "light"
     },
     "output_type": "display_data"
    },
    {
     "data": {
      "image/png": "[encoded data removed]",
      "text/plain": [
       "<Figure size 720x720 with 1 Axes>"
      ]
     },
     "metadata": {
      "needs_background": "light"
     },
     "output_type": "display_data"
    },
    {
     "data": {
      "image/png": "[encoded data removed]",
      "text/plain": [
       "<Figure size 720x720 with 1 Axes>"
      ]
     },
     "metadata": {
      "needs_background": "light"
     },
     "output_type": "display_data"
    },
    {
     "data": {
      "image/png": "[encoded data removed]",
      "text/plain": [
       "<Figure size 720x720 with 1 Axes>"
      ]
     },
     "metadata": {
      "needs_background": "light"
     },
     "output_type": "display_data"
    },
    {
     "data": {
      "image/png": "[encoded data removed]",
      "text/plain": [
       "<Figure size 720x720 with 1 Axes>"
      ]
     },
     "metadata": {
      "needs_background": "light"
     },
     "output_type": "display_data"
    }
   ],
   "source": [
    "helper_functions.compare_geometries(assigned_districts, ga_sldl_districts ,\"Election Results\", \"Official Map\", \"SLDL_DIST\",area_threshold=.1)"
   ]
  },
  {
   "cell_type": "markdown",
   "id": "95df0eb4",
   "metadata": {},
   "source": [
    "## Check Added Column Totals\n",
    "\n",
    "In the 'statewide-county-totals-check-erj' we created a cleaned csv of the county totals from the GA sos website"
   ]
  },
  {
   "cell_type": "code",
   "execution_count": 50,
   "id": "6e7317c4",
   "metadata": {},
   "outputs": [],
   "source": [
    "official_county_totals = pd.read_csv(\"./cleaned_official_county_totals.csv\")"
   ]
  },
  {
   "cell_type": "code",
   "execution_count": 51,
   "id": "cc69a20b",
   "metadata": {},
   "outputs": [
    {
     "name": "stdout",
     "output_type": "stream",
     "text": [
      "***Statewide Totals Check***\n",
      "GSL001RCAM is equal \t both dataframes 19371\n",
      "GSL002RTAR is equal \t both dataframes 21983\n",
      "GSL003RHIL is equal \t both dataframes 23054\n",
      "GSL004RCAR is equal \t both dataframes 13377\n",
      "GSL005RBAR is equal \t both dataframes 19421\n",
      "GSL006RRID is equal \t both dataframes 18227\n",
      "GSL007DDAY is equal \t both dataframes 5255\n",
      "GSL007RRAL is equal \t both dataframes 27074\n",
      "GSL008DCOO is equal \t both dataframes 6407\n",
      "GSL008RGUN is equal \t both dataframes 29195\n",
      "GSL009DRAV is equal \t both dataframes 5046\n",
      "GSL009RWAD is equal \t both dataframes 26310\n",
      "GSL010DMIT is equal \t both dataframes 4116\n",
      "GSL010RAND is equal \t both dataframes 21396\n",
      "GSL011DHOL is equal \t both dataframes 4272\n",
      "GSL011RJAS is equal \t both dataframes 22633\n",
      "GSL012DGIL has a difference of 47 votes\n",
      "\tOfficial Totals: 4114 votes\n",
      "\tERJ Totals: 4067 votes\n",
      "GSL012RLUM has a difference of 134 votes\n",
      "\tOfficial Totals: 17666 votes\n",
      "\tERJ Totals: 17532 votes\n",
      "GSL013RDEM is equal \t both dataframes 17421\n",
      "GSL014RSCO is equal \t both dataframes 24279\n",
      "GSL015RGAM is equal \t both dataframes 22536\n",
      "GSL016DARR is equal \t both dataframes 5074\n",
      "GSL016RKEL is equal \t both dataframes 18106\n",
      "GSL017DDAI is equal \t both dataframes 9410\n",
      "GSL017RMOM is equal \t both dataframes 23833\n",
      "GSL018DRHU has a difference of 12 votes\n",
      "\tOfficial Totals: 6002 votes\n",
      "\tERJ Totals: 5990 votes\n",
      "GSL018RSMI has a difference of 236 votes\n",
      "\tOfficial Totals: 18168 votes\n",
      "\tERJ Totals: 17932 votes\n",
      "GSL019DFEL is equal \t both dataframes 12132\n",
      "GSL019RGUL is equal \t both dataframes 19414\n",
      "GSL020DLEN is equal \t both dataframes 11416\n",
      "GSL020RBYR is equal \t both dataframes 22262\n",
      "GSL021DHUG is equal \t both dataframes 9681\n",
      "GSL021RTHO is equal \t both dataframes 25787\n",
      "GSL022DRAV is equal \t both dataframes 10962\n",
      "GSL022RCAN is equal \t both dataframes 31898\n",
      "GSL023RBAL is equal \t both dataframes 28118\n",
      "GSL024DBUC is equal \t both dataframes 10136\n",
      "GSL024RGIL is equal \t both dataframes 27912\n",
      "GSL025DOLE is equal \t both dataframes 14689\n",
      "GSL025RJON is equal \t both dataframes 23733\n",
      "GSL026DBOS is equal \t both dataframes 8600\n",
      "GSL026RMCD is equal \t both dataframes 29178\n",
      "GSL027RHAW is equal \t both dataframes 24715\n",
      "GSL028RERW is equal \t both dataframes 22655\n",
      "GSL029DCAL is equal \t both dataframes 6954\n",
      "GSL029RDUB has a difference of 1 votes\n",
      "\tOfficial Totals: 12877 votes\n",
      "\tERJ Totals: 12876 votes\n",
      "GSL030DMIL has a difference of 1 votes\n",
      "\tOfficial Totals: 8003 votes\n",
      "\tERJ Totals: 8002 votes\n",
      "GSL030RDUN has a difference of 1 votes\n",
      "\tOfficial Totals: 18717 votes\n",
      "\tERJ Totals: 18716 votes\n",
      "GSL031DFUL is equal \t both dataframes 6524\n",
      "GSL031RBEN is equal \t both dataframes 26632\n",
      "GSL032DALL is equal \t both dataframes 4180\n",
      "GSL032RPOW is equal \t both dataframes 22259\n",
      "GSL033DHAM is equal \t both dataframes 6979\n",
      "GSL033RLEV is equal \t both dataframes 19768\n",
      "GSL034DSMI is equal \t both dataframes 13199\n",
      "GSL034RREE is equal \t both dataframes 16888\n",
      "GSL035DRIN is equal \t both dataframes 14909\n",
      "GSL035RSET is equal \t both dataframes 15189\n",
      "GSL036DRYN is equal \t both dataframes 13313\n",
      "GSL036REHR is equal \t both dataframes 24536\n",
      "GSL037DWIL is equal \t both dataframes 15946\n",
      "GSL037RWIN is equal \t both dataframes 13603\n",
      "GSL038DWIL is equal \t both dataframes 25015\n",
      "GSL039DTHO is equal \t both dataframes 20613\n",
      "GSL039RHIC is equal \t both dataframes 4411\n",
      "GSL040DALL is equal \t both dataframes 20716\n",
      "GSL040RBOW is equal \t both dataframes 14773\n",
      "GSL041DSMI is equal \t both dataframes 14960\n",
      "GSL041RGEO is equal \t both dataframes 5878\n",
      "GSL042DANU is equal \t both dataframes 17237\n",
      "GSL043DWAK is equal \t both dataframes 15452\n",
      "GSL043RCOO is equal \t both dataframes 15928\n",
      "GSL044DDIC is equal \t both dataframes 15623\n",
      "GSL044RPAR is equal \t both dataframes 16809\n",
      "GSL045DGHA is equal \t both dataframes 16006\n",
      "GSL045RDOL is equal \t both dataframes 19549\n",
      "GSL046DHOL is equal \t both dataframes 13615\n",
      "GSL046RCAR is equal \t both dataframes 21712\n",
      "GSL047DCAR is equal \t both dataframes 13570\n",
      "GSL047RJON is equal \t both dataframes 21039\n",
      "GSL048DROB is equal \t both dataframes 14635\n",
      "GSL048RPRI is equal \t both dataframes 13349\n",
      "GSL049DHAY is equal \t both dataframes 15166\n",
      "GSL049RMAR is equal \t both dataframes 16974\n",
      "GSL050DKAU is equal \t both dataframes 15111\n",
      "GSL050RLIN is equal \t both dataframes 13504\n",
      "GSL051DMCL is equal \t both dataframes 16398\n",
      "GSL051RKAU is equal \t both dataframes 13274\n",
      "GSL052DROB is equal \t both dataframes 17069\n",
      "GSL052RSIL is equal \t both dataframes 16692\n",
      "GSL053DJON is equal \t both dataframes 24615\n",
      "GSL054DHOL is equal \t both dataframes 21420\n",
      "GSL054RRUD is equal \t both dataframes 15521\n",
      "GSL055DMET is equal \t both dataframes 27041\n",
      "GSL056DMAI is equal \t both dataframes 19664\n",
      "GSL057DEVA is equal \t both dataframes 29595\n",
      "GSL058DCAN is equal \t both dataframes 28021\n",
      "GSL059DDRE is equal \t both dataframes 24657\n",
      "GSL060DSCH has a difference of 13 votes\n",
      "\tOfficial Totals: 19272 votes\n",
      "\tERJ Totals: 19259 votes\n",
      "GSL061DBRU is equal \t both dataframes 24095\n",
      "GSL062DBOD has a difference of 7 votes\n",
      "\tOfficial Totals: 29482 votes\n",
      "\tERJ Totals: 29475 votes\n",
      "GSL063DBAZ is equal \t both dataframes 23191\n",
      "GSL063RCAL is equal \t both dataframes 6247\n",
      "GSL064DJAC is equal \t both dataframes 26962\n",
      "GSL065DTHO is equal \t both dataframes 26797\n",
      "GSL066DALE is equal \t both dataframes 19407\n",
      "GSL066RJON is equal \t both dataframes 9726\n",
      "GSL067DMAY is equal \t both dataframes 10785\n",
      "GSL067RGRA is equal \t both dataframes 17648\n",
      "GSL068RCOL is equal \t both dataframes 24730\n",
      "GSL069DGIL has a difference of 6 votes\n",
      "\tOfficial Totals: 5286 votes\n",
      "\tERJ Totals: 5280 votes\n",
      "GSL069RNIX has a difference of 19 votes\n",
      "\tOfficial Totals: 20856 votes\n",
      "\tERJ Totals: 20837 votes\n",
      "GSL070RSMI is equal \t both dataframes 24742\n",
      "GSL071DPRO is equal \t both dataframes 9564\n",
      "GSL071RSIN is equal \t both dataframes 25530\n",
      "GSL072DROV is equal \t both dataframes 9874\n",
      "GSL072RBON is equal \t both dataframes 26977\n",
      "GSL073DHAR is equal \t both dataframes 12796\n",
      "GSL073RMAT is equal \t both dataframes 16263\n",
      "GSL074DNEA is equal \t both dataframes 17865\n",
      "GSL075DGLA is equal \t both dataframes 21735\n",
      "GSL076DSCO is equal \t both dataframes 24533\n",
      "GSL077DBUR is equal \t both dataframes 18616\n",
      "GSL078DDOU is equal \t both dataframes 24482\n",
      "GSL079DWIL is equal \t both dataframes 16602\n",
      "GSL079RJOH is equal \t both dataframes 11185\n",
      "GSL080DWIL is equal \t both dataframes 17347\n",
      "GSL080RCOL is equal \t both dataframes 12173\n",
      "GSL081DHOL is equal \t both dataframes 17404\n",
      "GSL082DOLI is equal \t both dataframes 21436\n",
      "GSL083DEVA is equal \t both dataframes 29045\n",
      "GSL084DSHA is equal \t both dataframes 29992\n",
      "GSL085DDRE is equal \t both dataframes 22624\n",
      "GSL086DLOP is equal \t both dataframes 23209\n",
      "GSL087DDAV is equal \t both dataframes 25870\n",
      "GSL088DMIT is equal \t both dataframes 22598\n",
      "GSL089DNGU is equal \t both dataframes 32600\n",
      "GSL090DSTE is equal \t both dataframes 27001\n",
      "GSL091DTAY is equal \t both dataframes 27293\n",
      "GSL092DCAR is equal \t both dataframes 20996\n",
      "GSL093DKEN is equal \t both dataframes 26638\n",
      "GSL093ROWE is equal \t both dataframes 5164\n",
      "GSL094DBEN is equal \t both dataframes 25712\n",
      "GSL095DMOO is equal \t both dataframes 16530\n",
      "GSL095RMCC is equal \t both dataframes 13023\n",
      "GSL096DMAR is equal \t both dataframes 15015\n",
      "GSL097DCAM is equal \t both dataframes 15520\n",
      "GSL097RRIC is equal \t both dataframes 16929\n",
      "GSL098DCHO is equal \t both dataframes 12888\n",
      "GSL098RCLA is equal \t both dataframes 18595\n",
      "GSL099DLIM is equal \t both dataframes 9943\n",
      "GSL100DMCC is equal \t both dataframes 14498\n",
      "GSL101DPAR is equal \t both dataframes 15941\n",
      "GSL101RFIE is equal \t both dataframes 9713\n",
      "GSL102DKEN is equal \t both dataframes 14134\n",
      "GSL102RHON is equal \t both dataframes 13313\n",
      "GSL103DMAR is equal \t both dataframes 11652\n",
      "GSL103RBAR is equal \t both dataframes 24204\n",
      "GSL104DHEM is equal \t both dataframes 16547\n",
      "GSL104REFS is equal \t both dataframes 17326\n",
      "GSL105DMCL is equal \t both dataframes 19869\n",
      "GSL105RDIE is equal \t both dataframes 12043\n",
      "GSL106DMIT is equal \t both dataframes 17611\n",
      "GSL106RHAR is equal \t both dataframes 12384\n",
      "GSL107DHUT is equal \t both dataframes 16730\n",
      "GSL107RMCC is equal \t both dataframes 10514\n",
      "GSL108DCLA is equal \t both dataframes 14602\n",
      "GSL108RCRI is equal \t both dataframes 12034\n",
      "GSL109DLEW is equal \t both dataframes 17009\n",
      "GSL109RRUT is equal \t both dataframes 15825\n",
      "GSL110DCAR is equal \t both dataframes 12459\n",
      "GSL110RCRO is equal \t both dataframes 15729\n",
      "GSL111DHOL is equal \t both dataframes 27997\n",
      "GSL112RBEL is equal \t both dataframes 26093\n",
      "GSL113DHEN is equal \t both dataframes 23743\n",
      "GSL114RKIR is equal \t both dataframes 27331\n",
      "GSL115DREE is equal \t both dataframes 6895\n",
      "GSL115RWIL is equal \t both dataframes 23812\n",
      "GSL116RENG is equal \t both dataframes 24376\n",
      "GSL117DJOH is equal \t both dataframes 12940\n",
      "GSL117RGAI is equal \t both dataframes 16863\n",
      "GSL118DFRY is equal \t both dataframes 18807\n",
      "GSL119DWAL is equal \t both dataframes 13852\n",
      "GSL119RWIE is equal \t both dataframes 16828\n",
      "GSL120RRHO is equal \t both dataframes 25247\n",
      "GSL121RFLE is equal \t both dataframes 26291\n",
      "GSL122DCRU is equal \t both dataframes 11224\n",
      "GSL122RLOT is equal \t both dataframes 26081\n",
      "GSL123RNEW is equal \t both dataframes 23452\n",
      "GSL124DHOW is equal \t both dataframes 16454\n",
      "GSL125DNEL is equal \t both dataframes 17666\n",
      "GSL126DFRA is equal \t both dataframes 22232\n",
      "GSL127DPRI is equal \t both dataframes 18665\n",
      "GSL128DJAC is equal \t both dataframes 18053\n",
      "GSL129DBEL is equal \t both dataframes 7152\n",
      "GSL129IREE is equal \t both dataframes 1130\n",
      "GSL129RHOL is equal \t both dataframes 18966\n",
      "GSL130DHEN is equal \t both dataframes 11398\n",
      "GSL130RKNI is equal \t both dataframes 16023\n",
      "GSL131DBEN is equal \t both dataframes 6816\n",
      "GSL131RCAM is equal \t both dataframes 20246\n",
      "GSL132DTRA has a difference of 6 votes\n",
      "\tOfficial Totals: 10792 votes\n",
      "\tERJ Totals: 10786 votes\n",
      "GSL132RJEN has a difference of 28 votes\n",
      "\tOfficial Totals: 11458 votes\n",
      "\tERJ Totals: 11430 votes\n",
      "GSL133RSMI has a difference of 5 votes\n",
      "\tOfficial Totals: 25094 votes\n",
      "\tERJ Totals: 25089 votes\n",
      "GSL134DSPR is equal \t both dataframes 9831\n",
      "GSL134RSMI is equal \t both dataframes 17591\n",
      "GSL135DSMY is equal \t both dataframes 12407\n",
      "GSL136DHUG is equal \t both dataframes 19509\n",
      "GSL137DBUC is equal \t both dataframes 22039\n",
      "GSL138DARN is equal \t both dataframes 8177\n",
      "GSL138RCHE is equal \t both dataframes 9542\n",
      "GSL139DBEN is equal \t both dataframes 13658\n",
      "GSL140RDIC is equal \t both dataframes 19693\n",
      "GSL141RWAS is equal \t both dataframes 25840\n",
      "GSL142DPAR is equal \t both dataframes 18212\n",
      "GSL143DBEV is equal \t both dataframes 17679\n",
      "GSL144DWHI is equal \t both dataframes 8306\n",
      "GSL144RMAT is equal \t both dataframes 18560\n",
      "GSL145DHOW is equal \t both dataframes 9659\n",
      "GSL145RWIL is equal \t both dataframes 12371\n",
      "GSL146RBLA is equal \t both dataframes 25746\n",
      "GSL147DBAU is equal \t both dataframes 10773\n",
      "GSL147RCLA is equal \t both dataframes 11794\n",
      "GSL148DAWU is equal \t both dataframes 6322\n",
      "GSL148RWIL is equal \t both dataframes 15443\n",
      "GSL149RPRU is equal \t both dataframes 13972\n",
      "GSL150RHAT is equal \t both dataframes 20139\n",
      "GSL151DBAR is equal \t both dataframes 11185\n",
      "GSL151RGRE is equal \t both dataframes 12011\n",
      "GSL152RYEA is equal \t both dataframes 23841\n",
      "GSL153DHOP is equal \t both dataframes 15462\n",
      "GSL154DDUK is equal \t both dataframes 17798\n",
      "GSL155DKIT has a difference of 3 votes\n",
      "\tOfficial Totals: 6214 votes\n",
      "\tERJ Totals: 6211 votes\n",
      "GSL155RPIR has a difference of 31 votes\n",
      "\tOfficial Totals: 16132 votes\n",
      "\tERJ Totals: 16101 votes\n",
      "GSL156RMOR is equal \t both dataframes 19096\n",
      "GSL157RWER is equal \t both dataframes 16199\n",
      "GSL158DGLE is equal \t both dataframes 6773\n",
      "GSL158RPAR is equal \t both dataframes 15379\n",
      "GSL159RBUR is equal \t both dataframes 21976\n",
      "GSL160RTAN has a difference of 1 votes\n",
      "\tOfficial Totals: 19105 votes\n",
      "\tERJ Totals: 19104 votes\n",
      "GSL161RHIT is equal \t both dataframes 27840\n",
      "GSL162DGIL is equal \t both dataframes 17344\n",
      "GSL163DMAL is equal \t both dataframes 18099\n",
      "GSL164DTHO is equal \t both dataframes 12484\n",
      "GSL164RSTE is equal \t both dataframes 13829\n",
      "GSL165DSTE is equal \t both dataframes 19955\n",
      "GSL166DMAC is equal \t both dataframes 11115\n",
      "GSL166RPET is equal \t both dataframes 26058\n",
      "GSL167RDEL is equal \t both dataframes 21135\n",
      "GSL168DWIL is equal \t both dataframes 17006\n",
      "GSL169DMOO has a difference of 3 votes\n",
      "\tOfficial Totals: 5074 votes\n",
      "\tERJ Totals: 5071 votes\n",
      "GSL169RLAR has a difference of 51 votes\n",
      "\tOfficial Totals: 13759 votes\n",
      "\tERJ Totals: 13708 votes\n",
      "GSL170DOLI has a difference of 19 votes\n",
      "\tOfficial Totals: 4979 votes\n",
      "\tERJ Totals: 4960 votes\n",
      "GSL170RHOU has a difference of 70 votes\n",
      "\tOfficial Totals: 15626 votes\n",
      "\tERJ Totals: 15556 votes\n",
      "GSL171RCAM is equal \t both dataframes 17096\n",
      "GSL172RWAT is equal \t both dataframes 15556\n",
      "GSL173DGAI is equal \t both dataframes 9766\n",
      "GSL173RTAY is equal \t both dataframes 14267\n",
      "GSL174RCOR is equal \t both dataframes 18484\n",
      "GSL175RLAH is equal \t both dataframes 22745\n",
      "GSL176DPRI has a difference of 17 votes\n",
      "\tOfficial Totals: 6185 votes\n",
      "\tERJ Totals: 6168 votes\n",
      "GSL176RBUR has a difference of 10 votes\n",
      "\tOfficial Totals: 15241 votes\n",
      "\tERJ Totals: 15231 votes\n",
      "GSL177DSHA is equal \t both dataframes 14598\n",
      "GSL178RMEE is equal \t both dataframes 21993\n",
      "GSL179DJOR is equal \t both dataframes 11672\n",
      "GSL179RHOG is equal \t both dataframes 15441\n",
      "GSL180RSAI has a difference of 6 votes\n",
      "\tOfficial Totals: 20286 votes\n",
      "\tERJ Totals: 20280 votes\n",
      "\n",
      "['GSL012DGIL', 'GSL012RLUM', 'GSL018DRHU', 'GSL018RSMI', 'GSL029RDUB', 'GSL030DMIL', 'GSL030RDUN', 'GSL060DSCH', 'GSL062DBOD', 'GSL069DGIL', 'GSL069RNIX', 'GSL132DTRA', 'GSL132RJEN', 'GSL133RSMI', 'GSL155DKIT', 'GSL155RPIR', 'GSL160RTAN', 'GSL169DMOO', 'GSL169RLAR', 'GSL170DOLI', 'GSL170RHOU', 'GSL176DPRI', 'GSL176RBUR', 'GSL180RSAI']\n"
     ]
    }
   ],
   "source": [
    "helper_functions.statewide_totals_check(official_county_totals, \"Official Totals\", join_attempt_1, \"ERJ Totals\", races)"
   ]
  },
  {
   "cell_type": "code",
   "execution_count": 52,
   "id": "641f6e3d",
   "metadata": {},
   "outputs": [],
   "source": [
    "ga_election[\"CTYNAME\"] = ga_election[\"county\"].str.upper()"
   ]
  },
  {
   "cell_type": "markdown",
   "id": "44a820e2",
   "metadata": {},
   "source": [
    "## Check whether the differences above were introduced from the precinct splits\n",
    "\n",
    "Note: It appears as though they were"
   ]
  },
  {
   "cell_type": "code",
   "execution_count": 53,
   "id": "23926ab7",
   "metadata": {},
   "outputs": [
    {
     "name": "stdout",
     "output_type": "stream",
     "text": [
      "***Statewide Totals Check***\n",
      "GSL001RCAM is equal \t both dataframes 19371\n",
      "GSL002RTAR is equal \t both dataframes 21983\n",
      "GSL003RHIL is equal \t both dataframes 23054\n",
      "GSL004RCAR is equal \t both dataframes 13377\n",
      "GSL005RBAR is equal \t both dataframes 19421\n",
      "GSL006RRID is equal \t both dataframes 18227\n",
      "GSL007DDAY is equal \t both dataframes 5255\n",
      "GSL007RRAL is equal \t both dataframes 27074\n",
      "GSL008DCOO is equal \t both dataframes 6407\n",
      "GSL008RGUN is equal \t both dataframes 29195\n",
      "GSL009DRAV is equal \t both dataframes 5046\n",
      "GSL009RWAD is equal \t both dataframes 26310\n",
      "GSL010DMIT is equal \t both dataframes 4116\n",
      "GSL010RAND is equal \t both dataframes 21396\n",
      "GSL011DHOL is equal \t both dataframes 4272\n",
      "GSL011RJAS is equal \t both dataframes 22633\n",
      "GSL012DGIL is equal \t both dataframes 4114\n",
      "GSL012RLUM is equal \t both dataframes 17666\n",
      "GSL013RDEM is equal \t both dataframes 17421\n",
      "GSL014RSCO is equal \t both dataframes 24279\n",
      "GSL015RGAM is equal \t both dataframes 22536\n",
      "GSL016DARR is equal \t both dataframes 5074\n",
      "GSL016RKEL is equal \t both dataframes 18106\n",
      "GSL017DDAI is equal \t both dataframes 9410\n",
      "GSL017RMOM is equal \t both dataframes 23833\n",
      "GSL018DRHU is equal \t both dataframes 6002\n",
      "GSL018RSMI is equal \t both dataframes 18168\n",
      "GSL019DFEL is equal \t both dataframes 12132\n",
      "GSL019RGUL is equal \t both dataframes 19414\n",
      "GSL020DLEN is equal \t both dataframes 11416\n",
      "GSL020RBYR is equal \t both dataframes 22262\n",
      "GSL021DHUG is equal \t both dataframes 9681\n",
      "GSL021RTHO is equal \t both dataframes 25787\n",
      "GSL022DRAV is equal \t both dataframes 10962\n",
      "GSL022RCAN is equal \t both dataframes 31898\n",
      "GSL023RBAL is equal \t both dataframes 28118\n",
      "GSL024DBUC is equal \t both dataframes 10136\n",
      "GSL024RGIL is equal \t both dataframes 27912\n",
      "GSL025DOLE is equal \t both dataframes 14689\n",
      "GSL025RJON is equal \t both dataframes 23733\n",
      "GSL026DBOS is equal \t both dataframes 8600\n",
      "GSL026RMCD is equal \t both dataframes 29178\n",
      "GSL027RHAW is equal \t both dataframes 24715\n",
      "GSL028RERW is equal \t both dataframes 22655\n",
      "GSL029DCAL is equal \t both dataframes 6954\n",
      "GSL029RDUB is equal \t both dataframes 12877\n",
      "GSL030DMIL is equal \t both dataframes 8003\n",
      "GSL030RDUN is equal \t both dataframes 18717\n",
      "GSL031DFUL is equal \t both dataframes 6524\n",
      "GSL031RBEN is equal \t both dataframes 26632\n",
      "GSL032DALL is equal \t both dataframes 4180\n",
      "GSL032RPOW is equal \t both dataframes 22259\n",
      "GSL033DHAM is equal \t both dataframes 6979\n",
      "GSL033RLEV is equal \t both dataframes 19768\n",
      "GSL034DSMI is equal \t both dataframes 13199\n",
      "GSL034RREE is equal \t both dataframes 16888\n",
      "GSL035DRIN is equal \t both dataframes 14909\n",
      "GSL035RSET is equal \t both dataframes 15189\n",
      "GSL036DRYN is equal \t both dataframes 13313\n",
      "GSL036REHR is equal \t both dataframes 24536\n",
      "GSL037DWIL is equal \t both dataframes 15946\n",
      "GSL037RWIN is equal \t both dataframes 13603\n",
      "GSL038DWIL is equal \t both dataframes 25015\n",
      "GSL039DTHO is equal \t both dataframes 20613\n",
      "GSL039RHIC is equal \t both dataframes 4411\n",
      "GSL040DALL is equal \t both dataframes 20716\n",
      "GSL040RBOW is equal \t both dataframes 14773\n",
      "GSL041DSMI is equal \t both dataframes 14960\n",
      "GSL041RGEO is equal \t both dataframes 5878\n",
      "GSL042DANU is equal \t both dataframes 17237\n",
      "GSL043DWAK is equal \t both dataframes 15452\n",
      "GSL043RCOO is equal \t both dataframes 15928\n",
      "GSL044DDIC is equal \t both dataframes 15623\n",
      "GSL044RPAR is equal \t both dataframes 16809\n",
      "GSL045DGHA is equal \t both dataframes 16006\n",
      "GSL045RDOL is equal \t both dataframes 19549\n",
      "GSL046DHOL is equal \t both dataframes 13615\n",
      "GSL046RCAR is equal \t both dataframes 21712\n",
      "GSL047DCAR is equal \t both dataframes 13570\n",
      "GSL047RJON is equal \t both dataframes 21039\n",
      "GSL048DROB is equal \t both dataframes 14635\n",
      "GSL048RPRI is equal \t both dataframes 13349\n",
      "GSL049DHAY is equal \t both dataframes 15166\n",
      "GSL049RMAR is equal \t both dataframes 16974\n",
      "GSL050DKAU is equal \t both dataframes 15111\n",
      "GSL050RLIN is equal \t both dataframes 13504\n",
      "GSL051DMCL is equal \t both dataframes 16398\n",
      "GSL051RKAU is equal \t both dataframes 13274\n",
      "GSL052DROB is equal \t both dataframes 17069\n",
      "GSL052RSIL is equal \t both dataframes 16692\n",
      "GSL053DJON is equal \t both dataframes 24615\n",
      "GSL054DHOL is equal \t both dataframes 21420\n",
      "GSL054RRUD is equal \t both dataframes 15521\n",
      "GSL055DMET is equal \t both dataframes 27041\n",
      "GSL056DMAI is equal \t both dataframes 19664\n",
      "GSL057DEVA is equal \t both dataframes 29595\n",
      "GSL058DCAN is equal \t both dataframes 28021\n",
      "GSL059DDRE is equal \t both dataframes 24657\n",
      "GSL060DSCH is equal \t both dataframes 19272\n",
      "GSL061DBRU is equal \t both dataframes 24095\n",
      "GSL062DBOD is equal \t both dataframes 29482\n",
      "GSL063DBAZ is equal \t both dataframes 23191\n",
      "GSL063RCAL is equal \t both dataframes 6247\n",
      "GSL064DJAC is equal \t both dataframes 26962\n",
      "GSL065DTHO is equal \t both dataframes 26797\n",
      "GSL066DALE is equal \t both dataframes 19407\n",
      "GSL066RJON is equal \t both dataframes 9726\n",
      "GSL067DMAY is equal \t both dataframes 10785\n",
      "GSL067RGRA is equal \t both dataframes 17648\n",
      "GSL068RCOL is equal \t both dataframes 24730\n",
      "GSL069DGIL is equal \t both dataframes 5286\n",
      "GSL069RNIX is equal \t both dataframes 20856\n",
      "GSL070RSMI is equal \t both dataframes 24742\n",
      "GSL071DPRO is equal \t both dataframes 9564\n",
      "GSL071RSIN is equal \t both dataframes 25530\n",
      "GSL072DROV is equal \t both dataframes 9874\n",
      "GSL072RBON is equal \t both dataframes 26977\n",
      "GSL073DHAR is equal \t both dataframes 12796\n",
      "GSL073RMAT is equal \t both dataframes 16263\n",
      "GSL074DNEA is equal \t both dataframes 17865\n",
      "GSL075DGLA is equal \t both dataframes 21735\n",
      "GSL076DSCO is equal \t both dataframes 24533\n",
      "GSL077DBUR is equal \t both dataframes 18616\n",
      "GSL078DDOU is equal \t both dataframes 24482\n",
      "GSL079DWIL is equal \t both dataframes 16602\n",
      "GSL079RJOH is equal \t both dataframes 11185\n",
      "GSL080DWIL is equal \t both dataframes 17347\n",
      "GSL080RCOL is equal \t both dataframes 12173\n",
      "GSL081DHOL is equal \t both dataframes 17404\n",
      "GSL082DOLI is equal \t both dataframes 21436\n",
      "GSL083DEVA is equal \t both dataframes 29045\n",
      "GSL084DSHA is equal \t both dataframes 29992\n",
      "GSL085DDRE is equal \t both dataframes 22624\n",
      "GSL086DLOP is equal \t both dataframes 23209\n",
      "GSL087DDAV is equal \t both dataframes 25870\n",
      "GSL088DMIT is equal \t both dataframes 22598\n",
      "GSL089DNGU is equal \t both dataframes 32600\n",
      "GSL090DSTE is equal \t both dataframes 27001\n",
      "GSL091DTAY is equal \t both dataframes 27293\n",
      "GSL092DCAR is equal \t both dataframes 20996\n",
      "GSL093DKEN is equal \t both dataframes 26638\n",
      "GSL093ROWE is equal \t both dataframes 5164\n",
      "GSL094DBEN is equal \t both dataframes 25712\n",
      "GSL095DMOO is equal \t both dataframes 16530\n",
      "GSL095RMCC is equal \t both dataframes 13023\n",
      "GSL096DMAR is equal \t both dataframes 15015\n",
      "GSL097DCAM is equal \t both dataframes 15520\n",
      "GSL097RRIC is equal \t both dataframes 16929\n",
      "GSL098DCHO is equal \t both dataframes 12888\n",
      "GSL098RCLA is equal \t both dataframes 18595\n",
      "GSL099DLIM is equal \t both dataframes 9943\n",
      "GSL100DMCC is equal \t both dataframes 14498\n",
      "GSL101DPAR is equal \t both dataframes 15941\n",
      "GSL101RFIE is equal \t both dataframes 9713\n",
      "GSL102DKEN is equal \t both dataframes 14134\n",
      "GSL102RHON is equal \t both dataframes 13313\n",
      "GSL103DMAR is equal \t both dataframes 11652\n",
      "GSL103RBAR is equal \t both dataframes 24204\n",
      "GSL104DHEM is equal \t both dataframes 16547\n",
      "GSL104REFS is equal \t both dataframes 17326\n",
      "GSL105DMCL is equal \t both dataframes 19869\n",
      "GSL105RDIE is equal \t both dataframes 12043\n",
      "GSL106DMIT is equal \t both dataframes 17611\n",
      "GSL106RHAR is equal \t both dataframes 12384\n",
      "GSL107DHUT is equal \t both dataframes 16730\n",
      "GSL107RMCC is equal \t both dataframes 10514\n",
      "GSL108DCLA is equal \t both dataframes 14602\n",
      "GSL108RCRI is equal \t both dataframes 12034\n",
      "GSL109DLEW is equal \t both dataframes 17009\n",
      "GSL109RRUT is equal \t both dataframes 15825\n",
      "GSL110DCAR is equal \t both dataframes 12459\n",
      "GSL110RCRO is equal \t both dataframes 15729\n",
      "GSL111DHOL is equal \t both dataframes 27997\n",
      "GSL112RBEL is equal \t both dataframes 26093\n",
      "GSL113DHEN is equal \t both dataframes 23743\n",
      "GSL114RKIR is equal \t both dataframes 27331\n",
      "GSL115DREE is equal \t both dataframes 6895\n",
      "GSL115RWIL is equal \t both dataframes 23812\n",
      "GSL116RENG is equal \t both dataframes 24376\n",
      "GSL117DJOH is equal \t both dataframes 12940\n",
      "GSL117RGAI is equal \t both dataframes 16863\n",
      "GSL118DFRY is equal \t both dataframes 18807\n",
      "GSL119DWAL is equal \t both dataframes 13852\n",
      "GSL119RWIE is equal \t both dataframes 16828\n",
      "GSL120RRHO is equal \t both dataframes 25247\n",
      "GSL121RFLE is equal \t both dataframes 26291\n",
      "GSL122DCRU is equal \t both dataframes 11224\n",
      "GSL122RLOT is equal \t both dataframes 26081\n",
      "GSL123RNEW is equal \t both dataframes 23452\n",
      "GSL124DHOW is equal \t both dataframes 16454\n",
      "GSL125DNEL is equal \t both dataframes 17666\n",
      "GSL126DFRA is equal \t both dataframes 22232\n",
      "GSL127DPRI is equal \t both dataframes 18665\n",
      "GSL128DJAC is equal \t both dataframes 18053\n",
      "GSL129DBEL is equal \t both dataframes 7152\n",
      "GSL129IREE is equal \t both dataframes 1130\n",
      "GSL129RHOL is equal \t both dataframes 18966\n",
      "GSL130DHEN is equal \t both dataframes 11398\n",
      "GSL130RKNI is equal \t both dataframes 16023\n",
      "GSL131DBEN is equal \t both dataframes 6816\n",
      "GSL131RCAM is equal \t both dataframes 20246\n",
      "GSL132DTRA is equal \t both dataframes 10792\n",
      "GSL132RJEN is equal \t both dataframes 11458\n",
      "GSL133RSMI is equal \t both dataframes 25094\n",
      "GSL134DSPR is equal \t both dataframes 9831\n",
      "GSL134RSMI is equal \t both dataframes 17591\n",
      "GSL135DSMY is equal \t both dataframes 12407\n",
      "GSL136DHUG is equal \t both dataframes 19509\n",
      "GSL137DBUC is equal \t both dataframes 22039\n",
      "GSL138DARN is equal \t both dataframes 8177\n",
      "GSL138RCHE is equal \t both dataframes 9542\n",
      "GSL139DBEN is equal \t both dataframes 13658\n",
      "GSL140RDIC is equal \t both dataframes 19693\n",
      "GSL141RWAS is equal \t both dataframes 25840\n",
      "GSL142DPAR is equal \t both dataframes 18212\n",
      "GSL143DBEV is equal \t both dataframes 17679\n",
      "GSL144DWHI is equal \t both dataframes 8306\n",
      "GSL144RMAT is equal \t both dataframes 18560\n",
      "GSL145DHOW is equal \t both dataframes 9659\n",
      "GSL145RWIL is equal \t both dataframes 12371\n",
      "GSL146RBLA is equal \t both dataframes 25746\n",
      "GSL147DBAU is equal \t both dataframes 10773\n",
      "GSL147RCLA is equal \t both dataframes 11794\n",
      "GSL148DAWU is equal \t both dataframes 6322\n",
      "GSL148RWIL is equal \t both dataframes 15443\n",
      "GSL149RPRU is equal \t both dataframes 13972\n",
      "GSL150RHAT is equal \t both dataframes 20139\n",
      "GSL151DBAR is equal \t both dataframes 11185\n",
      "GSL151RGRE is equal \t both dataframes 12011\n",
      "GSL152RYEA is equal \t both dataframes 23841\n",
      "GSL153DHOP is equal \t both dataframes 15462\n",
      "GSL154DDUK is equal \t both dataframes 17798\n",
      "GSL155DKIT is equal \t both dataframes 6214\n",
      "GSL155RPIR is equal \t both dataframes 16132\n",
      "GSL156RMOR is equal \t both dataframes 19096\n",
      "GSL157RWER is equal \t both dataframes 16199\n",
      "GSL158DGLE is equal \t both dataframes 6773\n",
      "GSL158RPAR is equal \t both dataframes 15379\n",
      "GSL159RBUR is equal \t both dataframes 21976\n",
      "GSL160RTAN is equal \t both dataframes 19105\n",
      "GSL161RHIT is equal \t both dataframes 27840\n",
      "GSL162DGIL is equal \t both dataframes 17344\n",
      "GSL163DMAL is equal \t both dataframes 18099\n",
      "GSL164DTHO is equal \t both dataframes 12484\n",
      "GSL164RSTE is equal \t both dataframes 13829\n",
      "GSL165DSTE is equal \t both dataframes 19955\n",
      "GSL166DMAC is equal \t both dataframes 11115\n",
      "GSL166RPET is equal \t both dataframes 26058\n",
      "GSL167RDEL is equal \t both dataframes 21135\n",
      "GSL168DWIL is equal \t both dataframes 17006\n",
      "GSL169DMOO is equal \t both dataframes 5074\n",
      "GSL169RLAR is equal \t both dataframes 13759\n",
      "GSL170DOLI is equal \t both dataframes 4979\n",
      "GSL170RHOU is equal \t both dataframes 15626\n",
      "GSL171RCAM is equal \t both dataframes 17096\n",
      "GSL172RWAT is equal \t both dataframes 15556\n",
      "GSL173DGAI is equal \t both dataframes 9766\n",
      "GSL173RTAY is equal \t both dataframes 14267\n",
      "GSL174RCOR is equal \t both dataframes 18484\n",
      "GSL175RLAH is equal \t both dataframes 22745\n",
      "GSL176DPRI is equal \t both dataframes 6185\n",
      "GSL176RBUR is equal \t both dataframes 15241\n",
      "GSL177DSHA is equal \t both dataframes 14598\n",
      "GSL178RMEE is equal \t both dataframes 21993\n",
      "GSL179DJOR is equal \t both dataframes 11672\n",
      "GSL179RHOG is equal \t both dataframes 15441\n",
      "GSL180RSAI is equal \t both dataframes 20286\n"
     ]
    }
   ],
   "source": [
    "helper_functions.statewide_totals_check(official_county_totals, \"Official Totals\", ga_election, \"Pre-Split Totals\", races)"
   ]
  },
  {
   "cell_type": "markdown",
   "id": "94d232e6",
   "metadata": {},
   "source": [
    "## Check Column Totals - County Level"
   ]
  },
  {
   "cell_type": "code",
   "execution_count": 54,
   "id": "74de2c23",
   "metadata": {},
   "outputs": [],
   "source": [
    "official_county_totals[\"CTYNAME\"] = official_county_totals[\"county\"].str.upper()"
   ]
  },
  {
   "cell_type": "code",
   "execution_count": 55,
   "id": "30859603",
   "metadata": {
    "scrolled": true
   },
   "outputs": [
    {
     "name": "stdout",
     "output_type": "stream",
     "text": [
      "***Countywide Totals Check***\n",
      "\n",
      "GSL001RCAM is equal across all counties\n",
      "GSL002RTAR is equal across all counties\n",
      "GSL003RHIL is equal across all counties\n",
      "GSL004RCAR is equal across all counties\n",
      "GSL005RBAR is equal across all counties\n",
      "GSL006RRID is equal across all counties\n",
      "GSL007DDAY is equal across all counties\n",
      "GSL007RRAL is equal across all counties\n",
      "GSL008DCOO is equal across all counties\n",
      "GSL008RGUN is equal across all counties\n",
      "GSL009DRAV is equal across all counties\n",
      "GSL009RWAD is equal across all counties\n",
      "GSL010DMIT is equal across all counties\n",
      "GSL010RAND is equal across all counties\n",
      "GSL011DHOL is equal across all counties\n",
      "GSL011RJAS is equal across all counties\n",
      "GSL012DGIL contains differences in these counties:\n",
      "\tFLOYD has a difference of 47 votes\n",
      "\t\tOfficial Totals: 2357 votes\n",
      "\t\tERJ Totals: 2310 votes\n",
      "GSL012RLUM contains differences in these counties:\n",
      "\tFLOYD has a difference of 134 votes\n",
      "\t\tOfficial Totals: 9681 votes\n",
      "\t\tERJ Totals: 9547 votes\n",
      "GSL013RDEM is equal across all counties\n",
      "GSL014RSCO is equal across all counties\n",
      "GSL015RGAM is equal across all counties\n",
      "GSL016DARR is equal across all counties\n",
      "GSL016RKEL is equal across all counties\n",
      "GSL017DDAI is equal across all counties\n",
      "GSL017RMOM is equal across all counties\n",
      "GSL018DRHU contains differences in these counties:\n",
      "\tHARALSON has a difference of 12 votes\n",
      "\t\tOfficial Totals: 1418 votes\n",
      "\t\tERJ Totals: 1406 votes\n",
      "GSL018RSMI contains differences in these counties:\n",
      "\tHARALSON has a difference of 236 votes\n",
      "\t\tOfficial Totals: 10138 votes\n",
      "\t\tERJ Totals: 9902 votes\n",
      "GSL019DFEL is equal across all counties\n",
      "GSL019RGUL is equal across all counties\n",
      "GSL020DLEN is equal across all counties\n",
      "GSL020RBYR is equal across all counties\n",
      "GSL021DHUG is equal across all counties\n",
      "GSL021RTHO is equal across all counties\n",
      "GSL022DRAV is equal across all counties\n",
      "GSL022RCAN is equal across all counties\n",
      "GSL023RBAL is equal across all counties\n",
      "GSL024DBUC is equal across all counties\n",
      "GSL024RGIL is equal across all counties\n",
      "GSL025DOLE is equal across all counties\n",
      "GSL025RJON is equal across all counties\n",
      "GSL026DBOS is equal across all counties\n",
      "GSL026RMCD is equal across all counties\n",
      "GSL027RHAW is equal across all counties\n",
      "GSL028RERW is equal across all counties\n",
      "GSL029DCAL is equal across all counties\n",
      "GSL029RDUB contains differences in these counties:\n",
      "\tHALL has a difference of 1 votes\n",
      "\t\tOfficial Totals: 12877 votes\n",
      "\t\tERJ Totals: 12876 votes\n",
      "GSL030DMIL contains differences in these counties:\n",
      "\tHALL has a difference of 1 votes\n",
      "\t\tOfficial Totals: 8003 votes\n",
      "\t\tERJ Totals: 8002 votes\n",
      "GSL030RDUN contains differences in these counties:\n",
      "\tHALL has a difference of 1 votes\n",
      "\t\tOfficial Totals: 18717 votes\n",
      "\t\tERJ Totals: 18716 votes\n",
      "GSL031DFUL is equal across all counties\n",
      "GSL031RBEN is equal across all counties\n",
      "GSL032DALL is equal across all counties\n",
      "GSL032RPOW is equal across all counties\n",
      "GSL033DHAM is equal across all counties\n",
      "GSL033RLEV is equal across all counties\n",
      "GSL034DSMI is equal across all counties\n",
      "GSL034RREE is equal across all counties\n",
      "GSL035DRIN is equal across all counties\n",
      "GSL035RSET is equal across all counties\n",
      "GSL036DRYN is equal across all counties\n",
      "GSL036REHR is equal across all counties\n",
      "GSL037DWIL is equal across all counties\n",
      "GSL037RWIN is equal across all counties\n",
      "GSL038DWIL is equal across all counties\n",
      "GSL039DTHO is equal across all counties\n",
      "GSL039RHIC is equal across all counties\n",
      "GSL040DALL is equal across all counties\n",
      "GSL040RBOW is equal across all counties\n",
      "GSL041DSMI is equal across all counties\n",
      "GSL041RGEO is equal across all counties\n",
      "GSL042DANU is equal across all counties\n",
      "GSL043DWAK is equal across all counties\n",
      "GSL043RCOO is equal across all counties\n",
      "GSL044DDIC is equal across all counties\n",
      "GSL044RPAR is equal across all counties\n",
      "GSL045DGHA is equal across all counties\n",
      "GSL045RDOL is equal across all counties\n",
      "GSL046DHOL is equal across all counties\n",
      "GSL046RCAR is equal across all counties\n",
      "GSL047DCAR is equal across all counties\n",
      "GSL047RJON is equal across all counties\n",
      "GSL048DROB is equal across all counties\n",
      "GSL048RPRI is equal across all counties\n",
      "GSL049DHAY is equal across all counties\n",
      "GSL049RMAR is equal across all counties\n",
      "GSL050DKAU is equal across all counties\n",
      "GSL050RLIN is equal across all counties\n",
      "GSL051DMCL is equal across all counties\n",
      "GSL051RKAU is equal across all counties\n",
      "GSL052DROB is equal across all counties\n",
      "GSL052RSIL is equal across all counties\n",
      "GSL053DJON is equal across all counties\n",
      "GSL054DHOL is equal across all counties\n",
      "GSL054RRUD is equal across all counties\n",
      "GSL055DMET is equal across all counties\n",
      "GSL056DMAI is equal across all counties\n",
      "GSL057DEVA is equal across all counties\n",
      "GSL058DCAN is equal across all counties\n",
      "GSL059DDRE is equal across all counties\n",
      "GSL060DSCH contains differences in these counties:\n",
      "\tFULTON has a difference of 13 votes\n",
      "\t\tOfficial Totals: 14351 votes\n",
      "\t\tERJ Totals: 14338 votes\n",
      "GSL061DBRU is equal across all counties\n",
      "GSL062DBOD contains differences in these counties:\n",
      "\tFULTON has a difference of 7 votes\n",
      "\t\tOfficial Totals: 21002 votes\n",
      "\t\tERJ Totals: 20995 votes\n",
      "GSL063DBAZ is equal across all counties\n",
      "GSL063RCAL is equal across all counties\n",
      "GSL064DJAC is equal across all counties\n",
      "GSL065DTHO is equal across all counties\n",
      "GSL066DALE is equal across all counties\n",
      "GSL066RJON is equal across all counties\n",
      "GSL067DMAY is equal across all counties\n",
      "GSL067RGRA is equal across all counties\n",
      "GSL068RCOL is equal across all counties\n",
      "GSL069DGIL contains differences in these counties:\n",
      "\tTROUP has a difference of 6 votes\n",
      "\t\tOfficial Totals: 1497 votes\n",
      "\t\tERJ Totals: 1491 votes\n",
      "GSL069RNIX contains differences in these counties:\n",
      "\tTROUP has a difference of 19 votes\n",
      "\t\tOfficial Totals: 5269 votes\n",
      "\t\tERJ Totals: 5250 votes\n",
      "GSL070RSMI is equal across all counties\n",
      "GSL071DPRO is equal across all counties\n",
      "GSL071RSIN is equal across all counties\n",
      "GSL072DROV is equal across all counties\n",
      "GSL072RBON is equal across all counties\n",
      "GSL073DHAR is equal across all counties\n",
      "GSL073RMAT is equal across all counties\n",
      "GSL074DNEA is equal across all counties\n",
      "GSL075DGLA is equal across all counties\n",
      "GSL076DSCO is equal across all counties\n",
      "GSL077DBUR is equal across all counties\n",
      "GSL078DDOU is equal across all counties\n",
      "GSL079DWIL is equal across all counties\n",
      "GSL079RJOH is equal across all counties\n",
      "GSL080DWIL is equal across all counties\n",
      "GSL080RCOL is equal across all counties\n",
      "GSL081DHOL is equal across all counties\n",
      "GSL082DOLI is equal across all counties\n",
      "GSL083DEVA is equal across all counties\n",
      "GSL084DSHA is equal across all counties\n",
      "GSL085DDRE is equal across all counties\n",
      "GSL086DLOP is equal across all counties\n",
      "GSL087DDAV is equal across all counties\n",
      "GSL088DMIT is equal across all counties\n",
      "GSL089DNGU is equal across all counties\n",
      "GSL090DSTE is equal across all counties\n",
      "GSL091DTAY is equal across all counties\n",
      "GSL092DCAR is equal across all counties\n",
      "GSL093DKEN is equal across all counties\n",
      "GSL093ROWE is equal across all counties\n",
      "GSL094DBEN is equal across all counties\n",
      "GSL095DMOO is equal across all counties\n",
      "GSL095RMCC is equal across all counties\n",
      "GSL096DMAR is equal across all counties\n",
      "GSL097DCAM is equal across all counties\n",
      "GSL097RRIC is equal across all counties\n",
      "GSL098DCHO is equal across all counties\n",
      "GSL098RCLA is equal across all counties\n",
      "GSL099DLIM is equal across all counties\n",
      "GSL100DMCC is equal across all counties\n",
      "GSL101DPAR is equal across all counties\n",
      "GSL101RFIE is equal across all counties\n",
      "GSL102DKEN is equal across all counties\n",
      "GSL102RHON is equal across all counties\n",
      "GSL103DMAR is equal across all counties\n",
      "GSL103RBAR is equal across all counties\n",
      "GSL104DHEM is equal across all counties\n",
      "GSL104REFS is equal across all counties\n",
      "GSL105DMCL is equal across all counties\n",
      "GSL105RDIE is equal across all counties\n",
      "GSL106DMIT is equal across all counties\n",
      "GSL106RHAR is equal across all counties\n",
      "GSL107DHUT is equal across all counties\n",
      "GSL107RMCC is equal across all counties\n",
      "GSL108DCLA is equal across all counties\n",
      "GSL108RCRI is equal across all counties\n",
      "GSL109DLEW is equal across all counties\n",
      "GSL109RRUT is equal across all counties\n",
      "GSL110DCAR is equal across all counties\n",
      "GSL110RCRO is equal across all counties\n",
      "GSL111DHOL is equal across all counties\n",
      "GSL112RBEL is equal across all counties\n",
      "GSL113DHEN is equal across all counties\n",
      "GSL114RKIR is equal across all counties\n",
      "GSL115DREE is equal across all counties\n",
      "GSL115RWIL is equal across all counties\n",
      "GSL116RENG is equal across all counties\n",
      "GSL117DJOH is equal across all counties\n",
      "GSL117RGAI is equal across all counties\n",
      "GSL118DFRY is equal across all counties\n",
      "GSL119DWAL is equal across all counties\n",
      "GSL119RWIE is equal across all counties\n",
      "GSL120RRHO is equal across all counties\n"
     ]
    },
    {
     "name": "stdout",
     "output_type": "stream",
     "text": [
      "GSL121RFLE is equal across all counties\n",
      "GSL122DCRU is equal across all counties\n",
      "GSL122RLOT is equal across all counties\n",
      "GSL123RNEW is equal across all counties\n",
      "GSL124DHOW is equal across all counties\n",
      "GSL125DNEL is equal across all counties\n",
      "GSL126DFRA is equal across all counties\n",
      "GSL127DPRI is equal across all counties\n",
      "GSL128DJAC is equal across all counties\n",
      "GSL129DBEL is equal across all counties\n",
      "GSL129IREE is equal across all counties\n",
      "GSL129RHOL is equal across all counties\n",
      "GSL130DHEN is equal across all counties\n",
      "GSL130RKNI is equal across all counties\n",
      "GSL131DBEN is equal across all counties\n",
      "GSL131RCAM is equal across all counties\n",
      "GSL132DTRA contains differences in these counties:\n",
      "\tTROUP has a difference of 6 votes\n",
      "\t\tOfficial Totals: 6379 votes\n",
      "\t\tERJ Totals: 6373 votes\n",
      "GSL132RJEN contains differences in these counties:\n",
      "\tTROUP has a difference of 28 votes\n",
      "\t\tOfficial Totals: 5212 votes\n",
      "\t\tERJ Totals: 5184 votes\n",
      "GSL133RSMI contains differences in these counties:\n",
      "\tTROUP has a difference of 5 votes\n",
      "\t\tOfficial Totals: 9198 votes\n",
      "\t\tERJ Totals: 9193 votes\n",
      "GSL134DSPR is equal across all counties\n",
      "GSL134RSMI is equal across all counties\n",
      "GSL135DSMY is equal across all counties\n",
      "GSL136DHUG is equal across all counties\n",
      "GSL137DBUC is equal across all counties\n",
      "GSL138DARN is equal across all counties\n",
      "GSL138RCHE is equal across all counties\n",
      "GSL139DBEN is equal across all counties\n",
      "GSL140RDIC is equal across all counties\n",
      "GSL141RWAS is equal across all counties\n",
      "GSL142DPAR is equal across all counties\n",
      "GSL143DBEV is equal across all counties\n",
      "GSL144DWHI is equal across all counties\n",
      "GSL144RMAT is equal across all counties\n",
      "GSL145DHOW is equal across all counties\n",
      "GSL145RWIL is equal across all counties\n",
      "GSL146RBLA is equal across all counties\n",
      "GSL147DBAU is equal across all counties\n",
      "GSL147RCLA is equal across all counties\n",
      "GSL148DAWU is equal across all counties\n",
      "GSL148RWIL is equal across all counties\n",
      "GSL149RPRU is equal across all counties\n",
      "GSL150RHAT is equal across all counties\n",
      "GSL151DBAR is equal across all counties\n",
      "GSL151RGRE is equal across all counties\n",
      "GSL152RYEA is equal across all counties\n",
      "GSL153DHOP is equal across all counties\n",
      "GSL154DDUK is equal across all counties\n",
      "GSL155DKIT contains differences in these counties:\n",
      "\tTIFT has a difference of 3 votes\n",
      "\t\tOfficial Totals: 1158 votes\n",
      "\t\tERJ Totals: 1155 votes\n",
      "GSL155RPIR contains differences in these counties:\n",
      "\tTIFT has a difference of 31 votes\n",
      "\t\tOfficial Totals: 4719 votes\n",
      "\t\tERJ Totals: 4688 votes\n",
      "GSL156RMOR is equal across all counties\n",
      "GSL157RWER is equal across all counties\n",
      "GSL158DGLE is equal across all counties\n",
      "GSL158RPAR is equal across all counties\n",
      "GSL159RBUR is equal across all counties\n",
      "GSL160RTAN contains differences in these counties:\n",
      "\tBULLOCH has a difference of 1 votes\n",
      "\t\tOfficial Totals: 14782 votes\n",
      "\t\tERJ Totals: 14781 votes\n",
      "GSL161RHIT is equal across all counties\n",
      "GSL162DGIL is equal across all counties\n",
      "GSL163DMAL is equal across all counties\n",
      "GSL164DTHO is equal across all counties\n",
      "GSL164RSTE is equal across all counties\n",
      "GSL165DSTE is equal across all counties\n",
      "GSL166DMAC is equal across all counties\n",
      "GSL166RPET is equal across all counties\n",
      "GSL167RDEL is equal across all counties\n",
      "GSL168DWIL is equal across all counties\n",
      "GSL169DMOO contains differences in these counties:\n",
      "\tJEFF DAVIS has a difference of 3 votes\n",
      "\t\tOfficial Totals: 334 votes\n",
      "\t\tERJ Totals: 331 votes\n",
      "GSL169RLAR contains differences in these counties:\n",
      "\tJEFF DAVIS has a difference of 51 votes\n",
      "\t\tOfficial Totals: 1747 votes\n",
      "\t\tERJ Totals: 1696 votes\n",
      "GSL170DOLI contains differences in these counties:\n",
      "\tTIFT has a difference of 19 votes\n",
      "\t\tOfficial Totals: 2169 votes\n",
      "\t\tERJ Totals: 2150 votes\n",
      "GSL170RHOU contains differences in these counties:\n",
      "\tTIFT has a difference of 70 votes\n",
      "\t\tOfficial Totals: 3937 votes\n",
      "\t\tERJ Totals: 3867 votes\n",
      "GSL171RCAM is equal across all counties\n",
      "GSL172RWAT is equal across all counties\n",
      "GSL173DGAI is equal across all counties\n",
      "GSL173RTAY is equal across all counties\n",
      "GSL174RCOR is equal across all counties\n",
      "GSL175RLAH is equal across all counties\n",
      "GSL176DPRI contains differences in these counties:\n",
      "\tWARE has a difference of 17 votes\n",
      "\t\tOfficial Totals: 1814 votes\n",
      "\t\tERJ Totals: 1797 votes\n",
      "GSL176RBUR contains differences in these counties:\n",
      "\tWARE has a difference of 10 votes\n",
      "\t\tOfficial Totals: 5131 votes\n",
      "\t\tERJ Totals: 5121 votes\n",
      "GSL177DSHA is equal across all counties\n",
      "GSL178RMEE is equal across all counties\n",
      "GSL179DJOR is equal across all counties\n",
      "GSL179RHOG is equal across all counties\n",
      "GSL180RSAI contains differences in these counties:\n",
      "\tWARE has a difference of 6 votes\n",
      "\t\tOfficial Totals: 3923 votes\n",
      "\t\tERJ Totals: 3917 votes\n",
      "\n",
      "['FLOYD', 'HARALSON', 'HALL', 'FULTON', 'TROUP', 'TIFT', 'BULLOCH', 'JEFF DAVIS', 'WARE']\n"
     ]
    }
   ],
   "source": [
    "helper_functions.county_totals_check(official_county_totals, \"Official Totals\", join_attempt_1, \"ERJ Totals\", races, \"CTYNAME\")"
   ]
  },
  {
   "cell_type": "code",
   "execution_count": 56,
   "id": "bc74fa75",
   "metadata": {},
   "outputs": [
    {
     "name": "stdout",
     "output_type": "stream",
     "text": [
      "***Countywide Totals Check***\n",
      "\n",
      "GSL001RCAM is equal across all counties\n",
      "GSL002RTAR is equal across all counties\n",
      "GSL003RHIL is equal across all counties\n",
      "GSL004RCAR is equal across all counties\n",
      "GSL005RBAR is equal across all counties\n",
      "GSL006RRID is equal across all counties\n",
      "GSL007DDAY is equal across all counties\n",
      "GSL007RRAL is equal across all counties\n",
      "GSL008DCOO is equal across all counties\n",
      "GSL008RGUN is equal across all counties\n",
      "GSL009DRAV is equal across all counties\n",
      "GSL009RWAD is equal across all counties\n",
      "GSL010DMIT is equal across all counties\n",
      "GSL010RAND is equal across all counties\n",
      "GSL011DHOL is equal across all counties\n",
      "GSL011RJAS is equal across all counties\n",
      "GSL012DGIL is equal across all counties\n",
      "GSL012RLUM is equal across all counties\n",
      "GSL013RDEM is equal across all counties\n",
      "GSL014RSCO is equal across all counties\n",
      "GSL015RGAM is equal across all counties\n",
      "GSL016DARR is equal across all counties\n",
      "GSL016RKEL is equal across all counties\n",
      "GSL017DDAI is equal across all counties\n",
      "GSL017RMOM is equal across all counties\n",
      "GSL018DRHU is equal across all counties\n",
      "GSL018RSMI is equal across all counties\n",
      "GSL019DFEL is equal across all counties\n",
      "GSL019RGUL is equal across all counties\n",
      "GSL020DLEN is equal across all counties\n",
      "GSL020RBYR is equal across all counties\n",
      "GSL021DHUG is equal across all counties\n",
      "GSL021RTHO is equal across all counties\n",
      "GSL022DRAV is equal across all counties\n",
      "GSL022RCAN is equal across all counties\n",
      "GSL023RBAL is equal across all counties\n",
      "GSL024DBUC is equal across all counties\n",
      "GSL024RGIL is equal across all counties\n",
      "GSL025DOLE is equal across all counties\n",
      "GSL025RJON is equal across all counties\n",
      "GSL026DBOS is equal across all counties\n",
      "GSL026RMCD is equal across all counties\n",
      "GSL027RHAW is equal across all counties\n",
      "GSL028RERW is equal across all counties\n",
      "GSL029DCAL is equal across all counties\n",
      "GSL029RDUB is equal across all counties\n",
      "GSL030DMIL is equal across all counties\n",
      "GSL030RDUN is equal across all counties\n",
      "GSL031DFUL is equal across all counties\n",
      "GSL031RBEN is equal across all counties\n",
      "GSL032DALL is equal across all counties\n",
      "GSL032RPOW is equal across all counties\n",
      "GSL033DHAM is equal across all counties\n",
      "GSL033RLEV is equal across all counties\n",
      "GSL034DSMI is equal across all counties\n",
      "GSL034RREE is equal across all counties\n",
      "GSL035DRIN is equal across all counties\n",
      "GSL035RSET is equal across all counties\n",
      "GSL036DRYN is equal across all counties\n",
      "GSL036REHR is equal across all counties\n",
      "GSL037DWIL is equal across all counties\n",
      "GSL037RWIN is equal across all counties\n",
      "GSL038DWIL is equal across all counties\n",
      "GSL039DTHO is equal across all counties\n",
      "GSL039RHIC is equal across all counties\n",
      "GSL040DALL is equal across all counties\n",
      "GSL040RBOW is equal across all counties\n",
      "GSL041DSMI is equal across all counties\n",
      "GSL041RGEO is equal across all counties\n",
      "GSL042DANU is equal across all counties\n",
      "GSL043DWAK is equal across all counties\n",
      "GSL043RCOO is equal across all counties\n",
      "GSL044DDIC is equal across all counties\n",
      "GSL044RPAR is equal across all counties\n",
      "GSL045DGHA is equal across all counties\n",
      "GSL045RDOL is equal across all counties\n",
      "GSL046DHOL is equal across all counties\n",
      "GSL046RCAR is equal across all counties\n",
      "GSL047DCAR is equal across all counties\n",
      "GSL047RJON is equal across all counties\n",
      "GSL048DROB is equal across all counties\n",
      "GSL048RPRI is equal across all counties\n",
      "GSL049DHAY is equal across all counties\n",
      "GSL049RMAR is equal across all counties\n",
      "GSL050DKAU is equal across all counties\n",
      "GSL050RLIN is equal across all counties\n",
      "GSL051DMCL is equal across all counties\n",
      "GSL051RKAU is equal across all counties\n",
      "GSL052DROB is equal across all counties\n",
      "GSL052RSIL is equal across all counties\n",
      "GSL053DJON is equal across all counties\n",
      "GSL054DHOL is equal across all counties\n",
      "GSL054RRUD is equal across all counties\n",
      "GSL055DMET is equal across all counties\n",
      "GSL056DMAI is equal across all counties\n",
      "GSL057DEVA is equal across all counties\n",
      "GSL058DCAN is equal across all counties\n",
      "GSL059DDRE is equal across all counties\n",
      "GSL060DSCH is equal across all counties\n",
      "GSL061DBRU is equal across all counties\n",
      "GSL062DBOD is equal across all counties\n",
      "GSL063DBAZ is equal across all counties\n",
      "GSL063RCAL is equal across all counties\n",
      "GSL064DJAC is equal across all counties\n",
      "GSL065DTHO is equal across all counties\n",
      "GSL066DALE is equal across all counties\n",
      "GSL066RJON is equal across all counties\n",
      "GSL067DMAY is equal across all counties\n",
      "GSL067RGRA is equal across all counties\n",
      "GSL068RCOL is equal across all counties\n",
      "GSL069DGIL is equal across all counties\n",
      "GSL069RNIX is equal across all counties\n",
      "GSL070RSMI is equal across all counties\n",
      "GSL071DPRO is equal across all counties\n",
      "GSL071RSIN is equal across all counties\n",
      "GSL072DROV is equal across all counties\n",
      "GSL072RBON is equal across all counties\n",
      "GSL073DHAR is equal across all counties\n",
      "GSL073RMAT is equal across all counties\n",
      "GSL074DNEA is equal across all counties\n",
      "GSL075DGLA is equal across all counties\n",
      "GSL076DSCO is equal across all counties\n",
      "GSL077DBUR is equal across all counties\n",
      "GSL078DDOU is equal across all counties\n",
      "GSL079DWIL is equal across all counties\n",
      "GSL079RJOH is equal across all counties\n",
      "GSL080DWIL is equal across all counties\n",
      "GSL080RCOL is equal across all counties\n",
      "GSL081DHOL is equal across all counties\n",
      "GSL082DOLI is equal across all counties\n",
      "GSL083DEVA is equal across all counties\n",
      "GSL084DSHA is equal across all counties\n",
      "GSL085DDRE is equal across all counties\n",
      "GSL086DLOP is equal across all counties\n",
      "GSL087DDAV is equal across all counties\n",
      "GSL088DMIT is equal across all counties\n",
      "GSL089DNGU is equal across all counties\n",
      "GSL090DSTE is equal across all counties\n",
      "GSL091DTAY is equal across all counties\n",
      "GSL092DCAR is equal across all counties\n",
      "GSL093DKEN is equal across all counties\n",
      "GSL093ROWE is equal across all counties\n",
      "GSL094DBEN is equal across all counties\n",
      "GSL095DMOO is equal across all counties\n",
      "GSL095RMCC is equal across all counties\n",
      "GSL096DMAR is equal across all counties\n",
      "GSL097DCAM is equal across all counties\n",
      "GSL097RRIC is equal across all counties\n",
      "GSL098DCHO is equal across all counties\n",
      "GSL098RCLA is equal across all counties\n",
      "GSL099DLIM is equal across all counties\n",
      "GSL100DMCC is equal across all counties\n",
      "GSL101DPAR is equal across all counties\n",
      "GSL101RFIE is equal across all counties\n",
      "GSL102DKEN is equal across all counties\n",
      "GSL102RHON is equal across all counties\n",
      "GSL103DMAR is equal across all counties\n",
      "GSL103RBAR is equal across all counties\n",
      "GSL104DHEM is equal across all counties\n",
      "GSL104REFS is equal across all counties\n",
      "GSL105DMCL is equal across all counties\n",
      "GSL105RDIE is equal across all counties\n",
      "GSL106DMIT is equal across all counties\n",
      "GSL106RHAR is equal across all counties\n",
      "GSL107DHUT is equal across all counties\n",
      "GSL107RMCC is equal across all counties\n",
      "GSL108DCLA is equal across all counties\n",
      "GSL108RCRI is equal across all counties\n",
      "GSL109DLEW is equal across all counties\n",
      "GSL109RRUT is equal across all counties\n",
      "GSL110DCAR is equal across all counties\n",
      "GSL110RCRO is equal across all counties\n",
      "GSL111DHOL is equal across all counties\n",
      "GSL112RBEL is equal across all counties\n",
      "GSL113DHEN is equal across all counties\n",
      "GSL114RKIR is equal across all counties\n",
      "GSL115DREE is equal across all counties\n",
      "GSL115RWIL is equal across all counties\n",
      "GSL116RENG is equal across all counties\n",
      "GSL117DJOH is equal across all counties\n",
      "GSL117RGAI is equal across all counties\n",
      "GSL118DFRY is equal across all counties\n",
      "GSL119DWAL is equal across all counties\n",
      "GSL119RWIE is equal across all counties\n",
      "GSL120RRHO is equal across all counties\n",
      "GSL121RFLE is equal across all counties\n",
      "GSL122DCRU is equal across all counties\n",
      "GSL122RLOT is equal across all counties\n",
      "GSL123RNEW is equal across all counties\n",
      "GSL124DHOW is equal across all counties\n",
      "GSL125DNEL is equal across all counties\n",
      "GSL126DFRA is equal across all counties\n",
      "GSL127DPRI is equal across all counties\n",
      "GSL128DJAC is equal across all counties\n",
      "GSL129DBEL is equal across all counties\n",
      "GSL129IREE is equal across all counties\n",
      "GSL129RHOL is equal across all counties\n",
      "GSL130DHEN is equal across all counties\n",
      "GSL130RKNI is equal across all counties\n",
      "GSL131DBEN is equal across all counties\n",
      "GSL131RCAM is equal across all counties\n",
      "GSL132DTRA is equal across all counties\n",
      "GSL132RJEN is equal across all counties\n",
      "GSL133RSMI is equal across all counties\n",
      "GSL134DSPR is equal across all counties\n",
      "GSL134RSMI is equal across all counties\n",
      "GSL135DSMY is equal across all counties\n",
      "GSL136DHUG is equal across all counties\n",
      "GSL137DBUC is equal across all counties\n",
      "GSL138DARN is equal across all counties\n"
     ]
    },
    {
     "name": "stdout",
     "output_type": "stream",
     "text": [
      "GSL138RCHE is equal across all counties\n",
      "GSL139DBEN is equal across all counties\n",
      "GSL140RDIC is equal across all counties\n",
      "GSL141RWAS is equal across all counties\n",
      "GSL142DPAR is equal across all counties\n",
      "GSL143DBEV is equal across all counties\n",
      "GSL144DWHI is equal across all counties\n",
      "GSL144RMAT is equal across all counties\n",
      "GSL145DHOW is equal across all counties\n",
      "GSL145RWIL is equal across all counties\n",
      "GSL146RBLA is equal across all counties\n",
      "GSL147DBAU is equal across all counties\n",
      "GSL147RCLA is equal across all counties\n",
      "GSL148DAWU is equal across all counties\n",
      "GSL148RWIL is equal across all counties\n",
      "GSL149RPRU is equal across all counties\n",
      "GSL150RHAT is equal across all counties\n",
      "GSL151DBAR is equal across all counties\n",
      "GSL151RGRE is equal across all counties\n",
      "GSL152RYEA is equal across all counties\n",
      "GSL153DHOP is equal across all counties\n",
      "GSL154DDUK is equal across all counties\n",
      "GSL155DKIT is equal across all counties\n",
      "GSL155RPIR is equal across all counties\n",
      "GSL156RMOR is equal across all counties\n",
      "GSL157RWER is equal across all counties\n",
      "GSL158DGLE is equal across all counties\n",
      "GSL158RPAR is equal across all counties\n",
      "GSL159RBUR is equal across all counties\n",
      "GSL160RTAN is equal across all counties\n",
      "GSL161RHIT is equal across all counties\n",
      "GSL162DGIL is equal across all counties\n",
      "GSL163DMAL is equal across all counties\n",
      "GSL164DTHO is equal across all counties\n",
      "GSL164RSTE is equal across all counties\n",
      "GSL165DSTE is equal across all counties\n",
      "GSL166DMAC is equal across all counties\n",
      "GSL166RPET is equal across all counties\n",
      "GSL167RDEL is equal across all counties\n",
      "GSL168DWIL is equal across all counties\n",
      "GSL169DMOO is equal across all counties\n",
      "GSL169RLAR is equal across all counties\n",
      "GSL170DOLI is equal across all counties\n",
      "GSL170RHOU is equal across all counties\n",
      "GSL171RCAM is equal across all counties\n",
      "GSL172RWAT is equal across all counties\n",
      "GSL173DGAI is equal across all counties\n",
      "GSL173RTAY is equal across all counties\n",
      "GSL174RCOR is equal across all counties\n",
      "GSL175RLAH is equal across all counties\n",
      "GSL176DPRI is equal across all counties\n",
      "GSL176RBUR is equal across all counties\n",
      "GSL177DSHA is equal across all counties\n",
      "GSL178RMEE is equal across all counties\n",
      "GSL179DJOR is equal across all counties\n",
      "GSL179RHOG is equal across all counties\n",
      "GSL180RSAI is equal across all counties\n"
     ]
    }
   ],
   "source": [
    "helper_functions.county_totals_check(official_county_totals, \"Official Totals\", ga_election, \"Pre-Split Totals\", races, \"CTYNAME\")"
   ]
  },
  {
   "cell_type": "markdown",
   "id": "8b2283eb",
   "metadata": {},
   "source": [
    "## Prepare to Export"
   ]
  },
  {
   "cell_type": "code",
   "execution_count": 57,
   "id": "46acef18",
   "metadata": {},
   "outputs": [
    {
     "data": {
      "text/plain": [
       "Index(['UNIQUE_ID', 'COUNTYFP', 'DISTRICT', 'CTYSOSID', 'PRECINCT_I',\n",
       "       'PRECINCT_N', 'CTYNAME', 'CTYNUMBER', 'CTYNUMBER2', 'FIPS2',\n",
       "       ...\n",
       "       'GSL174RCOR', 'GSL175RLAH', 'GSL176DPRI', 'GSL176RBUR', 'GSL177DSHA',\n",
       "       'GSL178RMEE', 'GSL179DJOR', 'GSL179RHOG', 'GSL180RSAI', 'geometry'],\n",
       "      dtype='object', length=279)"
      ]
     },
     "execution_count": 57,
     "metadata": {},
     "output_type": "execute_result"
    }
   ],
   "source": [
    "join_attempt_1.columns"
   ]
  },
  {
   "cell_type": "code",
   "execution_count": 58,
   "id": "0b80315b",
   "metadata": {
    "scrolled": true
   },
   "outputs": [
    {
     "name": "stderr",
     "output_type": "stream",
     "text": [
      "/Users/peterhorton/opt/anaconda3/envs/geo_env/lib/python3.9/site-packages/geopandas/io/file.py:362: FutureWarning: pandas.Int64Index is deprecated and will be removed from pandas in a future version. Use pandas.Index with the appropriate dtype instead.\n",
      "  pd.Int64Index,\n"
     ]
    }
   ],
   "source": [
    "join_attempt_1.to_file(\"./ga_gen_20_prec/ga_gen_20_sldl_prec.shp\")"
   ]
  }
 ],
 "metadata": {
  "kernelspec": {
   "display_name": "Python 3 (ipykernel)",
   "language": "python",
   "name": "python3"
  },
  "language_info": {
   "codemirror_mode": {
    "name": "ipython",
    "version": 3
   },
   "file_extension": ".py",
   "mimetype": "text/x-python",
   "name": "python",
   "nbconvert_exporter": "python",
   "pygments_lexer": "ipython3",
   "version": "3.9.12"
  }
 },
 "nbformat": 4,
 "nbformat_minor": 5
}
