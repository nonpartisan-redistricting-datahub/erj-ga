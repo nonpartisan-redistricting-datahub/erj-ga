{
 "cells": [
  {
   "cell_type": "code",
   "execution_count": 43,
   "id": "9be4f4bd",
   "metadata": {},
   "outputs": [],
   "source": [
    "import pandas as pd # standard python data library\n",
    "import geopandas as gp # the geo-version of pandas\n",
    "import numpy as np \n",
    "import os\n",
    "import fiona\n",
    "from pandas import read_csv\n",
    "import string\n",
    "import xml.etree.ElementTree as et\n",
    "import re\n",
    "from collections import Counter\n",
    "import helper_functions \n",
    "import collections"
   ]
  },
  {
   "cell_type": "markdown",
   "id": "21fe69c2",
   "metadata": {},
   "source": [
    "# Georgia 2020 U.S. House Election Results"
   ]
  },
  {
   "cell_type": "markdown",
   "id": "64a80258",
   "metadata": {},
   "source": [
    "## Election Results Documentation:"
   ]
  },
  {
   "cell_type": "markdown",
   "id": "802f756b",
   "metadata": {},
   "source": [
    "Election results from the Georgia Secretary of State Elections Division (https://sos.ga.gov/index.php/Elections/current_and_past_elections_results). Presidential recount results from the Georgia Secretary of State Elections Division via Reuters."
   ]
  },
  {
   "cell_type": "markdown",
   "id": "32a07592",
   "metadata": {},
   "source": [
    "## Shapefile Source Documentation:"
   ]
  },
  {
   "cell_type": "markdown",
   "id": "0c5964c1",
   "metadata": {},
   "source": [
    "Precinct shapefile primarily from the Georgia General Assembly Reapportionment Office (http://www.legis.ga.gov/Joint/reapportionment/en-US/default.aspx).  \n",
    "Cobb, DeKalb, and Gwinnett counties instead use shapefiles from the U.S. Census Bureau's 2020 Redistricting Data Program.  \n",
    "Forsyth and Fulton use shapefiles sourced from the respective counties."
   ]
  },
  {
   "cell_type": "markdown",
   "id": "4f616888",
   "metadata": {},
   "source": [
    "## Shapefile Modifications Documentation:"
   ]
  },
  {
   "cell_type": "markdown",
   "id": "87e4384e",
   "metadata": {},
   "source": [
    "Three of the four VTDs in Chattahoochee County are comprised of Fort Benning. However, the county only reports one polling location for all voters, including residents of Fort Benning that vote within the county. The four Chattahoochee County VTDs have therefore been merged in the shapefile.\n",
    "\n",
    "The following additional modifications reflect changes made prior to the 2020 general election.\n",
    "\n",
    "Barrow: Merge 2/15, 3/12, 4/14, 5/7, 6/10/13, 8/9, 11/16; Adjust new 2/13 boundary  \n",
    "Bartow: Split Cassville/Hamilton Crossing  \n",
    "Candler: Merge Candler/Metter as Jack Strickland Comm Center  \n",
    "Chatham: Split 7-7/8-16, 7-12/7-16; Realign 7-06C/7-07C  \n",
    "Chatooga: Split Cloudland/Teloga along ridgeline that marks boundary between them with the USGS Topographic Contour shapefile  \n",
    "Clayton: Split Ellenswood 1/2, Jonesboro 1/17/19, Lovejoy 3/6/7, Morrow 3/11, 5/10, Oak 3/5   \n",
    "Cobb: Split Bells Ferry 3/4, Dobbins 1/2, Marietta 3A/3B, Smyrna 3A/3B  \n",
    "Columbia: Split Bessie Thomas/2nd Mt Moriah, Harlem Branch/Harlem Senior Ctr; Merge Blanchard Park/MTZ Col FD;  Align multiple precincts with county maps  \n",
    "Coweta: Merge Arts Centre/Jefferson Parkway as Newnan Centre  \n",
    "Fulton: Merge CP07A/CP07D, CH01/CH04B, SS29A/SS29B, UC031/UC035  \n",
    "DeKalb: Split Clarkston/Clarkston Comm Ctr; Realign Decatur/Oakhurst; Align precincts with Atlanta, Brookhaven, Decatur, Tucker city limits   \n",
    "Gwinnett: Adjust Baycreek F/G, Berkshire J/M, Cates D/F, Garners C/B, Lawrenceville G/N, Pinckneyville S/T, Rockbridge A/G  \n",
    "Lowndes: Split Northgate Assembly/Trinity, Jaycee/Mt Calvary/Northside/VSU  \n",
    "Oconee: Merge Annex/City Hall; Align City Hall with Watkinsville city limits  \n",
    "Paulding: Reorganize 12 precincts into 19 precincts as redrawn in 2019  \n",
    "Randolph: Merge Carnegie/Cuthbert-Courthouse, 4th District/Fountain Bridge/Shellman  \n",
    "Troup: Split Mountville between Gardner Newman/Hogansville/Rosemont; Align multiple precincts with county maps  \n",
    "Towns: Merge Macedonia/Tate City  \n",
    "Wilkes: Align 1/2A boundary with the voter file    \n",
    "Note that the leading zeros in the Paulding County precinct IDs are included in some election reports and omitted in others. The shapefile includes the leading zeros consistent with the voter file."
   ]
  },
  {
   "cell_type": "markdown",
   "id": "d7a26783",
   "metadata": {},
   "source": [
    "## Candidate List"
   ]
  },
  {
   "cell_type": "markdown",
   "id": "0b05bfdd",
   "metadata": {},
   "source": [
    "- GCON01DGRI                      Joyce Marie Griggs (Dem)\n",
    "- GCON01RCAR            Earl L. \"\"Buddy\"\" Carter (I) (Rep)\n",
    "- GCON02DBIS                      Sanford Bishop (I) (Dem)\n",
    "- GCON02RCOL                                Don Cole (Rep)\n",
    "- GCON03DALM                            Val Almonord (Dem)\n",
    "- GCON03RFER                       Drew Ferguson (I) (Rep)\n",
    "- GCON04DJOH      Henry C. \"\"Hank\"\" Johnson, Jr. (I) (Dem)\n",
    "- GCON04REZA                  Johsie Cruz Ezammudeen (Rep)\n",
    "- GCON05DWIL                         Nikema Williams (Dem)\n",
    "- GCON05RSTA                     Angela Stanton-King (Rep)\n",
    "- GCON06DMCB                         Lucy McBath (I) (Dem)\n",
    "- GCON06RHAN                            Karen Handel (Rep)\n",
    "- GCON07DBOU                       Carolyn Bourdeaux (Dem)\n",
    "- GCON07RMCC                          Rich McCormick (Rep)\n",
    "- GCON08DHOL                        Lindsay Holliday (Dem)\n",
    "- GCON08RSCO                        Austin Scott (I) (Rep)\n",
    "- GCON09DPAN                             Devin Pandy (Dem)\n",
    "- GCON09RCLY                            Andrew Clyde (Rep)\n",
    "- GCON10DJOH                   Tabitha Johnson-Green (Dem)\n",
    "- GCON10RHIC                           Jody Hice (I) (Rep)\n",
    "- GCON11DBAR                            Dana Barrett (Dem)\n",
    "- GCON11RLOU                    Barry Loudermilk (I) (Rep)\n",
    "- GCON12DJOH                             Liz Johnson (Dem)\n",
    "- GCON12RALL                       Rick W. Allen (I) (Rep)\n",
    "- GCON13DSCO                         David Scott (I) (Dem)\n",
    "- GCON13RHIT                          Becky E. Hites (Rep)\n",
    "- GCON14DAUS                        Kevin Van Ausdal (Dem)\n",
    "- GCON14RGRE                  Marjorie Taylor Greene (Rep) "
   ]
  },
  {
   "cell_type": "markdown",
   "id": "453b6418",
   "metadata": {},
   "source": [
    "## Election Results Processing"
   ]
  },
  {
   "cell_type": "markdown",
   "id": "4346a95b",
   "metadata": {},
   "source": [
    "### Load the modified VEST file\n",
    "\n",
    "Note: This is the modified version of the file created in the statewide notebook"
   ]
  },
  {
   "cell_type": "code",
   "execution_count": 44,
   "id": "6629f548",
   "metadata": {},
   "outputs": [
    {
     "name": "stdout",
     "output_type": "stream",
     "text": [
      "(2678, 50)\n"
     ]
    }
   ],
   "source": [
    "vest_ga_20 = gp.read_file(\"./raw-from-source/VEST/cleaned_ga_2020/cleaned_ga_2020.shp\")\n",
    "print(vest_ga_20.shape)"
   ]
  },
  {
   "cell_type": "code",
   "execution_count": 45,
   "id": "a560c42a",
   "metadata": {
    "scrolled": true
   },
   "outputs": [
    {
     "name": "stdout",
     "output_type": "stream",
     "text": [
      "['G20PRERTRU', 'G20PREDBID', 'G20PRELJOR', 'C20PRERTRU', 'C20PREDBID', 'C20PRELJOR', 'G20USSRPER', 'G20USSDOSS', 'G20USSLHAZ', 'S20USSRLOE', 'S20USSRCOL', 'S20USSRGRA', 'S20USSRJAC', 'S20USSRTAY', 'S20USSRJOH', 'S20USSDWAR', 'S20USSDJAC', 'S20USSDLIE', 'S20USSDJOH', 'S20USSDJAM', 'S20USSDSLA', 'S20USSDWIN', 'S20USSDTAR', 'S20USSLSLO', 'S20USSGFOR', 'S20USSIBUC', 'S20USSIBAR', 'S20USSISTO', 'S20USSIGRE', 'G20PSCRSHA', 'G20PSCDBRY', 'G20PSCLMEL', 'G20PSCRMCD', 'G20PSCDBLA', 'G20PSCLWIL', 'R21USSRPER', 'R21USSDOSS', 'R21USSRLOE', 'R21USSDWAR', 'R21PSCRMCD', 'R21PSCDBLA']\n"
     ]
    }
   ],
   "source": [
    "# Take a look\n",
    "vest_ga_20.head(1)\n",
    "\n",
    "#Create a list of the race columns\n",
    "data_columns = [i for i in vest_ga_20.columns if ((\"20\" in i) | (\"21\" in i))]\n",
    "print(data_columns)"
   ]
  },
  {
   "cell_type": "markdown",
   "id": "e5f280e3",
   "metadata": {},
   "source": [
    "### 1. Load General Election Data"
   ]
  },
  {
   "cell_type": "markdown",
   "id": "7a819f70",
   "metadata": {},
   "source": [
    "This data had to be downloaded county-by-county in XML format. The below code parses the XML and grabs the necessary data, adds it to a list, gives it the appropriate column names, and converts the data into a dataframe."
   ]
  },
  {
   "cell_type": "code",
   "execution_count": 46,
   "id": "4116fd60",
   "metadata": {},
   "outputs": [
    {
     "name": "stdout",
     "output_type": "stream",
     "text": [
      "159\n"
     ]
    }
   ],
   "source": [
    "loaded_counties = os.listdir(\"./raw-from-source/Non_Recount_Results/\")\n",
    "z=[]\n",
    "for locale in loaded_counties:\n",
    "    if locale.endswith('.xml'):\n",
    "        file_string = \"./raw-from-source/Non_Recount_Results/\"+locale\n",
    "        xtree = et.parse(file_string)\n",
    "        xroot = xtree.getroot()\n",
    "        store_list = []\n",
    "        county_area = xroot.findall(\".//Region\")\n",
    "        for i in county_area:\n",
    "            county = i.text\n",
    "        contests = xroot.findall(\".//Contest\")\n",
    "        for i in contests:\n",
    "            contest = i.attrib.get('text')\n",
    "            lower = i.findall(\"./Choice\")\n",
    "            for j in lower:\n",
    "                choice = j.attrib.get('text')\n",
    "                lower_2 = j.findall(\"./VoteType\")\n",
    "                for k in lower_2:\n",
    "                    voting_method = k.attrib.get('name')\n",
    "                    lower_3 = k.findall(\"./Precinct\")\n",
    "                    for l in lower_3:\n",
    "                        precinct_name = l.attrib.get('name')\n",
    "                        num_votes = l.attrib.get('votes')\n",
    "                        z.append([county,contest,choice,voting_method,precinct_name,num_votes])\n",
    "dfcols = ['county','contest','choice','voting_method','precinct','num_votes']\n",
    "ga_election = pd.DataFrame(z,columns=dfcols)\n",
    "\n",
    "#Sanity check that there are the right number of counties\n",
    "print(len(ga_election[\"county\"].unique()))"
   ]
  },
  {
   "cell_type": "markdown",
   "id": "f10eb00a",
   "metadata": {},
   "source": [
    "### Update Race Names"
   ]
  },
  {
   "cell_type": "code",
   "execution_count": 47,
   "id": "686a1489",
   "metadata": {},
   "outputs": [],
   "source": [
    "race_name_change_dict = {\n",
    "    'US House Dist 4/Distrito del Congreso 4':'US House District 4',\n",
    "    'US House Dist 7/Distrito del Congreso 7':'US House District 7',\n",
    "    'US House Dist 10/Distrito del Congreso 10':'US House District 10',\n",
    "}\n",
    "\n",
    "ga_election[\"contest\"] = ga_election[\"contest\"].map(race_name_change_dict).fillna(ga_election[\"contest\"])"
   ]
  },
  {
   "cell_type": "code",
   "execution_count": 48,
   "id": "d0915920",
   "metadata": {},
   "outputs": [],
   "source": [
    "us_house_races = ['US House District 2',\n",
    " 'US House District 1',\n",
    " 'US House District 8',\n",
    " 'US House District 10',\n",
    " 'US House District 12',\n",
    " 'US House District 9',\n",
    " 'US House District 3',\n",
    " 'US House District 13',\n",
    " 'US House District 14',\n",
    " 'US House District 4',\n",
    " 'US House District 5',\n",
    " 'US House District 6',\n",
    " 'US House District 11',\n",
    " 'US House District 7']"
   ]
  },
  {
   "cell_type": "markdown",
   "id": "cac52c1c",
   "metadata": {},
   "source": [
    "### Filter Down to Relevant Races"
   ]
  },
  {
   "cell_type": "code",
   "execution_count": 49,
   "id": "bea32e9a",
   "metadata": {},
   "outputs": [],
   "source": [
    "ga_election = ga_election[ga_election[\"contest\"].isin(us_house_races)]\n",
    "ga_election.reset_index(inplace=True,drop=True)"
   ]
  },
  {
   "cell_type": "markdown",
   "id": "c4d50b84",
   "metadata": {},
   "source": [
    "### Clean and Pivot Data"
   ]
  },
  {
   "cell_type": "code",
   "execution_count": 50,
   "id": "bf5f8e73",
   "metadata": {},
   "outputs": [],
   "source": [
    "#Make sure votes are integers\n",
    "ga_election[\"num_votes\"] = ga_election[\"num_votes\"].astype(int)"
   ]
  },
  {
   "cell_type": "code",
   "execution_count": 51,
   "id": "a2df7ff9",
   "metadata": {},
   "outputs": [],
   "source": [
    "#Define two function to add the party and district\n",
    "def get_party(x):\n",
    "    if \"(\" in x:\n",
    "        return x[len(x)-4:len(x)-1].upper()\n",
    "    else:\n",
    "        raise ValueError\n",
    "        \n",
    "def district_assigner(x):\n",
    "    if \"District\" in x:\n",
    "        return x.split( )[len(x.split( ))-1].zfill(2)\n",
    "    else:\n",
    "        raise ValueError"
   ]
  },
  {
   "cell_type": "code",
   "execution_count": 52,
   "id": "dcca28aa",
   "metadata": {},
   "outputs": [],
   "source": [
    "func = np.vectorize(get_party)\n",
    "party = func(ga_election[\"choice\"])\n",
    "ga_election[\"party\"] = party\n",
    "\n",
    "func = np.vectorize(district_assigner)\n",
    "district = func(ga_election[\"contest\"])\n",
    "ga_election[\"DISTRICT\"] = district"
   ]
  },
  {
   "cell_type": "code",
   "execution_count": 53,
   "id": "708bcd9d",
   "metadata": {},
   "outputs": [],
   "source": [
    "def get_name(full_name):\n",
    "    if full_name == 'Henry C. \"\"Hank\"\" Johnson, Jr.':\n",
    "        #print(full_name + \" - \"+\"JOH\")\n",
    "        return \"JOH\"\n",
    "    else:\n",
    "        last_name = full_name.split(\" \")[-1]\n",
    "        last_name = last_name.upper()\n",
    "        return last_name[0:3]\n",
    "        #print(full_name + \" - \"+last_name[0:3])"
   ]
  },
  {
   "cell_type": "code",
   "execution_count": 54,
   "id": "804d2d49",
   "metadata": {},
   "outputs": [],
   "source": [
    "# Add in the 3 letter candidate name\n",
    "ga_election[\"cand\"] = ga_election[\"choice\"].apply(lambda x:x.split(\" (\")[0])\n",
    "ga_election[\"cand_abbrev\"] =  ga_election[\"cand\"].apply(lambda x: get_name(x))"
   ]
  },
  {
   "cell_type": "markdown",
   "id": "3c1f0e35",
   "metadata": {},
   "source": [
    "#### Add a FIPS Column"
   ]
  },
  {
   "cell_type": "code",
   "execution_count": 55,
   "id": "09b47d6b",
   "metadata": {},
   "outputs": [],
   "source": [
    "fips_file = pd.read_csv(\"./raw-from-source/FIPS/US_FIPS_Codes.csv\")\n",
    "fips_file = fips_file[fips_file[\"State\"]==\"Georgia\"]\n",
    "fips_file[\"FIPS County\"] = fips_file[\"FIPS County\"].astype(str)\n",
    "fips_file[\"FIPS County\"] = fips_file[\"FIPS County\"].str.zfill(3)\n",
    "fips_file[\"County Name\"] = fips_file[\"County Name\"].replace(\"De Kalb\",\"DeKalb\")\n",
    "fips_dict = dict(zip(fips_file['County Name'], fips_file['FIPS County']))\n",
    "ga_election['county_fips'] = ga_election['county'].map(fips_dict).fillna(ga_election['county'])\n",
    "ga_election['county_fips'] = ga_election['county_fips'].astype(str)\n",
    "ga_election['county_fips'] = ga_election['county_fips'].str.zfill(3)"
   ]
  },
  {
   "cell_type": "markdown",
   "id": "cd8c59c7",
   "metadata": {},
   "source": [
    "#### Define the columns needed for the pivot"
   ]
  },
  {
   "cell_type": "code",
   "execution_count": 56,
   "id": "93f9329c",
   "metadata": {},
   "outputs": [],
   "source": [
    "ga_election[\"mod_choice\"]=\"GCON\"+ga_election[\"DISTRICT\"]+ga_election[\"party\"].str[0]+ga_election[\"cand_abbrev\"]\n",
    "ga_election[\"unique_ID\"]=ga_election[\"county_fips\"]+ga_election[\"precinct\"]"
   ]
  },
  {
   "cell_type": "markdown",
   "id": "93fe86bc",
   "metadata": {},
   "source": [
    "#### Create a Fields Dict"
   ]
  },
  {
   "cell_type": "code",
   "execution_count": 57,
   "id": "3206c737",
   "metadata": {},
   "outputs": [],
   "source": [
    "fields_dict_cong = dict(zip(ga_election[\"mod_choice\"],ga_election[\"choice\"]))\n",
    "od = collections.OrderedDict(sorted(fields_dict_cong.items()))\n",
    "fields_dict_cong_df = pd.DataFrame.from_dict(od, orient ='index')\n",
    "fields_dict_cong_df.reset_index(inplace = True, drop = False)\n",
    "fields_dict_cong_df.columns = ['Field_Name', 'Cand_Name']\n",
    "fields_dict_cong_df.to_csv(\"./cand_dicts/congressional_fields_dict.csv\", index = False)"
   ]
  },
  {
   "cell_type": "markdown",
   "id": "2fdc4320",
   "metadata": {},
   "source": [
    "#### Pivot the DataFrame"
   ]
  },
  {
   "cell_type": "code",
   "execution_count": 58,
   "id": "cb1940b2",
   "metadata": {},
   "outputs": [],
   "source": [
    "ga_election=pd.pivot_table(ga_election,index=[\"unique_ID\",\"county\",\"county_fips\",\"precinct\"],columns=[\"mod_choice\"],values=['num_votes'],aggfunc=sum)\n",
    "ga_election = ga_election.fillna(0)\n",
    "ga_election.columns = ga_election.columns.droplevel(0)\n",
    "ga_election = ga_election.reset_index()"
   ]
  },
  {
   "cell_type": "markdown",
   "id": "c25d32bb",
   "metadata": {},
   "source": [
    "### Combine Northgate Assembly and Trinity in Election Results\n",
    "\n",
    "Note: We perfomed this in the modified version of the VEST file as well. This corrects an issue with votes appearing in a precinct outside of a congressional district. Please see the main file README for more information"
   ]
  },
  {
   "cell_type": "code",
   "execution_count": 59,
   "id": "f4bce6de",
   "metadata": {},
   "outputs": [],
   "source": [
    "to_remove = ga_election[(ga_election[\"county\"]==\"Lowndes\") & (ga_election[\"precinct\"].isin([\"Northgate Assembly\", \"Trinity\"]))]\n",
    "remaining_elections = ga_election[~((ga_election[\"county\"]==\"Lowndes\") & (ga_election[\"precinct\"].isin([\"Northgate Assembly\", \"Trinity\"])))]"
   ]
  },
  {
   "cell_type": "code",
   "execution_count": 60,
   "id": "ff7b5341",
   "metadata": {},
   "outputs": [
    {
     "name": "stdout",
     "output_type": "stream",
     "text": [
      "(2656, 32)\n",
      "(2654, 32)\n",
      "(2, 32)\n"
     ]
    }
   ],
   "source": [
    "# Print statements to make sure all precincts are counted correctly\n",
    "print(ga_election.shape)\n",
    "print(remaining_elections.shape)\n",
    "print(to_remove.shape)"
   ]
  },
  {
   "cell_type": "code",
   "execution_count": 61,
   "id": "8503b30c",
   "metadata": {},
   "outputs": [],
   "source": [
    "# Combine the two precincts and clean the indices\n",
    "grouped_to_remove = to_remove.groupby([\"county_fips\"]).sum()\n",
    "grouped_to_remove.reset_index(inplace = True, drop = False)\n",
    "\n",
    "# Add appropriate data columns and filter down to needed columns\n",
    "grouped_to_remove[\"unique_ID\"] = \"185-NORTHGATE ASSEMBLY AND TRINITY\"\n",
    "grouped_to_remove[\"county\"] = 'Lowndes'\n",
    "grouped_to_remove[\"county_fips\"] = '185' \n",
    "grouped_to_remove[\"precinct\"] = 'NORTHGATE ASSEMBLY AND TRINITY'\n",
    "grouped_to_remove = grouped_to_remove[list(to_remove.columns)]\n",
    "\n",
    "# Combine the precincts back together\n",
    "ga_election = pd.concat([remaining_elections, grouped_to_remove])\n",
    "ga_election.reset_index(inplace = True, drop = True)"
   ]
  },
  {
   "cell_type": "markdown",
   "id": "5b3b5893",
   "metadata": {},
   "source": [
    "## Join Election Results to VEST"
   ]
  },
  {
   "cell_type": "code",
   "execution_count": 62,
   "id": "07c9199c",
   "metadata": {},
   "outputs": [],
   "source": [
    "ga_cong_districts = gp.read_file(\"./raw-from-source/US_House_Shapefile/ga_cong_2011_to_2021/ga_cong_2011_to_2021.shp\")\n",
    "ga_cong_districts = ga_cong_districts.to_crs(vest_ga_20.crs)\n",
    "ga_cong_districts.rename(columns={'DISTRICT':\"HOUSE_DISTRICT\"},inplace=True)\n",
    "ga_cong_districts[\"geometry\"] = ga_cong_districts[\"geometry\"].buffer(0)"
   ]
  },
  {
   "cell_type": "markdown",
   "id": "d01246e9",
   "metadata": {},
   "source": [
    "### Drop any incorrect precincts"
   ]
  },
  {
   "cell_type": "markdown",
   "id": "904cb356",
   "metadata": {},
   "source": [
    "### Issues with Jasper - Solution: Drop the Precinct\n",
    "\n",
    "Jasper is a precinct that has one vote in CD14, but as you can see with the map below, does not intersect with CD14. Because we do not know where this district came from, we will remove it. "
   ]
  },
  {
   "cell_type": "code",
   "execution_count": 63,
   "id": "18e773df",
   "metadata": {},
   "outputs": [
    {
     "data": {
      "text/html": [
       "<div>\n",
       "<style scoped>\n",
       "    .dataframe tbody tr th:only-of-type {\n",
       "        vertical-align: middle;\n",
       "    }\n",
       "\n",
       "    .dataframe tbody tr th {\n",
       "        vertical-align: top;\n",
       "    }\n",
       "\n",
       "    .dataframe thead th {\n",
       "        text-align: right;\n",
       "    }\n",
       "</style>\n",
       "<table border=\"1\" class=\"dataframe\">\n",
       "  <thead>\n",
       "    <tr style=\"text-align: right;\">\n",
       "      <th>mod_choice</th>\n",
       "      <th>GCON14DAUS</th>\n",
       "      <th>GCON14RGRE</th>\n",
       "    </tr>\n",
       "  </thead>\n",
       "  <tbody>\n",
       "    <tr>\n",
       "      <th>2221</th>\n",
       "      <td>0.0</td>\n",
       "      <td>1.0</td>\n",
       "    </tr>\n",
       "  </tbody>\n",
       "</table>\n",
       "</div>"
      ],
      "text/plain": [
       "mod_choice  GCON14DAUS  GCON14RGRE\n",
       "2221               0.0         1.0"
      ]
     },
     "execution_count": 63,
     "metadata": {},
     "output_type": "execute_result"
    }
   ],
   "source": [
    "ga_election[ga_election[\"unique_ID\"].str.contains(\"Jasper\")][[i for i in list(ga_election.columns) if '14' in i]]"
   ]
  },
  {
   "cell_type": "code",
   "execution_count": 64,
   "id": "6f0e41d0",
   "metadata": {},
   "outputs": [
    {
     "data": {
      "text/plain": [
       "<AxesSubplot:>"
      ]
     },
     "execution_count": 64,
     "metadata": {},
     "output_type": "execute_result"
    },
    {
     "data": {
      "image/png": "[encoded data removed]",
      "text/plain": [
       "<Figure size 432x288 with 1 Axes>"
      ]
     },
     "metadata": {
      "needs_background": "light"
     },
     "output_type": "display_data"
    }
   ],
   "source": [
    "ax = ga_cong_districts[ga_cong_districts[\"HOUSE_DISTRICT\"] == \"014\"].boundary.plot()\n",
    "jasper_prec = vest_ga_20[vest_ga_20[\"PRECINCT_N\"] == 'JASPER']\n",
    "jasper_prec.plot(ax = ax, color = \"red\")"
   ]
  },
  {
   "cell_type": "code",
   "execution_count": 65,
   "id": "ac5f630a",
   "metadata": {},
   "outputs": [],
   "source": [
    "ga_election.loc[ga_election[\"precinct\"]==\"Jasper\", 'GCON14RGRE'] = 0"
   ]
  },
  {
   "cell_type": "code",
   "execution_count": 66,
   "id": "543e1a98",
   "metadata": {},
   "outputs": [
    {
     "data": {
      "text/html": [
       "<div>\n",
       "<style scoped>\n",
       "    .dataframe tbody tr th:only-of-type {\n",
       "        vertical-align: middle;\n",
       "    }\n",
       "\n",
       "    .dataframe tbody tr th {\n",
       "        vertical-align: top;\n",
       "    }\n",
       "\n",
       "    .dataframe thead th {\n",
       "        text-align: right;\n",
       "    }\n",
       "</style>\n",
       "<table border=\"1\" class=\"dataframe\">\n",
       "  <thead>\n",
       "    <tr style=\"text-align: right;\">\n",
       "      <th>mod_choice</th>\n",
       "      <th>GCON14DAUS</th>\n",
       "      <th>GCON14RGRE</th>\n",
       "    </tr>\n",
       "  </thead>\n",
       "  <tbody>\n",
       "    <tr>\n",
       "      <th>2221</th>\n",
       "      <td>0.0</td>\n",
       "      <td>0.0</td>\n",
       "    </tr>\n",
       "  </tbody>\n",
       "</table>\n",
       "</div>"
      ],
      "text/plain": [
       "mod_choice  GCON14DAUS  GCON14RGRE\n",
       "2221               0.0         0.0"
      ]
     },
     "execution_count": 66,
     "metadata": {},
     "output_type": "execute_result"
    }
   ],
   "source": [
    "ga_election[ga_election[\"unique_ID\"].str.contains(\"Jasper\")][[i for i in list(ga_election.columns) if '14' in i]]"
   ]
  },
  {
   "cell_type": "markdown",
   "id": "8475f90e",
   "metadata": {},
   "source": [
    "### Deal with any precincts that split districts"
   ]
  },
  {
   "cell_type": "markdown",
   "id": "ee7999d7",
   "metadata": {},
   "source": [
    "#### Try a  unique ID"
   ]
  },
  {
   "cell_type": "code",
   "execution_count": 67,
   "id": "68c60db6",
   "metadata": {},
   "outputs": [],
   "source": [
    "ga_election[\"precinct\"] = ga_election[\"precinct\"].str.strip().str.upper()\n",
    "ga_election[\"unique_ID\"]=ga_election[\"county_fips\"]+\"-\"+ga_election[\"precinct\"]\n",
    "vest_ga_20[\"unique_ID\"]=vest_ga_20[\"FIPS2\"]+\"-\"+vest_ga_20[\"PRECINCT_N\"]"
   ]
  },
  {
   "cell_type": "markdown",
   "id": "047773e1",
   "metadata": {},
   "source": [
    "#### Check whether there are duplicate IDs"
   ]
  },
  {
   "cell_type": "code",
   "execution_count": 68,
   "id": "86234ae6",
   "metadata": {},
   "outputs": [
    {
     "name": "stdout",
     "output_type": "stream",
     "text": [
      "Series([], Name: unique_ID, dtype: int64)\n",
      "NaN                        7\n",
      "051-ELI WHITNEY COMPLEX    2\n",
      "Name: unique_ID, dtype: int64\n"
     ]
    }
   ],
   "source": [
    "ser_1 = ga_election[\"unique_ID\"].value_counts(dropna=False)\n",
    "print(ser_1[ser_1 >1])\n",
    "\n",
    "ser_2 = vest_ga_20[\"unique_ID\"].value_counts(dropna=False)\n",
    "print(ser_2[ser_2 >1])"
   ]
  },
  {
   "cell_type": "code",
   "execution_count": 69,
   "id": "784c3459",
   "metadata": {},
   "outputs": [
    {
     "data": {
      "text/html": [
       "<div>\n",
       "<style scoped>\n",
       "    .dataframe tbody tr th:only-of-type {\n",
       "        vertical-align: middle;\n",
       "    }\n",
       "\n",
       "    .dataframe tbody tr th {\n",
       "        vertical-align: top;\n",
       "    }\n",
       "\n",
       "    .dataframe thead th {\n",
       "        text-align: right;\n",
       "    }\n",
       "</style>\n",
       "<table border=\"1\" class=\"dataframe\">\n",
       "  <thead>\n",
       "    <tr style=\"text-align: right;\">\n",
       "      <th></th>\n",
       "      <th>DISTRICT</th>\n",
       "      <th>CTYSOSID</th>\n",
       "      <th>PRECINCT_I</th>\n",
       "      <th>PRECINCT_N</th>\n",
       "      <th>CTYNAME</th>\n",
       "      <th>CTYNUMBER</th>\n",
       "      <th>CTYNUMBER2</th>\n",
       "      <th>FIPS2</th>\n",
       "      <th>G20PRERTRU</th>\n",
       "      <th>G20PREDBID</th>\n",
       "      <th>...</th>\n",
       "      <th>G20PSCDBLA</th>\n",
       "      <th>G20PSCLWIL</th>\n",
       "      <th>R21USSRPER</th>\n",
       "      <th>R21USSDOSS</th>\n",
       "      <th>R21USSRLOE</th>\n",
       "      <th>R21USSDWAR</th>\n",
       "      <th>R21PSCRMCD</th>\n",
       "      <th>R21PSCDBLA</th>\n",
       "      <th>geometry</th>\n",
       "      <th>unique_ID</th>\n",
       "    </tr>\n",
       "  </thead>\n",
       "  <tbody>\n",
       "    <tr>\n",
       "      <th>2259</th>\n",
       "      <td>0513-15C</td>\n",
       "      <td>0513-15C</td>\n",
       "      <td>3-15C</td>\n",
       "      <td>ELI WHITNEY COMPLEX</td>\n",
       "      <td>CHATHAM</td>\n",
       "      <td>25</td>\n",
       "      <td>025</td>\n",
       "      <td>051</td>\n",
       "      <td>278</td>\n",
       "      <td>361</td>\n",
       "      <td>...</td>\n",
       "      <td>325</td>\n",
       "      <td>15</td>\n",
       "      <td>281</td>\n",
       "      <td>329</td>\n",
       "      <td>282</td>\n",
       "      <td>329</td>\n",
       "      <td>284</td>\n",
       "      <td>318</td>\n",
       "      <td>POLYGON ((-81.02948 32.06200, -81.03000 32.060...</td>\n",
       "      <td>051-ELI WHITNEY COMPLEX</td>\n",
       "    </tr>\n",
       "    <tr>\n",
       "      <th>2261</th>\n",
       "      <td>0512-06C</td>\n",
       "      <td>0512-06C</td>\n",
       "      <td>2-06C</td>\n",
       "      <td>ELI WHITNEY COMPLEX</td>\n",
       "      <td>CHATHAM</td>\n",
       "      <td>25</td>\n",
       "      <td>025</td>\n",
       "      <td>051</td>\n",
       "      <td>65</td>\n",
       "      <td>335</td>\n",
       "      <td>...</td>\n",
       "      <td>301</td>\n",
       "      <td>19</td>\n",
       "      <td>52</td>\n",
       "      <td>312</td>\n",
       "      <td>53</td>\n",
       "      <td>311</td>\n",
       "      <td>54</td>\n",
       "      <td>300</td>\n",
       "      <td>POLYGON ((-81.05333 32.07291, -81.05336 32.072...</td>\n",
       "      <td>051-ELI WHITNEY COMPLEX</td>\n",
       "    </tr>\n",
       "  </tbody>\n",
       "</table>\n",
       "<p>2 rows × 51 columns</p>\n",
       "</div>"
      ],
      "text/plain": [
       "      DISTRICT  CTYSOSID PRECINCT_I           PRECINCT_N  CTYNAME CTYNUMBER  \\\n",
       "2259  0513-15C  0513-15C      3-15C  ELI WHITNEY COMPLEX  CHATHAM        25   \n",
       "2261  0512-06C  0512-06C      2-06C  ELI WHITNEY COMPLEX  CHATHAM        25   \n",
       "\n",
       "     CTYNUMBER2 FIPS2  G20PRERTRU  G20PREDBID  ...  G20PSCDBLA  G20PSCLWIL  \\\n",
       "2259        025   051         278         361  ...         325          15   \n",
       "2261        025   051          65         335  ...         301          19   \n",
       "\n",
       "      R21USSRPER  R21USSDOSS  R21USSRLOE  R21USSDWAR  R21PSCRMCD  R21PSCDBLA  \\\n",
       "2259         281         329         282         329         284         318   \n",
       "2261          52         312          53         311          54         300   \n",
       "\n",
       "                                               geometry  \\\n",
       "2259  POLYGON ((-81.02948 32.06200, -81.03000 32.060...   \n",
       "2261  POLYGON ((-81.05333 32.07291, -81.05336 32.072...   \n",
       "\n",
       "                    unique_ID  \n",
       "2259  051-ELI WHITNEY COMPLEX  \n",
       "2261  051-ELI WHITNEY COMPLEX  \n",
       "\n",
       "[2 rows x 51 columns]"
      ]
     },
     "metadata": {},
     "output_type": "display_data"
    }
   ],
   "source": [
    "#Look into duplicate IDs - ELI WHITNEY\n",
    "display(vest_ga_20[vest_ga_20[\"unique_ID\"]==\"051-ELI WHITNEY COMPLEX\"])"
   ]
  },
  {
   "cell_type": "code",
   "execution_count": 70,
   "id": "548dfc3c",
   "metadata": {},
   "outputs": [],
   "source": [
    "#Assign new unique IDs, adding in PRECINCT_I to differentiate\n",
    "vest_ga_20.loc[vest_ga_20[\"CTYSOSID\"]==\"0513-15C\",\"unique_ID\"] = \"051-ELI WHITNEY COMPLEX 3-15C\"\n",
    "vest_ga_20.loc[vest_ga_20[\"CTYSOSID\"]==\"0512-06C\",\"unique_ID\"] = \"051-ELI WHITNEY COMPLEX 2-06C\""
   ]
  },
  {
   "cell_type": "code",
   "execution_count": 71,
   "id": "174c4059",
   "metadata": {},
   "outputs": [],
   "source": [
    "#For the remaining NA unique_IDs, use the 'DISTRICT' value\n",
    "vest_ga_20.loc[vest_ga_20['unique_ID'].isna(), 'unique_ID'] = vest_ga_20['DISTRICT']"
   ]
  },
  {
   "cell_type": "code",
   "execution_count": 72,
   "id": "8747370a",
   "metadata": {},
   "outputs": [],
   "source": [
    "#Create a dictionary of ID changes to match VEST\n",
    "source_vest_id_changes_dict = {'051-1-17C ISLANDS CHRISTIAN CHURCH': '051-ISLANDS CHRISTIAN CHURCH', '051-7-14C COASTAL CATHEDRAL': '051-COASTAL CATHEDRAL', '051-7-07C ROTHWELL BAPTIST CHURCH': '051-ROTHWELL BAPTIST CHURCH', '051-4-07C WILMINGTON ISLAND UMC': '051-WILMINGTON ISLAND UMC', '051-4-08C WILMINGTON ISLAND PRES CHURCH': '051-WILMINGTON ISLAND PRES CHURCH', '051-1-16C FERGUSON AVE BAPTIST': '051-FERGUSON AVE BAPTIST', '051-7-11C SEVENTH DAY ADV CHURCH': '051-SEVENTH DAY ADV CHURCH', '051-7-16C POOLER RECREATION CENTER GYMNASIUM': '051-POOLER REC CENTER GYM', '051-7-08C BLOOMINGDALE COMM CTR': '051-BLOOMINGDALE COMM CTR', '051-4-13C SKIDAWAY ISLAND PRES CHURCH': '051-SKIDAWAY ISLAND PRES CHURCH', '051-6-10C STATION 3': '051-GEORGETOWN ELEMENTARY', '051-4-12C ST PETERS EPISCOPAL': '051-ST PETERS EPISCOPAL', '051-7-13C SOUTHSIDE FIRE TRNG CTR': '051-SOUTHSIDE FIRE TRNG CTR', '051-4-06C FIRST BAPTIST OF THE ISLAND': '051-FIRST BAPTIST OF THE ISLAND', '051-4-04C LIGHTHOUSE BAPTIST CHURCH': '051-LIGHTHOUSE BAPTIST CHURCH', '051-4-05C ST FRANCIS EPISCOPAL CHURCH': '051-ST FRANCIS EPISCOPAL CHURCH', '051-1-12C ISLE OF HOPE BAPTIST': '051-ISLE OF HOPE BAPTIST', '051-4-02C FRANK MURRAY COMM CENTER': '051-FRANK MURRAY COMM CENTER', '051-7-06C POOLER CITY HALL': '051-POOLER CITY HALL', '051-8-16C ROYAL CINEMAS AND IMAX': '051-ROYAL CINEMAS AND IMAX', '051-6-02C WINDSOR FOREST BAPTIST': '051-WINDSOR FOREST BAPTIST', '051-6-11C BAMBOO FARMS': '051-BAMBOO FARMS', '051-4-15C SKIDAWAY ISLAND STATE PARK': '051-SKIDAWAY ISLAND STATE PARK', '051-6-09C TRINITY LUTHERAN CHURCH': '051-TRINITY LUTHERAN CHURCH', '051-1-01C FIRST PRESBYTERIAN CHURCH': '051-FIRST PRESBYTERIAN CHURCH', '051-4-14C SKIDAWAY ISLAND BAPTIST': '051-SKIDAWAY ISLAND BAPTIST', '051-7-12C POOLER CHURCH': '051-POOLER CHURCH', '051-7-10C PROGRESSIVE REC CENTER': '051-PROGRESSIVE REC CENTER', '051-1-06C CENTRAL CHURCH OF CHRIST': '051-CENTRAL CHURCH OF CHRIST', '051-1-14C COMPASSION CHRISTIAN CHURCH': '051-COMPASSION CHRISTIAN CHURCH', '051-6-03C CRUSADER COMM CENTER': '051-CRUSADER COMM CENTER', '051-4-11C TYBEE ISLAND SCHOOL CAFE': '051-TYBEE ISLAND SCHOOL CAFE', '051-7-09C SAVANNAH HOLY C OF G': '051-SAVANNAH HOLY C OF G', '051-4-10C GUARD HOUSE COMM CTR': '051-GUARD HOUSE COMM CTR', '051-1-08C GRACE UNITED METHODIST CHURCH': '051-GRACE UNITED METHODIST CHURCH', '051-1-10C ST THOMAS EPISCOPAL CHURCH': '051-ST THOMAS EPISCOPAL CHURCH', '051-1-05C JEA BUILDING': '051-JEA BUILDING', '051-1-13C THE SANCTUARY': '051-THE SANCTUARY', '051-7-15C RICE CREEK SCHOOL': '051-RICE CREEK SCHOOL', '051-3-12C THUNDERBOLT MUNI COMPLEX': '051-THUNDERBOLT MUNI COMPLEX', '051-3-13C NEW COV 7 DAY ADV CH': '051-NEW COV 7 DAY ADV CH', '051-7-03C PB EDWARDS GYM': '051-PB EDWARDS GYM', '051-7-01C GARDEN CITY SENIOR CTR': '051-GARDEN CITY SENIOR CTR', '051-6-06C THE LIGHT CHURCH': '051-THE LIGHT CHURCH', '051-7-04C LAKE SHORE COMM CTR': '051-LAKE SHORE COMM CTR', '051-6-05C WINDSOR HALL': '051-WINDSOR HALL', '051-3-02C TEMPLE MICKVE ISRAEL': '051-TEMPLE MICKVE ISRAEL', '051-6-01C WHITE BLUFF PRESBYTERIAN': '051-WHITE BLUFF PRESBYTERIAN', '051-5-11C LARGO-TIBET ELEMENTARY': '051-LARGO-TIBET ELEMENTARY', '051-3-14C OGLETHORPE CHARTER ACADEMY': '051-OGLETHORPE CHARTER ACADEMY', '051-6-08C CHRIST MEMORIAL BAPTIST CHURCH': '051-CHRIST MEMORIAL BAPTIST CHURCH', '051-7-05C WOODLAWN BAPTIST CHURCH': '051-WOODLAWN BAPTIST CHURCH', '051-5-08C SAVANNAH PRIMITIVE BC': '051-SAVANNAH PRIMITIVE BC', '051-8-03C SILK HOPE BAPTIST CHURCH': '051-SILK HOPE BAPTIST CHURCH', '051-3-05C ALDERSGATE YOUTH CENTER': '051-ALDERSGATE YOUTH CENTER', '051-3-09C COKESBURY METHODIST': '051-COKESBURY METHODIST', '051-3-15C ELI WHITNEY COMPLEX': '051-ELI WHITNEY COMPLEX 3-15C', '051-8-13C SAVANNAH CHRISTIAN': '051-SAVANNAH CHRISTIAN', '051-5-07C STATION 1': '051-ELKS LODGE', '051-2-09C SALVATION ARMY': '051-SALVATION ARMY', '051-3-10C BIBLE BAPTIST CHURCH': '051-BIBLE BAPTIST CHURCH', '051-2-07C CHRIST COMMUNITY CHURCH': '051-CHRIST COMMUNITY CHURCH', '051-3-08C JENKINS HIGH SCHOOL': '051-JENKINS HIGH SCHOOL', '051-5-06C SEED CHURCH': '051-SEED CHURCH', '051-1-09C IMMANUEL BAPTIST CHURCH': '051-IMMANUEL BAPTIST CHURCH', '051-8-02C HELLENIC CENTER': '051-HELLENIC CENTER', '051-2-11C STILLWELL TOWERS': '051-STILLWELL TOWERS', '051-3-11C SOUTHSIDE BAPTIST CHURCH': '051-SOUTHSIDE BAPTIST CHURCH', '051-2-02C BLACKSHEAR COMMUNITY CENTER': '051-BLACKSHEAR COMMUNITY CENTER', '051-5-01C BARTLETT MIDDLE SCHOOL': '051-BARTLETT MIDDLE SCHOOL', '051-2-05C HOLY SPIRIT LUTHERAN CHURCH': '051-HOLY SPIRIT LUTHERAN CHURCH', '051-2-04C FELLOWSHIP OF LOVE CHURCH': '051-FELLOWSHIP OF LOVE CHURCH', '051-2-12C WILLIAMS COURT APTS': '051-WILLIAMS COURT APTS', '051-3-01C OLD COURTHOUSE': '051-OLD COURTHOUSE', '051-2-03C W W LAW CENTER': '051-W W LAW CENTER', '051-8-12C BEACH HIGH SCHOOL': '051-BEACH HIGH SCHOOL', '051-5-10C TATUMVILLE COMMUNITY CENTER': '051-TATUMVILLE COMMUNITY CENTER', '051-8-15C GARDEN CITY REC CENTER': '051-GARDEN CITY REC CENTER', '051-2-06C ELI WHITNEY COMPLEX': '051-ELI WHITNEY COMPLEX 2-06C', '051-3-03C SAVANNAH HIGH SCHOOL': '051-SAVANNAH HIGH SCHOOL', '051-8-01C CIVIC CENTER': '051-CIVIC CENTER', '051-3-04C FIRST AFRICAN BAPTIST CHURCH': '051-FIRST AFRICAN BAPTIST CHURCH', '051-5-05C LIBERTY CITY COMM CTR': '051-LIBERTY CITY COMM CTR', '051-5-02C SENIOR CITIZENS CENTER': '051-SENIOR CITIZENS CENTER', '051-8-08C RESUR OF OUR LORD CHURCH': '051-RESURRECTION OF OUR LORD CHURCH', '051-8-05C W BROAD ST YMCA': '051-W BROAD ST YMCA', '051-8-06C TOMPKINS REC CENTER': '051-TOMPKINS REC CENTER', '051-8-09C MOSES JACKSON CENTER': '051-MOSES JACKSON CENTER', '051-5-03C BUTLER PRESBYTERIAN CHURCH': '051-BUTLER PRESBYTERIAN CHURCH', '051-8-11C BUTLER ELEMENTARY': '051-BUTLER ELEMENTARY', '051-8-07C WOODVILLE-TOMPKINS TI': '051-WOODVILLE-TOMPKINS TI', '051-8-10C CARVER HEIGHTS COMM CTR': '051-CARVER HEIGHTS COMM CTR', '053-ACTIVITY CENTER': '053-ACTIVITY CENTER (Includes FTBEN 1-3)', '067-POWDERS SPRINGS 1A': '067-POWDER SPRINGS 1A', '067-POWDERS SPRINGS 2A': '067-POWDER SPRINGS 2A', '067-POWDERS SPRINGS 3A': '067-POWDER SPRINGS 3A', '171-CHAPPELL MILL V FD': '171-CHAPPELL MILL VFD', '275-LITTLE OCHLOCKNEE BAPTIST CHURCH': '275-LITTLE OCHLOCKNEE', '299-100': '299-District 1', '299-200A': '299-District 2A', '299-200B': '299-District 2B', '299-300': '299-1231-150B', '299-304': '299-1231-150C', '299-400': '299-1231-151', '299-404': '299-Beach-Bickley', '299-405': '299-Haywood', '299-406': '299-Jamestown', '299-407': '299-Manor', '299-408': '299-Millwood', '299-409': '299-Waresboro', '317-TIGNAL SCH LUNCH RM': '317-TIGNALL SCH LUNCH RM'}\n",
    "\n",
    "#Apply the changes\n",
    "ga_election[\"unique_ID\"] = ga_election[\"unique_ID\"].map(source_vest_id_changes_dict).fillna(ga_election[\"unique_ID\"])"
   ]
  },
  {
   "cell_type": "code",
   "execution_count": 73,
   "id": "085e3d0d",
   "metadata": {},
   "outputs": [
    {
     "name": "stdout",
     "output_type": "stream",
     "text": [
      "both          2655\n",
      "right_only      23\n",
      "left_only        0\n",
      "Name: _merge, dtype: int64\n"
     ]
    }
   ],
   "source": [
    "#Attempt to join\n",
    "join_attempt_1 = pd.merge(ga_election,vest_ga_20,how=\"outer\",on=\"unique_ID\",indicator=True)\n",
    "print(join_attempt_1[\"_merge\"].value_counts())\n",
    "\n",
    "left_only = join_attempt_1[join_attempt_1[\"_merge\"]==\"left_only\"]\n",
    "right_only = join_attempt_1[join_attempt_1[\"_merge\"]==\"right_only\"]"
   ]
  },
  {
   "cell_type": "code",
   "execution_count": 74,
   "id": "b1722b82",
   "metadata": {},
   "outputs": [],
   "source": [
    "races = [i for i in list(ga_election.columns) if \"GCON\" in i]"
   ]
  },
  {
   "cell_type": "code",
   "execution_count": 75,
   "id": "f03c6f26",
   "metadata": {},
   "outputs": [],
   "source": [
    "for val in races:\n",
    "    join_attempt_1[val] = join_attempt_1[val].fillna(0)\n",
    "    join_attempt_1[val] = join_attempt_1[val].astype(int)"
   ]
  },
  {
   "cell_type": "code",
   "execution_count": 76,
   "id": "1a3afa41",
   "metadata": {},
   "outputs": [
    {
     "name": "stdout",
     "output_type": "stream",
     "text": [
      "23\n"
     ]
    }
   ],
   "source": [
    "#Confirm that the unjoined precincts contain zero-votes\n",
    "empty_precincts = []\n",
    "for index, row in right_only.iterrows():\n",
    "    for race in data_columns:\n",
    "        keep=True\n",
    "        if (row[race]!=0):\n",
    "            keep = False\n",
    "    if(keep):\n",
    "        empty_precincts.append(row[\"DISTRICT\"])\n",
    "print(len(empty_precincts))  "
   ]
  },
  {
   "cell_type": "markdown",
   "id": "ec9542a9",
   "metadata": {},
   "source": [
    "## Look into split precincts"
   ]
  },
  {
   "cell_type": "code",
   "execution_count": 77,
   "id": "960c1111",
   "metadata": {},
   "outputs": [],
   "source": [
    "def is_split_precinct(district_assignment_list):\n",
    "    c = Counter([x[0] for x in district_assignment_list])\n",
    "    greater_than_one = {x:[y[1] for y in district_assignment_list if y[0]==x] for x, count in c.items() if count > 1}\n",
    "    if len(greater_than_one)==0:\n",
    "        return 0\n",
    "    else:\n",
    "        return greater_than_one\n",
    "    \n",
    "def get_level_dist(column_name):\n",
    "    if column_name[0:4] == \"GSLP\":\n",
    "        level = \"SL\"\n",
    "        dist = \"004\"\n",
    "    elif column_name[0:3] == \"GSL\":\n",
    "        level = \"SL\"\n",
    "        dist = column_name[3:6]\n",
    "    elif column_name[0:3] == \"GCO\":\n",
    "        level = \"CON\"\n",
    "        dist = column_name[4:6]\n",
    "    else:\n",
    "        print(column_name)\n",
    "        raise ValueError\n",
    "    return level,dist\n",
    "\n",
    "def contains_sldl(dist_list):\n",
    "    for dist_tuple in dist_list:\n",
    "        if dist_tuple[0] == \"SL\":\n",
    "            return dist_tuple[1]\n",
    "        \n",
    "def contains_cong(dist_list):\n",
    "    for dist_tuple in dist_list:\n",
    "        if dist_tuple[0] == \"CON\":\n",
    "            return dist_tuple[1]\n",
    "\n",
    "precinct_mapping_dict = {}\n",
    "split_precincts_list = {}\n",
    "for index,row in join_attempt_1.iterrows():\n",
    "    precinct_list = []\n",
    "    for contest in races:\n",
    "        if(row[contest]!=0):\n",
    "            precinct_info = get_level_dist(contest)\n",
    "            if precinct_info not in precinct_list:\n",
    "                precinct_list.append(get_level_dist(contest))\n",
    "    is_split = is_split_precinct(precinct_list)\n",
    "    if (is_split):\n",
    "        split_precincts_list[row[\"unique_ID\"]]=is_split\n",
    "    precinct_mapping_dict[row[\"unique_ID\"]]=precinct_list"
   ]
  },
  {
   "cell_type": "code",
   "execution_count": 78,
   "id": "0aa25709",
   "metadata": {
    "scrolled": true
   },
   "outputs": [
    {
     "data": {
      "text/plain": [
       "{'021-HAZZARD 4': {'CON': ['02', '08']},\n",
       " '021-HOWARD 1': {'CON': ['02', '08']},\n",
       " '067-CHATTAHOOCHEE 01': {'CON': ['06', '11']},\n",
       " '067-EAST PIEDMONT 01': {'CON': ['06', '11']},\n",
       " '067-FAIR OAKS 04': {'CON': ['11', '13']},\n",
       " '067-MARIETTA 5A': {'CON': ['06', '11']},\n",
       " '067-MARIETTA 6A': {'CON': ['06', '11']},\n",
       " '067-MARIETTA 7A': {'CON': ['06', '11']},\n",
       " '067-PALMER 01': {'CON': ['06', '11']},\n",
       " '067-POWERS FERRY 01': {'CON': ['06', '11']},\n",
       " '067-SMYRNA 3A': {'CON': ['11', '13']},\n",
       " '067-SMYRNA 4A': {'CON': ['11', '13']},\n",
       " '067-SMYRNA 6A': {'CON': ['11', '13']},\n",
       " '067-SMYRNA 7A': {'CON': ['11', '13']},\n",
       " '073-HARLEM BRANCH LIBRARY': {'CON': ['10', '12']},\n",
       " '073-HARLEM SENIOR CENTER': {'CON': ['10', '12']},\n",
       " '073-KIOKEE BAPTIST CHURCH': {'CON': ['10', '12']},\n",
       " '089-AVONDALE HIGH': {'CON': ['04', '05']},\n",
       " '089-GLENNWOOD': {'CON': ['04', '05']},\n",
       " '089-WADSWORTH': {'CON': ['04', '05']},\n",
       " '089-WINNONA PARK': {'CON': ['04', '05']},\n",
       " '103-1B': {'CON': ['01', '12']},\n",
       " '103-4B': {'CON': ['01', '12']},\n",
       " '113-DOGWOOD': {'CON': ['03', '13']},\n",
       " '113-SANDY CREEK': {'CON': ['03', '13']},\n",
       " '117-03 BROWNS BRIDGE': {'CON': ['07', '09']},\n",
       " '117-16 OTWELL': {'CON': ['07', '09']},\n",
       " '117-37 SAWNEE': {'CON': ['07', '09']},\n",
       " '135-CATES D': {'CON': ['04', '07']},\n",
       " '151-UNITY GROVE': {'CON': ['03', '10']},\n",
       " '185-NAYLOR': {'CON': ['01', '08']},\n",
       " '215-EPWORTH UMC': {'CON': ['02', '03']},\n",
       " '215-ST PAUL/CLUBVIEW': {'CON': ['02', '03']},\n",
       " '217-ALCOVY': {'CON': ['04', '10']},\n",
       " '217-ROCKY PLAINS': {'CON': ['04', '10']},\n",
       " '227-TATE': {'CON': ['09', '14']},\n",
       " '185-NORTHGATE ASSEMBLY AND TRINITY': {'CON': ['01', '08']}}"
      ]
     },
     "execution_count": 78,
     "metadata": {},
     "output_type": "execute_result"
    }
   ],
   "source": [
    "split_precincts_list"
   ]
  },
  {
   "cell_type": "markdown",
   "id": "095da37b",
   "metadata": {},
   "source": [
    "### Perform the Precinct Splits"
   ]
  },
  {
   "cell_type": "code",
   "execution_count": 79,
   "id": "a43eeb50",
   "metadata": {},
   "outputs": [],
   "source": [
    "ga_cong_districts[\"HOUSE_DISTRICT\"] = ga_cong_districts[\"HOUSE_DISTRICT\"].str[1:3]\n",
    "join_attempt_1[\"CONG_DIST\"] = 0\n",
    "join_attempt_1 = gp.GeoDataFrame(join_attempt_1, crs = vest_ga_20.crs)"
   ]
  },
  {
   "cell_type": "code",
   "execution_count": 80,
   "id": "27e43481",
   "metadata": {},
   "outputs": [],
   "source": [
    "## Define the \"CONG_DIST\" column"
   ]
  },
  {
   "cell_type": "code",
   "execution_count": 81,
   "id": "26f0a2ee",
   "metadata": {},
   "outputs": [],
   "source": [
    "def return_cd(row):\n",
    "    for val in races:\n",
    "        if row[val] != 0:\n",
    "            return val[4:6]"
   ]
  },
  {
   "cell_type": "code",
   "execution_count": 82,
   "id": "4fe6f035",
   "metadata": {},
   "outputs": [],
   "source": [
    "join_attempt_1[\"CONG_DIST\"] = join_attempt_1.apply(lambda row: return_cd(row), axis = 1)"
   ]
  },
  {
   "cell_type": "code",
   "execution_count": 83,
   "id": "df1d4592",
   "metadata": {},
   "outputs": [
    {
     "name": "stdout",
     "output_type": "stream",
     "text": [
      "021-HAZZARD 4\n",
      "021-HOWARD 1\n",
      "067-CHATTAHOOCHEE 01\n",
      "067-EAST PIEDMONT 01\n"
     ]
    },
    {
     "name": "stderr",
     "output_type": "stream",
     "text": [
      "/Users/peterhorton/Documents/RDH/erj/erj-ga/2020/general/helper_functions.py:20: UserWarning: `keep_geom_type=True` in overlay resulted in 9 dropped geometries of different geometry types than df1 has. Set `keep_geom_type=False` to retain all geometries\n",
      "  test_join = gp.overlay(full_shape, shps_gdf, how = \"intersection\")\n",
      "/Users/peterhorton/Documents/RDH/erj/erj-ga/2020/general/helper_functions.py:20: UserWarning: `keep_geom_type=True` in overlay resulted in 11 dropped geometries of different geometry types than df1 has. Set `keep_geom_type=False` to retain all geometries\n",
      "  test_join = gp.overlay(full_shape, shps_gdf, how = \"intersection\")\n"
     ]
    },
    {
     "name": "stdout",
     "output_type": "stream",
     "text": [
      "067-FAIR OAKS 04\n",
      "067-MARIETTA 5A\n"
     ]
    },
    {
     "name": "stderr",
     "output_type": "stream",
     "text": [
      "/Users/peterhorton/Documents/RDH/erj/erj-ga/2020/general/helper_functions.py:20: UserWarning: `keep_geom_type=True` in overlay resulted in 19 dropped geometries of different geometry types than df1 has. Set `keep_geom_type=False` to retain all geometries\n",
      "  test_join = gp.overlay(full_shape, shps_gdf, how = \"intersection\")\n"
     ]
    },
    {
     "name": "stdout",
     "output_type": "stream",
     "text": [
      "067-MARIETTA 6A\n",
      "067-MARIETTA 7A\n"
     ]
    },
    {
     "name": "stderr",
     "output_type": "stream",
     "text": [
      "/Users/peterhorton/Documents/RDH/erj/erj-ga/2020/general/helper_functions.py:20: UserWarning: `keep_geom_type=True` in overlay resulted in 7 dropped geometries of different geometry types than df1 has. Set `keep_geom_type=False` to retain all geometries\n",
      "  test_join = gp.overlay(full_shape, shps_gdf, how = \"intersection\")\n",
      "/Users/peterhorton/Documents/RDH/erj/erj-ga/2020/general/helper_functions.py:20: UserWarning: `keep_geom_type=True` in overlay resulted in 9 dropped geometries of different geometry types than df1 has. Set `keep_geom_type=False` to retain all geometries\n",
      "  test_join = gp.overlay(full_shape, shps_gdf, how = \"intersection\")\n"
     ]
    },
    {
     "name": "stdout",
     "output_type": "stream",
     "text": [
      "067-PALMER 01\n",
      "067-POWERS FERRY 01\n"
     ]
    },
    {
     "name": "stderr",
     "output_type": "stream",
     "text": [
      "/Users/peterhorton/Documents/RDH/erj/erj-ga/2020/general/helper_functions.py:20: UserWarning: `keep_geom_type=True` in overlay resulted in 6 dropped geometries of different geometry types than df1 has. Set `keep_geom_type=False` to retain all geometries\n",
      "  test_join = gp.overlay(full_shape, shps_gdf, how = \"intersection\")\n",
      "/Users/peterhorton/Documents/RDH/erj/erj-ga/2020/general/helper_functions.py:20: UserWarning: `keep_geom_type=True` in overlay resulted in 5 dropped geometries of different geometry types than df1 has. Set `keep_geom_type=False` to retain all geometries\n",
      "  test_join = gp.overlay(full_shape, shps_gdf, how = \"intersection\")\n"
     ]
    },
    {
     "name": "stdout",
     "output_type": "stream",
     "text": [
      "067-SMYRNA 3A\n",
      "067-SMYRNA 4A\n"
     ]
    },
    {
     "name": "stderr",
     "output_type": "stream",
     "text": [
      "/Users/peterhorton/Documents/RDH/erj/erj-ga/2020/general/helper_functions.py:20: UserWarning: `keep_geom_type=True` in overlay resulted in 22 dropped geometries of different geometry types than df1 has. Set `keep_geom_type=False` to retain all geometries\n",
      "  test_join = gp.overlay(full_shape, shps_gdf, how = \"intersection\")\n",
      "/Users/peterhorton/Documents/RDH/erj/erj-ga/2020/general/helper_functions.py:20: UserWarning: `keep_geom_type=True` in overlay resulted in 5 dropped geometries of different geometry types than df1 has. Set `keep_geom_type=False` to retain all geometries\n",
      "  test_join = gp.overlay(full_shape, shps_gdf, how = \"intersection\")\n"
     ]
    },
    {
     "name": "stdout",
     "output_type": "stream",
     "text": [
      "067-SMYRNA 6A\n",
      "067-SMYRNA 7A\n"
     ]
    },
    {
     "name": "stderr",
     "output_type": "stream",
     "text": [
      "/Users/peterhorton/Documents/RDH/erj/erj-ga/2020/general/helper_functions.py:20: UserWarning: `keep_geom_type=True` in overlay resulted in 22 dropped geometries of different geometry types than df1 has. Set `keep_geom_type=False` to retain all geometries\n",
      "  test_join = gp.overlay(full_shape, shps_gdf, how = \"intersection\")\n",
      "/Users/peterhorton/Documents/RDH/erj/erj-ga/2020/general/helper_functions.py:20: UserWarning: `keep_geom_type=True` in overlay resulted in 26 dropped geometries of different geometry types than df1 has. Set `keep_geom_type=False` to retain all geometries\n",
      "  test_join = gp.overlay(full_shape, shps_gdf, how = \"intersection\")\n"
     ]
    },
    {
     "name": "stdout",
     "output_type": "stream",
     "text": [
      "073-HARLEM BRANCH LIBRARY\n",
      "073-HARLEM SENIOR CENTER\n"
     ]
    },
    {
     "name": "stderr",
     "output_type": "stream",
     "text": [
      "/Users/peterhorton/Documents/RDH/erj/erj-ga/2020/general/helper_functions.py:20: UserWarning: `keep_geom_type=True` in overlay resulted in 1 dropped geometries of different geometry types than df1 has. Set `keep_geom_type=False` to retain all geometries\n",
      "  test_join = gp.overlay(full_shape, shps_gdf, how = \"intersection\")\n"
     ]
    },
    {
     "name": "stdout",
     "output_type": "stream",
     "text": [
      "073-KIOKEE BAPTIST CHURCH\n"
     ]
    },
    {
     "name": "stderr",
     "output_type": "stream",
     "text": [
      "/Users/peterhorton/Documents/RDH/erj/erj-ga/2020/general/helper_functions.py:20: UserWarning: `keep_geom_type=True` in overlay resulted in 2 dropped geometries of different geometry types than df1 has. Set `keep_geom_type=False` to retain all geometries\n",
      "  test_join = gp.overlay(full_shape, shps_gdf, how = \"intersection\")\n",
      "/Users/peterhorton/Documents/RDH/erj/erj-ga/2020/general/helper_functions.py:20: UserWarning: `keep_geom_type=True` in overlay resulted in 2 dropped geometries of different geometry types than df1 has. Set `keep_geom_type=False` to retain all geometries\n",
      "  test_join = gp.overlay(full_shape, shps_gdf, how = \"intersection\")\n"
     ]
    },
    {
     "name": "stdout",
     "output_type": "stream",
     "text": [
      "089-AVONDALE HIGH\n",
      "089-GLENNWOOD\n",
      "089-WADSWORTH\n",
      "089-WINNONA PARK\n"
     ]
    },
    {
     "name": "stderr",
     "output_type": "stream",
     "text": [
      "/Users/peterhorton/Documents/RDH/erj/erj-ga/2020/general/helper_functions.py:20: UserWarning: `keep_geom_type=True` in overlay resulted in 7 dropped geometries of different geometry types than df1 has. Set `keep_geom_type=False` to retain all geometries\n",
      "  test_join = gp.overlay(full_shape, shps_gdf, how = \"intersection\")\n",
      "/Users/peterhorton/Documents/RDH/erj/erj-ga/2020/general/helper_functions.py:20: UserWarning: `keep_geom_type=True` in overlay resulted in 2 dropped geometries of different geometry types than df1 has. Set `keep_geom_type=False` to retain all geometries\n",
      "  test_join = gp.overlay(full_shape, shps_gdf, how = \"intersection\")\n"
     ]
    },
    {
     "name": "stdout",
     "output_type": "stream",
     "text": [
      "103-1B\n"
     ]
    },
    {
     "name": "stderr",
     "output_type": "stream",
     "text": [
      "/Users/peterhorton/Documents/RDH/erj/erj-ga/2020/general/helper_functions.py:20: UserWarning: `keep_geom_type=True` in overlay resulted in 4 dropped geometries of different geometry types than df1 has. Set `keep_geom_type=False` to retain all geometries\n",
      "  test_join = gp.overlay(full_shape, shps_gdf, how = \"intersection\")\n",
      "/Users/peterhorton/Documents/RDH/erj/erj-ga/2020/general/helper_functions.py:20: UserWarning: `keep_geom_type=True` in overlay resulted in 1 dropped geometries of different geometry types than df1 has. Set `keep_geom_type=False` to retain all geometries\n",
      "  test_join = gp.overlay(full_shape, shps_gdf, how = \"intersection\")\n"
     ]
    },
    {
     "name": "stdout",
     "output_type": "stream",
     "text": [
      "103-4B\n",
      "113-DOGWOOD\n"
     ]
    },
    {
     "name": "stderr",
     "output_type": "stream",
     "text": [
      "/Users/peterhorton/Documents/RDH/erj/erj-ga/2020/general/helper_functions.py:20: UserWarning: `keep_geom_type=True` in overlay resulted in 1 dropped geometries of different geometry types than df1 has. Set `keep_geom_type=False` to retain all geometries\n",
      "  test_join = gp.overlay(full_shape, shps_gdf, how = \"intersection\")\n",
      "/Users/peterhorton/Documents/RDH/erj/erj-ga/2020/general/helper_functions.py:20: UserWarning: `keep_geom_type=True` in overlay resulted in 1 dropped geometries of different geometry types than df1 has. Set `keep_geom_type=False` to retain all geometries\n",
      "  test_join = gp.overlay(full_shape, shps_gdf, how = \"intersection\")\n"
     ]
    },
    {
     "name": "stdout",
     "output_type": "stream",
     "text": [
      "113-SANDY CREEK\n",
      "117-03 BROWNS BRIDGE\n",
      "117-16 OTWELL\n",
      "117-37 SAWNEE\n",
      "135-CATES D\n",
      "151-UNITY GROVE\n"
     ]
    },
    {
     "name": "stderr",
     "output_type": "stream",
     "text": [
      "/Users/peterhorton/Documents/RDH/erj/erj-ga/2020/general/helper_functions.py:20: UserWarning: `keep_geom_type=True` in overlay resulted in 11 dropped geometries of different geometry types than df1 has. Set `keep_geom_type=False` to retain all geometries\n",
      "  test_join = gp.overlay(full_shape, shps_gdf, how = \"intersection\")\n",
      "/Users/peterhorton/Documents/RDH/erj/erj-ga/2020/general/helper_functions.py:20: UserWarning: `keep_geom_type=True` in overlay resulted in 1 dropped geometries of different geometry types than df1 has. Set `keep_geom_type=False` to retain all geometries\n",
      "  test_join = gp.overlay(full_shape, shps_gdf, how = \"intersection\")\n"
     ]
    },
    {
     "name": "stdout",
     "output_type": "stream",
     "text": [
      "185-NAYLOR\n"
     ]
    },
    {
     "name": "stderr",
     "output_type": "stream",
     "text": [
      "/Users/peterhorton/Documents/RDH/erj/erj-ga/2020/general/helper_functions.py:20: UserWarning: `keep_geom_type=True` in overlay resulted in 1 dropped geometries of different geometry types than df1 has. Set `keep_geom_type=False` to retain all geometries\n",
      "  test_join = gp.overlay(full_shape, shps_gdf, how = \"intersection\")\n",
      "/Users/peterhorton/Documents/RDH/erj/erj-ga/2020/general/helper_functions.py:20: UserWarning: `keep_geom_type=True` in overlay resulted in 1 dropped geometries of different geometry types than df1 has. Set `keep_geom_type=False` to retain all geometries\n",
      "  test_join = gp.overlay(full_shape, shps_gdf, how = \"intersection\")\n"
     ]
    },
    {
     "name": "stdout",
     "output_type": "stream",
     "text": [
      "215-EPWORTH UMC\n",
      "215-ST PAUL/CLUBVIEW\n"
     ]
    },
    {
     "name": "stderr",
     "output_type": "stream",
     "text": [
      "/Users/peterhorton/Documents/RDH/erj/erj-ga/2020/general/helper_functions.py:20: UserWarning: `keep_geom_type=True` in overlay resulted in 2 dropped geometries of different geometry types than df1 has. Set `keep_geom_type=False` to retain all geometries\n",
      "  test_join = gp.overlay(full_shape, shps_gdf, how = \"intersection\")\n",
      "/Users/peterhorton/Documents/RDH/erj/erj-ga/2020/general/helper_functions.py:20: UserWarning: `keep_geom_type=True` in overlay resulted in 2 dropped geometries of different geometry types than df1 has. Set `keep_geom_type=False` to retain all geometries\n",
      "  test_join = gp.overlay(full_shape, shps_gdf, how = \"intersection\")\n"
     ]
    },
    {
     "name": "stdout",
     "output_type": "stream",
     "text": [
      "217-ALCOVY\n",
      "217-ROCKY PLAINS\n",
      "227-TATE\n"
     ]
    },
    {
     "name": "stderr",
     "output_type": "stream",
     "text": [
      "/Users/peterhorton/Documents/RDH/erj/erj-ga/2020/general/helper_functions.py:20: UserWarning: `keep_geom_type=True` in overlay resulted in 1 dropped geometries of different geometry types than df1 has. Set `keep_geom_type=False` to retain all geometries\n",
      "  test_join = gp.overlay(full_shape, shps_gdf, how = \"intersection\")\n",
      "/Users/peterhorton/Documents/RDH/erj/erj-ga/2020/general/helper_functions.py:20: UserWarning: `keep_geom_type=True` in overlay resulted in 2 dropped geometries of different geometry types than df1 has. Set `keep_geom_type=False` to retain all geometries\n",
      "  test_join = gp.overlay(full_shape, shps_gdf, how = \"intersection\")\n"
     ]
    },
    {
     "name": "stdout",
     "output_type": "stream",
     "text": [
      "185-NORTHGATE ASSEMBLY AND TRINITY\n"
     ]
    },
    {
     "name": "stderr",
     "output_type": "stream",
     "text": [
      "/Users/peterhorton/Documents/RDH/erj/erj-ga/2020/general/helper_functions.py:20: UserWarning: `keep_geom_type=True` in overlay resulted in 6 dropped geometries of different geometry types than df1 has. Set `keep_geom_type=False` to retain all geometries\n",
      "  test_join = gp.overlay(full_shape, shps_gdf, how = \"intersection\")\n"
     ]
    }
   ],
   "source": [
    "for val in join_attempt_1[\"unique_ID\"]:\n",
    "    cd_list = []\n",
    "    if val in split_precincts_list.keys():\n",
    "        print(val)\n",
    "        join_attempt_1 = helper_functions.district_splits_mod(split_precincts_list[val],\"CONG\",val, join_attempt_1, ga_cong_districts, \"unique_ID\", \"HOUSE_DISTRICT\", races, \"CONG_DIST\")"
   ]
  },
  {
   "cell_type": "code",
   "execution_count": 84,
   "id": "6634089a",
   "metadata": {},
   "outputs": [],
   "source": [
    "join_attempt_1.rename(columns = {'unique_ID':\"UNIQUE_ID\", 'county_fips':'COUNTYFP'}, inplace = True)"
   ]
  },
  {
   "cell_type": "code",
   "execution_count": 85,
   "id": "9fccf446",
   "metadata": {},
   "outputs": [
    {
     "data": {
      "text/html": [
       "<div>\n",
       "<style scoped>\n",
       "    .dataframe tbody tr th:only-of-type {\n",
       "        vertical-align: middle;\n",
       "    }\n",
       "\n",
       "    .dataframe tbody tr th {\n",
       "        vertical-align: top;\n",
       "    }\n",
       "\n",
       "    .dataframe thead th {\n",
       "        text-align: right;\n",
       "    }\n",
       "</style>\n",
       "<table border=\"1\" class=\"dataframe\">\n",
       "  <thead>\n",
       "    <tr style=\"text-align: right;\">\n",
       "      <th></th>\n",
       "      <th>UNIQUE_ID</th>\n",
       "      <th>county</th>\n",
       "      <th>COUNTYFP</th>\n",
       "      <th>precinct</th>\n",
       "      <th>GCON01DGRI</th>\n",
       "      <th>GCON01RCAR</th>\n",
       "      <th>GCON02DBIS</th>\n",
       "      <th>GCON02RCOL</th>\n",
       "      <th>GCON03DALM</th>\n",
       "      <th>GCON03RFER</th>\n",
       "      <th>...</th>\n",
       "      <th>G20PSCLWIL</th>\n",
       "      <th>R21USSRPER</th>\n",
       "      <th>R21USSDOSS</th>\n",
       "      <th>R21USSRLOE</th>\n",
       "      <th>R21USSDWAR</th>\n",
       "      <th>R21PSCRMCD</th>\n",
       "      <th>R21PSCDBLA</th>\n",
       "      <th>geometry</th>\n",
       "      <th>_merge</th>\n",
       "      <th>CONG_DIST</th>\n",
       "    </tr>\n",
       "  </thead>\n",
       "  <tbody>\n",
       "    <tr>\n",
       "      <th>1350</th>\n",
       "      <td>121-CP084</td>\n",
       "      <td>Fulton</td>\n",
       "      <td>121</td>\n",
       "      <td>CP084</td>\n",
       "      <td>0</td>\n",
       "      <td>0</td>\n",
       "      <td>0</td>\n",
       "      <td>0</td>\n",
       "      <td>0</td>\n",
       "      <td>0</td>\n",
       "      <td>...</td>\n",
       "      <td>0</td>\n",
       "      <td>0</td>\n",
       "      <td>0</td>\n",
       "      <td>0</td>\n",
       "      <td>0</td>\n",
       "      <td>0</td>\n",
       "      <td>0</td>\n",
       "      <td>POLYGON ((-84.49300 33.62276, -84.49299 33.622...</td>\n",
       "      <td>both</td>\n",
       "      <td>None</td>\n",
       "    </tr>\n",
       "    <tr>\n",
       "      <th>1449</th>\n",
       "      <td>121-SC08H</td>\n",
       "      <td>Fulton</td>\n",
       "      <td>121</td>\n",
       "      <td>SC08H</td>\n",
       "      <td>0</td>\n",
       "      <td>0</td>\n",
       "      <td>0</td>\n",
       "      <td>0</td>\n",
       "      <td>0</td>\n",
       "      <td>0</td>\n",
       "      <td>...</td>\n",
       "      <td>0</td>\n",
       "      <td>0</td>\n",
       "      <td>0</td>\n",
       "      <td>0</td>\n",
       "      <td>0</td>\n",
       "      <td>0</td>\n",
       "      <td>0</td>\n",
       "      <td>POLYGON ((-84.52567 33.60766, -84.52566 33.607...</td>\n",
       "      <td>both</td>\n",
       "      <td>None</td>\n",
       "    </tr>\n",
       "    <tr>\n",
       "      <th>1518</th>\n",
       "      <td>121-UC01D</td>\n",
       "      <td>Fulton</td>\n",
       "      <td>121</td>\n",
       "      <td>UC01D</td>\n",
       "      <td>0</td>\n",
       "      <td>0</td>\n",
       "      <td>0</td>\n",
       "      <td>0</td>\n",
       "      <td>0</td>\n",
       "      <td>0</td>\n",
       "      <td>...</td>\n",
       "      <td>0</td>\n",
       "      <td>0</td>\n",
       "      <td>0</td>\n",
       "      <td>0</td>\n",
       "      <td>0</td>\n",
       "      <td>0</td>\n",
       "      <td>0</td>\n",
       "      <td>MULTIPOLYGON (((-84.53190 33.61943, -84.53180 ...</td>\n",
       "      <td>both</td>\n",
       "      <td>None</td>\n",
       "    </tr>\n",
       "    <tr>\n",
       "      <th>2618</th>\n",
       "      <td>121-AP01E</td>\n",
       "      <td>NaN</td>\n",
       "      <td>NaN</td>\n",
       "      <td>NaN</td>\n",
       "      <td>0</td>\n",
       "      <td>0</td>\n",
       "      <td>0</td>\n",
       "      <td>0</td>\n",
       "      <td>0</td>\n",
       "      <td>0</td>\n",
       "      <td>...</td>\n",
       "      <td>0</td>\n",
       "      <td>0</td>\n",
       "      <td>0</td>\n",
       "      <td>0</td>\n",
       "      <td>0</td>\n",
       "      <td>0</td>\n",
       "      <td>0</td>\n",
       "      <td>POLYGON ((-84.29795 34.03893, -84.29797 34.037...</td>\n",
       "      <td>right_only</td>\n",
       "      <td>None</td>\n",
       "    </tr>\n",
       "    <tr>\n",
       "      <th>2619</th>\n",
       "      <td>121-UC033</td>\n",
       "      <td>NaN</td>\n",
       "      <td>NaN</td>\n",
       "      <td>NaN</td>\n",
       "      <td>0</td>\n",
       "      <td>0</td>\n",
       "      <td>0</td>\n",
       "      <td>0</td>\n",
       "      <td>0</td>\n",
       "      <td>0</td>\n",
       "      <td>...</td>\n",
       "      <td>0</td>\n",
       "      <td>0</td>\n",
       "      <td>0</td>\n",
       "      <td>0</td>\n",
       "      <td>0</td>\n",
       "      <td>0</td>\n",
       "      <td>0</td>\n",
       "      <td>MULTIPOLYGON (((-84.50565 33.58889, -84.50668 ...</td>\n",
       "      <td>right_only</td>\n",
       "      <td>None</td>\n",
       "    </tr>\n",
       "    <tr>\n",
       "      <th>2620</th>\n",
       "      <td>121-03P1B</td>\n",
       "      <td>NaN</td>\n",
       "      <td>NaN</td>\n",
       "      <td>NaN</td>\n",
       "      <td>0</td>\n",
       "      <td>0</td>\n",
       "      <td>0</td>\n",
       "      <td>0</td>\n",
       "      <td>0</td>\n",
       "      <td>0</td>\n",
       "      <td>...</td>\n",
       "      <td>0</td>\n",
       "      <td>0</td>\n",
       "      <td>0</td>\n",
       "      <td>0</td>\n",
       "      <td>0</td>\n",
       "      <td>0</td>\n",
       "      <td>0</td>\n",
       "      <td>POLYGON ((-84.40813 33.77318, -84.40764 33.773...</td>\n",
       "      <td>right_only</td>\n",
       "      <td>None</td>\n",
       "    </tr>\n",
       "    <tr>\n",
       "      <th>2621</th>\n",
       "      <td>121-AP12D</td>\n",
       "      <td>NaN</td>\n",
       "      <td>NaN</td>\n",
       "      <td>NaN</td>\n",
       "      <td>0</td>\n",
       "      <td>0</td>\n",
       "      <td>0</td>\n",
       "      <td>0</td>\n",
       "      <td>0</td>\n",
       "      <td>0</td>\n",
       "      <td>...</td>\n",
       "      <td>0</td>\n",
       "      <td>0</td>\n",
       "      <td>0</td>\n",
       "      <td>0</td>\n",
       "      <td>0</td>\n",
       "      <td>0</td>\n",
       "      <td>0</td>\n",
       "      <td>POLYGON ((-84.25836 34.09181, -84.25818 34.091...</td>\n",
       "      <td>right_only</td>\n",
       "      <td>None</td>\n",
       "    </tr>\n",
       "    <tr>\n",
       "      <th>2622</th>\n",
       "      <td>121-SC29B</td>\n",
       "      <td>NaN</td>\n",
       "      <td>NaN</td>\n",
       "      <td>NaN</td>\n",
       "      <td>0</td>\n",
       "      <td>0</td>\n",
       "      <td>0</td>\n",
       "      <td>0</td>\n",
       "      <td>0</td>\n",
       "      <td>0</td>\n",
       "      <td>...</td>\n",
       "      <td>0</td>\n",
       "      <td>0</td>\n",
       "      <td>0</td>\n",
       "      <td>0</td>\n",
       "      <td>0</td>\n",
       "      <td>0</td>\n",
       "      <td>0</td>\n",
       "      <td>POLYGON ((-84.51576 33.58520, -84.51580 33.585...</td>\n",
       "      <td>right_only</td>\n",
       "      <td>None</td>\n",
       "    </tr>\n",
       "    <tr>\n",
       "      <th>2623</th>\n",
       "      <td>121-CP06B</td>\n",
       "      <td>NaN</td>\n",
       "      <td>NaN</td>\n",
       "      <td>NaN</td>\n",
       "      <td>0</td>\n",
       "      <td>0</td>\n",
       "      <td>0</td>\n",
       "      <td>0</td>\n",
       "      <td>0</td>\n",
       "      <td>0</td>\n",
       "      <td>...</td>\n",
       "      <td>0</td>\n",
       "      <td>0</td>\n",
       "      <td>0</td>\n",
       "      <td>0</td>\n",
       "      <td>0</td>\n",
       "      <td>0</td>\n",
       "      <td>0</td>\n",
       "      <td>POLYGON ((-84.46700 33.62007, -84.47102 33.620...</td>\n",
       "      <td>right_only</td>\n",
       "      <td>None</td>\n",
       "    </tr>\n",
       "    <tr>\n",
       "      <th>2624</th>\n",
       "      <td>121-CP053</td>\n",
       "      <td>NaN</td>\n",
       "      <td>NaN</td>\n",
       "      <td>NaN</td>\n",
       "      <td>0</td>\n",
       "      <td>0</td>\n",
       "      <td>0</td>\n",
       "      <td>0</td>\n",
       "      <td>0</td>\n",
       "      <td>0</td>\n",
       "      <td>...</td>\n",
       "      <td>0</td>\n",
       "      <td>0</td>\n",
       "      <td>0</td>\n",
       "      <td>0</td>\n",
       "      <td>0</td>\n",
       "      <td>0</td>\n",
       "      <td>0</td>\n",
       "      <td>POLYGON ((-84.48197 33.62309, -84.48200 33.623...</td>\n",
       "      <td>right_only</td>\n",
       "      <td>None</td>\n",
       "    </tr>\n",
       "    <tr>\n",
       "      <th>2625</th>\n",
       "      <td>121-SC07B</td>\n",
       "      <td>NaN</td>\n",
       "      <td>NaN</td>\n",
       "      <td>NaN</td>\n",
       "      <td>0</td>\n",
       "      <td>0</td>\n",
       "      <td>0</td>\n",
       "      <td>0</td>\n",
       "      <td>0</td>\n",
       "      <td>0</td>\n",
       "      <td>...</td>\n",
       "      <td>0</td>\n",
       "      <td>0</td>\n",
       "      <td>0</td>\n",
       "      <td>0</td>\n",
       "      <td>0</td>\n",
       "      <td>0</td>\n",
       "      <td>0</td>\n",
       "      <td>POLYGON ((-84.58213 33.62434, -84.58229 33.624...</td>\n",
       "      <td>right_only</td>\n",
       "      <td>None</td>\n",
       "    </tr>\n",
       "    <tr>\n",
       "      <th>2626</th>\n",
       "      <td>121-RW22B</td>\n",
       "      <td>NaN</td>\n",
       "      <td>NaN</td>\n",
       "      <td>NaN</td>\n",
       "      <td>0</td>\n",
       "      <td>0</td>\n",
       "      <td>0</td>\n",
       "      <td>0</td>\n",
       "      <td>0</td>\n",
       "      <td>0</td>\n",
       "      <td>...</td>\n",
       "      <td>0</td>\n",
       "      <td>0</td>\n",
       "      <td>0</td>\n",
       "      <td>0</td>\n",
       "      <td>0</td>\n",
       "      <td>0</td>\n",
       "      <td>0</td>\n",
       "      <td>POLYGON ((-84.27466 33.99256, -84.27435 33.992...</td>\n",
       "      <td>right_only</td>\n",
       "      <td>None</td>\n",
       "    </tr>\n",
       "    <tr>\n",
       "      <th>2627</th>\n",
       "      <td>121-SC08A</td>\n",
       "      <td>NaN</td>\n",
       "      <td>NaN</td>\n",
       "      <td>NaN</td>\n",
       "      <td>0</td>\n",
       "      <td>0</td>\n",
       "      <td>0</td>\n",
       "      <td>0</td>\n",
       "      <td>0</td>\n",
       "      <td>0</td>\n",
       "      <td>...</td>\n",
       "      <td>0</td>\n",
       "      <td>0</td>\n",
       "      <td>0</td>\n",
       "      <td>0</td>\n",
       "      <td>0</td>\n",
       "      <td>0</td>\n",
       "      <td>0</td>\n",
       "      <td>POLYGON ((-84.55685 33.60644, -84.55673 33.606...</td>\n",
       "      <td>right_only</td>\n",
       "      <td>None</td>\n",
       "    </tr>\n",
       "    <tr>\n",
       "      <th>2628</th>\n",
       "      <td>121-SC21A</td>\n",
       "      <td>NaN</td>\n",
       "      <td>NaN</td>\n",
       "      <td>NaN</td>\n",
       "      <td>0</td>\n",
       "      <td>0</td>\n",
       "      <td>0</td>\n",
       "      <td>0</td>\n",
       "      <td>0</td>\n",
       "      <td>0</td>\n",
       "      <td>...</td>\n",
       "      <td>0</td>\n",
       "      <td>0</td>\n",
       "      <td>0</td>\n",
       "      <td>0</td>\n",
       "      <td>0</td>\n",
       "      <td>0</td>\n",
       "      <td>0</td>\n",
       "      <td>POLYGON ((-84.54970 33.55797, -84.54974 33.557...</td>\n",
       "      <td>right_only</td>\n",
       "      <td>None</td>\n",
       "    </tr>\n",
       "    <tr>\n",
       "      <th>2629</th>\n",
       "      <td>121-UC01C</td>\n",
       "      <td>NaN</td>\n",
       "      <td>NaN</td>\n",
       "      <td>NaN</td>\n",
       "      <td>0</td>\n",
       "      <td>0</td>\n",
       "      <td>0</td>\n",
       "      <td>0</td>\n",
       "      <td>0</td>\n",
       "      <td>0</td>\n",
       "      <td>...</td>\n",
       "      <td>0</td>\n",
       "      <td>0</td>\n",
       "      <td>0</td>\n",
       "      <td>0</td>\n",
       "      <td>0</td>\n",
       "      <td>0</td>\n",
       "      <td>0</td>\n",
       "      <td>MULTIPOLYGON (((-84.49977 33.59740, -84.49836 ...</td>\n",
       "      <td>right_only</td>\n",
       "      <td>None</td>\n",
       "    </tr>\n",
       "    <tr>\n",
       "      <th>2630</th>\n",
       "      <td>121-CP052</td>\n",
       "      <td>NaN</td>\n",
       "      <td>NaN</td>\n",
       "      <td>NaN</td>\n",
       "      <td>0</td>\n",
       "      <td>0</td>\n",
       "      <td>0</td>\n",
       "      <td>0</td>\n",
       "      <td>0</td>\n",
       "      <td>0</td>\n",
       "      <td>...</td>\n",
       "      <td>0</td>\n",
       "      <td>0</td>\n",
       "      <td>0</td>\n",
       "      <td>0</td>\n",
       "      <td>0</td>\n",
       "      <td>0</td>\n",
       "      <td>0</td>\n",
       "      <td>POLYGON ((-84.48420 33.62904, -84.48421 33.623...</td>\n",
       "      <td>right_only</td>\n",
       "      <td>None</td>\n",
       "    </tr>\n",
       "    <tr>\n",
       "      <th>2631</th>\n",
       "      <td>051XFTPU</td>\n",
       "      <td>NaN</td>\n",
       "      <td>NaN</td>\n",
       "      <td>NaN</td>\n",
       "      <td>0</td>\n",
       "      <td>0</td>\n",
       "      <td>0</td>\n",
       "      <td>0</td>\n",
       "      <td>0</td>\n",
       "      <td>0</td>\n",
       "      <td>...</td>\n",
       "      <td>0</td>\n",
       "      <td>0</td>\n",
       "      <td>0</td>\n",
       "      <td>0</td>\n",
       "      <td>0</td>\n",
       "      <td>0</td>\n",
       "      <td>0</td>\n",
       "      <td>POLYGON ((-80.96828 32.04402, -80.96876 32.044...</td>\n",
       "      <td>right_only</td>\n",
       "      <td>None</td>\n",
       "    </tr>\n",
       "    <tr>\n",
       "      <th>2632</th>\n",
       "      <td>029FTSTEW</td>\n",
       "      <td>NaN</td>\n",
       "      <td>NaN</td>\n",
       "      <td>NaN</td>\n",
       "      <td>0</td>\n",
       "      <td>0</td>\n",
       "      <td>0</td>\n",
       "      <td>0</td>\n",
       "      <td>0</td>\n",
       "      <td>0</td>\n",
       "      <td>...</td>\n",
       "      <td>0</td>\n",
       "      <td>0</td>\n",
       "      <td>0</td>\n",
       "      <td>0</td>\n",
       "      <td>0</td>\n",
       "      <td>0</td>\n",
       "      <td>0</td>\n",
       "      <td>MULTIPOLYGON (((-81.59263 32.10346, -81.59242 ...</td>\n",
       "      <td>right_only</td>\n",
       "      <td>None</td>\n",
       "    </tr>\n",
       "    <tr>\n",
       "      <th>2633</th>\n",
       "      <td>121-RW11B</td>\n",
       "      <td>NaN</td>\n",
       "      <td>NaN</td>\n",
       "      <td>NaN</td>\n",
       "      <td>0</td>\n",
       "      <td>0</td>\n",
       "      <td>0</td>\n",
       "      <td>0</td>\n",
       "      <td>0</td>\n",
       "      <td>0</td>\n",
       "      <td>...</td>\n",
       "      <td>0</td>\n",
       "      <td>0</td>\n",
       "      <td>0</td>\n",
       "      <td>0</td>\n",
       "      <td>0</td>\n",
       "      <td>0</td>\n",
       "      <td>0</td>\n",
       "      <td>POLYGON ((-84.37992 34.00254, -84.37993 34.002...</td>\n",
       "      <td>right_only</td>\n",
       "      <td>None</td>\n",
       "    </tr>\n",
       "    <tr>\n",
       "      <th>2634</th>\n",
       "      <td>121-08F2</td>\n",
       "      <td>NaN</td>\n",
       "      <td>NaN</td>\n",
       "      <td>NaN</td>\n",
       "      <td>0</td>\n",
       "      <td>0</td>\n",
       "      <td>0</td>\n",
       "      <td>0</td>\n",
       "      <td>0</td>\n",
       "      <td>0</td>\n",
       "      <td>...</td>\n",
       "      <td>0</td>\n",
       "      <td>0</td>\n",
       "      <td>0</td>\n",
       "      <td>0</td>\n",
       "      <td>0</td>\n",
       "      <td>0</td>\n",
       "      <td>0</td>\n",
       "      <td>POLYGON ((-84.45236 33.82719, -84.45220 33.827...</td>\n",
       "      <td>right_only</td>\n",
       "      <td>None</td>\n",
       "    </tr>\n",
       "    <tr>\n",
       "      <th>2635</th>\n",
       "      <td>121-12E2</td>\n",
       "      <td>NaN</td>\n",
       "      <td>NaN</td>\n",
       "      <td>NaN</td>\n",
       "      <td>0</td>\n",
       "      <td>0</td>\n",
       "      <td>0</td>\n",
       "      <td>0</td>\n",
       "      <td>0</td>\n",
       "      <td>0</td>\n",
       "      <td>...</td>\n",
       "      <td>0</td>\n",
       "      <td>0</td>\n",
       "      <td>0</td>\n",
       "      <td>0</td>\n",
       "      <td>0</td>\n",
       "      <td>0</td>\n",
       "      <td>0</td>\n",
       "      <td>POLYGON ((-84.42842 33.64877, -84.42843 33.654...</td>\n",
       "      <td>right_only</td>\n",
       "      <td>None</td>\n",
       "    </tr>\n",
       "    <tr>\n",
       "      <th>2636</th>\n",
       "      <td>215FTBEN2</td>\n",
       "      <td>NaN</td>\n",
       "      <td>NaN</td>\n",
       "      <td>NaN</td>\n",
       "      <td>0</td>\n",
       "      <td>0</td>\n",
       "      <td>0</td>\n",
       "      <td>0</td>\n",
       "      <td>0</td>\n",
       "      <td>0</td>\n",
       "      <td>...</td>\n",
       "      <td>0</td>\n",
       "      <td>0</td>\n",
       "      <td>0</td>\n",
       "      <td>0</td>\n",
       "      <td>0</td>\n",
       "      <td>0</td>\n",
       "      <td>0</td>\n",
       "      <td>POLYGON ((-84.93473 32.40556, -84.93448 32.405...</td>\n",
       "      <td>right_only</td>\n",
       "      <td>None</td>\n",
       "    </tr>\n",
       "    <tr>\n",
       "      <th>2637</th>\n",
       "      <td>215FTBEN4</td>\n",
       "      <td>NaN</td>\n",
       "      <td>NaN</td>\n",
       "      <td>NaN</td>\n",
       "      <td>0</td>\n",
       "      <td>0</td>\n",
       "      <td>0</td>\n",
       "      <td>0</td>\n",
       "      <td>0</td>\n",
       "      <td>0</td>\n",
       "      <td>...</td>\n",
       "      <td>0</td>\n",
       "      <td>0</td>\n",
       "      <td>0</td>\n",
       "      <td>0</td>\n",
       "      <td>0</td>\n",
       "      <td>0</td>\n",
       "      <td>0</td>\n",
       "      <td>POLYGON ((-84.91564 32.42299, -84.90945 32.422...</td>\n",
       "      <td>right_only</td>\n",
       "      <td>None</td>\n",
       "    </tr>\n",
       "    <tr>\n",
       "      <th>2638</th>\n",
       "      <td>215FTBEN3</td>\n",
       "      <td>NaN</td>\n",
       "      <td>NaN</td>\n",
       "      <td>NaN</td>\n",
       "      <td>0</td>\n",
       "      <td>0</td>\n",
       "      <td>0</td>\n",
       "      <td>0</td>\n",
       "      <td>0</td>\n",
       "      <td>0</td>\n",
       "      <td>...</td>\n",
       "      <td>0</td>\n",
       "      <td>0</td>\n",
       "      <td>0</td>\n",
       "      <td>0</td>\n",
       "      <td>0</td>\n",
       "      <td>0</td>\n",
       "      <td>0</td>\n",
       "      <td>POLYGON ((-84.93783 32.40666, -84.93765 32.406...</td>\n",
       "      <td>right_only</td>\n",
       "      <td>None</td>\n",
       "    </tr>\n",
       "    <tr>\n",
       "      <th>2639</th>\n",
       "      <td>215ZZZZZZ</td>\n",
       "      <td>NaN</td>\n",
       "      <td>NaN</td>\n",
       "      <td>NaN</td>\n",
       "      <td>0</td>\n",
       "      <td>0</td>\n",
       "      <td>0</td>\n",
       "      <td>0</td>\n",
       "      <td>0</td>\n",
       "      <td>0</td>\n",
       "      <td>...</td>\n",
       "      <td>0</td>\n",
       "      <td>0</td>\n",
       "      <td>0</td>\n",
       "      <td>0</td>\n",
       "      <td>0</td>\n",
       "      <td>0</td>\n",
       "      <td>0</td>\n",
       "      <td>POLYGON ((-84.89892 32.45201, -84.89890 32.452...</td>\n",
       "      <td>right_only</td>\n",
       "      <td>None</td>\n",
       "    </tr>\n",
       "    <tr>\n",
       "      <th>2640</th>\n",
       "      <td>215FTBEN1</td>\n",
       "      <td>NaN</td>\n",
       "      <td>NaN</td>\n",
       "      <td>NaN</td>\n",
       "      <td>0</td>\n",
       "      <td>0</td>\n",
       "      <td>0</td>\n",
       "      <td>0</td>\n",
       "      <td>0</td>\n",
       "      <td>0</td>\n",
       "      <td>...</td>\n",
       "      <td>0</td>\n",
       "      <td>0</td>\n",
       "      <td>0</td>\n",
       "      <td>0</td>\n",
       "      <td>0</td>\n",
       "      <td>0</td>\n",
       "      <td>0</td>\n",
       "      <td>POLYGON ((-84.89897 32.44577, -84.89896 32.449...</td>\n",
       "      <td>right_only</td>\n",
       "      <td>None</td>\n",
       "    </tr>\n",
       "  </tbody>\n",
       "</table>\n",
       "<p>26 rows × 84 columns</p>\n",
       "</div>"
      ],
      "text/plain": [
       "      UNIQUE_ID  county COUNTYFP precinct  GCON01DGRI  GCON01RCAR  GCON02DBIS  \\\n",
       "1350  121-CP084  Fulton      121    CP084           0           0           0   \n",
       "1449  121-SC08H  Fulton      121    SC08H           0           0           0   \n",
       "1518  121-UC01D  Fulton      121    UC01D           0           0           0   \n",
       "2618  121-AP01E     NaN      NaN      NaN           0           0           0   \n",
       "2619  121-UC033     NaN      NaN      NaN           0           0           0   \n",
       "2620  121-03P1B     NaN      NaN      NaN           0           0           0   \n",
       "2621  121-AP12D     NaN      NaN      NaN           0           0           0   \n",
       "2622  121-SC29B     NaN      NaN      NaN           0           0           0   \n",
       "2623  121-CP06B     NaN      NaN      NaN           0           0           0   \n",
       "2624  121-CP053     NaN      NaN      NaN           0           0           0   \n",
       "2625  121-SC07B     NaN      NaN      NaN           0           0           0   \n",
       "2626  121-RW22B     NaN      NaN      NaN           0           0           0   \n",
       "2627  121-SC08A     NaN      NaN      NaN           0           0           0   \n",
       "2628  121-SC21A     NaN      NaN      NaN           0           0           0   \n",
       "2629  121-UC01C     NaN      NaN      NaN           0           0           0   \n",
       "2630  121-CP052     NaN      NaN      NaN           0           0           0   \n",
       "2631   051XFTPU     NaN      NaN      NaN           0           0           0   \n",
       "2632  029FTSTEW     NaN      NaN      NaN           0           0           0   \n",
       "2633  121-RW11B     NaN      NaN      NaN           0           0           0   \n",
       "2634   121-08F2     NaN      NaN      NaN           0           0           0   \n",
       "2635   121-12E2     NaN      NaN      NaN           0           0           0   \n",
       "2636  215FTBEN2     NaN      NaN      NaN           0           0           0   \n",
       "2637  215FTBEN4     NaN      NaN      NaN           0           0           0   \n",
       "2638  215FTBEN3     NaN      NaN      NaN           0           0           0   \n",
       "2639  215ZZZZZZ     NaN      NaN      NaN           0           0           0   \n",
       "2640  215FTBEN1     NaN      NaN      NaN           0           0           0   \n",
       "\n",
       "      GCON02RCOL  GCON03DALM  GCON03RFER  ...  G20PSCLWIL  R21USSRPER  \\\n",
       "1350           0           0           0  ...           0           0   \n",
       "1449           0           0           0  ...           0           0   \n",
       "1518           0           0           0  ...           0           0   \n",
       "2618           0           0           0  ...           0           0   \n",
       "2619           0           0           0  ...           0           0   \n",
       "2620           0           0           0  ...           0           0   \n",
       "2621           0           0           0  ...           0           0   \n",
       "2622           0           0           0  ...           0           0   \n",
       "2623           0           0           0  ...           0           0   \n",
       "2624           0           0           0  ...           0           0   \n",
       "2625           0           0           0  ...           0           0   \n",
       "2626           0           0           0  ...           0           0   \n",
       "2627           0           0           0  ...           0           0   \n",
       "2628           0           0           0  ...           0           0   \n",
       "2629           0           0           0  ...           0           0   \n",
       "2630           0           0           0  ...           0           0   \n",
       "2631           0           0           0  ...           0           0   \n",
       "2632           0           0           0  ...           0           0   \n",
       "2633           0           0           0  ...           0           0   \n",
       "2634           0           0           0  ...           0           0   \n",
       "2635           0           0           0  ...           0           0   \n",
       "2636           0           0           0  ...           0           0   \n",
       "2637           0           0           0  ...           0           0   \n",
       "2638           0           0           0  ...           0           0   \n",
       "2639           0           0           0  ...           0           0   \n",
       "2640           0           0           0  ...           0           0   \n",
       "\n",
       "      R21USSDOSS  R21USSRLOE  R21USSDWAR  R21PSCRMCD  R21PSCDBLA  \\\n",
       "1350           0           0           0           0           0   \n",
       "1449           0           0           0           0           0   \n",
       "1518           0           0           0           0           0   \n",
       "2618           0           0           0           0           0   \n",
       "2619           0           0           0           0           0   \n",
       "2620           0           0           0           0           0   \n",
       "2621           0           0           0           0           0   \n",
       "2622           0           0           0           0           0   \n",
       "2623           0           0           0           0           0   \n",
       "2624           0           0           0           0           0   \n",
       "2625           0           0           0           0           0   \n",
       "2626           0           0           0           0           0   \n",
       "2627           0           0           0           0           0   \n",
       "2628           0           0           0           0           0   \n",
       "2629           0           0           0           0           0   \n",
       "2630           0           0           0           0           0   \n",
       "2631           0           0           0           0           0   \n",
       "2632           0           0           0           0           0   \n",
       "2633           0           0           0           0           0   \n",
       "2634           0           0           0           0           0   \n",
       "2635           0           0           0           0           0   \n",
       "2636           0           0           0           0           0   \n",
       "2637           0           0           0           0           0   \n",
       "2638           0           0           0           0           0   \n",
       "2639           0           0           0           0           0   \n",
       "2640           0           0           0           0           0   \n",
       "\n",
       "                                               geometry      _merge  CONG_DIST  \n",
       "1350  POLYGON ((-84.49300 33.62276, -84.49299 33.622...        both       None  \n",
       "1449  POLYGON ((-84.52567 33.60766, -84.52566 33.607...        both       None  \n",
       "1518  MULTIPOLYGON (((-84.53190 33.61943, -84.53180 ...        both       None  \n",
       "2618  POLYGON ((-84.29795 34.03893, -84.29797 34.037...  right_only       None  \n",
       "2619  MULTIPOLYGON (((-84.50565 33.58889, -84.50668 ...  right_only       None  \n",
       "2620  POLYGON ((-84.40813 33.77318, -84.40764 33.773...  right_only       None  \n",
       "2621  POLYGON ((-84.25836 34.09181, -84.25818 34.091...  right_only       None  \n",
       "2622  POLYGON ((-84.51576 33.58520, -84.51580 33.585...  right_only       None  \n",
       "2623  POLYGON ((-84.46700 33.62007, -84.47102 33.620...  right_only       None  \n",
       "2624  POLYGON ((-84.48197 33.62309, -84.48200 33.623...  right_only       None  \n",
       "2625  POLYGON ((-84.58213 33.62434, -84.58229 33.624...  right_only       None  \n",
       "2626  POLYGON ((-84.27466 33.99256, -84.27435 33.992...  right_only       None  \n",
       "2627  POLYGON ((-84.55685 33.60644, -84.55673 33.606...  right_only       None  \n",
       "2628  POLYGON ((-84.54970 33.55797, -84.54974 33.557...  right_only       None  \n",
       "2629  MULTIPOLYGON (((-84.49977 33.59740, -84.49836 ...  right_only       None  \n",
       "2630  POLYGON ((-84.48420 33.62904, -84.48421 33.623...  right_only       None  \n",
       "2631  POLYGON ((-80.96828 32.04402, -80.96876 32.044...  right_only       None  \n",
       "2632  MULTIPOLYGON (((-81.59263 32.10346, -81.59242 ...  right_only       None  \n",
       "2633  POLYGON ((-84.37992 34.00254, -84.37993 34.002...  right_only       None  \n",
       "2634  POLYGON ((-84.45236 33.82719, -84.45220 33.827...  right_only       None  \n",
       "2635  POLYGON ((-84.42842 33.64877, -84.42843 33.654...  right_only       None  \n",
       "2636  POLYGON ((-84.93473 32.40556, -84.93448 32.405...  right_only       None  \n",
       "2637  POLYGON ((-84.91564 32.42299, -84.90945 32.422...  right_only       None  \n",
       "2638  POLYGON ((-84.93783 32.40666, -84.93765 32.406...  right_only       None  \n",
       "2639  POLYGON ((-84.89892 32.45201, -84.89890 32.452...  right_only       None  \n",
       "2640  POLYGON ((-84.89897 32.44577, -84.89896 32.449...  right_only       None  \n",
       "\n",
       "[26 rows x 84 columns]"
      ]
     },
     "execution_count": 85,
     "metadata": {},
     "output_type": "execute_result"
    }
   ],
   "source": [
    "join_attempt_1[join_attempt_1[\"CONG_DIST\"].isna()]"
   ]
  },
  {
   "cell_type": "code",
   "execution_count": 86,
   "id": "f3e9b66d",
   "metadata": {},
   "outputs": [],
   "source": [
    "join_attempt_1 = join_attempt_1[[\"UNIQUE_ID\", 'COUNTYFP','DISTRICT', 'CTYSOSID', 'PRECINCT_I', 'PRECINCT_N', 'CTYNAME',\n",
    "       'CTYNUMBER', 'CTYNUMBER2', 'FIPS2','CONG_DIST']+races+[\"geometry\"]]"
   ]
  },
  {
   "cell_type": "markdown",
   "id": "95df0eb4",
   "metadata": {},
   "source": [
    "## Check Added Column Totals\n",
    "\n",
    "In the 'statewide-county-totals-check-erj' we created a cleaned csv of the county totals from the GA sos website"
   ]
  },
  {
   "cell_type": "code",
   "execution_count": 87,
   "id": "6e7317c4",
   "metadata": {},
   "outputs": [],
   "source": [
    "official_county_totals = pd.read_csv(\"./cleaned_official_county_totals.csv\")"
   ]
  },
  {
   "cell_type": "code",
   "execution_count": 88,
   "id": "cc69a20b",
   "metadata": {},
   "outputs": [
    {
     "name": "stdout",
     "output_type": "stream",
     "text": [
      "***Statewide Totals Check***\n",
      "GCON01DGRI is equal \t both dataframes 135238\n",
      "GCON01RCAR is equal \t both dataframes 189457\n",
      "GCON02DBIS is equal \t both dataframes 161397\n",
      "GCON02RCOL is equal \t both dataframes 111620\n",
      "GCON03DALM is equal \t both dataframes 129792\n",
      "GCON03RFER is equal \t both dataframes 241526\n",
      "GCON04DJOH is equal \t both dataframes 278906\n",
      "GCON04REZA is equal \t both dataframes 69393\n",
      "GCON05DWIL is equal \t both dataframes 301857\n",
      "GCON05RSTA is equal \t both dataframes 52646\n",
      "GCON06DMCB is equal \t both dataframes 216775\n",
      "GCON06RHAN is equal \t both dataframes 180329\n",
      "GCON07DBOU is equal \t both dataframes 190900\n",
      "GCON07RMCC is equal \t both dataframes 180564\n",
      "GCON08DHOL is equal \t both dataframes 109264\n",
      "GCON08RSCO is equal \t both dataframes 198701\n",
      "GCON09DPAN is equal \t both dataframes 79797\n",
      "GCON09RCLY is equal \t both dataframes 292750\n",
      "GCON10DJOH is equal \t both dataframes 142636\n",
      "GCON10RHIC is equal \t both dataframes 235810\n",
      "GCON11DBAR is equal \t both dataframes 160623\n",
      "GCON11RLOU is equal \t both dataframes 245259\n",
      "GCON12DJOH is equal \t both dataframes 129061\n",
      "GCON12RALL is equal \t both dataframes 181038\n",
      "GCON13DSCO is equal \t both dataframes 279045\n",
      "GCON13RHIT is equal \t both dataframes 81476\n",
      "GCON14DAUS is equal \t both dataframes 77798\n",
      "GCON14RGRE has a difference of 1 votes\n",
      "\tOfficial Totals: 229827 votes\n",
      "\tERJ Totals: 229826 votes\n"
     ]
    }
   ],
   "source": [
    "helper_functions.statewide_totals_check(official_county_totals, \"Official Totals\", join_attempt_1, \"ERJ Totals\", races)"
   ]
  },
  {
   "cell_type": "markdown",
   "id": "94d232e6",
   "metadata": {},
   "source": [
    "## Check Column Totals - County Level"
   ]
  },
  {
   "cell_type": "code",
   "execution_count": 89,
   "id": "74de2c23",
   "metadata": {},
   "outputs": [],
   "source": [
    "official_county_totals[\"CTYNAME\"] = official_county_totals[\"county\"].str.upper()"
   ]
  },
  {
   "cell_type": "code",
   "execution_count": 90,
   "id": "26e8974f",
   "metadata": {
    "scrolled": true
   },
   "outputs": [
    {
     "name": "stdout",
     "output_type": "stream",
     "text": [
      "***Countywide Totals Check***\n",
      "\n",
      "GCON01DGRI is equal across all counties\n",
      "GCON01RCAR is equal across all counties\n",
      "GCON02DBIS is equal across all counties\n",
      "GCON02RCOL is equal across all counties\n",
      "GCON03DALM is equal across all counties\n",
      "GCON03RFER is equal across all counties\n",
      "GCON04DJOH is equal across all counties\n",
      "GCON04REZA is equal across all counties\n",
      "GCON05DWIL is equal across all counties\n",
      "GCON05RSTA is equal across all counties\n",
      "GCON06DMCB is equal across all counties\n",
      "GCON06RHAN is equal across all counties\n",
      "GCON07DBOU is equal across all counties\n",
      "GCON07RMCC is equal across all counties\n",
      "GCON08DHOL is equal across all counties\n",
      "GCON08RSCO is equal across all counties\n",
      "GCON09DPAN is equal across all counties\n",
      "GCON09RCLY is equal across all counties\n",
      "GCON10DJOH is equal across all counties\n",
      "GCON10RHIC is equal across all counties\n",
      "GCON11DBAR is equal across all counties\n",
      "GCON11RLOU is equal across all counties\n",
      "GCON12DJOH is equal across all counties\n",
      "GCON12RALL is equal across all counties\n",
      "GCON13DSCO is equal across all counties\n",
      "GCON13RHIT is equal across all counties\n",
      "GCON14DAUS is equal across all counties\n",
      "GCON14RGRE contains differences in these counties:\n",
      "\tPICKENS has a difference of 1 votes\n",
      "\t\tOfficial Totals: 5088 votes\n",
      "\t\tERJ Totals: 5087 votes\n",
      "\n",
      "['PICKENS']\n"
     ]
    }
   ],
   "source": [
    "helper_functions.county_totals_check(official_county_totals, \"Official Totals\", join_attempt_1, \"ERJ Totals\", races, \"CTYNAME\")"
   ]
  },
  {
   "cell_type": "markdown",
   "id": "b557aeb9",
   "metadata": {},
   "source": [
    "## Check District Assignments"
   ]
  },
  {
   "cell_type": "code",
   "execution_count": 91,
   "id": "b1f7c7bb",
   "metadata": {},
   "outputs": [],
   "source": [
    "## Intersect the District with GA_CONG to fill in the n/a values"
   ]
  },
  {
   "cell_type": "code",
   "execution_count": 92,
   "id": "ba4c73e6",
   "metadata": {},
   "outputs": [],
   "source": [
    "na_values = join_attempt_1[join_attempt_1[\"CONG_DIST\"].isna()]\n",
    "others = join_attempt_1[~(join_attempt_1[\"CONG_DIST\"].isna())]"
   ]
  },
  {
   "cell_type": "code",
   "execution_count": 93,
   "id": "c137c361",
   "metadata": {},
   "outputs": [
    {
     "name": "stdout",
     "output_type": "stream",
     "text": [
      "(2716, 40)\n",
      "(2690, 40)\n",
      "(26, 40)\n"
     ]
    }
   ],
   "source": [
    "print(join_attempt_1.shape)\n",
    "print(others.shape)\n",
    "print(na_values.shape)"
   ]
  },
  {
   "cell_type": "code",
   "execution_count": 94,
   "id": "bdb508a9",
   "metadata": {},
   "outputs": [
    {
     "name": "stderr",
     "output_type": "stream",
     "text": [
      "/var/folders/1t/0q4w6hm92mg_zxd84dfxmq3m0000gn/T/ipykernel_81964/208730160.py:1: UserWarning: `keep_geom_type=True` in overlay resulted in 3 dropped geometries of different geometry types than df1 has. Set `keep_geom_type=False` to retain all geometries\n",
      "  intersected = gp.overlay(ga_cong_districts, na_values, how = \"intersection\")\n"
     ]
    }
   ],
   "source": [
    "intersected = gp.overlay(ga_cong_districts, na_values, how = \"intersection\")"
   ]
  },
  {
   "cell_type": "code",
   "execution_count": 95,
   "id": "89f338f0",
   "metadata": {},
   "outputs": [
    {
     "name": "stderr",
     "output_type": "stream",
     "text": [
      "/var/folders/1t/0q4w6hm92mg_zxd84dfxmq3m0000gn/T/ipykernel_81964/4269042095.py:3: UserWarning: Geometry is in a geographic CRS. Results from 'area' are likely incorrect. Use 'GeoSeries.to_crs()' to re-project geometries to a projected CRS before this operation.\n",
      "\n",
      "  intersected['area'] = intersected.area\n"
     ]
    }
   ],
   "source": [
    "# Create a dictionary to map\n",
    "\n",
    "intersected['area'] = intersected.area\n",
    "\n",
    "na_assignment_dict = {}\n",
    "\n",
    "for val in intersected[\"UNIQUE_ID\"].unique():\n",
    "\n",
    "    assignment = intersected.loc[intersected[\"UNIQUE_ID\"] == val].nlargest(1, 'area')[\"HOUSE_DISTRICT\"].values[0]\n",
    "    na_assignment_dict[val] = assignment"
   ]
  },
  {
   "cell_type": "code",
   "execution_count": 96,
   "id": "0e019896",
   "metadata": {},
   "outputs": [],
   "source": [
    "join_attempt_1[\"CONG_DIST\"] = join_attempt_1[\"UNIQUE_ID\"].map(na_assignment_dict).fillna(join_attempt_1[\"CONG_DIST\"])"
   ]
  },
  {
   "cell_type": "code",
   "execution_count": 97,
   "id": "251f2e5a",
   "metadata": {},
   "outputs": [],
   "source": [
    "assigned_districts = join_attempt_1.dissolve([\"CONG_DIST\"])\n",
    "assigned_districts.reset_index(drop=False,inplace=True)"
   ]
  },
  {
   "cell_type": "code",
   "execution_count": 98,
   "id": "5de8ac1a",
   "metadata": {},
   "outputs": [],
   "source": [
    "ga_cong_districts[\"CONG_DIST\"] = ga_cong_districts[\"HOUSE_DISTRICT\"]"
   ]
  },
  {
   "cell_type": "code",
   "execution_count": 99,
   "id": "5ac8029a",
   "metadata": {},
   "outputs": [
    {
     "name": "stdout",
     "output_type": "stream",
     "text": [
      "Checking 14 precincts for differences of greater than 0.1 km^2\n",
      "\n",
      "1) For 05 difference in area is 0.6570271682469174\n",
      "2) For 06 difference in area is 0.23580988567380462\n",
      "3) For 11 difference in area is 0.2262837673862089\n",
      "4) For 13 difference in area is 0.6973618725988782\n",
      "\n",
      "Scroll down to see plots of any differences\n",
      "\n",
      "Of the 14 precincts:\n",
      "\n",
      "0 precincts w/ a difference of 0 km^2\n",
      "10 precincts w/ a difference between 0 and .1 km^2\n",
      "2 precincts w/ a difference between .1 and .5 km^2\n",
      "2 precincts w/ a difference between .5 and 1 km^2\n",
      "0 precincts w/ a difference between 1 and 2 km^2\n",
      "0 precincts w/ a difference between 2 and 5 km^2\n",
      "0 precincts w/ a difference greater than 5 km^2\n"
     ]
    },
    {
     "data": {
      "image/png": "[encoded data removed]",
      "text/plain": [
       "<Figure size 720x720 with 1 Axes>"
      ]
     },
     "metadata": {
      "needs_background": "light"
     },
     "output_type": "display_data"
    },
    {
     "data": {
      "image/png": "[encoded data removed]",
      "text/plain": [
       "<Figure size 720x720 with 1 Axes>"
      ]
     },
     "metadata": {
      "needs_background": "light"
     },
     "output_type": "display_data"
    },
    {
     "data": {
      "image/png": "[encoded data removed]",
      "text/plain": [
       "<Figure size 720x720 with 1 Axes>"
      ]
     },
     "metadata": {
      "needs_background": "light"
     },
     "output_type": "display_data"
    },
    {
     "data": {
      "image/png": "[encoded data removed]",
      "text/plain": [
       "<Figure size 720x720 with 1 Axes>"
      ]
     },
     "metadata": {
      "needs_background": "light"
     },
     "output_type": "display_data"
    }
   ],
   "source": [
    "helper_functions.compare_geometries(assigned_districts, ga_cong_districts ,\"Election Results\", \"Official Map\", \"CONG_DIST\",area_threshold=.1)"
   ]
  },
  {
   "cell_type": "markdown",
   "id": "5602c36d",
   "metadata": {},
   "source": [
    "## Prepare to Export"
   ]
  },
  {
   "cell_type": "code",
   "execution_count": 101,
   "id": "d4bdbd65",
   "metadata": {},
   "outputs": [
    {
     "name": "stderr",
     "output_type": "stream",
     "text": [
      "/Users/peterhorton/opt/anaconda3/envs/geo_env/lib/python3.9/site-packages/geopandas/io/file.py:362: FutureWarning: pandas.Int64Index is deprecated and will be removed from pandas in a future version. Use pandas.Index with the appropriate dtype instead.\n",
      "  pd.Int64Index,\n"
     ]
    }
   ],
   "source": [
    "join_attempt_1.to_file(\"./ga_gen_20_prec/ga_gen_20_cong_prec.shp\")"
   ]
  },
  {
   "cell_type": "code",
   "execution_count": null,
   "id": "a69ddfb2",
   "metadata": {},
   "outputs": [],
   "source": []
  }
 ],
 "metadata": {
  "kernelspec": {
   "display_name": "Python 3 (ipykernel)",
   "language": "python",
   "name": "python3"
  },
  "language_info": {
   "codemirror_mode": {
    "name": "ipython",
    "version": 3
   },
   "file_extension": ".py",
   "mimetype": "text/x-python",
   "name": "python",
   "nbconvert_exporter": "python",
   "pygments_lexer": "ipython3",
   "version": "3.9.12"
  }
 },
 "nbformat": 4,
 "nbformat_minor": 5
}
